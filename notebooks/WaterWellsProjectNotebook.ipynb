{
 "cells": [
  {
   "cell_type": "markdown",
   "metadata": {},
   "source": [
    "# Tanzanian Water Wells Project"
   ]
  },
  {
   "cell_type": "markdown",
   "metadata": {},
   "source": [
    "## Overview\n",
    "\n",
    "A one-paragraph overview of the project, including the business problem, data, methods, results and recommendations.\n",
    "\n",
    "## Business Problem\n",
    "\n",
    "- Predict the condition of the water wells in Tanzania\n",
    "\n",
    "### End Users:\n",
    "\n",
    "- Governments, NGOs\n",
    "\n",
    "### True business problem:\n",
    "\n",
    "- Create a model that can, if given data of the water wells , predict if the water well needs repair. \n",
    "\n",
    "### Context:\n",
    "\n",
    "- **False positive** in this context: Predicts that an water well doesn't need repair but it actually does.\n",
    "    - **Outcome**: The people can't get water from the well.\n",
    "    \n",
    "- **False negative** in this context: Predicts that an water well needs repair but it actually doesn't.\n",
    "\n",
    "    - **Outcome**: Waste money/human resources on checking the well.\n",
    "\n",
    "### Evaluation \n",
    "\n",
    "Which metric (of the ones we've explore so far) would make sense to primarily use as we evaluate our models?\n",
    "\n",
    "- **Accuracy**\n",
    "- **Precision**\n",
    "- Recall\n",
    "- F1-Score\n",
    "\n",
    "We can focus on accuracy for ease of use, but should also be maximizing our Precision Score and minimizing False Positives, because false positives are more costly than false negatives."
   ]
  },
  {
   "cell_type": "markdown",
   "metadata": {},
   "source": [
    "## Data Understanding\n",
    "\n",
    "Describe the data being used for this project.\n",
    "\n",
    "Questions to consider:\n",
    "\n",
    "- Where did the data come from, and how do they relate to the data analysis questions?\n",
    "- What do the data represent? Who is in the sample and what variables are included?\n",
    "- What is the target variable?\n",
    "- What are the properties of the variables you intend to use?"
   ]
  },
  {
   "cell_type": "markdown",
   "metadata": {},
   "source": [
    "### Training Set Values Exploration"
   ]
  },
  {
   "cell_type": "code",
   "execution_count": 2,
   "metadata": {},
   "outputs": [],
   "source": [
    "# import pandas\n",
    "import pandas as pd\n",
    "# read training data values\n",
    "X = pd.read_csv(\"../../data/Pump_it_Up_Data_Mining_the_Water_Table_-_Training_set_values.csv\", index_col='id')"
   ]
  },
  {
   "cell_type": "code",
   "execution_count": 3,
   "metadata": {},
   "outputs": [
    {
     "data": {
      "text/html": [
       "<div>\n",
       "<style scoped>\n",
       "    .dataframe tbody tr th:only-of-type {\n",
       "        vertical-align: middle;\n",
       "    }\n",
       "\n",
       "    .dataframe tbody tr th {\n",
       "        vertical-align: top;\n",
       "    }\n",
       "\n",
       "    .dataframe thead th {\n",
       "        text-align: right;\n",
       "    }\n",
       "</style>\n",
       "<table border=\"1\" class=\"dataframe\">\n",
       "  <thead>\n",
       "    <tr style=\"text-align: right;\">\n",
       "      <th></th>\n",
       "      <th>amount_tsh</th>\n",
       "      <th>date_recorded</th>\n",
       "      <th>funder</th>\n",
       "      <th>gps_height</th>\n",
       "      <th>installer</th>\n",
       "      <th>longitude</th>\n",
       "      <th>latitude</th>\n",
       "      <th>wpt_name</th>\n",
       "      <th>num_private</th>\n",
       "      <th>basin</th>\n",
       "      <th>...</th>\n",
       "      <th>payment_type</th>\n",
       "      <th>water_quality</th>\n",
       "      <th>quality_group</th>\n",
       "      <th>quantity</th>\n",
       "      <th>quantity_group</th>\n",
       "      <th>source</th>\n",
       "      <th>source_type</th>\n",
       "      <th>source_class</th>\n",
       "      <th>waterpoint_type</th>\n",
       "      <th>waterpoint_type_group</th>\n",
       "    </tr>\n",
       "    <tr>\n",
       "      <th>id</th>\n",
       "      <th></th>\n",
       "      <th></th>\n",
       "      <th></th>\n",
       "      <th></th>\n",
       "      <th></th>\n",
       "      <th></th>\n",
       "      <th></th>\n",
       "      <th></th>\n",
       "      <th></th>\n",
       "      <th></th>\n",
       "      <th></th>\n",
       "      <th></th>\n",
       "      <th></th>\n",
       "      <th></th>\n",
       "      <th></th>\n",
       "      <th></th>\n",
       "      <th></th>\n",
       "      <th></th>\n",
       "      <th></th>\n",
       "      <th></th>\n",
       "      <th></th>\n",
       "    </tr>\n",
       "  </thead>\n",
       "  <tbody>\n",
       "    <tr>\n",
       "      <th>69572</th>\n",
       "      <td>6000.0</td>\n",
       "      <td>2011-03-14</td>\n",
       "      <td>Roman</td>\n",
       "      <td>1390</td>\n",
       "      <td>Roman</td>\n",
       "      <td>34.938093</td>\n",
       "      <td>-9.856322</td>\n",
       "      <td>none</td>\n",
       "      <td>0</td>\n",
       "      <td>Lake Nyasa</td>\n",
       "      <td>...</td>\n",
       "      <td>annually</td>\n",
       "      <td>soft</td>\n",
       "      <td>good</td>\n",
       "      <td>enough</td>\n",
       "      <td>enough</td>\n",
       "      <td>spring</td>\n",
       "      <td>spring</td>\n",
       "      <td>groundwater</td>\n",
       "      <td>communal standpipe</td>\n",
       "      <td>communal standpipe</td>\n",
       "    </tr>\n",
       "    <tr>\n",
       "      <th>8776</th>\n",
       "      <td>0.0</td>\n",
       "      <td>2013-03-06</td>\n",
       "      <td>Grumeti</td>\n",
       "      <td>1399</td>\n",
       "      <td>GRUMETI</td>\n",
       "      <td>34.698766</td>\n",
       "      <td>-2.147466</td>\n",
       "      <td>Zahanati</td>\n",
       "      <td>0</td>\n",
       "      <td>Lake Victoria</td>\n",
       "      <td>...</td>\n",
       "      <td>never pay</td>\n",
       "      <td>soft</td>\n",
       "      <td>good</td>\n",
       "      <td>insufficient</td>\n",
       "      <td>insufficient</td>\n",
       "      <td>rainwater harvesting</td>\n",
       "      <td>rainwater harvesting</td>\n",
       "      <td>surface</td>\n",
       "      <td>communal standpipe</td>\n",
       "      <td>communal standpipe</td>\n",
       "    </tr>\n",
       "    <tr>\n",
       "      <th>34310</th>\n",
       "      <td>25.0</td>\n",
       "      <td>2013-02-25</td>\n",
       "      <td>Lottery Club</td>\n",
       "      <td>686</td>\n",
       "      <td>World vision</td>\n",
       "      <td>37.460664</td>\n",
       "      <td>-3.821329</td>\n",
       "      <td>Kwa Mahundi</td>\n",
       "      <td>0</td>\n",
       "      <td>Pangani</td>\n",
       "      <td>...</td>\n",
       "      <td>per bucket</td>\n",
       "      <td>soft</td>\n",
       "      <td>good</td>\n",
       "      <td>enough</td>\n",
       "      <td>enough</td>\n",
       "      <td>dam</td>\n",
       "      <td>dam</td>\n",
       "      <td>surface</td>\n",
       "      <td>communal standpipe multiple</td>\n",
       "      <td>communal standpipe</td>\n",
       "    </tr>\n",
       "    <tr>\n",
       "      <th>67743</th>\n",
       "      <td>0.0</td>\n",
       "      <td>2013-01-28</td>\n",
       "      <td>Unicef</td>\n",
       "      <td>263</td>\n",
       "      <td>UNICEF</td>\n",
       "      <td>38.486161</td>\n",
       "      <td>-11.155298</td>\n",
       "      <td>Zahanati Ya Nanyumbu</td>\n",
       "      <td>0</td>\n",
       "      <td>Ruvuma / Southern Coast</td>\n",
       "      <td>...</td>\n",
       "      <td>never pay</td>\n",
       "      <td>soft</td>\n",
       "      <td>good</td>\n",
       "      <td>dry</td>\n",
       "      <td>dry</td>\n",
       "      <td>machine dbh</td>\n",
       "      <td>borehole</td>\n",
       "      <td>groundwater</td>\n",
       "      <td>communal standpipe multiple</td>\n",
       "      <td>communal standpipe</td>\n",
       "    </tr>\n",
       "    <tr>\n",
       "      <th>19728</th>\n",
       "      <td>0.0</td>\n",
       "      <td>2011-07-13</td>\n",
       "      <td>Action In A</td>\n",
       "      <td>0</td>\n",
       "      <td>Artisan</td>\n",
       "      <td>31.130847</td>\n",
       "      <td>-1.825359</td>\n",
       "      <td>Shuleni</td>\n",
       "      <td>0</td>\n",
       "      <td>Lake Victoria</td>\n",
       "      <td>...</td>\n",
       "      <td>never pay</td>\n",
       "      <td>soft</td>\n",
       "      <td>good</td>\n",
       "      <td>seasonal</td>\n",
       "      <td>seasonal</td>\n",
       "      <td>rainwater harvesting</td>\n",
       "      <td>rainwater harvesting</td>\n",
       "      <td>surface</td>\n",
       "      <td>communal standpipe</td>\n",
       "      <td>communal standpipe</td>\n",
       "    </tr>\n",
       "    <tr>\n",
       "      <th>...</th>\n",
       "      <td>...</td>\n",
       "      <td>...</td>\n",
       "      <td>...</td>\n",
       "      <td>...</td>\n",
       "      <td>...</td>\n",
       "      <td>...</td>\n",
       "      <td>...</td>\n",
       "      <td>...</td>\n",
       "      <td>...</td>\n",
       "      <td>...</td>\n",
       "      <td>...</td>\n",
       "      <td>...</td>\n",
       "      <td>...</td>\n",
       "      <td>...</td>\n",
       "      <td>...</td>\n",
       "      <td>...</td>\n",
       "      <td>...</td>\n",
       "      <td>...</td>\n",
       "      <td>...</td>\n",
       "      <td>...</td>\n",
       "      <td>...</td>\n",
       "    </tr>\n",
       "    <tr>\n",
       "      <th>60739</th>\n",
       "      <td>10.0</td>\n",
       "      <td>2013-05-03</td>\n",
       "      <td>Germany Republi</td>\n",
       "      <td>1210</td>\n",
       "      <td>CES</td>\n",
       "      <td>37.169807</td>\n",
       "      <td>-3.253847</td>\n",
       "      <td>Area Three Namba 27</td>\n",
       "      <td>0</td>\n",
       "      <td>Pangani</td>\n",
       "      <td>...</td>\n",
       "      <td>per bucket</td>\n",
       "      <td>soft</td>\n",
       "      <td>good</td>\n",
       "      <td>enough</td>\n",
       "      <td>enough</td>\n",
       "      <td>spring</td>\n",
       "      <td>spring</td>\n",
       "      <td>groundwater</td>\n",
       "      <td>communal standpipe</td>\n",
       "      <td>communal standpipe</td>\n",
       "    </tr>\n",
       "    <tr>\n",
       "      <th>27263</th>\n",
       "      <td>4700.0</td>\n",
       "      <td>2011-05-07</td>\n",
       "      <td>Cefa-njombe</td>\n",
       "      <td>1212</td>\n",
       "      <td>Cefa</td>\n",
       "      <td>35.249991</td>\n",
       "      <td>-9.070629</td>\n",
       "      <td>Kwa Yahona Kuvala</td>\n",
       "      <td>0</td>\n",
       "      <td>Rufiji</td>\n",
       "      <td>...</td>\n",
       "      <td>annually</td>\n",
       "      <td>soft</td>\n",
       "      <td>good</td>\n",
       "      <td>enough</td>\n",
       "      <td>enough</td>\n",
       "      <td>river</td>\n",
       "      <td>river/lake</td>\n",
       "      <td>surface</td>\n",
       "      <td>communal standpipe</td>\n",
       "      <td>communal standpipe</td>\n",
       "    </tr>\n",
       "    <tr>\n",
       "      <th>37057</th>\n",
       "      <td>0.0</td>\n",
       "      <td>2011-04-11</td>\n",
       "      <td>NaN</td>\n",
       "      <td>0</td>\n",
       "      <td>NaN</td>\n",
       "      <td>34.017087</td>\n",
       "      <td>-8.750434</td>\n",
       "      <td>Mashine</td>\n",
       "      <td>0</td>\n",
       "      <td>Rufiji</td>\n",
       "      <td>...</td>\n",
       "      <td>monthly</td>\n",
       "      <td>fluoride</td>\n",
       "      <td>fluoride</td>\n",
       "      <td>enough</td>\n",
       "      <td>enough</td>\n",
       "      <td>machine dbh</td>\n",
       "      <td>borehole</td>\n",
       "      <td>groundwater</td>\n",
       "      <td>hand pump</td>\n",
       "      <td>hand pump</td>\n",
       "    </tr>\n",
       "    <tr>\n",
       "      <th>31282</th>\n",
       "      <td>0.0</td>\n",
       "      <td>2011-03-08</td>\n",
       "      <td>Malec</td>\n",
       "      <td>0</td>\n",
       "      <td>Musa</td>\n",
       "      <td>35.861315</td>\n",
       "      <td>-6.378573</td>\n",
       "      <td>Mshoro</td>\n",
       "      <td>0</td>\n",
       "      <td>Rufiji</td>\n",
       "      <td>...</td>\n",
       "      <td>never pay</td>\n",
       "      <td>soft</td>\n",
       "      <td>good</td>\n",
       "      <td>insufficient</td>\n",
       "      <td>insufficient</td>\n",
       "      <td>shallow well</td>\n",
       "      <td>shallow well</td>\n",
       "      <td>groundwater</td>\n",
       "      <td>hand pump</td>\n",
       "      <td>hand pump</td>\n",
       "    </tr>\n",
       "    <tr>\n",
       "      <th>26348</th>\n",
       "      <td>0.0</td>\n",
       "      <td>2011-03-23</td>\n",
       "      <td>World Bank</td>\n",
       "      <td>191</td>\n",
       "      <td>World</td>\n",
       "      <td>38.104048</td>\n",
       "      <td>-6.747464</td>\n",
       "      <td>Kwa Mzee Lugawa</td>\n",
       "      <td>0</td>\n",
       "      <td>Wami / Ruvu</td>\n",
       "      <td>...</td>\n",
       "      <td>on failure</td>\n",
       "      <td>salty</td>\n",
       "      <td>salty</td>\n",
       "      <td>enough</td>\n",
       "      <td>enough</td>\n",
       "      <td>shallow well</td>\n",
       "      <td>shallow well</td>\n",
       "      <td>groundwater</td>\n",
       "      <td>hand pump</td>\n",
       "      <td>hand pump</td>\n",
       "    </tr>\n",
       "  </tbody>\n",
       "</table>\n",
       "<p>59400 rows × 39 columns</p>\n",
       "</div>"
      ],
      "text/plain": [
       "       amount_tsh date_recorded           funder  gps_height     installer  \\\n",
       "id                                                                           \n",
       "69572      6000.0    2011-03-14            Roman        1390         Roman   \n",
       "8776          0.0    2013-03-06          Grumeti        1399       GRUMETI   \n",
       "34310        25.0    2013-02-25     Lottery Club         686  World vision   \n",
       "67743         0.0    2013-01-28           Unicef         263        UNICEF   \n",
       "19728         0.0    2011-07-13      Action In A           0       Artisan   \n",
       "...           ...           ...              ...         ...           ...   \n",
       "60739        10.0    2013-05-03  Germany Republi        1210           CES   \n",
       "27263      4700.0    2011-05-07      Cefa-njombe        1212          Cefa   \n",
       "37057         0.0    2011-04-11              NaN           0           NaN   \n",
       "31282         0.0    2011-03-08            Malec           0          Musa   \n",
       "26348         0.0    2011-03-23       World Bank         191         World   \n",
       "\n",
       "       longitude   latitude              wpt_name  num_private  \\\n",
       "id                                                               \n",
       "69572  34.938093  -9.856322                  none            0   \n",
       "8776   34.698766  -2.147466              Zahanati            0   \n",
       "34310  37.460664  -3.821329           Kwa Mahundi            0   \n",
       "67743  38.486161 -11.155298  Zahanati Ya Nanyumbu            0   \n",
       "19728  31.130847  -1.825359               Shuleni            0   \n",
       "...          ...        ...                   ...          ...   \n",
       "60739  37.169807  -3.253847   Area Three Namba 27            0   \n",
       "27263  35.249991  -9.070629     Kwa Yahona Kuvala            0   \n",
       "37057  34.017087  -8.750434               Mashine            0   \n",
       "31282  35.861315  -6.378573                Mshoro            0   \n",
       "26348  38.104048  -6.747464       Kwa Mzee Lugawa            0   \n",
       "\n",
       "                         basin  ... payment_type water_quality  quality_group  \\\n",
       "id                              ...                                             \n",
       "69572               Lake Nyasa  ...     annually          soft           good   \n",
       "8776             Lake Victoria  ...    never pay          soft           good   \n",
       "34310                  Pangani  ...   per bucket          soft           good   \n",
       "67743  Ruvuma / Southern Coast  ...    never pay          soft           good   \n",
       "19728            Lake Victoria  ...    never pay          soft           good   \n",
       "...                        ...  ...          ...           ...            ...   \n",
       "60739                  Pangani  ...   per bucket          soft           good   \n",
       "27263                   Rufiji  ...     annually          soft           good   \n",
       "37057                   Rufiji  ...      monthly      fluoride       fluoride   \n",
       "31282                   Rufiji  ...    never pay          soft           good   \n",
       "26348              Wami / Ruvu  ...   on failure         salty          salty   \n",
       "\n",
       "           quantity quantity_group                source  \\\n",
       "id                                                         \n",
       "69572        enough         enough                spring   \n",
       "8776   insufficient   insufficient  rainwater harvesting   \n",
       "34310        enough         enough                   dam   \n",
       "67743           dry            dry           machine dbh   \n",
       "19728      seasonal       seasonal  rainwater harvesting   \n",
       "...             ...            ...                   ...   \n",
       "60739        enough         enough                spring   \n",
       "27263        enough         enough                 river   \n",
       "37057        enough         enough           machine dbh   \n",
       "31282  insufficient   insufficient          shallow well   \n",
       "26348        enough         enough          shallow well   \n",
       "\n",
       "                source_type source_class              waterpoint_type  \\\n",
       "id                                                                      \n",
       "69572                spring  groundwater           communal standpipe   \n",
       "8776   rainwater harvesting      surface           communal standpipe   \n",
       "34310                   dam      surface  communal standpipe multiple   \n",
       "67743              borehole  groundwater  communal standpipe multiple   \n",
       "19728  rainwater harvesting      surface           communal standpipe   \n",
       "...                     ...          ...                          ...   \n",
       "60739                spring  groundwater           communal standpipe   \n",
       "27263            river/lake      surface           communal standpipe   \n",
       "37057              borehole  groundwater                    hand pump   \n",
       "31282          shallow well  groundwater                    hand pump   \n",
       "26348          shallow well  groundwater                    hand pump   \n",
       "\n",
       "      waterpoint_type_group  \n",
       "id                           \n",
       "69572    communal standpipe  \n",
       "8776     communal standpipe  \n",
       "34310    communal standpipe  \n",
       "67743    communal standpipe  \n",
       "19728    communal standpipe  \n",
       "...                     ...  \n",
       "60739    communal standpipe  \n",
       "27263    communal standpipe  \n",
       "37057             hand pump  \n",
       "31282             hand pump  \n",
       "26348             hand pump  \n",
       "\n",
       "[59400 rows x 39 columns]"
      ]
     },
     "execution_count": 3,
     "metadata": {},
     "output_type": "execute_result"
    }
   ],
   "source": [
    "X"
   ]
  },
  {
   "cell_type": "code",
   "execution_count": 4,
   "metadata": {},
   "outputs": [
    {
     "name": "stdout",
     "output_type": "stream",
     "text": [
      "<class 'pandas.core.frame.DataFrame'>\n",
      "Int64Index: 59400 entries, 69572 to 26348\n",
      "Data columns (total 39 columns):\n",
      " #   Column                 Non-Null Count  Dtype  \n",
      "---  ------                 --------------  -----  \n",
      " 0   amount_tsh             59400 non-null  float64\n",
      " 1   date_recorded          59400 non-null  object \n",
      " 2   funder                 55765 non-null  object \n",
      " 3   gps_height             59400 non-null  int64  \n",
      " 4   installer              55745 non-null  object \n",
      " 5   longitude              59400 non-null  float64\n",
      " 6   latitude               59400 non-null  float64\n",
      " 7   wpt_name               59400 non-null  object \n",
      " 8   num_private            59400 non-null  int64  \n",
      " 9   basin                  59400 non-null  object \n",
      " 10  subvillage             59029 non-null  object \n",
      " 11  region                 59400 non-null  object \n",
      " 12  region_code            59400 non-null  int64  \n",
      " 13  district_code          59400 non-null  int64  \n",
      " 14  lga                    59400 non-null  object \n",
      " 15  ward                   59400 non-null  object \n",
      " 16  population             59400 non-null  int64  \n",
      " 17  public_meeting         56066 non-null  object \n",
      " 18  recorded_by            59400 non-null  object \n",
      " 19  scheme_management      55523 non-null  object \n",
      " 20  scheme_name            31234 non-null  object \n",
      " 21  permit                 56344 non-null  object \n",
      " 22  construction_year      59400 non-null  int64  \n",
      " 23  extraction_type        59400 non-null  object \n",
      " 24  extraction_type_group  59400 non-null  object \n",
      " 25  extraction_type_class  59400 non-null  object \n",
      " 26  management             59400 non-null  object \n",
      " 27  management_group       59400 non-null  object \n",
      " 28  payment                59400 non-null  object \n",
      " 29  payment_type           59400 non-null  object \n",
      " 30  water_quality          59400 non-null  object \n",
      " 31  quality_group          59400 non-null  object \n",
      " 32  quantity               59400 non-null  object \n",
      " 33  quantity_group         59400 non-null  object \n",
      " 34  source                 59400 non-null  object \n",
      " 35  source_type            59400 non-null  object \n",
      " 36  source_class           59400 non-null  object \n",
      " 37  waterpoint_type        59400 non-null  object \n",
      " 38  waterpoint_type_group  59400 non-null  object \n",
      "dtypes: float64(3), int64(6), object(30)\n",
      "memory usage: 18.1+ MB\n"
     ]
    }
   ],
   "source": [
    "X.info()"
   ]
  },
  {
   "cell_type": "markdown",
   "metadata": {},
   "source": [
    "The data set is pretty large and there are not that many null values"
   ]
  },
  {
   "cell_type": "markdown",
   "metadata": {},
   "source": [
    "### Drop duplicated columns"
   ]
  },
  {
   "cell_type": "markdown",
   "metadata": {},
   "source": [
    "From our data exploration process, we discovered that many columns are duplicates of each other, so we are going to drop them from our analysis. For detailed data exploration steps, refer to jupyter notebook named \"EDA.ipynb\" in notebooks/Samantha."
   ]
  },
  {
   "cell_type": "code",
   "execution_count": null,
   "metadata": {},
   "outputs": [],
   "source": [
    "drop_columns = [\"quantity_group\", \"source_type\", \"num_private\", \"waterpoint_type\"]\n",
    "X = X.drop(drop_columns, axis =1)"
   ]
  },
  {
   "cell_type": "markdown",
   "metadata": {},
   "source": [
    "### y_train Exploration"
   ]
  },
  {
   "cell_type": "code",
   "execution_count": 5,
   "metadata": {},
   "outputs": [
    {
     "data": {
      "text/html": [
       "<div>\n",
       "<style scoped>\n",
       "    .dataframe tbody tr th:only-of-type {\n",
       "        vertical-align: middle;\n",
       "    }\n",
       "\n",
       "    .dataframe tbody tr th {\n",
       "        vertical-align: top;\n",
       "    }\n",
       "\n",
       "    .dataframe thead th {\n",
       "        text-align: right;\n",
       "    }\n",
       "</style>\n",
       "<table border=\"1\" class=\"dataframe\">\n",
       "  <thead>\n",
       "    <tr style=\"text-align: right;\">\n",
       "      <th></th>\n",
       "      <th>status_group</th>\n",
       "    </tr>\n",
       "    <tr>\n",
       "      <th>id</th>\n",
       "      <th></th>\n",
       "    </tr>\n",
       "  </thead>\n",
       "  <tbody>\n",
       "    <tr>\n",
       "      <th>69572</th>\n",
       "      <td>functional</td>\n",
       "    </tr>\n",
       "    <tr>\n",
       "      <th>8776</th>\n",
       "      <td>functional</td>\n",
       "    </tr>\n",
       "    <tr>\n",
       "      <th>34310</th>\n",
       "      <td>functional</td>\n",
       "    </tr>\n",
       "    <tr>\n",
       "      <th>67743</th>\n",
       "      <td>non functional</td>\n",
       "    </tr>\n",
       "    <tr>\n",
       "      <th>19728</th>\n",
       "      <td>functional</td>\n",
       "    </tr>\n",
       "    <tr>\n",
       "      <th>...</th>\n",
       "      <td>...</td>\n",
       "    </tr>\n",
       "    <tr>\n",
       "      <th>60739</th>\n",
       "      <td>functional</td>\n",
       "    </tr>\n",
       "    <tr>\n",
       "      <th>27263</th>\n",
       "      <td>functional</td>\n",
       "    </tr>\n",
       "    <tr>\n",
       "      <th>37057</th>\n",
       "      <td>functional</td>\n",
       "    </tr>\n",
       "    <tr>\n",
       "      <th>31282</th>\n",
       "      <td>functional</td>\n",
       "    </tr>\n",
       "    <tr>\n",
       "      <th>26348</th>\n",
       "      <td>functional</td>\n",
       "    </tr>\n",
       "  </tbody>\n",
       "</table>\n",
       "<p>59400 rows × 1 columns</p>\n",
       "</div>"
      ],
      "text/plain": [
       "         status_group\n",
       "id                   \n",
       "69572      functional\n",
       "8776       functional\n",
       "34310      functional\n",
       "67743  non functional\n",
       "19728      functional\n",
       "...               ...\n",
       "60739      functional\n",
       "27263      functional\n",
       "37057      functional\n",
       "31282      functional\n",
       "26348      functional\n",
       "\n",
       "[59400 rows x 1 columns]"
      ]
     },
     "execution_count": 5,
     "metadata": {},
     "output_type": "execute_result"
    }
   ],
   "source": [
    "y = pd.read_csv('../../data/Pump_it_Up_Data_Mining_the_Water_Table_-_Training_set_labels.csv', index_col='id')\n",
    "y"
   ]
  },
  {
   "cell_type": "code",
   "execution_count": 6,
   "metadata": {},
   "outputs": [],
   "source": [
    "# convert the dataframe into a series\n",
    "y = y['status_group']"
   ]
  },
  {
   "cell_type": "code",
   "execution_count": 7,
   "metadata": {},
   "outputs": [
    {
     "data": {
      "text/plain": [
       "functional                 32259\n",
       "non functional             22824\n",
       "functional needs repair     4317\n",
       "Name: status_group, dtype: int64"
      ]
     },
     "execution_count": 7,
     "metadata": {},
     "output_type": "execute_result"
    }
   ],
   "source": [
    "y.value_counts()"
   ]
  },
  {
   "cell_type": "markdown",
   "metadata": {},
   "source": [
    "### Visualization\n",
    "\n",
    "Take a look at the location of the wells to see if there's any pattern."
   ]
  },
  {
   "cell_type": "code",
   "execution_count": 65,
   "metadata": {},
   "outputs": [],
   "source": [
    "import plotly.express as px"
   ]
  },
  {
   "cell_type": "code",
   "execution_count": null,
   "metadata": {},
   "outputs": [],
   "source": [
    "fig = px.scatter_mapbox(df,\n",
    "                       lat='lat',\n",
    "                       lon='long',\n",
    "                       color='')\n",
    "fig.update_layout(mapbox_style='open-street-map')\n",
    "fig.show()"
   ]
  },
  {
   "cell_type": "markdown",
   "metadata": {},
   "source": [
    "## Data Preparation\n",
    "\n",
    "Describe and justify the process for preparing the data for analysis.\n",
    "\n",
    "Questions to consider:\n",
    "\n",
    "- Were there variables you dropped or created?\n",
    "- How did you address missing values or outliers?\n",
    "- Why are these choices appropriate given the data and the business problem?\n",
    "- Can you pipeline your preparation steps to use them consistently in the modeling process?"
   ]
  },
  {
   "cell_type": "markdown",
   "metadata": {},
   "source": [
    "### Train Test Split"
   ]
  },
  {
   "cell_type": "markdown",
   "metadata": {},
   "source": [
    "We are not getting the target for our testing data so we are going to treat our training data as if that's all the data we got. So we'll split it into training data, validation data and a holdout set that we will only look at in the end."
   ]
  },
  {
   "cell_type": "code",
   "execution_count": 8,
   "metadata": {},
   "outputs": [],
   "source": [
    "from sklearn.model_selection import train_test_split\n",
    "X_train, X_holdout, y_train, y_holdout = train_test_split(X, y, random_state=42, test_size = .1)"
   ]
  },
  {
   "cell_type": "code",
   "execution_count": 9,
   "metadata": {},
   "outputs": [],
   "source": [
    "X_train, X_val, y_train, y_val = train_test_split(X_train, y_train, random_state=42)"
   ]
  },
  {
   "cell_type": "markdown",
   "metadata": {},
   "source": [
    "### Target Preprocessing"
   ]
  },
  {
   "cell_type": "markdown",
   "metadata": {},
   "source": [
    "Our target has three unique values: functional, non functional and functional needs repair. It doesn't make much difference if the water well is non functional or functional needs repair because it requires attention regardless. The functional needs repair ones can break down at anytime and as a result, people who depend on the well to survive will suffer. For these reasons, we decide to simplify the problem into a binary prediction problem with 0 representing wells that needs repair and 1 representing wells that doesn't need repair (aka functional)."
   ]
  },
  {
   "cell_type": "code",
   "execution_count": 10,
   "metadata": {},
   "outputs": [],
   "source": [
    "# set up a dictionary for mapping\n",
    "map_dict = {\"functional\": 1, \"non functional\": 0, \"functional needs repair\": 0}"
   ]
  },
  {
   "cell_type": "code",
   "execution_count": 11,
   "metadata": {},
   "outputs": [],
   "source": [
    "y_train = y_train.map(map_dict)"
   ]
  },
  {
   "cell_type": "code",
   "execution_count": 12,
   "metadata": {},
   "outputs": [],
   "source": [
    "y_val = y_val.map(map_dict)"
   ]
  },
  {
   "cell_type": "code",
   "execution_count": 13,
   "metadata": {},
   "outputs": [],
   "source": [
    "y_holdout = y_holdout.map(map_dict)"
   ]
  },
  {
   "cell_type": "markdown",
   "metadata": {},
   "source": [
    "### Imputing Nulls and Encoding Categorical Values"
   ]
  },
  {
   "cell_type": "code",
   "execution_count": 14,
   "metadata": {},
   "outputs": [],
   "source": [
    "# imports for preprocessing\n",
    "from sklearn.pipeline import Pipeline\n",
    "from sklearn.impute import SimpleImputer\n",
    "from sklearn.preprocessing import OneHotEncoder\n",
    "from sklearn.preprocessing import StandardScaler\n",
    "from sklearn.compose import ColumnTransformer\n",
    "import category_encoders as ce"
   ]
  },
  {
   "cell_type": "code",
   "execution_count": 15,
   "metadata": {},
   "outputs": [],
   "source": [
    "# Seperate columns into three categories:\n",
    "# numeric columns, OneHotEncoder approriate columns and frequency encoded appropriate columns\n",
    "num_cols = []\n",
    "ohe_cols = []\n",
    "freq_cols = []\n",
    "\n",
    "# we pick a maximum unique value of 3 for columns to be onehotencoded for simplicity reasons\n",
    "\n",
    "for c in X.columns:\n",
    "    if X[c].dtype in ['float64', 'int64']:\n",
    "        num_cols.append(c)\n",
    "    elif X[c].nunique() < 3:\n",
    "        ohe_cols.append(c)\n",
    "    else:\n",
    "        freq_cols.append(c)"
   ]
  },
  {
   "cell_type": "code",
   "execution_count": 16,
   "metadata": {},
   "outputs": [
    {
     "name": "stdout",
     "output_type": "stream",
     "text": [
      "these are the numeric columns: ['amount_tsh', 'gps_height', 'longitude', 'latitude', 'num_private', 'region_code', 'district_code', 'population', 'construction_year']\n",
      "\n",
      "these are the OHE columns:['public_meeting', 'recorded_by', 'permit']\n",
      "\n",
      "these are the frequency encoded columns:['date_recorded', 'funder', 'installer', 'wpt_name', 'basin', 'subvillage', 'region', 'lga', 'ward', 'scheme_management', 'scheme_name', 'extraction_type', 'extraction_type_group', 'extraction_type_class', 'management', 'management_group', 'payment', 'payment_type', 'water_quality', 'quality_group', 'quantity', 'quantity_group', 'source', 'source_type', 'source_class', 'waterpoint_type', 'waterpoint_type_group']\n"
     ]
    }
   ],
   "source": [
    "# see what these columns are\n",
    "print(f'these are the numeric columns: {num_cols}')\n",
    "print('')\n",
    "print(f'these are the OHE columns:{ohe_cols}')\n",
    "print('')\n",
    "print(f'these are the frequency encoded columns:{freq_cols}')"
   ]
  },
  {
   "cell_type": "code",
   "execution_count": 17,
   "metadata": {},
   "outputs": [
    {
     "data": {
      "text/plain": [
       "['funder',\n",
       " 'installer',\n",
       " 'subvillage',\n",
       " 'public_meeting',\n",
       " 'scheme_management',\n",
       " 'scheme_name',\n",
       " 'permit']"
      ]
     },
     "execution_count": 17,
     "metadata": {},
     "output_type": "execute_result"
    }
   ],
   "source": [
    "# check which columns have null values that needs imputing\n",
    "list=[]\n",
    "for c in range(len(X.isna().any())):\n",
    "    if X.isna().any()[c] == True:\n",
    "        list.append(X.isna().any().index[c])\n",
    "list"
   ]
  },
  {
   "cell_type": "code",
   "execution_count": 18,
   "metadata": {},
   "outputs": [
    {
     "data": {
      "text/plain": [
       "ColumnTransformer(transformers=[('ohe',\n",
       "                                 Pipeline(steps=[('ohe_imputer',\n",
       "                                                  SimpleImputer(fill_value=0,\n",
       "                                                                strategy='constant')),\n",
       "                                                 ('oh_encoder',\n",
       "                                                  OneHotEncoder(handle_unknown='ignore'))]),\n",
       "                                 ['public_meeting', 'recorded_by', 'permit']),\n",
       "                                ('freq',\n",
       "                                 Pipeline(steps=[('freq_encoder',\n",
       "                                                  CountEncoder(combine_min_nan_groups=True,\n",
       "                                                               min_group_size=0.05,\n",
       "                                                               normalize=True)),\n",
       "                                                 ('freq_imputer...\n",
       "                                  'management_group', 'payment', 'payment_type',\n",
       "                                  'water_quality', 'quality_group', 'quantity',\n",
       "                                  'quantity_group', 'source', 'source_type',\n",
       "                                  'source_class', 'waterpoint_type',\n",
       "                                  'waterpoint_type_group']),\n",
       "                                ('scaler',\n",
       "                                 Pipeline(steps=[('scaler', StandardScaler())]),\n",
       "                                 ['amount_tsh', 'gps_height', 'longitude',\n",
       "                                  'latitude', 'num_private', 'region_code',\n",
       "                                  'district_code', 'population',\n",
       "                                  'construction_year'])])"
      ]
     },
     "execution_count": 18,
     "metadata": {},
     "output_type": "execute_result"
    }
   ],
   "source": [
    "# set up pipeline for preprocessing \n",
    "# for numeric columns, we need to scale it\n",
    "# for unique value <3 columns, we need to one hot encode it\n",
    "# for unique value >3 columns, we need to frequency encode it\n",
    "ohe_transformer = Pipeline(steps=[\n",
    "    ('ohe_imputer', SimpleImputer(strategy='constant', fill_value = 0)),\n",
    "    ('oh_encoder', OneHotEncoder(handle_unknown='ignore'))\n",
    "])\n",
    "\n",
    "freq_transformer = Pipeline(steps=[\n",
    "    ('freq_encoder', ce.count.CountEncoder(normalize=True, min_group_size=.05)),\n",
    "    ('freq_imputer', SimpleImputer(strategy='constant', fill_value=0))\n",
    "])\n",
    "\n",
    "num_transformer = Pipeline(steps=[\n",
    "    ('scaler', StandardScaler())\n",
    "    \n",
    "])\n",
    "\n",
    "preprocessor = ColumnTransformer(\n",
    "    transformers=[\n",
    "        ('ohe', ohe_transformer, ohe_cols),\n",
    "        ('freq', freq_transformer, freq_cols),\n",
    "        ('scaler', num_transformer, num_cols)\n",
    "    ])\n",
    "\n",
    "preprocessor.fit(X_train)"
   ]
  },
  {
   "cell_type": "markdown",
   "metadata": {},
   "source": [
    "## Modeling\n",
    "\n",
    "Describe and justify the process for analyzing or modeling the data.\n",
    "\n",
    "Questions to consider:\n",
    "\n",
    "- How will you analyze the data to arrive at an initial approach?\n",
    "- How will you iterate on your initial approach to make it better?\n",
    "- What model type is most appropriate, given the data and the business problem?"
   ]
  },
  {
   "cell_type": "code",
   "execution_count": 19,
   "metadata": {},
   "outputs": [],
   "source": [
    "# imports for modeling\n",
    "from sklearn.model_selection import GridSearchCV\n",
    "from sklearn.metrics import plot_confusion_matrix, plot_roc_curve, confusion_matrix\n",
    "from sklearn.metrics import accuracy_score, precision_score, recall_score, f1_score, roc_auc_score\n",
    "from sklearn.neighbors import KNeighborsClassifier\n",
    "from sklearn.model_selection import cross_validate\n",
    "from sklearn.model_selection import cross_val_score\n"
   ]
  },
  {
   "cell_type": "code",
   "execution_count": 34,
   "metadata": {},
   "outputs": [],
   "source": [
    "# build an evaluation function \n",
    "def evaluate(model, X_tr, y_tr, X_te, y_te):\n",
    "    print('Accuracy Score:')\n",
    "    print(f'Train - {accuracy_score(y_tr, model.predict(X_tr))}')\n",
    "    print(f'Test - {accuracy_score(y_te, model.predict(X_te))}')\n",
    "    print('  ')\n",
    "    print('Precision Score:')\n",
    "    print(f'Train - {precision_score(y_tr, model.predict(X_tr))}')\n",
    "    print(f'Test - {precision_score(y_te, model.predict(X_te))}')\n",
    "    print('  ')\n",
    "    print('Recall Score: ')\n",
    "    print(f'Train - {recall_score(y_tr, model.predict(X_tr))}')\n",
    "    print(f'Test - {recall_score(y_te, model.predict(X_te))}')\n",
    "    print('  ')\n",
    "    print('F1 Score: ')\n",
    "    print(f'Train - {f1_score(y_tr, model.predict(X_tr))}')\n",
    "    print(f'Test - {f1_score(y_te, model.predict(X_te))}')\n",
    "    print('  ')\n",
    "    print('ROC_AUC: ')\n",
    "    print(f'Train - {roc_auc_score(y_tr, model.predict(X_tr))}')\n",
    "    print(f'Test - {roc_auc_score(y_te, model.predict(X_te))}')\n",
    "    print('  ')\n",
    "    print('  ')\n",
    "    print('Confusion matrix for test data')\n",
    "    return plot_confusion_matrix(model, X_te, y_te)"
   ]
  },
  {
   "cell_type": "markdown",
   "metadata": {},
   "source": [
    "### Baseline Understanding\n",
    "\n",
    "First, we want to see how the baseline model where we predict the majority class everytime does so we know what to compare our score to."
   ]
  },
  {
   "cell_type": "code",
   "execution_count": 21,
   "metadata": {},
   "outputs": [],
   "source": [
    "from sklearn.dummy import DummyClassifier"
   ]
  },
  {
   "cell_type": "code",
   "execution_count": 25,
   "metadata": {},
   "outputs": [
    {
     "data": {
      "text/plain": [
       "array([0.54508043, 0.54508043, 0.54508043, 0.54520514, 0.54520514])"
      ]
     },
     "execution_count": 25,
     "metadata": {},
     "output_type": "execute_result"
    }
   ],
   "source": [
    "dummy_model = DummyClassifier(strategy=\"most_frequent\")\n",
    "dummy_model.fit(X_train, y_train)\n",
    "cv_results = cross_val_score(dummy_model, X_train, y_train, cv=5)\n",
    "cv_results"
   ]
  },
  {
   "cell_type": "markdown",
   "metadata": {},
   "source": [
    "Based on our dummy model assuming that all predictions will result in the majority class, we can see the dispersion of results - a little more than half of our waterwells are functioning."
   ]
  },
  {
   "cell_type": "code",
   "execution_count": 38,
   "metadata": {},
   "outputs": [
    {
     "data": {
      "text/plain": [
       "<sklearn.metrics._plot.roc_curve.RocCurveDisplay at 0x7f9489b17460>"
      ]
     },
     "execution_count": 38,
     "metadata": {},
     "output_type": "execute_result"
    },
    {
     "data": {
      "image/png": "[encoded data removed]",
      "text/plain": [
       "<Figure size 432x288 with 1 Axes>"
      ]
     },
     "metadata": {
      "needs_background": "light"
     },
     "output_type": "display_data"
    }
   ],
   "source": [
    "plot_roc_curve(dummy_model,X_train,y_train)"
   ]
  },
  {
   "cell_type": "markdown",
   "metadata": {},
   "source": [
    "50% - not great results."
   ]
  },
  {
   "cell_type": "code",
   "execution_count": 35,
   "metadata": {},
   "outputs": [
    {
     "name": "stdout",
     "output_type": "stream",
     "text": [
      "Accuracy Score:\n",
      "Train - 0.5451303155006859\n",
      "Test - 0.5390946502057613\n",
      "  \n",
      "Precision Score:\n",
      "Train - 0.5451303155006859\n",
      "Test - 0.5390946502057613\n",
      "  \n",
      "Recall Score: \n",
      "Train - 1.0\n",
      "Test - 1.0\n",
      "  \n",
      "F1 Score: \n",
      "Train - 0.7056107954545455\n",
      "Test - 0.7005347593582888\n",
      "  \n",
      "ROC_AUC: \n",
      "Train - 0.5\n",
      "Test - 0.5\n",
      "  \n",
      "  \n",
      "Confusion matrix for test data\n"
     ]
    },
    {
     "data": {
      "text/plain": [
       "<sklearn.metrics._plot.confusion_matrix.ConfusionMatrixDisplay at 0x7fec7161a640>"
      ]
     },
     "execution_count": 35,
     "metadata": {},
     "output_type": "execute_result"
    },
    {
     "data": {
      "image/png": "[encoded data removed]",
      "text/plain": [
       "<Figure size 432x288 with 2 Axes>"
      ]
     },
     "metadata": {
      "needs_background": "light"
     },
     "output_type": "display_data"
    }
   ],
   "source": [
    "evaluate(dummy_model,X_train,y_train,X_val,y_val)"
   ]
  },
  {
   "cell_type": "markdown",
   "metadata": {},
   "source": [
    "Since we combined our non-functional and functional needs repair targets, our target data is already pretty balanced. We will need to strengthen our model validation in order to determine what is a real prediction, and what is a result of random chance."
   ]
  },
  {
   "cell_type": "markdown",
   "metadata": {},
   "source": [
    "### Logistic Regression Modeling"
   ]
  },
  {
   "cell_type": "code",
   "execution_count": 37,
   "metadata": {},
   "outputs": [],
   "source": [
    "from sklearn.linear_model import LogisticRegression"
   ]
  },
  {
   "cell_type": "code",
   "execution_count": 38,
   "metadata": {},
   "outputs": [
    {
     "name": "stderr",
     "output_type": "stream",
     "text": [
      "/Users/elylin/opt/anaconda3/envs/learn-env/lib/python3.8/site-packages/sklearn/linear_model/_logistic.py:762: ConvergenceWarning: lbfgs failed to converge (status=1):\n",
      "STOP: TOTAL NO. of ITERATIONS REACHED LIMIT.\n",
      "\n",
      "Increase the number of iterations (max_iter) or scale the data as shown in:\n",
      "    https://scikit-learn.org/stable/modules/preprocessing.html\n",
      "Please also refer to the documentation for alternative solver options:\n",
      "    https://scikit-learn.org/stable/modules/linear_model.html#logistic-regression\n",
      "  n_iter_i = _check_optimize_result(\n",
      "/Users/elylin/opt/anaconda3/envs/learn-env/lib/python3.8/site-packages/sklearn/linear_model/_logistic.py:762: ConvergenceWarning: lbfgs failed to converge (status=1):\n",
      "STOP: TOTAL NO. of ITERATIONS REACHED LIMIT.\n",
      "\n",
      "Increase the number of iterations (max_iter) or scale the data as shown in:\n",
      "    https://scikit-learn.org/stable/modules/preprocessing.html\n",
      "Please also refer to the documentation for alternative solver options:\n",
      "    https://scikit-learn.org/stable/modules/linear_model.html#logistic-regression\n",
      "  n_iter_i = _check_optimize_result(\n",
      "/Users/elylin/opt/anaconda3/envs/learn-env/lib/python3.8/site-packages/sklearn/linear_model/_logistic.py:762: ConvergenceWarning: lbfgs failed to converge (status=1):\n",
      "STOP: TOTAL NO. of ITERATIONS REACHED LIMIT.\n",
      "\n",
      "Increase the number of iterations (max_iter) or scale the data as shown in:\n",
      "    https://scikit-learn.org/stable/modules/preprocessing.html\n",
      "Please also refer to the documentation for alternative solver options:\n",
      "    https://scikit-learn.org/stable/modules/linear_model.html#logistic-regression\n",
      "  n_iter_i = _check_optimize_result(\n",
      "/Users/elylin/opt/anaconda3/envs/learn-env/lib/python3.8/site-packages/sklearn/linear_model/_logistic.py:762: ConvergenceWarning: lbfgs failed to converge (status=1):\n",
      "STOP: TOTAL NO. of ITERATIONS REACHED LIMIT.\n",
      "\n",
      "Increase the number of iterations (max_iter) or scale the data as shown in:\n",
      "    https://scikit-learn.org/stable/modules/preprocessing.html\n",
      "Please also refer to the documentation for alternative solver options:\n",
      "    https://scikit-learn.org/stable/modules/linear_model.html#logistic-regression\n",
      "  n_iter_i = _check_optimize_result(\n",
      "/Users/elylin/opt/anaconda3/envs/learn-env/lib/python3.8/site-packages/sklearn/linear_model/_logistic.py:762: ConvergenceWarning: lbfgs failed to converge (status=1):\n",
      "STOP: TOTAL NO. of ITERATIONS REACHED LIMIT.\n",
      "\n",
      "Increase the number of iterations (max_iter) or scale the data as shown in:\n",
      "    https://scikit-learn.org/stable/modules/preprocessing.html\n",
      "Please also refer to the documentation for alternative solver options:\n",
      "    https://scikit-learn.org/stable/modules/linear_model.html#logistic-regression\n",
      "  n_iter_i = _check_optimize_result(\n"
     ]
    },
    {
     "data": {
      "text/plain": [
       "{'fit_time': array([2.12409234, 2.16685081, 2.02137208, 2.01702499, 2.04306889]),\n",
       " 'score_time': array([0.25671673, 0.25616717, 0.29136705, 0.23577595, 0.242908  ]),\n",
       " 'test_score': array([0.68424991, 0.68587106, 0.68312757, 0.68275346, 0.68761691]),\n",
       " 'train_score': array([0.68621399, 0.68440579, 0.68384462, 0.68406285, 0.68521636])}"
      ]
     },
     "execution_count": 38,
     "metadata": {},
     "output_type": "execute_result"
    }
   ],
   "source": [
    "# we are using no penalty because \n",
    "log_classifier = Pipeline(steps=[\n",
    "    ('preprocessor', preprocessor),\n",
    "    ('regressor', LogisticRegression())\n",
    "])\n",
    "cross_validate(log_classifier, X_train, y_train, return_train_score=True)"
   ]
  },
  {
   "cell_type": "markdown",
   "metadata": {},
   "source": [
    "The model can't find the minimum. Let's try another solver, saga, that can deal with large datasets."
   ]
  },
  {
   "cell_type": "code",
   "execution_count": 39,
   "metadata": {},
   "outputs": [
    {
     "name": "stderr",
     "output_type": "stream",
     "text": [
      "/Users/elylin/opt/anaconda3/envs/learn-env/lib/python3.8/site-packages/sklearn/linear_model/_sag.py:329: ConvergenceWarning: The max_iter was reached which means the coef_ did not converge\n",
      "  warnings.warn(\"The max_iter was reached which means \"\n",
      "/Users/elylin/opt/anaconda3/envs/learn-env/lib/python3.8/site-packages/sklearn/linear_model/_sag.py:329: ConvergenceWarning: The max_iter was reached which means the coef_ did not converge\n",
      "  warnings.warn(\"The max_iter was reached which means \"\n",
      "/Users/elylin/opt/anaconda3/envs/learn-env/lib/python3.8/site-packages/sklearn/linear_model/_sag.py:329: ConvergenceWarning: The max_iter was reached which means the coef_ did not converge\n",
      "  warnings.warn(\"The max_iter was reached which means \"\n",
      "/Users/elylin/opt/anaconda3/envs/learn-env/lib/python3.8/site-packages/sklearn/linear_model/_sag.py:329: ConvergenceWarning: The max_iter was reached which means the coef_ did not converge\n",
      "  warnings.warn(\"The max_iter was reached which means \"\n",
      "/Users/elylin/opt/anaconda3/envs/learn-env/lib/python3.8/site-packages/sklearn/linear_model/_sag.py:329: ConvergenceWarning: The max_iter was reached which means the coef_ did not converge\n",
      "  warnings.warn(\"The max_iter was reached which means \"\n"
     ]
    },
    {
     "data": {
      "text/plain": [
       "{'fit_time': array([2.98374414, 2.82400107, 2.85567212, 2.83926702, 2.957129  ]),\n",
       " 'score_time': array([0.22674584, 0.22364116, 0.26780915, 0.22865391, 0.23884606]),\n",
       " 'test_score': array([0.67265245, 0.67140541, 0.664422  , 0.66529492, 0.67078189]),\n",
       " 'train_score': array([0.67894999, 0.67533358, 0.67605063, 0.67891882, 0.67770296])}"
      ]
     },
     "execution_count": 39,
     "metadata": {},
     "output_type": "execute_result"
    }
   ],
   "source": [
    "log_classifier = Pipeline(steps=[\n",
    "    ('preprocessor', preprocessor),\n",
    "    ('regressor', LogisticRegression(solver='saga'))\n",
    "])\n",
    "cross_validate(log_classifier, X_train, y_train, return_train_score=True)"
   ]
  },
  {
   "cell_type": "code",
   "execution_count": 40,
   "metadata": {},
   "outputs": [
    {
     "name": "stderr",
     "output_type": "stream",
     "text": [
      "/Users/elylin/opt/anaconda3/envs/learn-env/lib/python3.8/site-packages/sklearn/linear_model/_sag.py:329: ConvergenceWarning: The max_iter was reached which means the coef_ did not converge\n",
      "  warnings.warn(\"The max_iter was reached which means \"\n"
     ]
    },
    {
     "data": {
      "text/plain": [
       "Pipeline(steps=[('preprocessor',\n",
       "                 ColumnTransformer(transformers=[('ohe',\n",
       "                                                  Pipeline(steps=[('ohe_imputer',\n",
       "                                                                   SimpleImputer(fill_value=0,\n",
       "                                                                                 strategy='constant')),\n",
       "                                                                  ('oh_encoder',\n",
       "                                                                   OneHotEncoder(handle_unknown='ignore'))]),\n",
       "                                                  ['public_meeting',\n",
       "                                                   'recorded_by', 'permit']),\n",
       "                                                 ('freq',\n",
       "                                                  Pipeline(steps=[('freq_encoder',\n",
       "                                                                   CountEncoder(combine_min_nan_groups=True,\n",
       "                                                                                min_group_size=0.05...\n",
       "                                                   'quality_group', 'quantity',\n",
       "                                                   'quantity_group', 'source',\n",
       "                                                   'source_type',\n",
       "                                                   'source_class',\n",
       "                                                   'waterpoint_type',\n",
       "                                                   'waterpoint_type_group']),\n",
       "                                                 ('scaler',\n",
       "                                                  Pipeline(steps=[('scaler',\n",
       "                                                                   StandardScaler())]),\n",
       "                                                  ['amount_tsh', 'gps_height',\n",
       "                                                   'longitude', 'latitude',\n",
       "                                                   'num_private', 'region_code',\n",
       "                                                   'district_code',\n",
       "                                                   'population',\n",
       "                                                   'construction_year'])])),\n",
       "                ('regressor', LogisticRegression(solver='saga'))])"
      ]
     },
     "execution_count": 40,
     "metadata": {},
     "output_type": "execute_result"
    }
   ],
   "source": [
    "log_classifier.fit(X_train,y_train)"
   ]
  },
  {
   "cell_type": "code",
   "execution_count": 41,
   "metadata": {},
   "outputs": [
    {
     "name": "stdout",
     "output_type": "stream",
     "text": [
      "Accuracy Score:\n",
      "Train - 0.6774909589724405\n",
      "Test - 0.6676393565282455\n",
      "  \n",
      "Precision Score:\n",
      "Train - 0.6852789770840252\n",
      "Test - 0.6472971532146284\n",
      "  \n",
      "Recall Score: \n",
      "Train - 0.7552271583474401\n",
      "Test - 0.8426092990978488\n",
      "  \n",
      "F1 Score: \n",
      "Train - 0.718554793775166\n",
      "Test - 0.7321514712976364\n",
      "  \n",
      "ROC_AUC: \n",
      "Train - 0.6697782902165976\n",
      "Test - 0.6527981560424309\n",
      "  \n",
      "  \n",
      "Confusion matrix for test data\n"
     ]
    },
    {
     "data": {
      "text/plain": [
       "<sklearn.metrics._plot.confusion_matrix.ConfusionMatrixDisplay at 0x7fec71636190>"
      ]
     },
     "execution_count": 41,
     "metadata": {},
     "output_type": "execute_result"
    },
    {
     "data": {
      "image/png": "[encoded data removed]",
      "text/plain": [
       "<Figure size 432x288 with 2 Axes>"
      ]
     },
     "metadata": {
      "needs_background": "light"
     },
     "output_type": "display_data"
    }
   ],
   "source": [
    "evaluate(log_classifier, X_train, y_train, X_val, y_val)"
   ]
  },
  {
   "cell_type": "markdown",
   "metadata": {},
   "source": [
    "The model still didn't converge. Logistic regression is not very good at interaction terms which we'd expect in this dataset."
   ]
  },
  {
   "cell_type": "markdown",
   "metadata": {},
   "source": [
    "### KNN Modeling"
   ]
  },
  {
   "cell_type": "code",
   "execution_count": 42,
   "metadata": {},
   "outputs": [],
   "source": [
    "# build a baseline Knn model\n",
    "Knn_classifier = Pipeline(steps=[\n",
    "    ('preprocessor', preprocessor),\n",
    "    ('classifier', KNeighborsClassifier())\n",
    "])"
   ]
  },
  {
   "cell_type": "code",
   "execution_count": 43,
   "metadata": {},
   "outputs": [
    {
     "data": {
      "text/plain": [
       "{'fit_time': array([2.06853867, 2.33069491, 2.29054594, 1.97387314, 2.29323292]),\n",
       " 'score_time': array([4.09630227, 5.11160707, 4.79372692, 4.08288884, 4.91764688]),\n",
       " 'test_score': array([0.75134057, 0.74373363, 0.74560419, 0.74759945, 0.75009353]),\n",
       " 'train_score': array([0.83604564, 0.83822796, 0.83657563, 0.83520389, 0.83464272])}"
      ]
     },
     "execution_count": 43,
     "metadata": {},
     "output_type": "execute_result"
    }
   ],
   "source": [
    "#Cross validate the X_train dataset\n",
    "from sklearn.model_selection import cross_validate\n",
    "cross_validate(Knn_classifier, X_train, y_train, return_train_score=True)"
   ]
  },
  {
   "cell_type": "code",
   "execution_count": 44,
   "metadata": {},
   "outputs": [
    {
     "name": "stdout",
     "output_type": "stream",
     "text": [
      "Accuracy Score:\n",
      "Train - 0.8406285072951739\n",
      "Test - 0.7572764683875794\n",
      "  \n",
      "Precision Score:\n",
      "Train - 0.8373391494002181\n",
      "Test - 0.7597377049180328\n",
      "  \n",
      "Recall Score: \n",
      "Train - 0.8782541062359884\n",
      "Test - 0.8040249826509368\n",
      "  \n",
      "F1 Score: \n",
      "Train - 0.8573087401187978\n",
      "Test - 0.781254214430209\n",
      "  \n",
      "ROC_AUC: \n",
      "Train - 0.8368954487754128\n",
      "Test - 0.7533111926241698\n",
      "  \n",
      "  \n",
      "Confusion matrix for test data\n"
     ]
    },
    {
     "data": {
      "text/plain": [
       "<sklearn.metrics._plot.confusion_matrix.ConfusionMatrixDisplay at 0x7fec518cb700>"
      ]
     },
     "execution_count": 44,
     "metadata": {},
     "output_type": "execute_result"
    },
    {
     "data": {
      "image/png": "[encoded data removed]",
      "text/plain": [
       "<Figure size 432x288 with 2 Axes>"
      ]
     },
     "metadata": {
      "needs_background": "light"
     },
     "output_type": "display_data"
    }
   ],
   "source": [
    "#Evaluate the function\n",
    "Knn_classifier.fit(X_train,y_train)\n",
    "evaluate(Knn_classifier, X_train, y_train, X_val, y_val)"
   ]
  },
  {
   "cell_type": "markdown",
   "metadata": {},
   "source": [
    "KNN has good scores, way better than Logistic Regression, but as we add more data to the model, it's going to take more and more time to run. So we are not going to use KNN model. "
   ]
  },
  {
   "cell_type": "markdown",
   "metadata": {},
   "source": [
    "### Decision Tree Modeling"
   ]
  },
  {
   "cell_type": "code",
   "execution_count": 45,
   "metadata": {},
   "outputs": [],
   "source": [
    "# import decision tree classifier\n",
    "from sklearn.tree import DecisionTreeClassifier \n",
    "# set up pipeline for decision tree models\n",
    "dt = Pipeline(steps=[('preprocessor', preprocessor), ('classifier', DecisionTreeClassifier())])"
   ]
  },
  {
   "cell_type": "code",
   "execution_count": 46,
   "metadata": {},
   "outputs": [
    {
     "data": {
      "text/plain": [
       "{'fit_time': array([2.14893293, 1.93697095, 2.03919721, 1.93542767, 1.89299703]),\n",
       " 'score_time': array([0.2290051 , 0.28910184, 0.21938205, 0.21517015, 0.23236299]),\n",
       " 'test_score': array([0.76717795, 0.76805088, 0.76530739, 0.76144158, 0.76169098]),\n",
       " 'train_score': array([0.99947001, 0.99950118, 0.99956354, 0.99962589, 0.99950118])}"
      ]
     },
     "execution_count": 46,
     "metadata": {},
     "output_type": "execute_result"
    }
   ],
   "source": [
    "# baseline decision tree model\n",
    "cross_validate(dt, X_train, y_train, return_train_score = True)"
   ]
  },
  {
   "cell_type": "code",
   "execution_count": 47,
   "metadata": {},
   "outputs": [
    {
     "name": "stdout",
     "output_type": "stream",
     "text": [
      "Accuracy Score:\n",
      "Train - 0.9994762439206883\n",
      "Test - 0.7598952487841377\n",
      "  \n",
      "Precision Score:\n",
      "Train - 0.9998626499404817\n",
      "Test - 0.7776542523624236\n",
      "  \n",
      "Recall Score: \n",
      "Train - 0.999176465205655\n",
      "Test - 0.7766828591256072\n",
      "  \n",
      "F1 Score: \n",
      "Train - 0.9995194398041145\n",
      "Test - 0.7771682522047081\n",
      "  \n",
      "ROC_AUC: \n",
      "Train - 0.9995059867425358\n",
      "Test - 0.7584712996926738\n",
      "  \n",
      "  \n",
      "Confusion matrix for test data\n"
     ]
    },
    {
     "data": {
      "text/plain": [
       "<sklearn.metrics._plot.confusion_matrix.ConfusionMatrixDisplay at 0x7fec40a93df0>"
      ]
     },
     "execution_count": 47,
     "metadata": {},
     "output_type": "execute_result"
    },
    {
     "data": {
      "image/png": "[encoded data removed]",
      "text/plain": [
       "<Figure size 432x288 with 2 Axes>"
      ]
     },
     "metadata": {
      "needs_background": "light"
     },
     "output_type": "display_data"
    }
   ],
   "source": [
    "dt.fit(X_train, y_train)\n",
    "evaluate(dt, X_train, y_train, X_val, y_val)"
   ]
  },
  {
   "cell_type": "markdown",
   "metadata": {},
   "source": [
    "- The score is way better on the training set than the test set so the model is definitely overfitted, which is expected for an untuned decision tree model. "
   ]
  },
  {
   "cell_type": "markdown",
   "metadata": {},
   "source": [
    "#### Improve Decision Tree by Gridsearching"
   ]
  },
  {
   "cell_type": "code",
   "execution_count": 48,
   "metadata": {},
   "outputs": [],
   "source": [
    "from sklearn.model_selection import GridSearchCV"
   ]
  },
  {
   "cell_type": "code",
   "execution_count": 49,
   "metadata": {},
   "outputs": [],
   "source": [
    "# correct for overfitting by limiting max depth and minimum samples split\n",
    "dt_grid_params = {'classifier__max_depth':[1,5,10], 'classifier__min_samples_split':[2,10,100]}"
   ]
  },
  {
   "cell_type": "code",
   "execution_count": 50,
   "metadata": {},
   "outputs": [],
   "source": [
    "# Gridsearch for best precision score because that's what we want to maximize according to our business problem\n",
    "dt_grid = GridSearchCV(dt, dt_grid_params, scoring = 'precision')\n",
    "dt_output = dt_grid.fit(X_train, y_train)"
   ]
  },
  {
   "cell_type": "code",
   "execution_count": 51,
   "metadata": {},
   "outputs": [
    {
     "data": {
      "text/plain": [
       "{'classifier__max_depth': 10, 'classifier__min_samples_split': 2}"
      ]
     },
     "execution_count": 51,
     "metadata": {},
     "output_type": "execute_result"
    }
   ],
   "source": [
    "# See the gridsearch result\n",
    "dt_output.best_params_"
   ]
  },
  {
   "cell_type": "code",
   "execution_count": 52,
   "metadata": {},
   "outputs": [],
   "source": [
    "dt_best_model = dt_output.best_estimator_"
   ]
  },
  {
   "cell_type": "code",
   "execution_count": 53,
   "metadata": {},
   "outputs": [
    {
     "name": "stdout",
     "output_type": "stream",
     "text": [
      "Accuracy Score:\n",
      "Train - 0.7987030801845617\n",
      "Test - 0.7661054994388328\n",
      "  \n",
      "Precision Score:\n",
      "Train - 0.786468290250187\n",
      "Test - 0.757805587157123\n",
      "  \n",
      "Recall Score: \n",
      "Train - 0.8658095804547742\n",
      "Test - 0.8320610687022901\n",
      "  \n",
      "F1 Score: \n",
      "Train - 0.8242339772207583\n",
      "Test - 0.7931992590632442\n",
      "  \n",
      "ROC_AUC: \n",
      "Train - 0.7920450468344712\n",
      "Test - 0.7605110538316646\n",
      "  \n",
      "  \n",
      "Confusion matrix for test data\n"
     ]
    },
    {
     "data": {
      "text/plain": [
       "<sklearn.metrics._plot.confusion_matrix.ConfusionMatrixDisplay at 0x7fec715dabb0>"
      ]
     },
     "execution_count": 53,
     "metadata": {},
     "output_type": "execute_result"
    },
    {
     "data": {
      "image/png": "[encoded data removed]",
      "text/plain": [
       "<Figure size 432x288 with 2 Axes>"
      ]
     },
     "metadata": {
      "needs_background": "light"
     },
     "output_type": "display_data"
    }
   ],
   "source": [
    "#Evaluate the model\n",
    "evaluate(dt_best_model, X_train, y_train, X_val, y_val)"
   ]
  },
  {
   "cell_type": "markdown",
   "metadata": {},
   "source": [
    "#### Random Forest"
   ]
  },
  {
   "cell_type": "code",
   "execution_count": 54,
   "metadata": {},
   "outputs": [],
   "source": [
    "from sklearn.ensemble import RandomForestClassifier"
   ]
  },
  {
   "cell_type": "code",
   "execution_count": 55,
   "metadata": {},
   "outputs": [],
   "source": [
    "# setting up pipeline for random forest models\n",
    "rfc = Pipeline(steps=[\n",
    "    ('preprocessor', preprocessor),\n",
    "    ('classifier', RandomForestClassifier())])"
   ]
  },
  {
   "cell_type": "code",
   "execution_count": 56,
   "metadata": {},
   "outputs": [],
   "source": [
    "# set up parameter grid\n",
    "rfc_grid_params = {'classifier__n_estimators': [1,10,100], 'classifier__max_depth':[1,5,10], 'classifier__min_samples_split':[2,10,100], 'classifier__max_features': ['sqrt','log2', None], 'classifier__max_samples': [0.1,0.3,0.5]}"
   ]
  },
  {
   "cell_type": "code",
   "execution_count": 57,
   "metadata": {},
   "outputs": [],
   "source": [
    "# Gridsearch for best precision score \n",
    "rfc_grid = GridSearchCV(rfc, rfc_grid_params, scoring = 'precision')\n",
    "rfc_output = rfc_grid.fit(X_train, y_train)"
   ]
  },
  {
   "cell_type": "code",
   "execution_count": 58,
   "metadata": {},
   "outputs": [
    {
     "data": {
      "text/plain": [
       "{'classifier__max_depth': 10,\n",
       " 'classifier__max_features': None,\n",
       " 'classifier__max_samples': 0.5,\n",
       " 'classifier__min_samples_split': 2,\n",
       " 'classifier__n_estimators': 100}"
      ]
     },
     "execution_count": 58,
     "metadata": {},
     "output_type": "execute_result"
    }
   ],
   "source": [
    "# See the gridsearch result\n",
    "rfc_output.best_params_"
   ]
  },
  {
   "cell_type": "code",
   "execution_count": 59,
   "metadata": {},
   "outputs": [],
   "source": [
    "rfc_best_model = rfc_output.best_estimator_"
   ]
  },
  {
   "cell_type": "code",
   "execution_count": 60,
   "metadata": {},
   "outputs": [
    {
     "name": "stdout",
     "output_type": "stream",
     "text": [
      "Accuracy Score:\n",
      "Train - 0.8275844868437461\n",
      "Test - 0.7866816311260756\n",
      "  \n",
      "Precision Score:\n",
      "Train - 0.7854959498700902\n",
      "Test - 0.748006379585327\n",
      "  \n",
      "Recall Score: \n",
      "Train - 0.940568239008098\n",
      "Test - 0.9113115891741846\n",
      "  \n",
      "F1 Score: \n",
      "Train - 0.8560661267151096\n",
      "Test - 0.8216229744103111\n",
      "  \n",
      "ROC_AUC: \n",
      "Train - 0.816374699611517\n",
      "Test - 0.7761103400416377\n",
      "  \n",
      "  \n",
      "Confusion matrix for test data\n"
     ]
    },
    {
     "data": {
      "text/plain": [
       "<sklearn.metrics._plot.confusion_matrix.ConfusionMatrixDisplay at 0x7fec7162eb20>"
      ]
     },
     "execution_count": 60,
     "metadata": {},
     "output_type": "execute_result"
    },
    {
     "data": {
      "image/png": "[encoded data removed]",
      "text/plain": [
       "<Figure size 432x288 with 2 Axes>"
      ]
     },
     "metadata": {
      "needs_background": "light"
     },
     "output_type": "display_data"
    }
   ],
   "source": [
    "# Evaluate the model\n",
    "evaluate(rfc_best_model, X_train, y_train, X_val, y_val)"
   ]
  },
  {
   "cell_type": "markdown",
   "metadata": {},
   "source": [
    "#### Catboost"
   ]
  },
  {
   "cell_type": "code",
   "execution_count": 61,
   "metadata": {},
   "outputs": [],
   "source": [
    "from catboost import CatBoostClassifier"
   ]
  },
  {
   "cell_type": "code",
   "execution_count": 62,
   "metadata": {},
   "outputs": [],
   "source": [
    "cbc = Pipeline(steps=[\n",
    "    ('preprocessor', preprocessor),\n",
    "    ('classifier', CatBoostClassifier())])"
   ]
  },
  {
   "cell_type": "code",
   "execution_count": 63,
   "metadata": {},
   "outputs": [
    {
     "name": "stdout",
     "output_type": "stream",
     "text": [
      "Learning rate set to 0.049826\n",
      "0:\tlearn: 0.6746513\ttotal: 74.1ms\tremaining: 1m 14s\n",
      "1:\tlearn: 0.6587996\ttotal: 85.2ms\tremaining: 42.5s\n",
      "2:\tlearn: 0.6448416\ttotal: 94.6ms\tremaining: 31.4s\n",
      "3:\tlearn: 0.6329566\ttotal: 105ms\tremaining: 26s\n",
      "4:\tlearn: 0.6221820\ttotal: 116ms\tremaining: 23.1s\n",
      "5:\tlearn: 0.6146704\ttotal: 127ms\tremaining: 21.1s\n",
      "6:\tlearn: 0.6059508\ttotal: 140ms\tremaining: 19.9s\n",
      "7:\tlearn: 0.5994655\ttotal: 153ms\tremaining: 18.9s\n",
      "8:\tlearn: 0.5917500\ttotal: 165ms\tremaining: 18.1s\n",
      "9:\tlearn: 0.5855488\ttotal: 175ms\tremaining: 17.3s\n",
      "10:\tlearn: 0.5798882\ttotal: 187ms\tremaining: 16.8s\n",
      "11:\tlearn: 0.5753365\ttotal: 200ms\tremaining: 16.4s\n",
      "12:\tlearn: 0.5709314\ttotal: 211ms\tremaining: 16s\n",
      "13:\tlearn: 0.5662230\ttotal: 223ms\tremaining: 15.7s\n",
      "14:\tlearn: 0.5624279\ttotal: 233ms\tremaining: 15.3s\n",
      "15:\tlearn: 0.5589481\ttotal: 244ms\tremaining: 15s\n",
      "16:\tlearn: 0.5561165\ttotal: 256ms\tremaining: 14.8s\n",
      "17:\tlearn: 0.5532814\ttotal: 267ms\tremaining: 14.6s\n",
      "18:\tlearn: 0.5505475\ttotal: 277ms\tremaining: 14.3s\n",
      "19:\tlearn: 0.5477091\ttotal: 288ms\tremaining: 14.1s\n",
      "20:\tlearn: 0.5449323\ttotal: 300ms\tremaining: 14s\n",
      "21:\tlearn: 0.5424661\ttotal: 309ms\tremaining: 13.7s\n",
      "22:\tlearn: 0.5402809\ttotal: 321ms\tremaining: 13.6s\n",
      "23:\tlearn: 0.5380925\ttotal: 330ms\tremaining: 13.4s\n",
      "24:\tlearn: 0.5360979\ttotal: 342ms\tremaining: 13.3s\n",
      "25:\tlearn: 0.5341742\ttotal: 355ms\tremaining: 13.3s\n",
      "26:\tlearn: 0.5322734\ttotal: 367ms\tremaining: 13.2s\n",
      "27:\tlearn: 0.5305421\ttotal: 378ms\tremaining: 13.1s\n",
      "28:\tlearn: 0.5288645\ttotal: 390ms\tremaining: 13s\n",
      "29:\tlearn: 0.5269768\ttotal: 401ms\tremaining: 13s\n",
      "30:\tlearn: 0.5258122\ttotal: 412ms\tremaining: 12.9s\n",
      "31:\tlearn: 0.5243096\ttotal: 426ms\tremaining: 12.9s\n",
      "32:\tlearn: 0.5227289\ttotal: 438ms\tremaining: 12.8s\n",
      "33:\tlearn: 0.5215167\ttotal: 450ms\tremaining: 12.8s\n",
      "34:\tlearn: 0.5202542\ttotal: 465ms\tremaining: 12.8s\n",
      "35:\tlearn: 0.5189059\ttotal: 478ms\tremaining: 12.8s\n",
      "36:\tlearn: 0.5172814\ttotal: 504ms\tremaining: 13.1s\n",
      "37:\tlearn: 0.5163758\ttotal: 515ms\tremaining: 13s\n",
      "38:\tlearn: 0.5153710\ttotal: 527ms\tremaining: 13s\n",
      "39:\tlearn: 0.5140995\ttotal: 538ms\tremaining: 12.9s\n",
      "40:\tlearn: 0.5129100\ttotal: 551ms\tremaining: 12.9s\n",
      "41:\tlearn: 0.5118740\ttotal: 561ms\tremaining: 12.8s\n",
      "42:\tlearn: 0.5102256\ttotal: 573ms\tremaining: 12.7s\n",
      "43:\tlearn: 0.5090059\ttotal: 584ms\tremaining: 12.7s\n",
      "44:\tlearn: 0.5080621\ttotal: 596ms\tremaining: 12.6s\n",
      "45:\tlearn: 0.5071115\ttotal: 608ms\tremaining: 12.6s\n",
      "46:\tlearn: 0.5060023\ttotal: 618ms\tremaining: 12.5s\n",
      "47:\tlearn: 0.5051165\ttotal: 630ms\tremaining: 12.5s\n",
      "48:\tlearn: 0.5042171\ttotal: 643ms\tremaining: 12.5s\n",
      "49:\tlearn: 0.5028518\ttotal: 654ms\tremaining: 12.4s\n",
      "50:\tlearn: 0.5018362\ttotal: 665ms\tremaining: 12.4s\n",
      "51:\tlearn: 0.5005759\ttotal: 675ms\tremaining: 12.3s\n",
      "52:\tlearn: 0.4998820\ttotal: 686ms\tremaining: 12.3s\n",
      "53:\tlearn: 0.4992794\ttotal: 696ms\tremaining: 12.2s\n",
      "54:\tlearn: 0.4985038\ttotal: 706ms\tremaining: 12.1s\n",
      "55:\tlearn: 0.4978291\ttotal: 718ms\tremaining: 12.1s\n",
      "56:\tlearn: 0.4971264\ttotal: 730ms\tremaining: 12.1s\n",
      "57:\tlearn: 0.4965835\ttotal: 741ms\tremaining: 12s\n",
      "58:\tlearn: 0.4959415\ttotal: 752ms\tremaining: 12s\n",
      "59:\tlearn: 0.4951477\ttotal: 764ms\tremaining: 12s\n",
      "60:\tlearn: 0.4944923\ttotal: 779ms\tremaining: 12s\n",
      "61:\tlearn: 0.4938320\ttotal: 794ms\tremaining: 12s\n",
      "62:\tlearn: 0.4934576\ttotal: 806ms\tremaining: 12s\n",
      "63:\tlearn: 0.4926999\ttotal: 818ms\tremaining: 12s\n",
      "64:\tlearn: 0.4919275\ttotal: 831ms\tremaining: 12s\n",
      "65:\tlearn: 0.4910853\ttotal: 844ms\tremaining: 11.9s\n",
      "66:\tlearn: 0.4906485\ttotal: 863ms\tremaining: 12s\n",
      "67:\tlearn: 0.4900517\ttotal: 877ms\tremaining: 12s\n",
      "68:\tlearn: 0.4895035\ttotal: 891ms\tremaining: 12s\n",
      "69:\tlearn: 0.4889007\ttotal: 903ms\tremaining: 12s\n",
      "70:\tlearn: 0.4882623\ttotal: 917ms\tremaining: 12s\n",
      "71:\tlearn: 0.4876567\ttotal: 930ms\tremaining: 12s\n",
      "72:\tlearn: 0.4869666\ttotal: 948ms\tremaining: 12s\n",
      "73:\tlearn: 0.4865036\ttotal: 960ms\tremaining: 12s\n",
      "74:\tlearn: 0.4858444\ttotal: 974ms\tremaining: 12s\n",
      "75:\tlearn: 0.4853795\ttotal: 986ms\tremaining: 12s\n",
      "76:\tlearn: 0.4846607\ttotal: 998ms\tremaining: 12s\n",
      "77:\tlearn: 0.4841513\ttotal: 1.01s\tremaining: 11.9s\n",
      "78:\tlearn: 0.4835594\ttotal: 1.02s\tremaining: 11.9s\n",
      "79:\tlearn: 0.4829151\ttotal: 1.04s\tremaining: 11.9s\n",
      "80:\tlearn: 0.4824100\ttotal: 1.05s\tremaining: 11.9s\n",
      "81:\tlearn: 0.4813890\ttotal: 1.06s\tremaining: 11.9s\n",
      "82:\tlearn: 0.4808646\ttotal: 1.07s\tremaining: 11.9s\n",
      "83:\tlearn: 0.4804408\ttotal: 1.08s\tremaining: 11.8s\n",
      "84:\tlearn: 0.4799927\ttotal: 1.1s\tremaining: 11.8s\n",
      "85:\tlearn: 0.4795874\ttotal: 1.11s\tremaining: 11.8s\n",
      "86:\tlearn: 0.4789503\ttotal: 1.13s\tremaining: 11.8s\n",
      "87:\tlearn: 0.4783644\ttotal: 1.15s\tremaining: 11.9s\n",
      "88:\tlearn: 0.4778938\ttotal: 1.16s\tremaining: 11.9s\n",
      "89:\tlearn: 0.4773643\ttotal: 1.17s\tremaining: 11.9s\n",
      "90:\tlearn: 0.4770381\ttotal: 1.19s\tremaining: 11.8s\n",
      "91:\tlearn: 0.4763664\ttotal: 1.2s\tremaining: 11.8s\n",
      "92:\tlearn: 0.4759604\ttotal: 1.21s\tremaining: 11.8s\n",
      "93:\tlearn: 0.4755245\ttotal: 1.22s\tremaining: 11.8s\n",
      "94:\tlearn: 0.4751393\ttotal: 1.24s\tremaining: 11.8s\n",
      "95:\tlearn: 0.4742838\ttotal: 1.25s\tremaining: 11.8s\n",
      "96:\tlearn: 0.4739119\ttotal: 1.26s\tremaining: 11.7s\n",
      "97:\tlearn: 0.4732438\ttotal: 1.27s\tremaining: 11.7s\n",
      "98:\tlearn: 0.4728118\ttotal: 1.28s\tremaining: 11.7s\n",
      "99:\tlearn: 0.4724954\ttotal: 1.29s\tremaining: 11.7s\n",
      "100:\tlearn: 0.4720951\ttotal: 1.31s\tremaining: 11.6s\n",
      "101:\tlearn: 0.4718006\ttotal: 1.32s\tremaining: 11.6s\n",
      "102:\tlearn: 0.4709952\ttotal: 1.33s\tremaining: 11.6s\n",
      "103:\tlearn: 0.4706323\ttotal: 1.34s\tremaining: 11.6s\n",
      "104:\tlearn: 0.4700681\ttotal: 1.35s\tremaining: 11.5s\n",
      "105:\tlearn: 0.4694232\ttotal: 1.36s\tremaining: 11.5s\n",
      "106:\tlearn: 0.4689294\ttotal: 1.38s\tremaining: 11.5s\n",
      "107:\tlearn: 0.4682173\ttotal: 1.39s\tremaining: 11.5s\n",
      "108:\tlearn: 0.4678247\ttotal: 1.4s\tremaining: 11.4s\n",
      "109:\tlearn: 0.4675279\ttotal: 1.41s\tremaining: 11.4s\n",
      "110:\tlearn: 0.4671346\ttotal: 1.42s\tremaining: 11.4s\n",
      "111:\tlearn: 0.4666910\ttotal: 1.43s\tremaining: 11.4s\n",
      "112:\tlearn: 0.4664733\ttotal: 1.45s\tremaining: 11.3s\n",
      "113:\tlearn: 0.4660560\ttotal: 1.46s\tremaining: 11.3s\n",
      "114:\tlearn: 0.4656309\ttotal: 1.47s\tremaining: 11.3s\n",
      "115:\tlearn: 0.4653708\ttotal: 1.48s\tremaining: 11.3s\n",
      "116:\tlearn: 0.4650236\ttotal: 1.49s\tremaining: 11.3s\n",
      "117:\tlearn: 0.4646627\ttotal: 1.5s\tremaining: 11.3s\n",
      "118:\tlearn: 0.4641776\ttotal: 1.52s\tremaining: 11.2s\n",
      "119:\tlearn: 0.4638147\ttotal: 1.53s\tremaining: 11.2s\n",
      "120:\tlearn: 0.4633609\ttotal: 1.54s\tremaining: 11.2s\n",
      "121:\tlearn: 0.4631284\ttotal: 1.55s\tremaining: 11.2s\n",
      "122:\tlearn: 0.4628962\ttotal: 1.56s\tremaining: 11.2s\n",
      "123:\tlearn: 0.4624712\ttotal: 1.58s\tremaining: 11.1s\n",
      "124:\tlearn: 0.4620689\ttotal: 1.59s\tremaining: 11.1s\n",
      "125:\tlearn: 0.4615934\ttotal: 1.6s\tremaining: 11.1s\n",
      "126:\tlearn: 0.4611542\ttotal: 1.61s\tremaining: 11.1s\n",
      "127:\tlearn: 0.4608258\ttotal: 1.63s\tremaining: 11.1s\n",
      "128:\tlearn: 0.4605104\ttotal: 1.64s\tremaining: 11.1s\n",
      "129:\tlearn: 0.4602619\ttotal: 1.65s\tremaining: 11s\n",
      "130:\tlearn: 0.4600634\ttotal: 1.66s\tremaining: 11s\n",
      "131:\tlearn: 0.4597335\ttotal: 1.67s\tremaining: 11s\n",
      "132:\tlearn: 0.4594671\ttotal: 1.68s\tremaining: 11s\n",
      "133:\tlearn: 0.4590329\ttotal: 1.7s\tremaining: 11s\n",
      "134:\tlearn: 0.4587206\ttotal: 1.71s\tremaining: 10.9s\n",
      "135:\tlearn: 0.4583921\ttotal: 1.72s\tremaining: 10.9s\n",
      "136:\tlearn: 0.4581622\ttotal: 1.73s\tremaining: 10.9s\n",
      "137:\tlearn: 0.4578718\ttotal: 1.74s\tremaining: 10.9s\n",
      "138:\tlearn: 0.4573968\ttotal: 1.75s\tremaining: 10.9s\n",
      "139:\tlearn: 0.4571548\ttotal: 1.76s\tremaining: 10.8s\n",
      "140:\tlearn: 0.4567894\ttotal: 1.77s\tremaining: 10.8s\n",
      "141:\tlearn: 0.4565346\ttotal: 1.78s\tremaining: 10.8s\n",
      "142:\tlearn: 0.4563681\ttotal: 1.8s\tremaining: 10.8s\n",
      "143:\tlearn: 0.4560955\ttotal: 1.81s\tremaining: 10.8s\n",
      "144:\tlearn: 0.4557261\ttotal: 1.82s\tremaining: 10.7s\n",
      "145:\tlearn: 0.4554854\ttotal: 1.83s\tremaining: 10.7s\n",
      "146:\tlearn: 0.4552351\ttotal: 1.84s\tremaining: 10.7s\n",
      "147:\tlearn: 0.4551012\ttotal: 1.85s\tremaining: 10.7s\n",
      "148:\tlearn: 0.4548115\ttotal: 1.87s\tremaining: 10.7s\n",
      "149:\tlearn: 0.4545596\ttotal: 1.88s\tremaining: 10.6s\n",
      "150:\tlearn: 0.4542602\ttotal: 1.89s\tremaining: 10.6s\n",
      "151:\tlearn: 0.4539537\ttotal: 1.91s\tremaining: 10.7s\n",
      "152:\tlearn: 0.4536084\ttotal: 1.92s\tremaining: 10.7s\n",
      "153:\tlearn: 0.4532647\ttotal: 1.94s\tremaining: 10.6s\n",
      "154:\tlearn: 0.4528912\ttotal: 1.95s\tremaining: 10.6s\n",
      "155:\tlearn: 0.4526809\ttotal: 1.96s\tremaining: 10.6s\n",
      "156:\tlearn: 0.4523121\ttotal: 1.97s\tremaining: 10.6s\n",
      "157:\tlearn: 0.4520005\ttotal: 1.99s\tremaining: 10.6s\n",
      "158:\tlearn: 0.4517869\ttotal: 2s\tremaining: 10.6s\n",
      "159:\tlearn: 0.4515635\ttotal: 2.01s\tremaining: 10.5s\n",
      "160:\tlearn: 0.4513651\ttotal: 2.02s\tremaining: 10.5s\n",
      "161:\tlearn: 0.4510702\ttotal: 2.03s\tremaining: 10.5s\n",
      "162:\tlearn: 0.4508485\ttotal: 2.04s\tremaining: 10.5s\n",
      "163:\tlearn: 0.4506202\ttotal: 2.05s\tremaining: 10.5s\n"
     ]
    },
    {
     "name": "stdout",
     "output_type": "stream",
     "text": [
      "164:\tlearn: 0.4501990\ttotal: 2.06s\tremaining: 10.4s\n",
      "165:\tlearn: 0.4498834\ttotal: 2.07s\tremaining: 10.4s\n",
      "166:\tlearn: 0.4496368\ttotal: 2.09s\tremaining: 10.4s\n",
      "167:\tlearn: 0.4492583\ttotal: 2.1s\tremaining: 10.4s\n",
      "168:\tlearn: 0.4490669\ttotal: 2.11s\tremaining: 10.4s\n",
      "169:\tlearn: 0.4488535\ttotal: 2.12s\tremaining: 10.4s\n",
      "170:\tlearn: 0.4485864\ttotal: 2.13s\tremaining: 10.3s\n",
      "171:\tlearn: 0.4483759\ttotal: 2.15s\tremaining: 10.3s\n",
      "172:\tlearn: 0.4481754\ttotal: 2.16s\tremaining: 10.3s\n",
      "173:\tlearn: 0.4479492\ttotal: 2.17s\tremaining: 10.3s\n",
      "174:\tlearn: 0.4476422\ttotal: 2.19s\tremaining: 10.3s\n",
      "175:\tlearn: 0.4471436\ttotal: 2.2s\tremaining: 10.3s\n",
      "176:\tlearn: 0.4469636\ttotal: 2.21s\tremaining: 10.3s\n",
      "177:\tlearn: 0.4467663\ttotal: 2.22s\tremaining: 10.3s\n",
      "178:\tlearn: 0.4466329\ttotal: 2.23s\tremaining: 10.2s\n",
      "179:\tlearn: 0.4465261\ttotal: 2.24s\tremaining: 10.2s\n",
      "180:\tlearn: 0.4461663\ttotal: 2.26s\tremaining: 10.2s\n",
      "181:\tlearn: 0.4458380\ttotal: 2.27s\tremaining: 10.2s\n",
      "182:\tlearn: 0.4456233\ttotal: 2.28s\tremaining: 10.2s\n",
      "183:\tlearn: 0.4453274\ttotal: 2.29s\tremaining: 10.2s\n",
      "184:\tlearn: 0.4451600\ttotal: 2.31s\tremaining: 10.2s\n",
      "185:\tlearn: 0.4447677\ttotal: 2.32s\tremaining: 10.2s\n",
      "186:\tlearn: 0.4444229\ttotal: 2.33s\tremaining: 10.1s\n",
      "187:\tlearn: 0.4441493\ttotal: 2.35s\tremaining: 10.1s\n",
      "188:\tlearn: 0.4439685\ttotal: 2.36s\tremaining: 10.1s\n",
      "189:\tlearn: 0.4437844\ttotal: 2.37s\tremaining: 10.1s\n",
      "190:\tlearn: 0.4435461\ttotal: 2.38s\tremaining: 10.1s\n",
      "191:\tlearn: 0.4432581\ttotal: 2.39s\tremaining: 10.1s\n",
      "192:\tlearn: 0.4431308\ttotal: 2.4s\tremaining: 10.1s\n",
      "193:\tlearn: 0.4429332\ttotal: 2.42s\tremaining: 10.1s\n",
      "194:\tlearn: 0.4427714\ttotal: 2.43s\tremaining: 10s\n",
      "195:\tlearn: 0.4425810\ttotal: 2.44s\tremaining: 10s\n",
      "196:\tlearn: 0.4422600\ttotal: 2.45s\tremaining: 9.99s\n",
      "197:\tlearn: 0.4420978\ttotal: 2.47s\tremaining: 9.99s\n",
      "198:\tlearn: 0.4419362\ttotal: 2.48s\tremaining: 9.99s\n",
      "199:\tlearn: 0.4417654\ttotal: 2.49s\tremaining: 9.98s\n",
      "200:\tlearn: 0.4415464\ttotal: 2.51s\tremaining: 9.96s\n",
      "201:\tlearn: 0.4412793\ttotal: 2.52s\tremaining: 9.95s\n",
      "202:\tlearn: 0.4410954\ttotal: 2.53s\tremaining: 9.94s\n",
      "203:\tlearn: 0.4408833\ttotal: 2.54s\tremaining: 9.93s\n",
      "204:\tlearn: 0.4406670\ttotal: 2.56s\tremaining: 9.91s\n",
      "205:\tlearn: 0.4404106\ttotal: 2.57s\tremaining: 9.9s\n",
      "206:\tlearn: 0.4402338\ttotal: 2.58s\tremaining: 9.88s\n",
      "207:\tlearn: 0.4399841\ttotal: 2.59s\tremaining: 9.88s\n",
      "208:\tlearn: 0.4396871\ttotal: 2.6s\tremaining: 9.86s\n",
      "209:\tlearn: 0.4394898\ttotal: 2.62s\tremaining: 9.85s\n",
      "210:\tlearn: 0.4392347\ttotal: 2.63s\tremaining: 9.84s\n",
      "211:\tlearn: 0.4390976\ttotal: 2.64s\tremaining: 9.82s\n",
      "212:\tlearn: 0.4389307\ttotal: 2.65s\tremaining: 9.81s\n",
      "213:\tlearn: 0.4387510\ttotal: 2.67s\tremaining: 9.79s\n",
      "214:\tlearn: 0.4383652\ttotal: 2.68s\tremaining: 9.77s\n",
      "215:\tlearn: 0.4381952\ttotal: 2.69s\tremaining: 9.76s\n",
      "216:\tlearn: 0.4380001\ttotal: 2.7s\tremaining: 9.75s\n",
      "217:\tlearn: 0.4378024\ttotal: 2.71s\tremaining: 9.73s\n",
      "218:\tlearn: 0.4374802\ttotal: 2.72s\tremaining: 9.71s\n",
      "219:\tlearn: 0.4371927\ttotal: 2.73s\tremaining: 9.69s\n",
      "220:\tlearn: 0.4369765\ttotal: 2.75s\tremaining: 9.69s\n",
      "221:\tlearn: 0.4367059\ttotal: 2.76s\tremaining: 9.68s\n",
      "222:\tlearn: 0.4365010\ttotal: 2.77s\tremaining: 9.65s\n",
      "223:\tlearn: 0.4362575\ttotal: 2.79s\tremaining: 9.65s\n",
      "224:\tlearn: 0.4361189\ttotal: 2.79s\tremaining: 9.63s\n",
      "225:\tlearn: 0.4358625\ttotal: 2.81s\tremaining: 9.61s\n",
      "226:\tlearn: 0.4356120\ttotal: 2.82s\tremaining: 9.61s\n",
      "227:\tlearn: 0.4353718\ttotal: 2.83s\tremaining: 9.59s\n",
      "228:\tlearn: 0.4351887\ttotal: 2.85s\tremaining: 9.58s\n",
      "229:\tlearn: 0.4350160\ttotal: 2.86s\tremaining: 9.57s\n",
      "230:\tlearn: 0.4347043\ttotal: 2.87s\tremaining: 9.56s\n",
      "231:\tlearn: 0.4345138\ttotal: 2.88s\tremaining: 9.55s\n",
      "232:\tlearn: 0.4343089\ttotal: 2.9s\tremaining: 9.54s\n",
      "233:\tlearn: 0.4341796\ttotal: 2.91s\tremaining: 9.53s\n",
      "234:\tlearn: 0.4339761\ttotal: 2.92s\tremaining: 9.51s\n",
      "235:\tlearn: 0.4338181\ttotal: 2.93s\tremaining: 9.49s\n",
      "236:\tlearn: 0.4335529\ttotal: 2.94s\tremaining: 9.48s\n",
      "237:\tlearn: 0.4332254\ttotal: 2.96s\tremaining: 9.47s\n",
      "238:\tlearn: 0.4330419\ttotal: 2.97s\tremaining: 9.45s\n",
      "239:\tlearn: 0.4327062\ttotal: 2.98s\tremaining: 9.44s\n",
      "240:\tlearn: 0.4323454\ttotal: 3s\tremaining: 9.43s\n",
      "241:\tlearn: 0.4320115\ttotal: 3.01s\tremaining: 9.43s\n",
      "242:\tlearn: 0.4317902\ttotal: 3.02s\tremaining: 9.42s\n",
      "243:\tlearn: 0.4315669\ttotal: 3.04s\tremaining: 9.41s\n",
      "244:\tlearn: 0.4313742\ttotal: 3.05s\tremaining: 9.39s\n",
      "245:\tlearn: 0.4310884\ttotal: 3.06s\tremaining: 9.37s\n",
      "246:\tlearn: 0.4308881\ttotal: 3.07s\tremaining: 9.36s\n",
      "247:\tlearn: 0.4306594\ttotal: 3.08s\tremaining: 9.34s\n",
      "248:\tlearn: 0.4305197\ttotal: 3.09s\tremaining: 9.32s\n",
      "249:\tlearn: 0.4302590\ttotal: 3.1s\tremaining: 9.31s\n",
      "250:\tlearn: 0.4300862\ttotal: 3.11s\tremaining: 9.29s\n",
      "251:\tlearn: 0.4298046\ttotal: 3.12s\tremaining: 9.27s\n",
      "252:\tlearn: 0.4295727\ttotal: 3.13s\tremaining: 9.25s\n",
      "253:\tlearn: 0.4293832\ttotal: 3.14s\tremaining: 9.24s\n",
      "254:\tlearn: 0.4291072\ttotal: 3.15s\tremaining: 9.22s\n",
      "255:\tlearn: 0.4288822\ttotal: 3.17s\tremaining: 9.2s\n",
      "256:\tlearn: 0.4286634\ttotal: 3.18s\tremaining: 9.19s\n",
      "257:\tlearn: 0.4284337\ttotal: 3.19s\tremaining: 9.17s\n",
      "258:\tlearn: 0.4280957\ttotal: 3.2s\tremaining: 9.15s\n",
      "259:\tlearn: 0.4279318\ttotal: 3.21s\tremaining: 9.14s\n",
      "260:\tlearn: 0.4276064\ttotal: 3.22s\tremaining: 9.12s\n",
      "261:\tlearn: 0.4272645\ttotal: 3.23s\tremaining: 9.1s\n",
      "262:\tlearn: 0.4271043\ttotal: 3.24s\tremaining: 9.09s\n",
      "263:\tlearn: 0.4269667\ttotal: 3.25s\tremaining: 9.07s\n",
      "264:\tlearn: 0.4267645\ttotal: 3.27s\tremaining: 9.06s\n",
      "265:\tlearn: 0.4264987\ttotal: 3.28s\tremaining: 9.04s\n",
      "266:\tlearn: 0.4262730\ttotal: 3.29s\tremaining: 9.03s\n",
      "267:\tlearn: 0.4260256\ttotal: 3.3s\tremaining: 9.01s\n",
      "268:\tlearn: 0.4258250\ttotal: 3.31s\tremaining: 9s\n",
      "269:\tlearn: 0.4256272\ttotal: 3.32s\tremaining: 8.99s\n",
      "270:\tlearn: 0.4254240\ttotal: 3.33s\tremaining: 8.97s\n",
      "271:\tlearn: 0.4252505\ttotal: 3.35s\tremaining: 8.96s\n",
      "272:\tlearn: 0.4251204\ttotal: 3.36s\tremaining: 8.94s\n",
      "273:\tlearn: 0.4248602\ttotal: 3.37s\tremaining: 8.93s\n",
      "274:\tlearn: 0.4247147\ttotal: 3.38s\tremaining: 8.91s\n",
      "275:\tlearn: 0.4245661\ttotal: 3.39s\tremaining: 8.9s\n",
      "276:\tlearn: 0.4244225\ttotal: 3.41s\tremaining: 8.91s\n",
      "277:\tlearn: 0.4242031\ttotal: 3.46s\tremaining: 8.98s\n",
      "278:\tlearn: 0.4240276\ttotal: 3.5s\tremaining: 9.05s\n",
      "279:\tlearn: 0.4238334\ttotal: 3.53s\tremaining: 9.07s\n",
      "280:\tlearn: 0.4236592\ttotal: 3.54s\tremaining: 9.06s\n",
      "281:\tlearn: 0.4234696\ttotal: 3.55s\tremaining: 9.04s\n",
      "282:\tlearn: 0.4232049\ttotal: 3.56s\tremaining: 9.03s\n",
      "283:\tlearn: 0.4229223\ttotal: 3.58s\tremaining: 9.02s\n",
      "284:\tlearn: 0.4227408\ttotal: 3.59s\tremaining: 9s\n",
      "285:\tlearn: 0.4225349\ttotal: 3.6s\tremaining: 8.99s\n",
      "286:\tlearn: 0.4223932\ttotal: 3.61s\tremaining: 8.97s\n",
      "287:\tlearn: 0.4221982\ttotal: 3.63s\tremaining: 8.96s\n",
      "288:\tlearn: 0.4220197\ttotal: 3.64s\tremaining: 8.96s\n",
      "289:\tlearn: 0.4218312\ttotal: 3.65s\tremaining: 8.94s\n",
      "290:\tlearn: 0.4216446\ttotal: 3.66s\tremaining: 8.93s\n",
      "291:\tlearn: 0.4214758\ttotal: 3.67s\tremaining: 8.91s\n",
      "292:\tlearn: 0.4212760\ttotal: 3.69s\tremaining: 8.89s\n",
      "293:\tlearn: 0.4210427\ttotal: 3.7s\tremaining: 8.88s\n",
      "294:\tlearn: 0.4209075\ttotal: 3.71s\tremaining: 8.87s\n",
      "295:\tlearn: 0.4207252\ttotal: 3.73s\tremaining: 8.86s\n",
      "296:\tlearn: 0.4204114\ttotal: 3.74s\tremaining: 8.85s\n",
      "297:\tlearn: 0.4203897\ttotal: 3.76s\tremaining: 8.85s\n",
      "298:\tlearn: 0.4201744\ttotal: 3.78s\tremaining: 8.86s\n",
      "299:\tlearn: 0.4200503\ttotal: 3.82s\tremaining: 8.91s\n",
      "300:\tlearn: 0.4198794\ttotal: 3.84s\tremaining: 8.91s\n",
      "301:\tlearn: 0.4196706\ttotal: 3.85s\tremaining: 8.89s\n",
      "302:\tlearn: 0.4196510\ttotal: 3.86s\tremaining: 8.87s\n",
      "303:\tlearn: 0.4194908\ttotal: 3.87s\tremaining: 8.86s\n",
      "304:\tlearn: 0.4193242\ttotal: 3.88s\tremaining: 8.84s\n",
      "305:\tlearn: 0.4191441\ttotal: 3.89s\tremaining: 8.83s\n",
      "306:\tlearn: 0.4189183\ttotal: 3.9s\tremaining: 8.81s\n",
      "307:\tlearn: 0.4187010\ttotal: 3.92s\tremaining: 8.8s\n",
      "308:\tlearn: 0.4185463\ttotal: 3.93s\tremaining: 8.79s\n",
      "309:\tlearn: 0.4183201\ttotal: 3.94s\tremaining: 8.77s\n",
      "310:\tlearn: 0.4181202\ttotal: 3.95s\tremaining: 8.75s\n",
      "311:\tlearn: 0.4179651\ttotal: 3.96s\tremaining: 8.74s\n",
      "312:\tlearn: 0.4178619\ttotal: 3.98s\tremaining: 8.72s\n",
      "313:\tlearn: 0.4176246\ttotal: 3.99s\tremaining: 8.71s\n",
      "314:\tlearn: 0.4174575\ttotal: 4s\tremaining: 8.69s\n",
      "315:\tlearn: 0.4172214\ttotal: 4.01s\tremaining: 8.68s\n",
      "316:\tlearn: 0.4170525\ttotal: 4.02s\tremaining: 8.66s\n",
      "317:\tlearn: 0.4168038\ttotal: 4.03s\tremaining: 8.64s\n",
      "318:\tlearn: 0.4167843\ttotal: 4.04s\tremaining: 8.63s\n",
      "319:\tlearn: 0.4165324\ttotal: 4.05s\tremaining: 8.62s\n",
      "320:\tlearn: 0.4163969\ttotal: 4.06s\tremaining: 8.6s\n",
      "321:\tlearn: 0.4162526\ttotal: 4.07s\tremaining: 8.58s\n",
      "322:\tlearn: 0.4162457\ttotal: 4.08s\tremaining: 8.56s\n",
      "323:\tlearn: 0.4160514\ttotal: 4.1s\tremaining: 8.55s\n",
      "324:\tlearn: 0.4158842\ttotal: 4.11s\tremaining: 8.53s\n",
      "325:\tlearn: 0.4158785\ttotal: 4.12s\tremaining: 8.52s\n"
     ]
    },
    {
     "name": "stdout",
     "output_type": "stream",
     "text": [
      "326:\tlearn: 0.4157075\ttotal: 4.13s\tremaining: 8.5s\n",
      "327:\tlearn: 0.4155501\ttotal: 4.14s\tremaining: 8.48s\n",
      "328:\tlearn: 0.4153513\ttotal: 4.15s\tremaining: 8.47s\n",
      "329:\tlearn: 0.4152353\ttotal: 4.16s\tremaining: 8.45s\n",
      "330:\tlearn: 0.4150368\ttotal: 4.17s\tremaining: 8.44s\n",
      "331:\tlearn: 0.4149460\ttotal: 4.19s\tremaining: 8.43s\n",
      "332:\tlearn: 0.4148151\ttotal: 4.2s\tremaining: 8.41s\n",
      "333:\tlearn: 0.4146398\ttotal: 4.21s\tremaining: 8.4s\n",
      "334:\tlearn: 0.4144620\ttotal: 4.22s\tremaining: 8.39s\n",
      "335:\tlearn: 0.4143041\ttotal: 4.24s\tremaining: 8.38s\n",
      "336:\tlearn: 0.4141716\ttotal: 4.25s\tremaining: 8.36s\n",
      "337:\tlearn: 0.4139423\ttotal: 4.26s\tremaining: 8.35s\n",
      "338:\tlearn: 0.4136959\ttotal: 4.27s\tremaining: 8.33s\n",
      "339:\tlearn: 0.4135489\ttotal: 4.28s\tremaining: 8.32s\n",
      "340:\tlearn: 0.4133584\ttotal: 4.3s\tremaining: 8.3s\n",
      "341:\tlearn: 0.4132789\ttotal: 4.31s\tremaining: 8.29s\n",
      "342:\tlearn: 0.4130985\ttotal: 4.32s\tremaining: 8.28s\n",
      "343:\tlearn: 0.4129478\ttotal: 4.33s\tremaining: 8.26s\n",
      "344:\tlearn: 0.4128026\ttotal: 4.34s\tremaining: 8.25s\n",
      "345:\tlearn: 0.4126641\ttotal: 4.35s\tremaining: 8.23s\n",
      "346:\tlearn: 0.4125176\ttotal: 4.37s\tremaining: 8.21s\n",
      "347:\tlearn: 0.4123763\ttotal: 4.38s\tremaining: 8.2s\n",
      "348:\tlearn: 0.4122291\ttotal: 4.39s\tremaining: 8.19s\n",
      "349:\tlearn: 0.4120725\ttotal: 4.4s\tremaining: 8.17s\n",
      "350:\tlearn: 0.4119178\ttotal: 4.41s\tremaining: 8.15s\n",
      "351:\tlearn: 0.4119129\ttotal: 4.42s\tremaining: 8.14s\n",
      "352:\tlearn: 0.4119074\ttotal: 4.43s\tremaining: 8.12s\n",
      "353:\tlearn: 0.4117079\ttotal: 4.44s\tremaining: 8.11s\n",
      "354:\tlearn: 0.4115599\ttotal: 4.45s\tremaining: 8.09s\n",
      "355:\tlearn: 0.4114605\ttotal: 4.47s\tremaining: 8.08s\n",
      "356:\tlearn: 0.4113299\ttotal: 4.48s\tremaining: 8.06s\n",
      "357:\tlearn: 0.4111499\ttotal: 4.49s\tremaining: 8.05s\n",
      "358:\tlearn: 0.4109868\ttotal: 4.5s\tremaining: 8.04s\n",
      "359:\tlearn: 0.4108338\ttotal: 4.52s\tremaining: 8.03s\n",
      "360:\tlearn: 0.4107211\ttotal: 4.53s\tremaining: 8.01s\n",
      "361:\tlearn: 0.4106146\ttotal: 4.54s\tremaining: 8s\n",
      "362:\tlearn: 0.4104552\ttotal: 4.55s\tremaining: 7.99s\n",
      "363:\tlearn: 0.4102664\ttotal: 4.56s\tremaining: 7.97s\n",
      "364:\tlearn: 0.4100270\ttotal: 4.58s\tremaining: 7.96s\n",
      "365:\tlearn: 0.4098520\ttotal: 4.59s\tremaining: 7.95s\n",
      "366:\tlearn: 0.4097339\ttotal: 4.6s\tremaining: 7.93s\n",
      "367:\tlearn: 0.4095815\ttotal: 4.61s\tremaining: 7.91s\n",
      "368:\tlearn: 0.4095783\ttotal: 4.62s\tremaining: 7.9s\n",
      "369:\tlearn: 0.4094540\ttotal: 4.63s\tremaining: 7.88s\n",
      "370:\tlearn: 0.4093367\ttotal: 4.64s\tremaining: 7.87s\n",
      "371:\tlearn: 0.4091979\ttotal: 4.65s\tremaining: 7.86s\n",
      "372:\tlearn: 0.4089980\ttotal: 4.67s\tremaining: 7.84s\n",
      "373:\tlearn: 0.4088423\ttotal: 4.68s\tremaining: 7.83s\n",
      "374:\tlearn: 0.4087127\ttotal: 4.69s\tremaining: 7.81s\n",
      "375:\tlearn: 0.4085912\ttotal: 4.7s\tremaining: 7.8s\n",
      "376:\tlearn: 0.4084806\ttotal: 4.71s\tremaining: 7.79s\n",
      "377:\tlearn: 0.4083709\ttotal: 4.72s\tremaining: 7.77s\n",
      "378:\tlearn: 0.4082038\ttotal: 4.74s\tremaining: 7.76s\n",
      "379:\tlearn: 0.4080351\ttotal: 4.75s\tremaining: 7.74s\n",
      "380:\tlearn: 0.4079321\ttotal: 4.76s\tremaining: 7.73s\n",
      "381:\tlearn: 0.4078243\ttotal: 4.77s\tremaining: 7.72s\n",
      "382:\tlearn: 0.4075978\ttotal: 4.78s\tremaining: 7.7s\n",
      "383:\tlearn: 0.4074918\ttotal: 4.79s\tremaining: 7.69s\n",
      "384:\tlearn: 0.4073659\ttotal: 4.8s\tremaining: 7.67s\n",
      "385:\tlearn: 0.4072326\ttotal: 4.81s\tremaining: 7.66s\n",
      "386:\tlearn: 0.4071120\ttotal: 4.83s\tremaining: 7.65s\n",
      "387:\tlearn: 0.4070062\ttotal: 4.84s\tremaining: 7.64s\n",
      "388:\tlearn: 0.4068835\ttotal: 4.85s\tremaining: 7.62s\n",
      "389:\tlearn: 0.4067594\ttotal: 4.86s\tremaining: 7.61s\n",
      "390:\tlearn: 0.4066169\ttotal: 4.88s\tremaining: 7.59s\n",
      "391:\tlearn: 0.4064563\ttotal: 4.89s\tremaining: 7.58s\n",
      "392:\tlearn: 0.4063184\ttotal: 4.9s\tremaining: 7.57s\n",
      "393:\tlearn: 0.4061580\ttotal: 4.91s\tremaining: 7.55s\n",
      "394:\tlearn: 0.4060089\ttotal: 4.92s\tremaining: 7.54s\n",
      "395:\tlearn: 0.4058416\ttotal: 4.93s\tremaining: 7.53s\n",
      "396:\tlearn: 0.4056647\ttotal: 4.95s\tremaining: 7.51s\n",
      "397:\tlearn: 0.4055283\ttotal: 4.96s\tremaining: 7.5s\n",
      "398:\tlearn: 0.4053883\ttotal: 4.97s\tremaining: 7.49s\n",
      "399:\tlearn: 0.4053008\ttotal: 4.98s\tremaining: 7.47s\n",
      "400:\tlearn: 0.4051450\ttotal: 4.99s\tremaining: 7.46s\n",
      "401:\tlearn: 0.4051404\ttotal: 5s\tremaining: 7.45s\n",
      "402:\tlearn: 0.4049681\ttotal: 5.02s\tremaining: 7.43s\n",
      "403:\tlearn: 0.4048263\ttotal: 5.03s\tremaining: 7.42s\n",
      "404:\tlearn: 0.4048238\ttotal: 5.04s\tremaining: 7.4s\n",
      "405:\tlearn: 0.4046489\ttotal: 5.05s\tremaining: 7.39s\n",
      "406:\tlearn: 0.4045100\ttotal: 5.06s\tremaining: 7.37s\n",
      "407:\tlearn: 0.4043642\ttotal: 5.07s\tremaining: 7.36s\n",
      "408:\tlearn: 0.4042177\ttotal: 5.08s\tremaining: 7.34s\n",
      "409:\tlearn: 0.4040803\ttotal: 5.09s\tremaining: 7.33s\n",
      "410:\tlearn: 0.4039347\ttotal: 5.11s\tremaining: 7.32s\n",
      "411:\tlearn: 0.4037491\ttotal: 5.12s\tremaining: 7.3s\n",
      "412:\tlearn: 0.4036665\ttotal: 5.13s\tremaining: 7.29s\n",
      "413:\tlearn: 0.4036253\ttotal: 5.14s\tremaining: 7.28s\n",
      "414:\tlearn: 0.4033818\ttotal: 5.15s\tremaining: 7.26s\n",
      "415:\tlearn: 0.4032331\ttotal: 5.16s\tremaining: 7.25s\n",
      "416:\tlearn: 0.4030671\ttotal: 5.17s\tremaining: 7.23s\n",
      "417:\tlearn: 0.4029774\ttotal: 5.18s\tremaining: 7.22s\n",
      "418:\tlearn: 0.4027618\ttotal: 5.19s\tremaining: 7.2s\n",
      "419:\tlearn: 0.4025894\ttotal: 5.21s\tremaining: 7.19s\n",
      "420:\tlearn: 0.4024532\ttotal: 5.22s\tremaining: 7.17s\n",
      "421:\tlearn: 0.4023185\ttotal: 5.23s\tremaining: 7.16s\n",
      "422:\tlearn: 0.4021347\ttotal: 5.24s\tremaining: 7.15s\n",
      "423:\tlearn: 0.4021306\ttotal: 5.25s\tremaining: 7.13s\n",
      "424:\tlearn: 0.4019559\ttotal: 5.26s\tremaining: 7.12s\n",
      "425:\tlearn: 0.4018296\ttotal: 5.27s\tremaining: 7.1s\n",
      "426:\tlearn: 0.4017460\ttotal: 5.28s\tremaining: 7.09s\n",
      "427:\tlearn: 0.4016531\ttotal: 5.3s\tremaining: 7.08s\n",
      "428:\tlearn: 0.4015515\ttotal: 5.32s\tremaining: 7.08s\n",
      "429:\tlearn: 0.4014211\ttotal: 5.33s\tremaining: 7.06s\n",
      "430:\tlearn: 0.4012368\ttotal: 5.34s\tremaining: 7.04s\n",
      "431:\tlearn: 0.4011204\ttotal: 5.35s\tremaining: 7.03s\n",
      "432:\tlearn: 0.4010069\ttotal: 5.36s\tremaining: 7.02s\n",
      "433:\tlearn: 0.4008732\ttotal: 5.37s\tremaining: 7s\n",
      "434:\tlearn: 0.4007256\ttotal: 5.38s\tremaining: 6.99s\n",
      "435:\tlearn: 0.4005361\ttotal: 5.39s\tremaining: 6.98s\n",
      "436:\tlearn: 0.4004197\ttotal: 5.4s\tremaining: 6.96s\n",
      "437:\tlearn: 0.4003320\ttotal: 5.42s\tremaining: 6.95s\n",
      "438:\tlearn: 0.4001967\ttotal: 5.43s\tremaining: 6.93s\n",
      "439:\tlearn: 0.4000872\ttotal: 5.44s\tremaining: 6.92s\n",
      "440:\tlearn: 0.3999154\ttotal: 5.45s\tremaining: 6.91s\n",
      "441:\tlearn: 0.3997552\ttotal: 5.46s\tremaining: 6.89s\n",
      "442:\tlearn: 0.3995953\ttotal: 5.47s\tremaining: 6.88s\n",
      "443:\tlearn: 0.3994772\ttotal: 5.48s\tremaining: 6.87s\n",
      "444:\tlearn: 0.3993713\ttotal: 5.5s\tremaining: 6.85s\n",
      "445:\tlearn: 0.3992849\ttotal: 5.51s\tremaining: 6.84s\n",
      "446:\tlearn: 0.3991880\ttotal: 5.52s\tremaining: 6.83s\n",
      "447:\tlearn: 0.3990784\ttotal: 5.53s\tremaining: 6.82s\n",
      "448:\tlearn: 0.3989641\ttotal: 5.54s\tremaining: 6.8s\n",
      "449:\tlearn: 0.3987946\ttotal: 5.55s\tremaining: 6.79s\n",
      "450:\tlearn: 0.3986682\ttotal: 5.57s\tremaining: 6.78s\n",
      "451:\tlearn: 0.3985295\ttotal: 5.58s\tremaining: 6.76s\n",
      "452:\tlearn: 0.3983969\ttotal: 5.59s\tremaining: 6.75s\n",
      "453:\tlearn: 0.3982698\ttotal: 5.6s\tremaining: 6.73s\n",
      "454:\tlearn: 0.3981680\ttotal: 5.61s\tremaining: 6.71s\n",
      "455:\tlearn: 0.3980009\ttotal: 5.62s\tremaining: 6.7s\n",
      "456:\tlearn: 0.3978927\ttotal: 5.63s\tremaining: 6.69s\n",
      "457:\tlearn: 0.3977704\ttotal: 5.64s\tremaining: 6.67s\n",
      "458:\tlearn: 0.3976106\ttotal: 5.65s\tremaining: 6.66s\n",
      "459:\tlearn: 0.3974936\ttotal: 5.66s\tremaining: 6.64s\n",
      "460:\tlearn: 0.3973361\ttotal: 5.67s\tremaining: 6.63s\n",
      "461:\tlearn: 0.3972200\ttotal: 5.68s\tremaining: 6.62s\n",
      "462:\tlearn: 0.3971462\ttotal: 5.69s\tremaining: 6.6s\n",
      "463:\tlearn: 0.3970294\ttotal: 5.7s\tremaining: 6.59s\n",
      "464:\tlearn: 0.3969434\ttotal: 5.71s\tremaining: 6.58s\n",
      "465:\tlearn: 0.3968465\ttotal: 5.73s\tremaining: 6.56s\n",
      "466:\tlearn: 0.3966961\ttotal: 5.74s\tremaining: 6.55s\n",
      "467:\tlearn: 0.3966051\ttotal: 5.75s\tremaining: 6.53s\n",
      "468:\tlearn: 0.3964781\ttotal: 5.76s\tremaining: 6.52s\n",
      "469:\tlearn: 0.3963485\ttotal: 5.77s\tremaining: 6.51s\n",
      "470:\tlearn: 0.3962722\ttotal: 5.79s\tremaining: 6.5s\n",
      "471:\tlearn: 0.3961586\ttotal: 5.8s\tremaining: 6.48s\n",
      "472:\tlearn: 0.3960419\ttotal: 5.81s\tremaining: 6.47s\n",
      "473:\tlearn: 0.3959260\ttotal: 5.82s\tremaining: 6.46s\n",
      "474:\tlearn: 0.3957928\ttotal: 5.83s\tremaining: 6.44s\n",
      "475:\tlearn: 0.3956848\ttotal: 5.84s\tremaining: 6.43s\n",
      "476:\tlearn: 0.3955856\ttotal: 5.85s\tremaining: 6.42s\n",
      "477:\tlearn: 0.3954208\ttotal: 5.87s\tremaining: 6.41s\n",
      "478:\tlearn: 0.3953333\ttotal: 5.88s\tremaining: 6.39s\n",
      "479:\tlearn: 0.3952700\ttotal: 5.89s\tremaining: 6.38s\n",
      "480:\tlearn: 0.3951896\ttotal: 5.9s\tremaining: 6.36s\n",
      "481:\tlearn: 0.3950619\ttotal: 5.91s\tremaining: 6.35s\n",
      "482:\tlearn: 0.3949209\ttotal: 5.92s\tremaining: 6.33s\n",
      "483:\tlearn: 0.3947907\ttotal: 5.93s\tremaining: 6.32s\n",
      "484:\tlearn: 0.3946906\ttotal: 5.94s\tremaining: 6.31s\n",
      "485:\tlearn: 0.3945510\ttotal: 5.95s\tremaining: 6.3s\n"
     ]
    },
    {
     "name": "stdout",
     "output_type": "stream",
     "text": [
      "486:\tlearn: 0.3944211\ttotal: 5.96s\tremaining: 6.28s\n",
      "487:\tlearn: 0.3942983\ttotal: 5.97s\tremaining: 6.27s\n",
      "488:\tlearn: 0.3941615\ttotal: 5.99s\tremaining: 6.25s\n",
      "489:\tlearn: 0.3941007\ttotal: 6s\tremaining: 6.24s\n",
      "490:\tlearn: 0.3939660\ttotal: 6.01s\tremaining: 6.23s\n",
      "491:\tlearn: 0.3937942\ttotal: 6.02s\tremaining: 6.21s\n",
      "492:\tlearn: 0.3936585\ttotal: 6.03s\tremaining: 6.2s\n",
      "493:\tlearn: 0.3935973\ttotal: 6.04s\tremaining: 6.19s\n",
      "494:\tlearn: 0.3934967\ttotal: 6.05s\tremaining: 6.17s\n",
      "495:\tlearn: 0.3934025\ttotal: 6.06s\tremaining: 6.16s\n",
      "496:\tlearn: 0.3932283\ttotal: 6.08s\tremaining: 6.15s\n",
      "497:\tlearn: 0.3931600\ttotal: 6.09s\tremaining: 6.14s\n",
      "498:\tlearn: 0.3930688\ttotal: 6.1s\tremaining: 6.13s\n",
      "499:\tlearn: 0.3929156\ttotal: 6.11s\tremaining: 6.11s\n",
      "500:\tlearn: 0.3928178\ttotal: 6.12s\tremaining: 6.1s\n",
      "501:\tlearn: 0.3927486\ttotal: 6.13s\tremaining: 6.08s\n",
      "502:\tlearn: 0.3925755\ttotal: 6.15s\tremaining: 6.07s\n",
      "503:\tlearn: 0.3925719\ttotal: 6.16s\tremaining: 6.06s\n",
      "504:\tlearn: 0.3924774\ttotal: 6.17s\tremaining: 6.04s\n",
      "505:\tlearn: 0.3923003\ttotal: 6.18s\tremaining: 6.03s\n",
      "506:\tlearn: 0.3922147\ttotal: 6.19s\tremaining: 6.02s\n",
      "507:\tlearn: 0.3920902\ttotal: 6.2s\tremaining: 6.01s\n",
      "508:\tlearn: 0.3920166\ttotal: 6.21s\tremaining: 5.99s\n",
      "509:\tlearn: 0.3918794\ttotal: 6.22s\tremaining: 5.98s\n",
      "510:\tlearn: 0.3917722\ttotal: 6.24s\tremaining: 5.97s\n",
      "511:\tlearn: 0.3916117\ttotal: 6.25s\tremaining: 5.95s\n",
      "512:\tlearn: 0.3915180\ttotal: 6.26s\tremaining: 5.94s\n",
      "513:\tlearn: 0.3913748\ttotal: 6.27s\tremaining: 5.93s\n",
      "514:\tlearn: 0.3912386\ttotal: 6.28s\tremaining: 5.92s\n",
      "515:\tlearn: 0.3911367\ttotal: 6.3s\tremaining: 5.91s\n",
      "516:\tlearn: 0.3909820\ttotal: 6.31s\tremaining: 5.89s\n",
      "517:\tlearn: 0.3908727\ttotal: 6.32s\tremaining: 5.88s\n",
      "518:\tlearn: 0.3907963\ttotal: 6.33s\tremaining: 5.87s\n",
      "519:\tlearn: 0.3906870\ttotal: 6.34s\tremaining: 5.86s\n",
      "520:\tlearn: 0.3906480\ttotal: 6.36s\tremaining: 5.84s\n",
      "521:\tlearn: 0.3905161\ttotal: 6.38s\tremaining: 5.84s\n",
      "522:\tlearn: 0.3904371\ttotal: 6.39s\tremaining: 5.83s\n",
      "523:\tlearn: 0.3902748\ttotal: 6.4s\tremaining: 5.81s\n",
      "524:\tlearn: 0.3901998\ttotal: 6.41s\tremaining: 5.8s\n",
      "525:\tlearn: 0.3901191\ttotal: 6.42s\tremaining: 5.79s\n",
      "526:\tlearn: 0.3899801\ttotal: 6.43s\tremaining: 5.77s\n",
      "527:\tlearn: 0.3898735\ttotal: 6.45s\tremaining: 5.76s\n",
      "528:\tlearn: 0.3898706\ttotal: 6.46s\tremaining: 5.75s\n",
      "529:\tlearn: 0.3897596\ttotal: 6.47s\tremaining: 5.74s\n",
      "530:\tlearn: 0.3895760\ttotal: 6.48s\tremaining: 5.72s\n",
      "531:\tlearn: 0.3894921\ttotal: 6.49s\tremaining: 5.71s\n",
      "532:\tlearn: 0.3894017\ttotal: 6.5s\tremaining: 5.7s\n",
      "533:\tlearn: 0.3892979\ttotal: 6.52s\tremaining: 5.69s\n",
      "534:\tlearn: 0.3892345\ttotal: 6.53s\tremaining: 5.67s\n",
      "535:\tlearn: 0.3891547\ttotal: 6.54s\tremaining: 5.66s\n",
      "536:\tlearn: 0.3890172\ttotal: 6.55s\tremaining: 5.65s\n",
      "537:\tlearn: 0.3888759\ttotal: 6.56s\tremaining: 5.64s\n",
      "538:\tlearn: 0.3888012\ttotal: 6.58s\tremaining: 5.62s\n",
      "539:\tlearn: 0.3887865\ttotal: 6.58s\tremaining: 5.61s\n",
      "540:\tlearn: 0.3886882\ttotal: 6.59s\tremaining: 5.59s\n",
      "541:\tlearn: 0.3885805\ttotal: 6.61s\tremaining: 5.58s\n",
      "542:\tlearn: 0.3884921\ttotal: 6.62s\tremaining: 5.57s\n",
      "543:\tlearn: 0.3883748\ttotal: 6.63s\tremaining: 5.56s\n",
      "544:\tlearn: 0.3883029\ttotal: 6.64s\tremaining: 5.54s\n",
      "545:\tlearn: 0.3882758\ttotal: 6.65s\tremaining: 5.53s\n",
      "546:\tlearn: 0.3881873\ttotal: 6.67s\tremaining: 5.52s\n",
      "547:\tlearn: 0.3881401\ttotal: 6.68s\tremaining: 5.51s\n",
      "548:\tlearn: 0.3880642\ttotal: 6.69s\tremaining: 5.5s\n",
      "549:\tlearn: 0.3879905\ttotal: 6.71s\tremaining: 5.49s\n",
      "550:\tlearn: 0.3878585\ttotal: 6.72s\tremaining: 5.47s\n",
      "551:\tlearn: 0.3877535\ttotal: 6.73s\tremaining: 5.46s\n",
      "552:\tlearn: 0.3876318\ttotal: 6.74s\tremaining: 5.45s\n",
      "553:\tlearn: 0.3875480\ttotal: 6.75s\tremaining: 5.44s\n",
      "554:\tlearn: 0.3874669\ttotal: 6.77s\tremaining: 5.42s\n",
      "555:\tlearn: 0.3873692\ttotal: 6.78s\tremaining: 5.41s\n",
      "556:\tlearn: 0.3872804\ttotal: 6.79s\tremaining: 5.4s\n",
      "557:\tlearn: 0.3871907\ttotal: 6.8s\tremaining: 5.39s\n",
      "558:\tlearn: 0.3871266\ttotal: 6.81s\tremaining: 5.37s\n",
      "559:\tlearn: 0.3870007\ttotal: 6.82s\tremaining: 5.36s\n",
      "560:\tlearn: 0.3868973\ttotal: 6.83s\tremaining: 5.35s\n",
      "561:\tlearn: 0.3867936\ttotal: 6.84s\tremaining: 5.33s\n",
      "562:\tlearn: 0.3867186\ttotal: 6.86s\tremaining: 5.32s\n",
      "563:\tlearn: 0.3866592\ttotal: 6.87s\tremaining: 5.31s\n",
      "564:\tlearn: 0.3864811\ttotal: 6.88s\tremaining: 5.29s\n",
      "565:\tlearn: 0.3863541\ttotal: 6.89s\tremaining: 5.28s\n",
      "566:\tlearn: 0.3862784\ttotal: 6.9s\tremaining: 5.27s\n",
      "567:\tlearn: 0.3861703\ttotal: 6.91s\tremaining: 5.26s\n",
      "568:\tlearn: 0.3860675\ttotal: 6.92s\tremaining: 5.24s\n",
      "569:\tlearn: 0.3859889\ttotal: 6.93s\tremaining: 5.23s\n",
      "570:\tlearn: 0.3859198\ttotal: 6.94s\tremaining: 5.22s\n",
      "571:\tlearn: 0.3857570\ttotal: 6.96s\tremaining: 5.21s\n",
      "572:\tlearn: 0.3856424\ttotal: 6.97s\tremaining: 5.19s\n",
      "573:\tlearn: 0.3855172\ttotal: 6.98s\tremaining: 5.18s\n",
      "574:\tlearn: 0.3853659\ttotal: 6.99s\tremaining: 5.17s\n",
      "575:\tlearn: 0.3852390\ttotal: 7s\tremaining: 5.16s\n",
      "576:\tlearn: 0.3851045\ttotal: 7.02s\tremaining: 5.15s\n",
      "577:\tlearn: 0.3850169\ttotal: 7.03s\tremaining: 5.13s\n",
      "578:\tlearn: 0.3849532\ttotal: 7.04s\tremaining: 5.12s\n",
      "579:\tlearn: 0.3848649\ttotal: 7.06s\tremaining: 5.11s\n",
      "580:\tlearn: 0.3847657\ttotal: 7.07s\tremaining: 5.1s\n",
      "581:\tlearn: 0.3847057\ttotal: 7.08s\tremaining: 5.08s\n",
      "582:\tlearn: 0.3845148\ttotal: 7.09s\tremaining: 5.08s\n",
      "583:\tlearn: 0.3844243\ttotal: 7.11s\tremaining: 5.06s\n",
      "584:\tlearn: 0.3843157\ttotal: 7.12s\tremaining: 5.05s\n",
      "585:\tlearn: 0.3842010\ttotal: 7.13s\tremaining: 5.04s\n",
      "586:\tlearn: 0.3840484\ttotal: 7.14s\tremaining: 5.02s\n",
      "587:\tlearn: 0.3839220\ttotal: 7.15s\tremaining: 5.01s\n",
      "588:\tlearn: 0.3838092\ttotal: 7.17s\tremaining: 5s\n",
      "589:\tlearn: 0.3837540\ttotal: 7.18s\tremaining: 4.99s\n",
      "590:\tlearn: 0.3836591\ttotal: 7.19s\tremaining: 4.98s\n",
      "591:\tlearn: 0.3835411\ttotal: 7.2s\tremaining: 4.96s\n",
      "592:\tlearn: 0.3834537\ttotal: 7.22s\tremaining: 4.95s\n",
      "593:\tlearn: 0.3833204\ttotal: 7.23s\tremaining: 4.94s\n",
      "594:\tlearn: 0.3833136\ttotal: 7.24s\tremaining: 4.93s\n",
      "595:\tlearn: 0.3832733\ttotal: 7.25s\tremaining: 4.92s\n",
      "596:\tlearn: 0.3831559\ttotal: 7.26s\tremaining: 4.9s\n",
      "597:\tlearn: 0.3830654\ttotal: 7.27s\tremaining: 4.89s\n",
      "598:\tlearn: 0.3829685\ttotal: 7.29s\tremaining: 4.88s\n",
      "599:\tlearn: 0.3828852\ttotal: 7.3s\tremaining: 4.86s\n",
      "600:\tlearn: 0.3827770\ttotal: 7.31s\tremaining: 4.85s\n",
      "601:\tlearn: 0.3826709\ttotal: 7.32s\tremaining: 4.84s\n",
      "602:\tlearn: 0.3825872\ttotal: 7.33s\tremaining: 4.83s\n",
      "603:\tlearn: 0.3825348\ttotal: 7.35s\tremaining: 4.82s\n",
      "604:\tlearn: 0.3823924\ttotal: 7.36s\tremaining: 4.8s\n",
      "605:\tlearn: 0.3822949\ttotal: 7.37s\tremaining: 4.79s\n",
      "606:\tlearn: 0.3821917\ttotal: 7.38s\tremaining: 4.78s\n",
      "607:\tlearn: 0.3820626\ttotal: 7.39s\tremaining: 4.77s\n",
      "608:\tlearn: 0.3819654\ttotal: 7.41s\tremaining: 4.75s\n",
      "609:\tlearn: 0.3818280\ttotal: 7.42s\tremaining: 4.74s\n",
      "610:\tlearn: 0.3816949\ttotal: 7.43s\tremaining: 4.73s\n",
      "611:\tlearn: 0.3816233\ttotal: 7.44s\tremaining: 4.71s\n",
      "612:\tlearn: 0.3814845\ttotal: 7.45s\tremaining: 4.7s\n",
      "613:\tlearn: 0.3813515\ttotal: 7.46s\tremaining: 4.69s\n",
      "614:\tlearn: 0.3813490\ttotal: 7.47s\tremaining: 4.68s\n",
      "615:\tlearn: 0.3812421\ttotal: 7.48s\tremaining: 4.66s\n",
      "616:\tlearn: 0.3811790\ttotal: 7.49s\tremaining: 4.65s\n",
      "617:\tlearn: 0.3810662\ttotal: 7.5s\tremaining: 4.64s\n",
      "618:\tlearn: 0.3809689\ttotal: 7.51s\tremaining: 4.63s\n",
      "619:\tlearn: 0.3809610\ttotal: 7.53s\tremaining: 4.61s\n",
      "620:\tlearn: 0.3808697\ttotal: 7.54s\tremaining: 4.6s\n",
      "621:\tlearn: 0.3807964\ttotal: 7.55s\tremaining: 4.59s\n",
      "622:\tlearn: 0.3807018\ttotal: 7.56s\tremaining: 4.58s\n",
      "623:\tlearn: 0.3805865\ttotal: 7.57s\tremaining: 4.56s\n",
      "624:\tlearn: 0.3804733\ttotal: 7.58s\tremaining: 4.55s\n",
      "625:\tlearn: 0.3804195\ttotal: 7.59s\tremaining: 4.54s\n",
      "626:\tlearn: 0.3803509\ttotal: 7.61s\tremaining: 4.53s\n",
      "627:\tlearn: 0.3802211\ttotal: 7.62s\tremaining: 4.51s\n",
      "628:\tlearn: 0.3801206\ttotal: 7.63s\tremaining: 4.5s\n",
      "629:\tlearn: 0.3799932\ttotal: 7.64s\tremaining: 4.49s\n",
      "630:\tlearn: 0.3798732\ttotal: 7.65s\tremaining: 4.47s\n",
      "631:\tlearn: 0.3797439\ttotal: 7.66s\tremaining: 4.46s\n",
      "632:\tlearn: 0.3796756\ttotal: 7.68s\tremaining: 4.45s\n",
      "633:\tlearn: 0.3795309\ttotal: 7.69s\tremaining: 4.44s\n",
      "634:\tlearn: 0.3794189\ttotal: 7.7s\tremaining: 4.43s\n",
      "635:\tlearn: 0.3794125\ttotal: 7.71s\tremaining: 4.42s\n",
      "636:\tlearn: 0.3793269\ttotal: 7.73s\tremaining: 4.4s\n",
      "637:\tlearn: 0.3792787\ttotal: 7.74s\tremaining: 4.39s\n",
      "638:\tlearn: 0.3791938\ttotal: 7.75s\tremaining: 4.38s\n",
      "639:\tlearn: 0.3790667\ttotal: 7.76s\tremaining: 4.36s\n",
      "640:\tlearn: 0.3789429\ttotal: 7.77s\tremaining: 4.35s\n",
      "641:\tlearn: 0.3788593\ttotal: 7.78s\tremaining: 4.34s\n",
      "642:\tlearn: 0.3787869\ttotal: 7.79s\tremaining: 4.33s\n",
      "643:\tlearn: 0.3787102\ttotal: 7.8s\tremaining: 4.31s\n",
      "644:\tlearn: 0.3785720\ttotal: 7.82s\tremaining: 4.3s\n",
      "645:\tlearn: 0.3784581\ttotal: 7.83s\tremaining: 4.29s\n",
      "646:\tlearn: 0.3784112\ttotal: 7.84s\tremaining: 4.28s\n",
      "647:\tlearn: 0.3783362\ttotal: 7.85s\tremaining: 4.26s\n",
      "648:\tlearn: 0.3782039\ttotal: 7.86s\tremaining: 4.25s\n",
      "649:\tlearn: 0.3780850\ttotal: 7.87s\tremaining: 4.24s\n",
      "650:\tlearn: 0.3780024\ttotal: 7.88s\tremaining: 4.22s\n",
      "651:\tlearn: 0.3779274\ttotal: 7.89s\tremaining: 4.21s\n",
      "652:\tlearn: 0.3778583\ttotal: 7.9s\tremaining: 4.2s\n",
      "653:\tlearn: 0.3777066\ttotal: 7.92s\tremaining: 4.19s\n",
      "654:\tlearn: 0.3776343\ttotal: 7.93s\tremaining: 4.17s\n",
      "655:\tlearn: 0.3775721\ttotal: 7.94s\tremaining: 4.16s\n",
      "656:\tlearn: 0.3774944\ttotal: 7.95s\tremaining: 4.15s\n",
      "657:\tlearn: 0.3774019\ttotal: 7.96s\tremaining: 4.14s\n",
      "658:\tlearn: 0.3773002\ttotal: 7.97s\tremaining: 4.13s\n",
      "659:\tlearn: 0.3771918\ttotal: 7.98s\tremaining: 4.11s\n",
      "660:\tlearn: 0.3771338\ttotal: 7.99s\tremaining: 4.1s\n",
      "661:\tlearn: 0.3770770\ttotal: 8.01s\tremaining: 4.09s\n"
     ]
    },
    {
     "name": "stdout",
     "output_type": "stream",
     "text": [
      "662:\tlearn: 0.3769924\ttotal: 8.02s\tremaining: 4.07s\n",
      "663:\tlearn: 0.3768845\ttotal: 8.03s\tremaining: 4.06s\n",
      "664:\tlearn: 0.3768321\ttotal: 8.04s\tremaining: 4.05s\n",
      "665:\tlearn: 0.3767178\ttotal: 8.05s\tremaining: 4.04s\n",
      "666:\tlearn: 0.3766383\ttotal: 8.06s\tremaining: 4.03s\n",
      "667:\tlearn: 0.3765341\ttotal: 8.07s\tremaining: 4.01s\n",
      "668:\tlearn: 0.3764000\ttotal: 8.09s\tremaining: 4s\n",
      "669:\tlearn: 0.3763219\ttotal: 8.1s\tremaining: 3.99s\n",
      "670:\tlearn: 0.3762151\ttotal: 8.11s\tremaining: 3.98s\n",
      "671:\tlearn: 0.3761431\ttotal: 8.12s\tremaining: 3.96s\n",
      "672:\tlearn: 0.3760021\ttotal: 8.13s\tremaining: 3.95s\n",
      "673:\tlearn: 0.3759398\ttotal: 8.14s\tremaining: 3.94s\n",
      "674:\tlearn: 0.3758760\ttotal: 8.15s\tremaining: 3.92s\n",
      "675:\tlearn: 0.3757863\ttotal: 8.16s\tremaining: 3.91s\n",
      "676:\tlearn: 0.3757317\ttotal: 8.18s\tremaining: 3.9s\n",
      "677:\tlearn: 0.3756328\ttotal: 8.19s\tremaining: 3.89s\n",
      "678:\tlearn: 0.3755601\ttotal: 8.2s\tremaining: 3.88s\n",
      "679:\tlearn: 0.3755003\ttotal: 8.21s\tremaining: 3.86s\n",
      "680:\tlearn: 0.3754164\ttotal: 8.22s\tremaining: 3.85s\n",
      "681:\tlearn: 0.3753142\ttotal: 8.23s\tremaining: 3.84s\n",
      "682:\tlearn: 0.3752237\ttotal: 8.24s\tremaining: 3.83s\n",
      "683:\tlearn: 0.3751099\ttotal: 8.26s\tremaining: 3.81s\n",
      "684:\tlearn: 0.3749913\ttotal: 8.27s\tremaining: 3.8s\n",
      "685:\tlearn: 0.3749377\ttotal: 8.28s\tremaining: 3.79s\n",
      "686:\tlearn: 0.3748228\ttotal: 8.29s\tremaining: 3.78s\n",
      "687:\tlearn: 0.3746986\ttotal: 8.3s\tremaining: 3.77s\n",
      "688:\tlearn: 0.3745835\ttotal: 8.32s\tremaining: 3.75s\n",
      "689:\tlearn: 0.3744852\ttotal: 8.33s\tremaining: 3.74s\n",
      "690:\tlearn: 0.3743656\ttotal: 8.34s\tremaining: 3.73s\n",
      "691:\tlearn: 0.3742828\ttotal: 8.35s\tremaining: 3.72s\n",
      "692:\tlearn: 0.3741997\ttotal: 8.36s\tremaining: 3.71s\n",
      "693:\tlearn: 0.3741144\ttotal: 8.38s\tremaining: 3.69s\n",
      "694:\tlearn: 0.3740624\ttotal: 8.39s\tremaining: 3.68s\n",
      "695:\tlearn: 0.3739633\ttotal: 8.4s\tremaining: 3.67s\n",
      "696:\tlearn: 0.3738843\ttotal: 8.41s\tremaining: 3.65s\n",
      "697:\tlearn: 0.3737492\ttotal: 8.42s\tremaining: 3.64s\n",
      "698:\tlearn: 0.3736640\ttotal: 8.43s\tremaining: 3.63s\n",
      "699:\tlearn: 0.3736184\ttotal: 8.44s\tremaining: 3.62s\n",
      "700:\tlearn: 0.3735213\ttotal: 8.45s\tremaining: 3.6s\n",
      "701:\tlearn: 0.3734698\ttotal: 8.46s\tremaining: 3.59s\n",
      "702:\tlearn: 0.3733136\ttotal: 8.47s\tremaining: 3.58s\n",
      "703:\tlearn: 0.3732503\ttotal: 8.49s\tremaining: 3.57s\n",
      "704:\tlearn: 0.3731267\ttotal: 8.5s\tremaining: 3.56s\n",
      "705:\tlearn: 0.3730625\ttotal: 8.51s\tremaining: 3.54s\n",
      "706:\tlearn: 0.3729307\ttotal: 8.52s\tremaining: 3.53s\n",
      "707:\tlearn: 0.3728771\ttotal: 8.53s\tremaining: 3.52s\n",
      "708:\tlearn: 0.3728011\ttotal: 8.54s\tremaining: 3.51s\n",
      "709:\tlearn: 0.3726940\ttotal: 8.55s\tremaining: 3.49s\n",
      "710:\tlearn: 0.3726235\ttotal: 8.57s\tremaining: 3.48s\n",
      "711:\tlearn: 0.3725772\ttotal: 8.58s\tremaining: 3.47s\n",
      "712:\tlearn: 0.3724954\ttotal: 8.59s\tremaining: 3.46s\n",
      "713:\tlearn: 0.3724079\ttotal: 8.6s\tremaining: 3.45s\n",
      "714:\tlearn: 0.3723175\ttotal: 8.62s\tremaining: 3.43s\n",
      "715:\tlearn: 0.3722392\ttotal: 8.63s\tremaining: 3.42s\n",
      "716:\tlearn: 0.3721505\ttotal: 8.64s\tremaining: 3.41s\n",
      "717:\tlearn: 0.3720614\ttotal: 8.66s\tremaining: 3.4s\n",
      "718:\tlearn: 0.3719800\ttotal: 8.67s\tremaining: 3.39s\n",
      "719:\tlearn: 0.3719147\ttotal: 8.68s\tremaining: 3.38s\n",
      "720:\tlearn: 0.3718121\ttotal: 8.7s\tremaining: 3.37s\n",
      "721:\tlearn: 0.3716992\ttotal: 8.71s\tremaining: 3.35s\n",
      "722:\tlearn: 0.3716373\ttotal: 8.72s\tremaining: 3.34s\n",
      "723:\tlearn: 0.3716255\ttotal: 8.73s\tremaining: 3.33s\n",
      "724:\tlearn: 0.3715632\ttotal: 8.74s\tremaining: 3.32s\n",
      "725:\tlearn: 0.3714792\ttotal: 8.76s\tremaining: 3.31s\n",
      "726:\tlearn: 0.3713893\ttotal: 8.77s\tremaining: 3.29s\n",
      "727:\tlearn: 0.3713106\ttotal: 8.78s\tremaining: 3.28s\n",
      "728:\tlearn: 0.3712122\ttotal: 8.79s\tremaining: 3.27s\n",
      "729:\tlearn: 0.3711165\ttotal: 8.8s\tremaining: 3.25s\n",
      "730:\tlearn: 0.3710636\ttotal: 8.81s\tremaining: 3.24s\n",
      "731:\tlearn: 0.3709806\ttotal: 8.82s\tremaining: 3.23s\n",
      "732:\tlearn: 0.3709069\ttotal: 8.84s\tremaining: 3.22s\n",
      "733:\tlearn: 0.3708388\ttotal: 8.85s\tremaining: 3.21s\n",
      "734:\tlearn: 0.3707396\ttotal: 8.86s\tremaining: 3.19s\n",
      "735:\tlearn: 0.3706508\ttotal: 8.87s\tremaining: 3.18s\n",
      "736:\tlearn: 0.3705483\ttotal: 8.88s\tremaining: 3.17s\n",
      "737:\tlearn: 0.3704341\ttotal: 8.89s\tremaining: 3.15s\n",
      "738:\tlearn: 0.3703741\ttotal: 8.9s\tremaining: 3.14s\n",
      "739:\tlearn: 0.3703143\ttotal: 8.91s\tremaining: 3.13s\n",
      "740:\tlearn: 0.3702255\ttotal: 8.92s\tremaining: 3.12s\n",
      "741:\tlearn: 0.3701216\ttotal: 8.93s\tremaining: 3.11s\n",
      "742:\tlearn: 0.3700634\ttotal: 8.94s\tremaining: 3.09s\n",
      "743:\tlearn: 0.3700140\ttotal: 8.96s\tremaining: 3.08s\n",
      "744:\tlearn: 0.3699082\ttotal: 8.97s\tremaining: 3.07s\n",
      "745:\tlearn: 0.3698443\ttotal: 8.98s\tremaining: 3.06s\n",
      "746:\tlearn: 0.3697817\ttotal: 8.99s\tremaining: 3.04s\n",
      "747:\tlearn: 0.3697177\ttotal: 9s\tremaining: 3.03s\n",
      "748:\tlearn: 0.3695992\ttotal: 9.01s\tremaining: 3.02s\n",
      "749:\tlearn: 0.3695200\ttotal: 9.02s\tremaining: 3.01s\n",
      "750:\tlearn: 0.3694506\ttotal: 9.03s\tremaining: 2.99s\n",
      "751:\tlearn: 0.3693674\ttotal: 9.04s\tremaining: 2.98s\n",
      "752:\tlearn: 0.3692843\ttotal: 9.06s\tremaining: 2.97s\n",
      "753:\tlearn: 0.3691738\ttotal: 9.07s\tremaining: 2.96s\n",
      "754:\tlearn: 0.3691247\ttotal: 9.08s\tremaining: 2.95s\n",
      "755:\tlearn: 0.3690231\ttotal: 9.09s\tremaining: 2.93s\n",
      "756:\tlearn: 0.3689622\ttotal: 9.1s\tremaining: 2.92s\n",
      "757:\tlearn: 0.3688798\ttotal: 9.12s\tremaining: 2.91s\n",
      "758:\tlearn: 0.3688136\ttotal: 9.13s\tremaining: 2.9s\n",
      "759:\tlearn: 0.3687330\ttotal: 9.14s\tremaining: 2.88s\n",
      "760:\tlearn: 0.3685991\ttotal: 9.15s\tremaining: 2.87s\n",
      "761:\tlearn: 0.3685274\ttotal: 9.16s\tremaining: 2.86s\n",
      "762:\tlearn: 0.3684261\ttotal: 9.17s\tremaining: 2.85s\n",
      "763:\tlearn: 0.3683407\ttotal: 9.18s\tremaining: 2.84s\n",
      "764:\tlearn: 0.3683234\ttotal: 9.19s\tremaining: 2.82s\n",
      "765:\tlearn: 0.3682010\ttotal: 9.21s\tremaining: 2.81s\n",
      "766:\tlearn: 0.3681315\ttotal: 9.22s\tremaining: 2.8s\n",
      "767:\tlearn: 0.3680596\ttotal: 9.23s\tremaining: 2.79s\n",
      "768:\tlearn: 0.3680009\ttotal: 9.24s\tremaining: 2.78s\n",
      "769:\tlearn: 0.3679234\ttotal: 9.25s\tremaining: 2.76s\n",
      "770:\tlearn: 0.3678546\ttotal: 9.27s\tremaining: 2.75s\n",
      "771:\tlearn: 0.3677870\ttotal: 9.28s\tremaining: 2.74s\n",
      "772:\tlearn: 0.3676908\ttotal: 9.29s\tremaining: 2.73s\n",
      "773:\tlearn: 0.3676212\ttotal: 9.3s\tremaining: 2.71s\n",
      "774:\tlearn: 0.3675088\ttotal: 9.31s\tremaining: 2.7s\n",
      "775:\tlearn: 0.3673955\ttotal: 9.32s\tremaining: 2.69s\n",
      "776:\tlearn: 0.3673071\ttotal: 9.33s\tremaining: 2.68s\n",
      "777:\tlearn: 0.3672462\ttotal: 9.34s\tremaining: 2.67s\n",
      "778:\tlearn: 0.3671263\ttotal: 9.36s\tremaining: 2.65s\n",
      "779:\tlearn: 0.3670291\ttotal: 9.37s\tremaining: 2.64s\n",
      "780:\tlearn: 0.3669616\ttotal: 9.38s\tremaining: 2.63s\n",
      "781:\tlearn: 0.3668285\ttotal: 9.39s\tremaining: 2.62s\n",
      "782:\tlearn: 0.3667605\ttotal: 9.4s\tremaining: 2.6s\n",
      "783:\tlearn: 0.3666872\ttotal: 9.41s\tremaining: 2.59s\n",
      "784:\tlearn: 0.3665885\ttotal: 9.43s\tremaining: 2.58s\n",
      "785:\tlearn: 0.3665182\ttotal: 9.44s\tremaining: 2.57s\n",
      "786:\tlearn: 0.3664423\ttotal: 9.45s\tremaining: 2.56s\n",
      "787:\tlearn: 0.3663309\ttotal: 9.46s\tremaining: 2.54s\n",
      "788:\tlearn: 0.3662483\ttotal: 9.47s\tremaining: 2.53s\n",
      "789:\tlearn: 0.3661705\ttotal: 9.48s\tremaining: 2.52s\n",
      "790:\tlearn: 0.3660661\ttotal: 9.49s\tremaining: 2.51s\n",
      "791:\tlearn: 0.3660129\ttotal: 9.51s\tremaining: 2.5s\n",
      "792:\tlearn: 0.3659325\ttotal: 9.52s\tremaining: 2.48s\n",
      "793:\tlearn: 0.3658465\ttotal: 9.53s\tremaining: 2.47s\n",
      "794:\tlearn: 0.3657646\ttotal: 9.54s\tremaining: 2.46s\n",
      "795:\tlearn: 0.3656829\ttotal: 9.55s\tremaining: 2.45s\n",
      "796:\tlearn: 0.3656339\ttotal: 9.56s\tremaining: 2.44s\n",
      "797:\tlearn: 0.3655573\ttotal: 9.57s\tremaining: 2.42s\n",
      "798:\tlearn: 0.3654603\ttotal: 9.58s\tremaining: 2.41s\n",
      "799:\tlearn: 0.3653965\ttotal: 9.59s\tremaining: 2.4s\n",
      "800:\tlearn: 0.3653497\ttotal: 9.6s\tremaining: 2.39s\n",
      "801:\tlearn: 0.3652743\ttotal: 9.62s\tremaining: 2.37s\n",
      "802:\tlearn: 0.3652149\ttotal: 9.63s\tremaining: 2.36s\n",
      "803:\tlearn: 0.3651327\ttotal: 9.64s\tremaining: 2.35s\n",
      "804:\tlearn: 0.3650207\ttotal: 9.65s\tremaining: 2.34s\n",
      "805:\tlearn: 0.3649060\ttotal: 9.66s\tremaining: 2.33s\n",
      "806:\tlearn: 0.3648471\ttotal: 9.67s\tremaining: 2.31s\n",
      "807:\tlearn: 0.3647656\ttotal: 9.68s\tremaining: 2.3s\n",
      "808:\tlearn: 0.3646968\ttotal: 9.69s\tremaining: 2.29s\n",
      "809:\tlearn: 0.3645963\ttotal: 9.7s\tremaining: 2.28s\n",
      "810:\tlearn: 0.3644880\ttotal: 9.72s\tremaining: 2.26s\n",
      "811:\tlearn: 0.3644011\ttotal: 9.73s\tremaining: 2.25s\n",
      "812:\tlearn: 0.3643482\ttotal: 9.74s\tremaining: 2.24s\n",
      "813:\tlearn: 0.3642744\ttotal: 9.75s\tremaining: 2.23s\n",
      "814:\tlearn: 0.3641799\ttotal: 9.76s\tremaining: 2.22s\n",
      "815:\tlearn: 0.3641122\ttotal: 9.77s\tremaining: 2.2s\n",
      "816:\tlearn: 0.3640451\ttotal: 9.8s\tremaining: 2.2s\n",
      "817:\tlearn: 0.3639951\ttotal: 9.84s\tremaining: 2.19s\n",
      "818:\tlearn: 0.3639313\ttotal: 9.85s\tremaining: 2.18s\n",
      "819:\tlearn: 0.3638010\ttotal: 9.87s\tremaining: 2.17s\n",
      "820:\tlearn: 0.3637501\ttotal: 9.88s\tremaining: 2.15s\n",
      "821:\tlearn: 0.3636965\ttotal: 9.9s\tremaining: 2.14s\n",
      "822:\tlearn: 0.3636846\ttotal: 9.92s\tremaining: 2.13s\n",
      "823:\tlearn: 0.3636173\ttotal: 9.93s\tremaining: 2.12s\n",
      "824:\tlearn: 0.3635715\ttotal: 9.94s\tremaining: 2.11s\n",
      "825:\tlearn: 0.3634370\ttotal: 9.96s\tremaining: 2.1s\n",
      "826:\tlearn: 0.3633483\ttotal: 9.97s\tremaining: 2.08s\n",
      "827:\tlearn: 0.3632845\ttotal: 9.98s\tremaining: 2.07s\n",
      "828:\tlearn: 0.3632388\ttotal: 9.99s\tremaining: 2.06s\n",
      "829:\tlearn: 0.3631686\ttotal: 10s\tremaining: 2.05s\n",
      "830:\tlearn: 0.3630838\ttotal: 10s\tremaining: 2.04s\n",
      "831:\tlearn: 0.3630313\ttotal: 10s\tremaining: 2.02s\n",
      "832:\tlearn: 0.3629351\ttotal: 10s\tremaining: 2.01s\n",
      "833:\tlearn: 0.3628419\ttotal: 10s\tremaining: 2s\n"
     ]
    },
    {
     "name": "stdout",
     "output_type": "stream",
     "text": [
      "834:\tlearn: 0.3627750\ttotal: 10.1s\tremaining: 1.99s\n",
      "835:\tlearn: 0.3626746\ttotal: 10.1s\tremaining: 1.97s\n",
      "836:\tlearn: 0.3626002\ttotal: 10.1s\tremaining: 1.96s\n",
      "837:\tlearn: 0.3625199\ttotal: 10.1s\tremaining: 1.95s\n",
      "838:\tlearn: 0.3624372\ttotal: 10.1s\tremaining: 1.94s\n",
      "839:\tlearn: 0.3623851\ttotal: 10.1s\tremaining: 1.93s\n",
      "840:\tlearn: 0.3623197\ttotal: 10.1s\tremaining: 1.91s\n",
      "841:\tlearn: 0.3622504\ttotal: 10.1s\tremaining: 1.9s\n",
      "842:\tlearn: 0.3622496\ttotal: 10.1s\tremaining: 1.89s\n",
      "843:\tlearn: 0.3621408\ttotal: 10.2s\tremaining: 1.88s\n",
      "844:\tlearn: 0.3620997\ttotal: 10.2s\tremaining: 1.86s\n",
      "845:\tlearn: 0.3620371\ttotal: 10.2s\tremaining: 1.85s\n",
      "846:\tlearn: 0.3619588\ttotal: 10.2s\tremaining: 1.84s\n",
      "847:\tlearn: 0.3618819\ttotal: 10.2s\tremaining: 1.83s\n",
      "848:\tlearn: 0.3617936\ttotal: 10.2s\tremaining: 1.82s\n",
      "849:\tlearn: 0.3617025\ttotal: 10.2s\tremaining: 1.8s\n",
      "850:\tlearn: 0.3615911\ttotal: 10.2s\tremaining: 1.79s\n",
      "851:\tlearn: 0.3615239\ttotal: 10.2s\tremaining: 1.78s\n",
      "852:\tlearn: 0.3614216\ttotal: 10.3s\tremaining: 1.77s\n",
      "853:\tlearn: 0.3613366\ttotal: 10.3s\tremaining: 1.75s\n",
      "854:\tlearn: 0.3612772\ttotal: 10.3s\tremaining: 1.74s\n",
      "855:\tlearn: 0.3611626\ttotal: 10.3s\tremaining: 1.73s\n",
      "856:\tlearn: 0.3610952\ttotal: 10.3s\tremaining: 1.72s\n",
      "857:\tlearn: 0.3610230\ttotal: 10.3s\tremaining: 1.71s\n",
      "858:\tlearn: 0.3609378\ttotal: 10.3s\tremaining: 1.69s\n",
      "859:\tlearn: 0.3608762\ttotal: 10.3s\tremaining: 1.68s\n",
      "860:\tlearn: 0.3607578\ttotal: 10.3s\tremaining: 1.67s\n",
      "861:\tlearn: 0.3606898\ttotal: 10.4s\tremaining: 1.66s\n",
      "862:\tlearn: 0.3606619\ttotal: 10.4s\tremaining: 1.65s\n",
      "863:\tlearn: 0.3605612\ttotal: 10.4s\tremaining: 1.63s\n",
      "864:\tlearn: 0.3604860\ttotal: 10.4s\tremaining: 1.62s\n",
      "865:\tlearn: 0.3604166\ttotal: 10.4s\tremaining: 1.61s\n",
      "866:\tlearn: 0.3603650\ttotal: 10.4s\tremaining: 1.6s\n",
      "867:\tlearn: 0.3602657\ttotal: 10.4s\tremaining: 1.59s\n",
      "868:\tlearn: 0.3601934\ttotal: 10.4s\tremaining: 1.57s\n",
      "869:\tlearn: 0.3600870\ttotal: 10.5s\tremaining: 1.56s\n",
      "870:\tlearn: 0.3599837\ttotal: 10.5s\tremaining: 1.55s\n",
      "871:\tlearn: 0.3599301\ttotal: 10.5s\tremaining: 1.54s\n",
      "872:\tlearn: 0.3598494\ttotal: 10.5s\tremaining: 1.52s\n",
      "873:\tlearn: 0.3597948\ttotal: 10.5s\tremaining: 1.51s\n",
      "874:\tlearn: 0.3597445\ttotal: 10.5s\tremaining: 1.5s\n",
      "875:\tlearn: 0.3596906\ttotal: 10.5s\tremaining: 1.49s\n",
      "876:\tlearn: 0.3596234\ttotal: 10.5s\tremaining: 1.48s\n",
      "877:\tlearn: 0.3596227\ttotal: 10.5s\tremaining: 1.46s\n",
      "878:\tlearn: 0.3595385\ttotal: 10.6s\tremaining: 1.45s\n",
      "879:\tlearn: 0.3594345\ttotal: 10.6s\tremaining: 1.44s\n",
      "880:\tlearn: 0.3594168\ttotal: 10.6s\tremaining: 1.43s\n",
      "881:\tlearn: 0.3593556\ttotal: 10.6s\tremaining: 1.42s\n",
      "882:\tlearn: 0.3592484\ttotal: 10.6s\tremaining: 1.4s\n",
      "883:\tlearn: 0.3591510\ttotal: 10.6s\tremaining: 1.39s\n",
      "884:\tlearn: 0.3590981\ttotal: 10.6s\tremaining: 1.38s\n",
      "885:\tlearn: 0.3590434\ttotal: 10.6s\tremaining: 1.37s\n",
      "886:\tlearn: 0.3589900\ttotal: 10.6s\tremaining: 1.36s\n",
      "887:\tlearn: 0.3589094\ttotal: 10.7s\tremaining: 1.34s\n",
      "888:\tlearn: 0.3588336\ttotal: 10.7s\tremaining: 1.33s\n",
      "889:\tlearn: 0.3587420\ttotal: 10.7s\tremaining: 1.32s\n",
      "890:\tlearn: 0.3586675\ttotal: 10.7s\tremaining: 1.31s\n",
      "891:\tlearn: 0.3585672\ttotal: 10.7s\tremaining: 1.29s\n",
      "892:\tlearn: 0.3584965\ttotal: 10.7s\tremaining: 1.28s\n",
      "893:\tlearn: 0.3583896\ttotal: 10.7s\tremaining: 1.27s\n",
      "894:\tlearn: 0.3583403\ttotal: 10.7s\tremaining: 1.26s\n",
      "895:\tlearn: 0.3583029\ttotal: 10.7s\tremaining: 1.25s\n",
      "896:\tlearn: 0.3582560\ttotal: 10.8s\tremaining: 1.24s\n",
      "897:\tlearn: 0.3581888\ttotal: 10.8s\tremaining: 1.22s\n",
      "898:\tlearn: 0.3581275\ttotal: 10.8s\tremaining: 1.21s\n",
      "899:\tlearn: 0.3580671\ttotal: 10.8s\tremaining: 1.2s\n",
      "900:\tlearn: 0.3579415\ttotal: 10.8s\tremaining: 1.19s\n",
      "901:\tlearn: 0.3578520\ttotal: 10.8s\tremaining: 1.18s\n",
      "902:\tlearn: 0.3577644\ttotal: 10.8s\tremaining: 1.16s\n",
      "903:\tlearn: 0.3576437\ttotal: 10.8s\tremaining: 1.15s\n",
      "904:\tlearn: 0.3575805\ttotal: 10.8s\tremaining: 1.14s\n",
      "905:\tlearn: 0.3575148\ttotal: 10.9s\tremaining: 1.13s\n",
      "906:\tlearn: 0.3574146\ttotal: 10.9s\tremaining: 1.11s\n",
      "907:\tlearn: 0.3573615\ttotal: 10.9s\tremaining: 1.1s\n",
      "908:\tlearn: 0.3572857\ttotal: 10.9s\tremaining: 1.09s\n",
      "909:\tlearn: 0.3571855\ttotal: 10.9s\tremaining: 1.08s\n",
      "910:\tlearn: 0.3571302\ttotal: 10.9s\tremaining: 1.07s\n",
      "911:\tlearn: 0.3570709\ttotal: 10.9s\tremaining: 1.05s\n",
      "912:\tlearn: 0.3569723\ttotal: 10.9s\tremaining: 1.04s\n",
      "913:\tlearn: 0.3569085\ttotal: 10.9s\tremaining: 1.03s\n",
      "914:\tlearn: 0.3568351\ttotal: 11s\tremaining: 1.02s\n",
      "915:\tlearn: 0.3567968\ttotal: 11s\tremaining: 1.01s\n",
      "916:\tlearn: 0.3567176\ttotal: 11s\tremaining: 994ms\n",
      "917:\tlearn: 0.3566549\ttotal: 11s\tremaining: 982ms\n",
      "918:\tlearn: 0.3565806\ttotal: 11s\tremaining: 970ms\n",
      "919:\tlearn: 0.3565091\ttotal: 11s\tremaining: 958ms\n",
      "920:\tlearn: 0.3564030\ttotal: 11s\tremaining: 946ms\n",
      "921:\tlearn: 0.3563387\ttotal: 11s\tremaining: 934ms\n",
      "922:\tlearn: 0.3562514\ttotal: 11.1s\tremaining: 922ms\n",
      "923:\tlearn: 0.3561837\ttotal: 11.1s\tremaining: 910ms\n",
      "924:\tlearn: 0.3560958\ttotal: 11.1s\tremaining: 898ms\n",
      "925:\tlearn: 0.3560194\ttotal: 11.1s\tremaining: 887ms\n",
      "926:\tlearn: 0.3559499\ttotal: 11.1s\tremaining: 874ms\n",
      "927:\tlearn: 0.3558991\ttotal: 11.1s\tremaining: 862ms\n",
      "928:\tlearn: 0.3558477\ttotal: 11.1s\tremaining: 850ms\n",
      "929:\tlearn: 0.3557809\ttotal: 11.1s\tremaining: 839ms\n",
      "930:\tlearn: 0.3556809\ttotal: 11.2s\tremaining: 827ms\n",
      "931:\tlearn: 0.3556069\ttotal: 11.2s\tremaining: 815ms\n",
      "932:\tlearn: 0.3555385\ttotal: 11.2s\tremaining: 803ms\n",
      "933:\tlearn: 0.3554312\ttotal: 11.2s\tremaining: 791ms\n",
      "934:\tlearn: 0.3553733\ttotal: 11.2s\tremaining: 779ms\n",
      "935:\tlearn: 0.3553111\ttotal: 11.2s\tremaining: 767ms\n",
      "936:\tlearn: 0.3552440\ttotal: 11.2s\tremaining: 755ms\n",
      "937:\tlearn: 0.3551826\ttotal: 11.2s\tremaining: 743ms\n",
      "938:\tlearn: 0.3550969\ttotal: 11.2s\tremaining: 731ms\n",
      "939:\tlearn: 0.3550265\ttotal: 11.3s\tremaining: 719ms\n",
      "940:\tlearn: 0.3549537\ttotal: 11.3s\tremaining: 707ms\n",
      "941:\tlearn: 0.3548535\ttotal: 11.3s\tremaining: 695ms\n",
      "942:\tlearn: 0.3547756\ttotal: 11.3s\tremaining: 683ms\n",
      "943:\tlearn: 0.3546967\ttotal: 11.3s\tremaining: 671ms\n",
      "944:\tlearn: 0.3546186\ttotal: 11.3s\tremaining: 659ms\n",
      "945:\tlearn: 0.3545397\ttotal: 11.3s\tremaining: 646ms\n",
      "946:\tlearn: 0.3544402\ttotal: 11.3s\tremaining: 634ms\n",
      "947:\tlearn: 0.3543474\ttotal: 11.3s\tremaining: 622ms\n",
      "948:\tlearn: 0.3543001\ttotal: 11.4s\tremaining: 610ms\n",
      "949:\tlearn: 0.3542441\ttotal: 11.4s\tremaining: 598ms\n",
      "950:\tlearn: 0.3541581\ttotal: 11.4s\tremaining: 586ms\n",
      "951:\tlearn: 0.3541011\ttotal: 11.4s\tremaining: 574ms\n",
      "952:\tlearn: 0.3540547\ttotal: 11.4s\tremaining: 562ms\n",
      "953:\tlearn: 0.3540021\ttotal: 11.4s\tremaining: 550ms\n",
      "954:\tlearn: 0.3539331\ttotal: 11.4s\tremaining: 538ms\n",
      "955:\tlearn: 0.3538104\ttotal: 11.4s\tremaining: 527ms\n",
      "956:\tlearn: 0.3538001\ttotal: 11.5s\tremaining: 515ms\n",
      "957:\tlearn: 0.3537464\ttotal: 11.5s\tremaining: 503ms\n",
      "958:\tlearn: 0.3536740\ttotal: 11.5s\tremaining: 491ms\n",
      "959:\tlearn: 0.3535762\ttotal: 11.5s\tremaining: 479ms\n",
      "960:\tlearn: 0.3534610\ttotal: 11.5s\tremaining: 467ms\n",
      "961:\tlearn: 0.3533990\ttotal: 11.5s\tremaining: 455ms\n",
      "962:\tlearn: 0.3533397\ttotal: 11.5s\tremaining: 443ms\n",
      "963:\tlearn: 0.3532815\ttotal: 11.5s\tremaining: 431ms\n",
      "964:\tlearn: 0.3531807\ttotal: 11.6s\tremaining: 419ms\n",
      "965:\tlearn: 0.3531380\ttotal: 11.6s\tremaining: 407ms\n",
      "966:\tlearn: 0.3530836\ttotal: 11.6s\tremaining: 395ms\n",
      "967:\tlearn: 0.3530333\ttotal: 11.6s\tremaining: 383ms\n",
      "968:\tlearn: 0.3529769\ttotal: 11.6s\tremaining: 371ms\n",
      "969:\tlearn: 0.3529314\ttotal: 11.6s\tremaining: 359ms\n",
      "970:\tlearn: 0.3528761\ttotal: 11.6s\tremaining: 347ms\n",
      "971:\tlearn: 0.3527967\ttotal: 11.6s\tremaining: 335ms\n",
      "972:\tlearn: 0.3527434\ttotal: 11.7s\tremaining: 323ms\n",
      "973:\tlearn: 0.3526775\ttotal: 11.7s\tremaining: 311ms\n",
      "974:\tlearn: 0.3525994\ttotal: 11.7s\tremaining: 299ms\n",
      "975:\tlearn: 0.3525064\ttotal: 11.7s\tremaining: 287ms\n",
      "976:\tlearn: 0.3524991\ttotal: 11.7s\tremaining: 275ms\n",
      "977:\tlearn: 0.3524338\ttotal: 11.7s\tremaining: 263ms\n",
      "978:\tlearn: 0.3523748\ttotal: 11.7s\tremaining: 251ms\n",
      "979:\tlearn: 0.3523269\ttotal: 11.7s\tremaining: 240ms\n",
      "980:\tlearn: 0.3522554\ttotal: 11.8s\tremaining: 228ms\n",
      "981:\tlearn: 0.3521784\ttotal: 11.8s\tremaining: 216ms\n",
      "982:\tlearn: 0.3521186\ttotal: 11.8s\tremaining: 204ms\n",
      "983:\tlearn: 0.3520786\ttotal: 11.8s\tremaining: 192ms\n",
      "984:\tlearn: 0.3520065\ttotal: 11.8s\tremaining: 180ms\n",
      "985:\tlearn: 0.3519176\ttotal: 11.8s\tremaining: 168ms\n",
      "986:\tlearn: 0.3518169\ttotal: 11.8s\tremaining: 156ms\n",
      "987:\tlearn: 0.3517430\ttotal: 11.8s\tremaining: 144ms\n",
      "988:\tlearn: 0.3516973\ttotal: 11.8s\tremaining: 132ms\n",
      "989:\tlearn: 0.3516415\ttotal: 11.9s\tremaining: 120ms\n",
      "990:\tlearn: 0.3515531\ttotal: 11.9s\tremaining: 108ms\n",
      "991:\tlearn: 0.3514711\ttotal: 11.9s\tremaining: 95.8ms\n"
     ]
    },
    {
     "name": "stdout",
     "output_type": "stream",
     "text": [
      "992:\tlearn: 0.3514205\ttotal: 11.9s\tremaining: 83.8ms\n",
      "993:\tlearn: 0.3513442\ttotal: 11.9s\tremaining: 71.9ms\n",
      "994:\tlearn: 0.3512612\ttotal: 11.9s\tremaining: 59.9ms\n",
      "995:\tlearn: 0.3511764\ttotal: 11.9s\tremaining: 47.9ms\n",
      "996:\tlearn: 0.3510887\ttotal: 11.9s\tremaining: 36ms\n",
      "997:\tlearn: 0.3510154\ttotal: 12s\tremaining: 24ms\n",
      "998:\tlearn: 0.3509649\ttotal: 12s\tremaining: 12ms\n",
      "999:\tlearn: 0.3508773\ttotal: 12s\tremaining: 0us\n"
     ]
    },
    {
     "data": {
      "text/plain": [
       "Pipeline(steps=[('preprocessor',\n",
       "                 ColumnTransformer(transformers=[('ohe',\n",
       "                                                  Pipeline(steps=[('ohe_imputer',\n",
       "                                                                   SimpleImputer(fill_value=0,\n",
       "                                                                                 strategy='constant')),\n",
       "                                                                  ('oh_encoder',\n",
       "                                                                   OneHotEncoder(handle_unknown='ignore'))]),\n",
       "                                                  ['public_meeting',\n",
       "                                                   'recorded_by', 'permit']),\n",
       "                                                 ('freq',\n",
       "                                                  Pipeline(steps=[('freq_encoder',\n",
       "                                                                   CountEncoder(combine_min_nan_groups=True,\n",
       "                                                                                min_group_size=0.05...\n",
       "                                                   'quantity_group', 'source',\n",
       "                                                   'source_type',\n",
       "                                                   'source_class',\n",
       "                                                   'waterpoint_type',\n",
       "                                                   'waterpoint_type_group']),\n",
       "                                                 ('scaler',\n",
       "                                                  Pipeline(steps=[('scaler',\n",
       "                                                                   StandardScaler())]),\n",
       "                                                  ['amount_tsh', 'gps_height',\n",
       "                                                   'longitude', 'latitude',\n",
       "                                                   'num_private', 'region_code',\n",
       "                                                   'district_code',\n",
       "                                                   'population',\n",
       "                                                   'construction_year'])])),\n",
       "                ('classifier',\n",
       "                 <catboost.core.CatBoostClassifier object at 0x7fec623523d0>)])"
      ]
     },
     "execution_count": 63,
     "metadata": {},
     "output_type": "execute_result"
    }
   ],
   "source": [
    "cbc.fit(X_train, y_train)"
   ]
  },
  {
   "cell_type": "code",
   "execution_count": 64,
   "metadata": {},
   "outputs": [
    {
     "name": "stdout",
     "output_type": "stream",
     "text": [
      "Accuracy Score:\n",
      "Train - 0.8488589599700711\n",
      "Test - 0.8070332959221848\n",
      "  \n",
      "Precision Score:\n",
      "Train - 0.8252687065024914\n",
      "Test - 0.7845018450184502\n",
      "  \n",
      "Recall Score: \n",
      "Train - 0.916868737704168\n",
      "Test - 0.8852185981956975\n",
      "  \n",
      "F1 Score: \n",
      "Train - 0.8686605981794537\n",
      "Test - 0.8318226279752201\n",
      "  \n",
      "ROC_AUC: \n",
      "Train - 0.8421113071128582\n",
      "Test - 0.8004015068900564\n",
      "  \n",
      "  \n",
      "Confusion matrix for test data\n"
     ]
    },
    {
     "data": {
      "text/plain": [
       "<sklearn.metrics._plot.confusion_matrix.ConfusionMatrixDisplay at 0x7fec41b01af0>"
      ]
     },
     "execution_count": 64,
     "metadata": {},
     "output_type": "execute_result"
    },
    {
     "data": {
      "image/png": "[encoded data removed]",
      "text/plain": [
       "<Figure size 432x288 with 2 Axes>"
      ]
     },
     "metadata": {
      "needs_background": "light"
     },
     "output_type": "display_data"
    }
   ],
   "source": [
    "evaluate(cbc, X_train, y_train, X_val, y_val)"
   ]
  },
  {
   "cell_type": "markdown",
   "metadata": {},
   "source": [
    "## Evaluation\n",
    "\n",
    "The evaluation of each model should accompany the creation of each model, and you should be sure to evaluate your models consistently.\n",
    "\n",
    "Evaluate how well your work solves the stated business problem. \n",
    "\n",
    "Questions to consider:\n",
    "\n",
    "- How do you interpret the results?\n",
    "- How well does your model fit your data? How much better is this than your baseline model? Is it over or under fit?\n",
    "- How well does your model/data fit any relevant modeling assumptions?\n",
    "\n",
    "For the final model, you might also consider:\n",
    "\n",
    "- How confident are you that your results would generalize beyond the data you have?\n",
    "- How confident are you that this model would benefit the business if put into use?\n",
    "- What does this final model tell you about the relationship between your inputs and outputs?"
   ]
  },
  {
   "cell_type": "markdown",
   "metadata": {},
   "source": [
    "### 'Final' Model\n",
    "\n",
    "In the end, you'll arrive at a 'final' model - aka the one you'll use to make your recommendations/conclusions. This likely blends any group work. It might not be the one with the highest scores, but instead might be considered 'final' or 'best' for other reasons."
   ]
  },
  {
   "cell_type": "code",
   "execution_count": 33,
   "metadata": {},
   "outputs": [],
   "source": [
    "# code here to show your final model"
   ]
  },
  {
   "cell_type": "code",
   "execution_count": 34,
   "metadata": {},
   "outputs": [],
   "source": [
    "# code here to evaluate your final model"
   ]
  },
  {
   "cell_type": "markdown",
   "metadata": {},
   "source": [
    "## Conclusions\n",
    "\n",
    "Provide your conclusions about the work you've done, including any limitations or next steps.\n",
    "\n",
    "Questions to consider:\n",
    "\n",
    "- What would you recommend the business do as a result of this work?\n",
    "- How could the stakeholder use your model effectively?\n",
    "- What are some reasons why your analysis might not fully solve the business problem?\n",
    "- What else could you do in the future to improve this project (future work)?\n"
   ]
  },
  {
   "cell_type": "code",
   "execution_count": null,
   "metadata": {},
   "outputs": [],
   "source": []
  }
 ],
 "metadata": {
  "kernelspec": {
   "display_name": "Python (learn-env)",
   "language": "python",
   "name": "learn-env"
  },
  "language_info": {
   "codemirror_mode": {
    "name": "ipython",
    "version": 3
   },
   "file_extension": ".py",
   "mimetype": "text/x-python",
   "name": "python",
   "nbconvert_exporter": "python",
   "pygments_lexer": "ipython3",
   "version": "3.8.5"
  }
 },
 "nbformat": 4,
 "nbformat_minor": 4
}
