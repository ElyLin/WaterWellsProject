{
 "cells": [
  {
   "cell_type": "markdown",
   "metadata": {},
   "source": [
    "# Tanzanian Water Wells Project"
   ]
  },
  {
   "cell_type": "code",
   "execution_count": null,
   "metadata": {},
   "outputs": [],
   "source": [
    "Group Members: \n",
    "    \n"
   ]
  },
  {
   "cell_type": "markdown",
   "metadata": {},
   "source": [
    "## Overview\n",
    "\n",
    "A one-paragraph overview of the project, including the business problem, data, methods, results and recommendations.\n",
    "\n",
    "## Business Problem\n",
    "\n",
    "- Predict the condition of the water wells in Tanzania\n",
    "\n",
    "### End Users:\n",
    "\n",
    "- Governments, NGOs\n",
    "\n",
    "### True business problem:\n",
    "\n",
    "- Create a model that can, if given data of the water wells , predict if the water well needs repair. \n",
    "\n",
    "### Context:\n",
    "\n",
    "- **False positive** in this context: Predicts that an water well doesn't need repair but it actually does.\n",
    "    - **Outcome**: The people can't get water from the well.\n",
    "    \n",
    "- **False negative** in this context: Predicts that an water well needs repair but it actually doesn't.\n",
    "\n",
    "    - **Outcome**: Waste money/human resources on checking the well.\n",
    "\n",
    "### Evaluation \n",
    "\n",
    "Which metric (of the ones we've explore so far) would make sense to primarily use as we evaluate our models?\n",
    "\n",
    "- **Accuracy**\n",
    "- **Precision**\n",
    "- Recall\n",
    "- F1-Score\n",
    "\n",
    "We can focus on accuracy for ease of use, but should also be maximizing our Precision Score and minimizing False Positives, because false positives are more costly than false negatives."
   ]
  },
  {
   "cell_type": "markdown",
   "metadata": {},
   "source": [
    "## Data Understanding\n",
    "\n",
    "Describe the data being used for this project.\n",
    "\n",
    "Questions to consider:\n",
    "\n",
    "- Where did the data come from, and how do they relate to the data analysis questions?\n",
    "- What do the data represent? Who is in the sample and what variables are included?\n",
    "- What is the target variable?\n",
    "- What are the properties of the variables you intend to use?"
   ]
  },
  {
   "cell_type": "markdown",
   "metadata": {},
   "source": [
    "### Training Set Values Exploration"
   ]
  },
  {
   "cell_type": "code",
   "execution_count": 9,
   "metadata": {},
   "outputs": [],
   "source": [
    "# import pandas\n",
    "import pandas as pd\n",
    "# read training data values\n",
    "X = pd.read_csv(\"../data/training_set_values.csv\", index_col='id')"
   ]
  },
  {
   "cell_type": "code",
   "execution_count": 10,
   "metadata": {},
   "outputs": [
    {
     "data": {
      "text/html": [
       "<div>\n",
       "<style scoped>\n",
       "    .dataframe tbody tr th:only-of-type {\n",
       "        vertical-align: middle;\n",
       "    }\n",
       "\n",
       "    .dataframe tbody tr th {\n",
       "        vertical-align: top;\n",
       "    }\n",
       "\n",
       "    .dataframe thead th {\n",
       "        text-align: right;\n",
       "    }\n",
       "</style>\n",
       "<table border=\"1\" class=\"dataframe\">\n",
       "  <thead>\n",
       "    <tr style=\"text-align: right;\">\n",
       "      <th></th>\n",
       "      <th>amount_tsh</th>\n",
       "      <th>date_recorded</th>\n",
       "      <th>funder</th>\n",
       "      <th>gps_height</th>\n",
       "      <th>installer</th>\n",
       "      <th>longitude</th>\n",
       "      <th>latitude</th>\n",
       "      <th>wpt_name</th>\n",
       "      <th>num_private</th>\n",
       "      <th>basin</th>\n",
       "      <th>...</th>\n",
       "      <th>payment_type</th>\n",
       "      <th>water_quality</th>\n",
       "      <th>quality_group</th>\n",
       "      <th>quantity</th>\n",
       "      <th>quantity_group</th>\n",
       "      <th>source</th>\n",
       "      <th>source_type</th>\n",
       "      <th>source_class</th>\n",
       "      <th>waterpoint_type</th>\n",
       "      <th>waterpoint_type_group</th>\n",
       "    </tr>\n",
       "    <tr>\n",
       "      <th>id</th>\n",
       "      <th></th>\n",
       "      <th></th>\n",
       "      <th></th>\n",
       "      <th></th>\n",
       "      <th></th>\n",
       "      <th></th>\n",
       "      <th></th>\n",
       "      <th></th>\n",
       "      <th></th>\n",
       "      <th></th>\n",
       "      <th></th>\n",
       "      <th></th>\n",
       "      <th></th>\n",
       "      <th></th>\n",
       "      <th></th>\n",
       "      <th></th>\n",
       "      <th></th>\n",
       "      <th></th>\n",
       "      <th></th>\n",
       "      <th></th>\n",
       "      <th></th>\n",
       "    </tr>\n",
       "  </thead>\n",
       "  <tbody>\n",
       "    <tr>\n",
       "      <th>69572</th>\n",
       "      <td>6000.0</td>\n",
       "      <td>2011-03-14</td>\n",
       "      <td>Roman</td>\n",
       "      <td>1390</td>\n",
       "      <td>Roman</td>\n",
       "      <td>34.938093</td>\n",
       "      <td>-9.856322</td>\n",
       "      <td>none</td>\n",
       "      <td>0</td>\n",
       "      <td>Lake Nyasa</td>\n",
       "      <td>...</td>\n",
       "      <td>annually</td>\n",
       "      <td>soft</td>\n",
       "      <td>good</td>\n",
       "      <td>enough</td>\n",
       "      <td>enough</td>\n",
       "      <td>spring</td>\n",
       "      <td>spring</td>\n",
       "      <td>groundwater</td>\n",
       "      <td>communal standpipe</td>\n",
       "      <td>communal standpipe</td>\n",
       "    </tr>\n",
       "    <tr>\n",
       "      <th>8776</th>\n",
       "      <td>0.0</td>\n",
       "      <td>2013-03-06</td>\n",
       "      <td>Grumeti</td>\n",
       "      <td>1399</td>\n",
       "      <td>GRUMETI</td>\n",
       "      <td>34.698766</td>\n",
       "      <td>-2.147466</td>\n",
       "      <td>Zahanati</td>\n",
       "      <td>0</td>\n",
       "      <td>Lake Victoria</td>\n",
       "      <td>...</td>\n",
       "      <td>never pay</td>\n",
       "      <td>soft</td>\n",
       "      <td>good</td>\n",
       "      <td>insufficient</td>\n",
       "      <td>insufficient</td>\n",
       "      <td>rainwater harvesting</td>\n",
       "      <td>rainwater harvesting</td>\n",
       "      <td>surface</td>\n",
       "      <td>communal standpipe</td>\n",
       "      <td>communal standpipe</td>\n",
       "    </tr>\n",
       "    <tr>\n",
       "      <th>34310</th>\n",
       "      <td>25.0</td>\n",
       "      <td>2013-02-25</td>\n",
       "      <td>Lottery Club</td>\n",
       "      <td>686</td>\n",
       "      <td>World vision</td>\n",
       "      <td>37.460664</td>\n",
       "      <td>-3.821329</td>\n",
       "      <td>Kwa Mahundi</td>\n",
       "      <td>0</td>\n",
       "      <td>Pangani</td>\n",
       "      <td>...</td>\n",
       "      <td>per bucket</td>\n",
       "      <td>soft</td>\n",
       "      <td>good</td>\n",
       "      <td>enough</td>\n",
       "      <td>enough</td>\n",
       "      <td>dam</td>\n",
       "      <td>dam</td>\n",
       "      <td>surface</td>\n",
       "      <td>communal standpipe multiple</td>\n",
       "      <td>communal standpipe</td>\n",
       "    </tr>\n",
       "    <tr>\n",
       "      <th>67743</th>\n",
       "      <td>0.0</td>\n",
       "      <td>2013-01-28</td>\n",
       "      <td>Unicef</td>\n",
       "      <td>263</td>\n",
       "      <td>UNICEF</td>\n",
       "      <td>38.486161</td>\n",
       "      <td>-11.155298</td>\n",
       "      <td>Zahanati Ya Nanyumbu</td>\n",
       "      <td>0</td>\n",
       "      <td>Ruvuma / Southern Coast</td>\n",
       "      <td>...</td>\n",
       "      <td>never pay</td>\n",
       "      <td>soft</td>\n",
       "      <td>good</td>\n",
       "      <td>dry</td>\n",
       "      <td>dry</td>\n",
       "      <td>machine dbh</td>\n",
       "      <td>borehole</td>\n",
       "      <td>groundwater</td>\n",
       "      <td>communal standpipe multiple</td>\n",
       "      <td>communal standpipe</td>\n",
       "    </tr>\n",
       "    <tr>\n",
       "      <th>19728</th>\n",
       "      <td>0.0</td>\n",
       "      <td>2011-07-13</td>\n",
       "      <td>Action In A</td>\n",
       "      <td>0</td>\n",
       "      <td>Artisan</td>\n",
       "      <td>31.130847</td>\n",
       "      <td>-1.825359</td>\n",
       "      <td>Shuleni</td>\n",
       "      <td>0</td>\n",
       "      <td>Lake Victoria</td>\n",
       "      <td>...</td>\n",
       "      <td>never pay</td>\n",
       "      <td>soft</td>\n",
       "      <td>good</td>\n",
       "      <td>seasonal</td>\n",
       "      <td>seasonal</td>\n",
       "      <td>rainwater harvesting</td>\n",
       "      <td>rainwater harvesting</td>\n",
       "      <td>surface</td>\n",
       "      <td>communal standpipe</td>\n",
       "      <td>communal standpipe</td>\n",
       "    </tr>\n",
       "    <tr>\n",
       "      <th>...</th>\n",
       "      <td>...</td>\n",
       "      <td>...</td>\n",
       "      <td>...</td>\n",
       "      <td>...</td>\n",
       "      <td>...</td>\n",
       "      <td>...</td>\n",
       "      <td>...</td>\n",
       "      <td>...</td>\n",
       "      <td>...</td>\n",
       "      <td>...</td>\n",
       "      <td>...</td>\n",
       "      <td>...</td>\n",
       "      <td>...</td>\n",
       "      <td>...</td>\n",
       "      <td>...</td>\n",
       "      <td>...</td>\n",
       "      <td>...</td>\n",
       "      <td>...</td>\n",
       "      <td>...</td>\n",
       "      <td>...</td>\n",
       "      <td>...</td>\n",
       "    </tr>\n",
       "    <tr>\n",
       "      <th>60739</th>\n",
       "      <td>10.0</td>\n",
       "      <td>2013-05-03</td>\n",
       "      <td>Germany Republi</td>\n",
       "      <td>1210</td>\n",
       "      <td>CES</td>\n",
       "      <td>37.169807</td>\n",
       "      <td>-3.253847</td>\n",
       "      <td>Area Three Namba 27</td>\n",
       "      <td>0</td>\n",
       "      <td>Pangani</td>\n",
       "      <td>...</td>\n",
       "      <td>per bucket</td>\n",
       "      <td>soft</td>\n",
       "      <td>good</td>\n",
       "      <td>enough</td>\n",
       "      <td>enough</td>\n",
       "      <td>spring</td>\n",
       "      <td>spring</td>\n",
       "      <td>groundwater</td>\n",
       "      <td>communal standpipe</td>\n",
       "      <td>communal standpipe</td>\n",
       "    </tr>\n",
       "    <tr>\n",
       "      <th>27263</th>\n",
       "      <td>4700.0</td>\n",
       "      <td>2011-05-07</td>\n",
       "      <td>Cefa-njombe</td>\n",
       "      <td>1212</td>\n",
       "      <td>Cefa</td>\n",
       "      <td>35.249991</td>\n",
       "      <td>-9.070629</td>\n",
       "      <td>Kwa Yahona Kuvala</td>\n",
       "      <td>0</td>\n",
       "      <td>Rufiji</td>\n",
       "      <td>...</td>\n",
       "      <td>annually</td>\n",
       "      <td>soft</td>\n",
       "      <td>good</td>\n",
       "      <td>enough</td>\n",
       "      <td>enough</td>\n",
       "      <td>river</td>\n",
       "      <td>river/lake</td>\n",
       "      <td>surface</td>\n",
       "      <td>communal standpipe</td>\n",
       "      <td>communal standpipe</td>\n",
       "    </tr>\n",
       "    <tr>\n",
       "      <th>37057</th>\n",
       "      <td>0.0</td>\n",
       "      <td>2011-04-11</td>\n",
       "      <td>NaN</td>\n",
       "      <td>0</td>\n",
       "      <td>NaN</td>\n",
       "      <td>34.017087</td>\n",
       "      <td>-8.750434</td>\n",
       "      <td>Mashine</td>\n",
       "      <td>0</td>\n",
       "      <td>Rufiji</td>\n",
       "      <td>...</td>\n",
       "      <td>monthly</td>\n",
       "      <td>fluoride</td>\n",
       "      <td>fluoride</td>\n",
       "      <td>enough</td>\n",
       "      <td>enough</td>\n",
       "      <td>machine dbh</td>\n",
       "      <td>borehole</td>\n",
       "      <td>groundwater</td>\n",
       "      <td>hand pump</td>\n",
       "      <td>hand pump</td>\n",
       "    </tr>\n",
       "    <tr>\n",
       "      <th>31282</th>\n",
       "      <td>0.0</td>\n",
       "      <td>2011-03-08</td>\n",
       "      <td>Malec</td>\n",
       "      <td>0</td>\n",
       "      <td>Musa</td>\n",
       "      <td>35.861315</td>\n",
       "      <td>-6.378573</td>\n",
       "      <td>Mshoro</td>\n",
       "      <td>0</td>\n",
       "      <td>Rufiji</td>\n",
       "      <td>...</td>\n",
       "      <td>never pay</td>\n",
       "      <td>soft</td>\n",
       "      <td>good</td>\n",
       "      <td>insufficient</td>\n",
       "      <td>insufficient</td>\n",
       "      <td>shallow well</td>\n",
       "      <td>shallow well</td>\n",
       "      <td>groundwater</td>\n",
       "      <td>hand pump</td>\n",
       "      <td>hand pump</td>\n",
       "    </tr>\n",
       "    <tr>\n",
       "      <th>26348</th>\n",
       "      <td>0.0</td>\n",
       "      <td>2011-03-23</td>\n",
       "      <td>World Bank</td>\n",
       "      <td>191</td>\n",
       "      <td>World</td>\n",
       "      <td>38.104048</td>\n",
       "      <td>-6.747464</td>\n",
       "      <td>Kwa Mzee Lugawa</td>\n",
       "      <td>0</td>\n",
       "      <td>Wami / Ruvu</td>\n",
       "      <td>...</td>\n",
       "      <td>on failure</td>\n",
       "      <td>salty</td>\n",
       "      <td>salty</td>\n",
       "      <td>enough</td>\n",
       "      <td>enough</td>\n",
       "      <td>shallow well</td>\n",
       "      <td>shallow well</td>\n",
       "      <td>groundwater</td>\n",
       "      <td>hand pump</td>\n",
       "      <td>hand pump</td>\n",
       "    </tr>\n",
       "  </tbody>\n",
       "</table>\n",
       "<p>59400 rows × 39 columns</p>\n",
       "</div>"
      ],
      "text/plain": [
       "       amount_tsh date_recorded           funder  gps_height     installer  \\\n",
       "id                                                                           \n",
       "69572      6000.0    2011-03-14            Roman        1390         Roman   \n",
       "8776          0.0    2013-03-06          Grumeti        1399       GRUMETI   \n",
       "34310        25.0    2013-02-25     Lottery Club         686  World vision   \n",
       "67743         0.0    2013-01-28           Unicef         263        UNICEF   \n",
       "19728         0.0    2011-07-13      Action In A           0       Artisan   \n",
       "...           ...           ...              ...         ...           ...   \n",
       "60739        10.0    2013-05-03  Germany Republi        1210           CES   \n",
       "27263      4700.0    2011-05-07      Cefa-njombe        1212          Cefa   \n",
       "37057         0.0    2011-04-11              NaN           0           NaN   \n",
       "31282         0.0    2011-03-08            Malec           0          Musa   \n",
       "26348         0.0    2011-03-23       World Bank         191         World   \n",
       "\n",
       "       longitude   latitude              wpt_name  num_private  \\\n",
       "id                                                               \n",
       "69572  34.938093  -9.856322                  none            0   \n",
       "8776   34.698766  -2.147466              Zahanati            0   \n",
       "34310  37.460664  -3.821329           Kwa Mahundi            0   \n",
       "67743  38.486161 -11.155298  Zahanati Ya Nanyumbu            0   \n",
       "19728  31.130847  -1.825359               Shuleni            0   \n",
       "...          ...        ...                   ...          ...   \n",
       "60739  37.169807  -3.253847   Area Three Namba 27            0   \n",
       "27263  35.249991  -9.070629     Kwa Yahona Kuvala            0   \n",
       "37057  34.017087  -8.750434               Mashine            0   \n",
       "31282  35.861315  -6.378573                Mshoro            0   \n",
       "26348  38.104048  -6.747464       Kwa Mzee Lugawa            0   \n",
       "\n",
       "                         basin  ... payment_type water_quality  quality_group  \\\n",
       "id                              ...                                             \n",
       "69572               Lake Nyasa  ...     annually          soft           good   \n",
       "8776             Lake Victoria  ...    never pay          soft           good   \n",
       "34310                  Pangani  ...   per bucket          soft           good   \n",
       "67743  Ruvuma / Southern Coast  ...    never pay          soft           good   \n",
       "19728            Lake Victoria  ...    never pay          soft           good   \n",
       "...                        ...  ...          ...           ...            ...   \n",
       "60739                  Pangani  ...   per bucket          soft           good   \n",
       "27263                   Rufiji  ...     annually          soft           good   \n",
       "37057                   Rufiji  ...      monthly      fluoride       fluoride   \n",
       "31282                   Rufiji  ...    never pay          soft           good   \n",
       "26348              Wami / Ruvu  ...   on failure         salty          salty   \n",
       "\n",
       "           quantity quantity_group                source  \\\n",
       "id                                                         \n",
       "69572        enough         enough                spring   \n",
       "8776   insufficient   insufficient  rainwater harvesting   \n",
       "34310        enough         enough                   dam   \n",
       "67743           dry            dry           machine dbh   \n",
       "19728      seasonal       seasonal  rainwater harvesting   \n",
       "...             ...            ...                   ...   \n",
       "60739        enough         enough                spring   \n",
       "27263        enough         enough                 river   \n",
       "37057        enough         enough           machine dbh   \n",
       "31282  insufficient   insufficient          shallow well   \n",
       "26348        enough         enough          shallow well   \n",
       "\n",
       "                source_type source_class              waterpoint_type  \\\n",
       "id                                                                      \n",
       "69572                spring  groundwater           communal standpipe   \n",
       "8776   rainwater harvesting      surface           communal standpipe   \n",
       "34310                   dam      surface  communal standpipe multiple   \n",
       "67743              borehole  groundwater  communal standpipe multiple   \n",
       "19728  rainwater harvesting      surface           communal standpipe   \n",
       "...                     ...          ...                          ...   \n",
       "60739                spring  groundwater           communal standpipe   \n",
       "27263            river/lake      surface           communal standpipe   \n",
       "37057              borehole  groundwater                    hand pump   \n",
       "31282          shallow well  groundwater                    hand pump   \n",
       "26348          shallow well  groundwater                    hand pump   \n",
       "\n",
       "      waterpoint_type_group  \n",
       "id                           \n",
       "69572    communal standpipe  \n",
       "8776     communal standpipe  \n",
       "34310    communal standpipe  \n",
       "67743    communal standpipe  \n",
       "19728    communal standpipe  \n",
       "...                     ...  \n",
       "60739    communal standpipe  \n",
       "27263    communal standpipe  \n",
       "37057             hand pump  \n",
       "31282             hand pump  \n",
       "26348             hand pump  \n",
       "\n",
       "[59400 rows x 39 columns]"
      ]
     },
     "execution_count": 10,
     "metadata": {},
     "output_type": "execute_result"
    }
   ],
   "source": [
    "X"
   ]
  },
  {
   "cell_type": "code",
   "execution_count": 12,
   "metadata": {},
   "outputs": [
    {
     "name": "stdout",
     "output_type": "stream",
     "text": [
      "<class 'pandas.core.frame.DataFrame'>\n",
      "Int64Index: 59400 entries, 69572 to 26348\n",
      "Data columns (total 39 columns):\n",
      " #   Column                 Non-Null Count  Dtype  \n",
      "---  ------                 --------------  -----  \n",
      " 0   amount_tsh             59400 non-null  float64\n",
      " 1   date_recorded          59400 non-null  object \n",
      " 2   funder                 55765 non-null  object \n",
      " 3   gps_height             59400 non-null  int64  \n",
      " 4   installer              55745 non-null  object \n",
      " 5   longitude              59400 non-null  float64\n",
      " 6   latitude               59400 non-null  float64\n",
      " 7   wpt_name               59400 non-null  object \n",
      " 8   num_private            59400 non-null  int64  \n",
      " 9   basin                  59400 non-null  object \n",
      " 10  subvillage             59029 non-null  object \n",
      " 11  region                 59400 non-null  object \n",
      " 12  region_code            59400 non-null  int64  \n",
      " 13  district_code          59400 non-null  int64  \n",
      " 14  lga                    59400 non-null  object \n",
      " 15  ward                   59400 non-null  object \n",
      " 16  population             59400 non-null  int64  \n",
      " 17  public_meeting         56066 non-null  object \n",
      " 18  recorded_by            59400 non-null  object \n",
      " 19  scheme_management      55523 non-null  object \n",
      " 20  scheme_name            31234 non-null  object \n",
      " 21  permit                 56344 non-null  object \n",
      " 22  construction_year      59400 non-null  int64  \n",
      " 23  extraction_type        59400 non-null  object \n",
      " 24  extraction_type_group  59400 non-null  object \n",
      " 25  extraction_type_class  59400 non-null  object \n",
      " 26  management             59400 non-null  object \n",
      " 27  management_group       59400 non-null  object \n",
      " 28  payment                59400 non-null  object \n",
      " 29  payment_type           59400 non-null  object \n",
      " 30  water_quality          59400 non-null  object \n",
      " 31  quality_group          59400 non-null  object \n",
      " 32  quantity               59400 non-null  object \n",
      " 33  quantity_group         59400 non-null  object \n",
      " 34  source                 59400 non-null  object \n",
      " 35  source_type            59400 non-null  object \n",
      " 36  source_class           59400 non-null  object \n",
      " 37  waterpoint_type        59400 non-null  object \n",
      " 38  waterpoint_type_group  59400 non-null  object \n",
      "dtypes: float64(3), int64(6), object(30)\n",
      "memory usage: 18.1+ MB\n"
     ]
    }
   ],
   "source": [
    "X.info()"
   ]
  },
  {
   "cell_type": "markdown",
   "metadata": {},
   "source": [
    "The data set is pretty large and there are not that many null values"
   ]
  },
  {
   "cell_type": "markdown",
   "metadata": {},
   "source": [
    "### Drop duplicated columns"
   ]
  },
  {
   "cell_type": "markdown",
   "metadata": {},
   "source": [
    "From our data exploration process, we discovered that many columns are duplicates of each other, so we are going to drop them from our analysis. For detailed data exploration steps, refer to jupyter notebook named \"EDA.ipynb\" in notebooks/Samantha."
   ]
  },
  {
   "cell_type": "code",
   "execution_count": 13,
   "metadata": {},
   "outputs": [],
   "source": [
    "drop_columns = [\"quantity_group\", \"source_type\", \"num_private\", \"waterpoint_type\"]\n",
    "X = X.drop(drop_columns, axis =1)"
   ]
  },
  {
   "cell_type": "markdown",
   "metadata": {},
   "source": [
    "### y_train Exploration"
   ]
  },
  {
   "cell_type": "code",
   "execution_count": 14,
   "metadata": {},
   "outputs": [
    {
     "data": {
      "text/html": [
       "<div>\n",
       "<style scoped>\n",
       "    .dataframe tbody tr th:only-of-type {\n",
       "        vertical-align: middle;\n",
       "    }\n",
       "\n",
       "    .dataframe tbody tr th {\n",
       "        vertical-align: top;\n",
       "    }\n",
       "\n",
       "    .dataframe thead th {\n",
       "        text-align: right;\n",
       "    }\n",
       "</style>\n",
       "<table border=\"1\" class=\"dataframe\">\n",
       "  <thead>\n",
       "    <tr style=\"text-align: right;\">\n",
       "      <th></th>\n",
       "      <th>status_group</th>\n",
       "    </tr>\n",
       "    <tr>\n",
       "      <th>id</th>\n",
       "      <th></th>\n",
       "    </tr>\n",
       "  </thead>\n",
       "  <tbody>\n",
       "    <tr>\n",
       "      <th>69572</th>\n",
       "      <td>functional</td>\n",
       "    </tr>\n",
       "    <tr>\n",
       "      <th>8776</th>\n",
       "      <td>functional</td>\n",
       "    </tr>\n",
       "    <tr>\n",
       "      <th>34310</th>\n",
       "      <td>functional</td>\n",
       "    </tr>\n",
       "    <tr>\n",
       "      <th>67743</th>\n",
       "      <td>non functional</td>\n",
       "    </tr>\n",
       "    <tr>\n",
       "      <th>19728</th>\n",
       "      <td>functional</td>\n",
       "    </tr>\n",
       "    <tr>\n",
       "      <th>...</th>\n",
       "      <td>...</td>\n",
       "    </tr>\n",
       "    <tr>\n",
       "      <th>60739</th>\n",
       "      <td>functional</td>\n",
       "    </tr>\n",
       "    <tr>\n",
       "      <th>27263</th>\n",
       "      <td>functional</td>\n",
       "    </tr>\n",
       "    <tr>\n",
       "      <th>37057</th>\n",
       "      <td>functional</td>\n",
       "    </tr>\n",
       "    <tr>\n",
       "      <th>31282</th>\n",
       "      <td>functional</td>\n",
       "    </tr>\n",
       "    <tr>\n",
       "      <th>26348</th>\n",
       "      <td>functional</td>\n",
       "    </tr>\n",
       "  </tbody>\n",
       "</table>\n",
       "<p>59400 rows × 1 columns</p>\n",
       "</div>"
      ],
      "text/plain": [
       "         status_group\n",
       "id                   \n",
       "69572      functional\n",
       "8776       functional\n",
       "34310      functional\n",
       "67743  non functional\n",
       "19728      functional\n",
       "...               ...\n",
       "60739      functional\n",
       "27263      functional\n",
       "37057      functional\n",
       "31282      functional\n",
       "26348      functional\n",
       "\n",
       "[59400 rows x 1 columns]"
      ]
     },
     "execution_count": 14,
     "metadata": {},
     "output_type": "execute_result"
    }
   ],
   "source": [
    "y = pd.read_csv('../data/training_set_labels.csv', index_col='id')\n",
    "y"
   ]
  },
  {
   "cell_type": "code",
   "execution_count": 15,
   "metadata": {},
   "outputs": [],
   "source": [
    "# convert the dataframe into a series\n",
    "y = y['status_group']"
   ]
  },
  {
   "cell_type": "code",
   "execution_count": 16,
   "metadata": {},
   "outputs": [
    {
     "data": {
      "text/plain": [
       "functional                 32259\n",
       "non functional             22824\n",
       "functional needs repair     4317\n",
       "Name: status_group, dtype: int64"
      ]
     },
     "execution_count": 16,
     "metadata": {},
     "output_type": "execute_result"
    }
   ],
   "source": [
    "y.value_counts()"
   ]
  },
  {
   "cell_type": "markdown",
   "metadata": {},
   "source": [
    "## Data Preparation\n",
    "\n",
    "Describe and justify the process for preparing the data for analysis.\n",
    "\n",
    "Questions to consider:\n",
    "\n",
    "- Were there variables you dropped or created?\n",
    "- How did you address missing values or outliers?\n",
    "- Why are these choices appropriate given the data and the business problem?\n",
    "- Can you pipeline your preparation steps to use them consistently in the modeling process?"
   ]
  },
  {
   "cell_type": "markdown",
   "metadata": {},
   "source": [
    "### Train Test Split"
   ]
  },
  {
   "cell_type": "markdown",
   "metadata": {},
   "source": [
    "We are not getting the target for our testing data so we are going to treat our training data as if that's all the data we got. So we'll split it into training data, validation data and a holdout set that we will only look at in the end."
   ]
  },
  {
   "cell_type": "code",
   "execution_count": 17,
   "metadata": {},
   "outputs": [],
   "source": [
    "from sklearn.model_selection import train_test_split\n",
    "X_train, X_holdout, y_train, y_holdout = train_test_split(X, y, random_state=42, test_size = .1)"
   ]
  },
  {
   "cell_type": "code",
   "execution_count": 18,
   "metadata": {},
   "outputs": [],
   "source": [
    "X_train, X_val, y_train, y_val = train_test_split(X_train, y_train, random_state=42)"
   ]
  },
  {
   "cell_type": "markdown",
   "metadata": {},
   "source": [
    "### Target Preprocessing"
   ]
  },
  {
   "cell_type": "markdown",
   "metadata": {},
   "source": [
    "Our target has three unique values: functional, non functional and functional needs repair. It doesn't make much difference if the water well is non functional or functional needs repair because it requires attention regardless. The functional needs repair ones can break down at anytime and as a result, people who depend on the well to survive will suffer. For these reasons, we decide to simplify the problem into a binary prediction problem with 0 representing wells that needs repair and 1 representing wells that doesn't need repair (aka functional)."
   ]
  },
  {
   "cell_type": "code",
   "execution_count": 19,
   "metadata": {},
   "outputs": [],
   "source": [
    "# set up a dictionary for mapping\n",
    "map_dict = {\"functional\": 1, \"non functional\": 0, \"functional needs repair\": 0}"
   ]
  },
  {
   "cell_type": "code",
   "execution_count": 20,
   "metadata": {},
   "outputs": [],
   "source": [
    "y_train = y_train.map(map_dict)"
   ]
  },
  {
   "cell_type": "code",
   "execution_count": 21,
   "metadata": {},
   "outputs": [],
   "source": [
    "y_val = y_val.map(map_dict)"
   ]
  },
  {
   "cell_type": "code",
   "execution_count": 22,
   "metadata": {},
   "outputs": [],
   "source": [
    "y_holdout = y_holdout.map(map_dict)"
   ]
  },
  {
   "cell_type": "markdown",
   "metadata": {},
   "source": [
    "### Imputing Nulls and Encoding Categorical Values"
   ]
  },
  {
   "cell_type": "code",
   "execution_count": 23,
   "metadata": {},
   "outputs": [],
   "source": [
    "# imports for preprocessing\n",
    "from sklearn.pipeline import Pipeline\n",
    "from sklearn.impute import SimpleImputer\n",
    "from sklearn.preprocessing import OneHotEncoder\n",
    "from sklearn.preprocessing import StandardScaler\n",
    "from sklearn.compose import ColumnTransformer\n",
    "import category_encoders as ce"
   ]
  },
  {
   "cell_type": "code",
   "execution_count": 24,
   "metadata": {},
   "outputs": [],
   "source": [
    "# Seperate columns into three categories:\n",
    "# numeric columns, OneHotEncoder approriate columns and frequency encoded appropriate columns\n",
    "num_cols = []\n",
    "ohe_cols = []\n",
    "freq_cols = []\n",
    "\n",
    "# we pick a maximum unique value of 3 for columns to be onehotencoded for simplicity reasons\n",
    "\n",
    "for c in X.columns:\n",
    "    if X[c].dtype in ['float64', 'int64']:\n",
    "        num_cols.append(c)\n",
    "    elif X[c].nunique() < 3:\n",
    "        ohe_cols.append(c)\n",
    "    else:\n",
    "        freq_cols.append(c)"
   ]
  },
  {
   "cell_type": "code",
   "execution_count": 26,
   "metadata": {},
   "outputs": [
    {
     "name": "stdout",
     "output_type": "stream",
     "text": [
      "these are the numeric columns: ['amount_tsh', 'gps_height', 'longitude', 'latitude', 'region_code', 'district_code', 'population', 'construction_year']\n",
      "\n",
      "these are the OHE columns:['public_meeting', 'recorded_by', 'permit']\n",
      "\n",
      "these are the frequency encoded columns:['date_recorded', 'funder', 'installer', 'wpt_name', 'basin', 'subvillage', 'region', 'lga', 'ward', 'scheme_management', 'scheme_name', 'extraction_type', 'extraction_type_group', 'extraction_type_class', 'management', 'management_group', 'payment', 'payment_type', 'water_quality', 'quality_group', 'quantity', 'source', 'source_class', 'waterpoint_type_group']\n"
     ]
    }
   ],
   "source": [
    "# see what these columns are\n",
    "print(f'these are the numeric columns: {num_cols}')\n",
    "print('')\n",
    "print(f'these are the OHE columns:{ohe_cols}')\n",
    "print('')\n",
    "print(f'these are the frequency encoded columns:{freq_cols}')"
   ]
  },
  {
   "cell_type": "code",
   "execution_count": 27,
   "metadata": {},
   "outputs": [
    {
     "data": {
      "text/plain": [
       "['funder',\n",
       " 'installer',\n",
       " 'subvillage',\n",
       " 'public_meeting',\n",
       " 'scheme_management',\n",
       " 'scheme_name',\n",
       " 'permit']"
      ]
     },
     "execution_count": 27,
     "metadata": {},
     "output_type": "execute_result"
    }
   ],
   "source": [
    "# check which columns have null values that needs imputing\n",
    "list=[]\n",
    "for c in range(len(X.isna().any())):\n",
    "    if X.isna().any()[c] == True:\n",
    "        list.append(X.isna().any().index[c])\n",
    "list"
   ]
  },
  {
   "cell_type": "code",
   "execution_count": 35,
   "metadata": {},
   "outputs": [
    {
     "data": {
      "text/plain": [
       "ColumnTransformer(transformers=[('ohe',\n",
       "                                 Pipeline(steps=[('ohe_imputer',\n",
       "                                                  SimpleImputer(fill_value=0,\n",
       "                                                                strategy='constant')),\n",
       "                                                 ('oh_encoder',\n",
       "                                                  OneHotEncoder(handle_unknown='ignore'))]),\n",
       "                                 ['public_meeting', 'recorded_by', 'permit']),\n",
       "                                ('freq',\n",
       "                                 Pipeline(steps=[('freq_encoder',\n",
       "                                                  CountEncoder(combine_min_nan_groups=True,\n",
       "                                                               min_group_size=0.05,\n",
       "                                                               normalize=True)),\n",
       "                                                 ('freq_imputer...\n",
       "                                  'extraction_type_group',\n",
       "                                  'extraction_type_class', 'management',\n",
       "                                  'management_group', 'payment', 'payment_type',\n",
       "                                  'water_quality', 'quality_group', 'quantity',\n",
       "                                  'source', 'source_class',\n",
       "                                  'waterpoint_type_group']),\n",
       "                                ('scaler',\n",
       "                                 Pipeline(steps=[('scaler', StandardScaler())]),\n",
       "                                 ['amount_tsh', 'gps_height', 'longitude',\n",
       "                                  'latitude', 'region_code', 'district_code',\n",
       "                                  'population', 'construction_year'])])"
      ]
     },
     "execution_count": 35,
     "metadata": {},
     "output_type": "execute_result"
    }
   ],
   "source": [
    "# set up pipeline for preprocessing \n",
    "# for numeric columns, we need to scale it\n",
    "# for unique value <3 columns, we need to one hot encode it\n",
    "# for unique value >3 columns, we need to frequency encode it\n",
    "ohe_transformer = Pipeline(steps=[\n",
    "    ('ohe_imputer', SimpleImputer(strategy='constant', fill_value = 0)),\n",
    "    ('oh_encoder', OneHotEncoder(handle_unknown='ignore'))\n",
    "])\n",
    "\n",
    "freq_transformer = Pipeline(steps=[\n",
    "    ('freq_encoder', ce.count.CountEncoder(normalize=True, min_group_size=.05)),\n",
    "    ('freq_imputer', SimpleImputer(strategy='constant', fill_value=0))\n",
    "])\n",
    "\n",
    "num_transformer = Pipeline(steps=[\n",
    "    ('scaler', StandardScaler())\n",
    "    \n",
    "])\n",
    "\n",
    "preprocessor = ColumnTransformer(\n",
    "    transformers=[\n",
    "        ('ohe', ohe_transformer, ohe_cols),\n",
    "        ('freq', freq_transformer, freq_cols),\n",
    "        ('scaler', num_transformer, num_cols)\n",
    "    ])\n",
    "\n",
    "preprocessor.fit(X_train)"
   ]
  },
  {
   "cell_type": "markdown",
   "metadata": {},
   "source": [
    "## Modeling\n",
    "\n",
    "Describe and justify the process for analyzing or modeling the data.\n",
    "\n",
    "Questions to consider:\n",
    "\n",
    "- How will you analyze the data to arrive at an initial approach?\n",
    "- How will you iterate on your initial approach to make it better?\n",
    "- What model type is most appropriate, given the data and the business problem?"
   ]
  },
  {
   "cell_type": "code",
   "execution_count": 28,
   "metadata": {},
   "outputs": [],
   "source": [
    "# imports for modeling\n",
    "from sklearn.model_selection import GridSearchCV\n",
    "from sklearn.metrics import plot_confusion_matrix, plot_roc_curve, confusion_matrix\n",
    "from sklearn.metrics import accuracy_score, precision_score, recall_score, f1_score, roc_auc_score\n",
    "from sklearn.neighbors import KNeighborsClassifier\n",
    "from sklearn.model_selection import cross_validate\n",
    "from sklearn.model_selection import cross_val_score\n"
   ]
  },
  {
   "cell_type": "code",
   "execution_count": 29,
   "metadata": {},
   "outputs": [],
   "source": [
    "# build an evaluation function \n",
    "def evaluate(model, X_tr, y_tr, X_te, y_te):\n",
    "    print('Accuracy Score:')\n",
    "    print(f'Train - {accuracy_score(y_tr, model.predict(X_tr))}')\n",
    "    print(f'Test - {accuracy_score(y_te, model.predict(X_te))}')\n",
    "    print('  ')\n",
    "    print('Precision Score:')\n",
    "    print(f'Train - {precision_score(y_tr, model.predict(X_tr))}')\n",
    "    print(f'Test - {precision_score(y_te, model.predict(X_te))}')\n",
    "    print('  ')\n",
    "    print('Recall Score: ')\n",
    "    print(f'Train - {recall_score(y_tr, model.predict(X_tr))}')\n",
    "    print(f'Test - {recall_score(y_te, model.predict(X_te))}')\n",
    "    print('  ')\n",
    "    print('F1 Score: ')\n",
    "    print(f'Train - {f1_score(y_tr, model.predict(X_tr))}')\n",
    "    print(f'Test - {f1_score(y_te, model.predict(X_te))}')\n",
    "    print('  ')\n",
    "    print('ROC_AUC: ')\n",
    "    print(f'Train - {roc_auc_score(y_tr, model.predict(X_tr))}')\n",
    "    print(f'Test - {roc_auc_score(y_te, model.predict(X_te))}')\n",
    "    print('  ')\n",
    "    print('  ')\n",
    "    print('Confusion matrix for test data')\n",
    "    return plot_confusion_matrix(model, X_te, y_te)"
   ]
  },
  {
   "cell_type": "markdown",
   "metadata": {},
   "source": [
    "### Baseline Understanding\n",
    "\n",
    "First, we want to see how the baseline model where we predict the majority class everytime does so we know what to compare our score to."
   ]
  },
  {
   "cell_type": "code",
   "execution_count": 30,
   "metadata": {},
   "outputs": [],
   "source": [
    "from sklearn.dummy import DummyClassifier"
   ]
  },
  {
   "cell_type": "code",
   "execution_count": 31,
   "metadata": {},
   "outputs": [
    {
     "data": {
      "text/plain": [
       "array([0.54508043, 0.54508043, 0.54508043, 0.54520514, 0.54520514])"
      ]
     },
     "execution_count": 31,
     "metadata": {},
     "output_type": "execute_result"
    }
   ],
   "source": [
    "dummy_model = DummyClassifier(strategy=\"most_frequent\")\n",
    "dummy_model.fit(X_train, y_train)\n",
    "cv_results = cross_val_score(dummy_model, X_train, y_train, cv=5)\n",
    "cv_results"
   ]
  },
  {
   "cell_type": "markdown",
   "metadata": {},
   "source": [
    "Based on our dummy model assuming that all predictions will result in the majority class, we can see the dispersion of results - a little more than half of our waterwells are functioning."
   ]
  },
  {
   "cell_type": "code",
   "execution_count": 32,
   "metadata": {},
   "outputs": [
    {
     "data": {
      "text/plain": [
       "<sklearn.metrics._plot.roc_curve.RocCurveDisplay at 0x15f03df5700>"
      ]
     },
     "execution_count": 32,
     "metadata": {},
     "output_type": "execute_result"
    },
    {
     "data": {
      "image/png": "[encoded data removed]",
      "text/plain": [
       "<Figure size 432x288 with 1 Axes>"
      ]
     },
     "metadata": {
      "needs_background": "light"
     },
     "output_type": "display_data"
    }
   ],
   "source": [
    "plot_roc_curve(dummy_model,X_train,y_train)"
   ]
  },
  {
   "cell_type": "markdown",
   "metadata": {},
   "source": [
    "50% - not great results."
   ]
  },
  {
   "cell_type": "code",
   "execution_count": 33,
   "metadata": {},
   "outputs": [
    {
     "name": "stdout",
     "output_type": "stream",
     "text": [
      "Accuracy Score:\n",
      "Train - 0.5451303155006859\n",
      "Test - 0.5390946502057613\n",
      "  \n",
      "Precision Score:\n",
      "Train - 0.5451303155006859\n",
      "Test - 0.5390946502057613\n",
      "  \n",
      "Recall Score: \n",
      "Train - 1.0\n",
      "Test - 1.0\n",
      "  \n",
      "F1 Score: \n",
      "Train - 0.7056107954545455\n",
      "Test - 0.7005347593582888\n",
      "  \n",
      "ROC_AUC: \n",
      "Train - 0.5\n",
      "Test - 0.5\n",
      "  \n",
      "  \n",
      "Confusion matrix for test data\n"
     ]
    },
    {
     "data": {
      "text/plain": [
       "<sklearn.metrics._plot.confusion_matrix.ConfusionMatrixDisplay at 0x15f03e02df0>"
      ]
     },
     "execution_count": 33,
     "metadata": {},
     "output_type": "execute_result"
    },
    {
     "data": {
      "image/png": "[encoded data removed]",
      "text/plain": [
       "<Figure size 432x288 with 2 Axes>"
      ]
     },
     "metadata": {
      "needs_background": "light"
     },
     "output_type": "display_data"
    }
   ],
   "source": [
    "evaluate(dummy_model,X_train,y_train,X_val,y_val)"
   ]
  },
  {
   "cell_type": "markdown",
   "metadata": {},
   "source": [
    "Since we combined our non-functional and functional needs repair targets, our target data is already pretty balanced. We will need to strengthen our model validation in order to determine what is a real prediction, and what is a result of random chance."
   ]
  },
  {
   "cell_type": "markdown",
   "metadata": {},
   "source": [
    "### Logistic Regression Modeling"
   ]
  },
  {
   "cell_type": "code",
   "execution_count": 25,
   "metadata": {},
   "outputs": [],
   "source": [
    "from sklearn.linear_model import LogisticRegression"
   ]
  },
  {
   "cell_type": "code",
   "execution_count": 26,
   "metadata": {},
   "outputs": [
    {
     "name": "stderr",
     "output_type": "stream",
     "text": [
      "/Users/elylin/opt/anaconda3/envs/learn-env/lib/python3.8/site-packages/sklearn/linear_model/_logistic.py:762: ConvergenceWarning: lbfgs failed to converge (status=1):\n",
      "STOP: TOTAL NO. of ITERATIONS REACHED LIMIT.\n",
      "\n",
      "Increase the number of iterations (max_iter) or scale the data as shown in:\n",
      "    https://scikit-learn.org/stable/modules/preprocessing.html\n",
      "Please also refer to the documentation for alternative solver options:\n",
      "    https://scikit-learn.org/stable/modules/linear_model.html#logistic-regression\n",
      "  n_iter_i = _check_optimize_result(\n",
      "/Users/elylin/opt/anaconda3/envs/learn-env/lib/python3.8/site-packages/sklearn/linear_model/_logistic.py:762: ConvergenceWarning: lbfgs failed to converge (status=1):\n",
      "STOP: TOTAL NO. of ITERATIONS REACHED LIMIT.\n",
      "\n",
      "Increase the number of iterations (max_iter) or scale the data as shown in:\n",
      "    https://scikit-learn.org/stable/modules/preprocessing.html\n",
      "Please also refer to the documentation for alternative solver options:\n",
      "    https://scikit-learn.org/stable/modules/linear_model.html#logistic-regression\n",
      "  n_iter_i = _check_optimize_result(\n",
      "/Users/elylin/opt/anaconda3/envs/learn-env/lib/python3.8/site-packages/sklearn/linear_model/_logistic.py:762: ConvergenceWarning: lbfgs failed to converge (status=1):\n",
      "STOP: TOTAL NO. of ITERATIONS REACHED LIMIT.\n",
      "\n",
      "Increase the number of iterations (max_iter) or scale the data as shown in:\n",
      "    https://scikit-learn.org/stable/modules/preprocessing.html\n",
      "Please also refer to the documentation for alternative solver options:\n",
      "    https://scikit-learn.org/stable/modules/linear_model.html#logistic-regression\n",
      "  n_iter_i = _check_optimize_result(\n",
      "/Users/elylin/opt/anaconda3/envs/learn-env/lib/python3.8/site-packages/sklearn/linear_model/_logistic.py:762: ConvergenceWarning: lbfgs failed to converge (status=1):\n",
      "STOP: TOTAL NO. of ITERATIONS REACHED LIMIT.\n",
      "\n",
      "Increase the number of iterations (max_iter) or scale the data as shown in:\n",
      "    https://scikit-learn.org/stable/modules/preprocessing.html\n",
      "Please also refer to the documentation for alternative solver options:\n",
      "    https://scikit-learn.org/stable/modules/linear_model.html#logistic-regression\n",
      "  n_iter_i = _check_optimize_result(\n",
      "/Users/elylin/opt/anaconda3/envs/learn-env/lib/python3.8/site-packages/sklearn/linear_model/_logistic.py:762: ConvergenceWarning: lbfgs failed to converge (status=1):\n",
      "STOP: TOTAL NO. of ITERATIONS REACHED LIMIT.\n",
      "\n",
      "Increase the number of iterations (max_iter) or scale the data as shown in:\n",
      "    https://scikit-learn.org/stable/modules/preprocessing.html\n",
      "Please also refer to the documentation for alternative solver options:\n",
      "    https://scikit-learn.org/stable/modules/linear_model.html#logistic-regression\n",
      "  n_iter_i = _check_optimize_result(\n"
     ]
    },
    {
     "data": {
      "text/plain": [
       "{'fit_time': array([2.01132178, 1.68593407, 1.67639112, 1.76014209, 1.72365713]),\n",
       " 'score_time': array([0.22899604, 0.20945692, 0.18483806, 0.18972015, 0.18397808]),\n",
       " 'test_score': array([0.68150642, 0.68138172, 0.6775159 , 0.67015837, 0.67951116]),\n",
       " 'train_score': array([0.67654945, 0.67651827, 0.67770296, 0.67542711, 0.67910587])}"
      ]
     },
     "execution_count": 26,
     "metadata": {},
     "output_type": "execute_result"
    }
   ],
   "source": [
    "# we are using no penalty because \n",
    "log_classifier = Pipeline(steps=[\n",
    "    ('preprocessor', preprocessor),\n",
    "    ('regressor', LogisticRegression())\n",
    "])\n",
    "cross_validate(log_classifier, X_train, y_train, return_train_score=True)"
   ]
  },
  {
   "cell_type": "markdown",
   "metadata": {},
   "source": [
    "The model can't find the minimum. Let's try another solver, saga, that can deal with large datasets."
   ]
  },
  {
   "cell_type": "code",
   "execution_count": 27,
   "metadata": {},
   "outputs": [
    {
     "name": "stderr",
     "output_type": "stream",
     "text": [
      "/Users/elylin/opt/anaconda3/envs/learn-env/lib/python3.8/site-packages/sklearn/linear_model/_sag.py:329: ConvergenceWarning: The max_iter was reached which means the coef_ did not converge\n",
      "  warnings.warn(\"The max_iter was reached which means \"\n",
      "/Users/elylin/opt/anaconda3/envs/learn-env/lib/python3.8/site-packages/sklearn/linear_model/_sag.py:329: ConvergenceWarning: The max_iter was reached which means the coef_ did not converge\n",
      "  warnings.warn(\"The max_iter was reached which means \"\n",
      "/Users/elylin/opt/anaconda3/envs/learn-env/lib/python3.8/site-packages/sklearn/linear_model/_sag.py:329: ConvergenceWarning: The max_iter was reached which means the coef_ did not converge\n",
      "  warnings.warn(\"The max_iter was reached which means \"\n",
      "/Users/elylin/opt/anaconda3/envs/learn-env/lib/python3.8/site-packages/sklearn/linear_model/_sag.py:329: ConvergenceWarning: The max_iter was reached which means the coef_ did not converge\n",
      "  warnings.warn(\"The max_iter was reached which means \"\n",
      "/Users/elylin/opt/anaconda3/envs/learn-env/lib/python3.8/site-packages/sklearn/linear_model/_sag.py:329: ConvergenceWarning: The max_iter was reached which means the coef_ did not converge\n",
      "  warnings.warn(\"The max_iter was reached which means \"\n"
     ]
    },
    {
     "data": {
      "text/plain": [
       "{'fit_time': array([2.35502696, 2.28888774, 2.09236288, 2.08377075, 2.08168483]),\n",
       " 'score_time': array([0.23832393, 0.21026206, 0.17106318, 0.17069697, 0.17013597]),\n",
       " 'test_score': array([0.66404789, 0.66953485, 0.6515775 , 0.65057987, 0.66142911]),\n",
       " 'train_score': array([0.67124953, 0.67436713, 0.67075072, 0.67471006, 0.67383714])}"
      ]
     },
     "execution_count": 27,
     "metadata": {},
     "output_type": "execute_result"
    }
   ],
   "source": [
    "log_classifier = Pipeline(steps=[\n",
    "    ('preprocessor', preprocessor),\n",
    "    ('regressor', LogisticRegression(solver='saga'))\n",
    "])\n",
    "cross_validate(log_classifier, X_train, y_train, return_train_score=True)"
   ]
  },
  {
   "cell_type": "code",
   "execution_count": 28,
   "metadata": {},
   "outputs": [
    {
     "name": "stderr",
     "output_type": "stream",
     "text": [
      "/Users/elylin/opt/anaconda3/envs/learn-env/lib/python3.8/site-packages/sklearn/linear_model/_sag.py:329: ConvergenceWarning: The max_iter was reached which means the coef_ did not converge\n",
      "  warnings.warn(\"The max_iter was reached which means \"\n"
     ]
    },
    {
     "data": {
      "text/plain": [
       "Pipeline(steps=[('preprocessor',\n",
       "                 ColumnTransformer(transformers=[('ohe',\n",
       "                                                  Pipeline(steps=[('ohe_imputer',\n",
       "                                                                   SimpleImputer(fill_value=0,\n",
       "                                                                                 strategy='constant')),\n",
       "                                                                  ('oh_encoder',\n",
       "                                                                   OneHotEncoder(handle_unknown='ignore'))]),\n",
       "                                                  ['public_meeting',\n",
       "                                                   'recorded_by', 'permit']),\n",
       "                                                 ('freq',\n",
       "                                                  Pipeline(steps=[('freq_encoder',\n",
       "                                                                   CountEncoder(combine_min_nan_groups=True,\n",
       "                                                                                min_group_size=0.05...\n",
       "                                                   'management_group',\n",
       "                                                   'payment', 'payment_type',\n",
       "                                                   'water_quality',\n",
       "                                                   'quality_group', 'quantity',\n",
       "                                                   'source', 'source_class',\n",
       "                                                   'waterpoint_type_group']),\n",
       "                                                 ('scaler',\n",
       "                                                  Pipeline(steps=[('scaler',\n",
       "                                                                   StandardScaler())]),\n",
       "                                                  ['amount_tsh', 'gps_height',\n",
       "                                                   'longitude', 'latitude',\n",
       "                                                   'region_code',\n",
       "                                                   'district_code',\n",
       "                                                   'population',\n",
       "                                                   'construction_year'])])),\n",
       "                ('regressor', LogisticRegression(solver='saga'))])"
      ]
     },
     "execution_count": 28,
     "metadata": {},
     "output_type": "execute_result"
    }
   ],
   "source": [
    "log_classifier.fit(X_train,y_train)"
   ]
  },
  {
   "cell_type": "code",
   "execution_count": 29,
   "metadata": {},
   "outputs": [
    {
     "name": "stdout",
     "output_type": "stream",
     "text": [
      "Accuracy Score:\n",
      "Train - 0.6730265619154508\n",
      "Test - 0.6596333707444818\n",
      "  \n",
      "Precision Score:\n",
      "Train - 0.679735338840258\n",
      "Test - 0.6371334159438249\n",
      "  \n",
      "Recall Score: \n",
      "Train - 0.7567369721370728\n",
      "Test - 0.8563497571131159\n",
      "  \n",
      "F1 Score: \n",
      "Train - 0.7161723316735223\n",
      "Test - 0.7306530878086329\n",
      "  \n",
      "ROC_AUC: \n",
      "Train - 0.6647211563174672\n",
      "Test - 0.6429476058292852\n",
      "  \n",
      "  \n",
      "Confusion matrix for test data\n"
     ]
    },
    {
     "data": {
      "text/plain": [
       "<sklearn.metrics._plot.confusion_matrix.ConfusionMatrixDisplay at 0x7fe43aba4970>"
      ]
     },
     "execution_count": 29,
     "metadata": {},
     "output_type": "execute_result"
    },
    {
     "data": {
      "image/png": "[encoded data removed]",
      "text/plain": [
       "<Figure size 432x288 with 2 Axes>"
      ]
     },
     "metadata": {
      "needs_background": "light"
     },
     "output_type": "display_data"
    }
   ],
   "source": [
    "evaluate(log_classifier, X_train, y_train, X_val, y_val)"
   ]
  },
  {
   "cell_type": "markdown",
   "metadata": {},
   "source": [
    "The model still didn't converge. Logistic regression is not very good at interaction terms which we'd expect in this dataset."
   ]
  },
  {
   "cell_type": "markdown",
   "metadata": {},
   "source": [
    "### KNN Modeling"
   ]
  },
  {
   "cell_type": "code",
   "execution_count": 30,
   "metadata": {},
   "outputs": [],
   "source": [
    "# build a baseline Knn model\n",
    "Knn_classifier = Pipeline(steps=[\n",
    "    ('preprocessor', preprocessor),\n",
    "    ('classifier', KNeighborsClassifier())\n",
    "])"
   ]
  },
  {
   "cell_type": "code",
   "execution_count": 31,
   "metadata": {},
   "outputs": [
    {
     "data": {
      "text/plain": [
       "{'fit_time': array([1.53794098, 1.55418921, 1.50436687, 1.66702104, 1.62484193]),\n",
       " 'score_time': array([2.09356213, 2.40665293, 2.14829588, 2.27155375, 2.12541699]),\n",
       " 'test_score': array([0.74622771, 0.73637611, 0.73338321, 0.74385834, 0.74385834]),\n",
       " 'train_score': array([0.83292805, 0.83333333, 0.83429979, 0.83168101, 0.83146278])}"
      ]
     },
     "execution_count": 31,
     "metadata": {},
     "output_type": "execute_result"
    }
   ],
   "source": [
    "#Cross validate the X_train dataset\n",
    "from sklearn.model_selection import cross_validate\n",
    "cross_validate(Knn_classifier, X_train, y_train, return_train_score=True)"
   ]
  },
  {
   "cell_type": "code",
   "execution_count": 32,
   "metadata": {},
   "outputs": [
    {
     "name": "stdout",
     "output_type": "stream",
     "text": [
      "Accuracy Score:\n",
      "Train - 0.8376106746477117\n",
      "Test - 0.7524130190796857\n",
      "  \n",
      "Precision Score:\n",
      "Train - 0.8348607838002967\n",
      "Test - 0.7561135945306338\n",
      "  \n",
      "Recall Score: \n",
      "Train - 0.8752344786567232\n",
      "Test - 0.7981956974323386\n",
      "  \n",
      "F1 Score: \n",
      "Train - 0.8545710392888253\n",
      "Test - 0.7765849706299373\n",
      "  \n",
      "ROC_AUC: \n",
      "Train - 0.8338777942137658\n",
      "Test - 0.7485296668979875\n",
      "  \n",
      "  \n",
      "Confusion matrix for test data\n"
     ]
    },
    {
     "data": {
      "text/plain": [
       "<sklearn.metrics._plot.confusion_matrix.ConfusionMatrixDisplay at 0x7fe409689eb0>"
      ]
     },
     "execution_count": 32,
     "metadata": {},
     "output_type": "execute_result"
    },
    {
     "data": {
      "image/png": "[encoded data removed]",
      "text/plain": [
       "<Figure size 432x288 with 2 Axes>"
      ]
     },
     "metadata": {
      "needs_background": "light"
     },
     "output_type": "display_data"
    }
   ],
   "source": [
    "#Evaluate the function\n",
    "Knn_classifier.fit(X_train,y_train)\n",
    "evaluate(Knn_classifier, X_train, y_train, X_val, y_val)"
   ]
  },
  {
   "cell_type": "markdown",
   "metadata": {},
   "source": [
    "KNN has good scores, way better than Logistic Regression, but as we add more data to the model, it's going to take more and more time to run. So we are not going to use KNN model. "
   ]
  },
  {
   "cell_type": "markdown",
   "metadata": {},
   "source": [
    "### Decision Tree Modeling"
   ]
  },
  {
   "cell_type": "code",
   "execution_count": 36,
   "metadata": {},
   "outputs": [],
   "source": [
    "# import decision tree classifier\n",
    "from sklearn.tree import DecisionTreeClassifier \n",
    "# set up pipeline for decision tree models\n",
    "dt = Pipeline(steps=[('preprocessor', preprocessor), ('classifier', DecisionTreeClassifier())])"
   ]
  },
  {
   "cell_type": "code",
   "execution_count": 37,
   "metadata": {},
   "outputs": [
    {
     "data": {
      "text/plain": [
       "{'fit_time': array([4.54043818, 4.60804081, 4.41974473, 4.64080954, 4.59220028]),\n",
       " 'score_time': array([0.59979892, 0.71892476, 0.59666991, 0.58488035, 0.59869409]),\n",
       " 'test_score': array([0.76131687, 0.76630503, 0.74448186, 0.76268861, 0.77154259]),\n",
       " 'train_score': array([0.99947001, 0.99950118, 0.99956354, 0.99962589, 0.99950118])}"
      ]
     },
     "execution_count": 37,
     "metadata": {},
     "output_type": "execute_result"
    }
   ],
   "source": [
    "# baseline decision tree model\n",
    "cross_validate(dt, X_train, y_train, return_train_score = True)"
   ]
  },
  {
   "cell_type": "code",
   "execution_count": 38,
   "metadata": {},
   "outputs": [
    {
     "name": "stdout",
     "output_type": "stream",
     "text": [
      "Accuracy Score:\n",
      "Train - 0.9994762439206883\n",
      "Test - 0.7722409277964833\n",
      "  \n",
      "Precision Score:\n",
      "Train - 0.9998626499404817\n",
      "Test - 0.7899651567944251\n",
      "  \n",
      "Recall Score: \n",
      "Train - 0.999176465205655\n",
      "Test - 0.786675919500347\n",
      "  \n",
      "F1 Score: \n",
      "Train - 0.9995194398041145\n",
      "Test - 0.788317107093185\n",
      "  \n",
      "ROC_AUC: \n",
      "Train - 0.9995059867425358\n",
      "Test - 0.7710165311787449\n",
      "  \n",
      "  \n",
      "Confusion matrix for test data\n"
     ]
    },
    {
     "data": {
      "text/plain": [
       "<sklearn.metrics._plot.confusion_matrix.ConfusionMatrixDisplay at 0x15f785b4e50>"
      ]
     },
     "execution_count": 38,
     "metadata": {},
     "output_type": "execute_result"
    },
    {
     "data": {
      "image/png": "[encoded data removed]",
      "text/plain": [
       "<Figure size 432x288 with 2 Axes>"
      ]
     },
     "metadata": {
      "needs_background": "light"
     },
     "output_type": "display_data"
    }
   ],
   "source": [
    "dt.fit(X_train, y_train)\n",
    "evaluate(dt, X_train, y_train, X_val, y_val)"
   ]
  },
  {
   "cell_type": "markdown",
   "metadata": {},
   "source": [
    "- The score is way better on the training set than the test set so the model is definitely overfitted, which is expected for an untuned decision tree model. "
   ]
  },
  {
   "cell_type": "markdown",
   "metadata": {},
   "source": [
    "#### Improve Decision Tree by Gridsearching"
   ]
  },
  {
   "cell_type": "code",
   "execution_count": 36,
   "metadata": {},
   "outputs": [],
   "source": [
    "from sklearn.model_selection import GridSearchCV"
   ]
  },
  {
   "cell_type": "code",
   "execution_count": 37,
   "metadata": {},
   "outputs": [],
   "source": [
    "# correct for overfitting by limiting max depth and minimum samples split\n",
    "dt_grid_params = {'classifier__max_depth':[1,5,10], 'classifier__min_samples_split':[2,10,100]}"
   ]
  },
  {
   "cell_type": "code",
   "execution_count": 38,
   "metadata": {},
   "outputs": [],
   "source": [
    "# Gridsearch for best precision score because that's what we want to maximize according to our business problem\n",
    "dt_grid = GridSearchCV(dt, dt_grid_params, scoring = 'precision')\n",
    "dt_output = dt_grid.fit(X_train, y_train)"
   ]
  },
  {
   "cell_type": "code",
   "execution_count": 39,
   "metadata": {},
   "outputs": [
    {
     "data": {
      "text/plain": [
       "{'classifier__max_depth': 10, 'classifier__min_samples_split': 10}"
      ]
     },
     "execution_count": 39,
     "metadata": {},
     "output_type": "execute_result"
    }
   ],
   "source": [
    "# See the gridsearch result\n",
    "dt_output.best_params_"
   ]
  },
  {
   "cell_type": "code",
   "execution_count": 40,
   "metadata": {},
   "outputs": [],
   "source": [
    "dt_best_model = dt_output.best_estimator_"
   ]
  },
  {
   "cell_type": "code",
   "execution_count": 41,
   "metadata": {},
   "outputs": [
    {
     "name": "stdout",
     "output_type": "stream",
     "text": [
      "Accuracy Score:\n",
      "Train - 0.7945379723157501\n",
      "Test - 0.76109240553685\n",
      "  \n",
      "Precision Score:\n",
      "Train - 0.7719992011184342\n",
      "Test - 0.7407007439404848\n",
      "  \n",
      "Recall Score: \n",
      "Train - 0.8842476094614997\n",
      "Test - 0.8567661346287301\n",
      "  \n",
      "F1 Score: \n",
      "Train - 0.8243197133839462\n",
      "Test - 0.7945170216873673\n",
      "  \n",
      "ROC_AUC: \n",
      "Train - 0.7856373478824112\n",
      "Test - 0.7529772231585209\n",
      "  \n",
      "  \n",
      "Confusion matrix for test data\n"
     ]
    },
    {
     "data": {
      "text/plain": [
       "<sklearn.metrics._plot.confusion_matrix.ConfusionMatrixDisplay at 0x7fe40970abe0>"
      ]
     },
     "execution_count": 41,
     "metadata": {},
     "output_type": "execute_result"
    },
    {
     "data": {
      "image/png": "[encoded data removed]",
      "text/plain": [
       "<Figure size 432x288 with 2 Axes>"
      ]
     },
     "metadata": {
      "needs_background": "light"
     },
     "output_type": "display_data"
    }
   ],
   "source": [
    "#Evaluate the model\n",
    "evaluate(dt_best_model, X_train, y_train, X_val, y_val)"
   ]
  },
  {
   "cell_type": "markdown",
   "metadata": {},
   "source": [
    "#### Random Forest"
   ]
  },
  {
   "cell_type": "code",
   "execution_count": 42,
   "metadata": {},
   "outputs": [],
   "source": [
    "from sklearn.ensemble import RandomForestClassifier"
   ]
  },
  {
   "cell_type": "code",
   "execution_count": 43,
   "metadata": {},
   "outputs": [],
   "source": [
    "# setting up pipeline for random forest models\n",
    "rfc = Pipeline(steps=[\n",
    "    ('preprocessor', preprocessor),\n",
    "    ('classifier', RandomForestClassifier())])"
   ]
  },
  {
   "cell_type": "code",
   "execution_count": 44,
   "metadata": {},
   "outputs": [],
   "source": [
    "# set up parameter grid\n",
    "rfc_grid_params = {'classifier__n_estimators': [1,10,100], 'classifier__max_depth':[1,5,10], 'classifier__min_samples_split':[2,10,100], 'classifier__max_features': ['sqrt','log2', None], 'classifier__max_samples': [0.1,0.3,0.5]}"
   ]
  },
  {
   "cell_type": "code",
   "execution_count": 45,
   "metadata": {},
   "outputs": [],
   "source": [
    "# Gridsearch for best precision score \n",
    "rfc_grid = GridSearchCV(rfc, rfc_grid_params, scoring = 'precision')\n",
    "rfc_output = rfc_grid.fit(X_train, y_train)"
   ]
  },
  {
   "cell_type": "code",
   "execution_count": 46,
   "metadata": {},
   "outputs": [
    {
     "data": {
      "text/plain": [
       "{'classifier__max_depth': 10,\n",
       " 'classifier__max_features': 'sqrt',\n",
       " 'classifier__max_samples': 0.5,\n",
       " 'classifier__min_samples_split': 2,\n",
       " 'classifier__n_estimators': 100}"
      ]
     },
     "execution_count": 46,
     "metadata": {},
     "output_type": "execute_result"
    }
   ],
   "source": [
    "# See the gridsearch result\n",
    "rfc_output.best_params_"
   ]
  },
  {
   "cell_type": "code",
   "execution_count": 47,
   "metadata": {},
   "outputs": [],
   "source": [
    "rfc_best_model = rfc_output.best_estimator_"
   ]
  },
  {
   "cell_type": "code",
   "execution_count": 48,
   "metadata": {},
   "outputs": [
    {
     "name": "stdout",
     "output_type": "stream",
     "text": [
      "Accuracy Score:\n",
      "Train - 0.8166105499438833\n",
      "Test - 0.7817433595211373\n",
      "  \n",
      "Precision Score:\n",
      "Train - 0.7754691179822228\n",
      "Test - 0.7428086070215175\n",
      "  \n",
      "Recall Score: \n",
      "Train - 0.9340257125863568\n",
      "Test - 0.9103400416377515\n",
      "  \n",
      "F1 Score: \n",
      "Train - 0.8473943091961896\n",
      "Test - 0.8180854381041471\n",
      "  \n",
      "ROC_AUC: \n",
      "Train - 0.804961096231768\n",
      "Test - 0.7708356052344603\n",
      "  \n",
      "  \n",
      "Confusion matrix for test data\n"
     ]
    },
    {
     "data": {
      "text/plain": [
       "<sklearn.metrics._plot.confusion_matrix.ConfusionMatrixDisplay at 0x7fe40a4523d0>"
      ]
     },
     "execution_count": 48,
     "metadata": {},
     "output_type": "execute_result"
    },
    {
     "data": {
      "image/png": "[encoded data removed]",
      "text/plain": [
       "<Figure size 432x288 with 2 Axes>"
      ]
     },
     "metadata": {
      "needs_background": "light"
     },
     "output_type": "display_data"
    }
   ],
   "source": [
    "# Evaluate the model\n",
    "evaluate(rfc_best_model, X_train, y_train, X_val, y_val)"
   ]
  },
  {
   "cell_type": "markdown",
   "metadata": {},
   "source": [
    "#### Catboost"
   ]
  },
  {
   "cell_type": "code",
   "execution_count": 41,
   "metadata": {},
   "outputs": [
    {
     "name": "stdout",
     "output_type": "stream",
     "text": [
      "Collecting package metadata (current_repodata.json): ...working... done\n",
      "Solving environment: ...working... done\n",
      "\n",
      "## Package Plan ##\n",
      "\n",
      "  environment location: C:\\Users\\saman\\anaconda3\\envs\\learn-env\n",
      "\n",
      "  added / updated specs:\n",
      "    - catboost\n",
      "\n",
      "\n",
      "The following packages will be downloaded:\n",
      "\n",
      "    package                    |            build\n",
      "    ---------------------------|-----------------\n",
      "    ca-certificates-2021.10.26 |       haa95532_2         115 KB\n",
      "    catboost-0.26.1            |   py38haa95532_0        28.8 MB\n",
      "    ------------------------------------------------------------\n",
      "                                           Total:        29.0 MB\n",
      "\n",
      "The following NEW packages will be INSTALLED:\n",
      "\n",
      "  catboost           pkgs/main/win-64::catboost-0.26.1-py38haa95532_0\n",
      "\n",
      "The following packages will be UPDATED:\n",
      "\n",
      "  ca-certificates    conda-forge::ca-certificates-2021.10.~ --> pkgs/main::ca-certificates-2021.10.26-haa95532_2\n",
      "\n",
      "The following packages will be SUPERSEDED by a higher-priority channel:\n",
      "\n",
      "  certifi            conda-forge::certifi-2021.10.8-py38ha~ --> pkgs/main::certifi-2021.10.8-py38haa95532_0\n",
      "  openssl            conda-forge::openssl-1.1.1l-h8ffe710_0 --> pkgs/main::openssl-1.1.1l-h2bbff1b_0\n",
      "\n",
      "\n",
      "\n",
      "Downloading and Extracting Packages\n",
      "\n",
      "ca-certificates-2021 | 115 KB    |            |   0% \n",
      "ca-certificates-2021 | 115 KB    | #3         |  14% \n",
      "ca-certificates-2021 | 115 KB    | ########## | 100% \n",
      "ca-certificates-2021 | 115 KB    | ########## | 100% \n",
      "\n",
      "catboost-0.26.1      | 28.8 MB   |            |   0% \n",
      "catboost-0.26.1      | 28.8 MB   |            |   0% \n",
      "catboost-0.26.1      | 28.8 MB   | 3          |   3% \n",
      "catboost-0.26.1      | 28.8 MB   | 7          |   7% \n",
      "catboost-0.26.1      | 28.8 MB   | 8          |   9% \n",
      "catboost-0.26.1      | 28.8 MB   | #5         |  16% \n",
      "catboost-0.26.1      | 28.8 MB   | ##1        |  21% \n",
      "catboost-0.26.1      | 28.8 MB   | ##5        |  25% \n",
      "catboost-0.26.1      | 28.8 MB   | ###8       |  38% \n",
      "catboost-0.26.1      | 28.8 MB   | ####4      |  45% \n",
      "catboost-0.26.1      | 28.8 MB   | #####      |  50% \n",
      "catboost-0.26.1      | 28.8 MB   | #####4     |  55% \n",
      "catboost-0.26.1      | 28.8 MB   | ######2    |  63% \n",
      "catboost-0.26.1      | 28.8 MB   | ######7    |  68% \n",
      "catboost-0.26.1      | 28.8 MB   | #######3   |  73% \n",
      "catboost-0.26.1      | 28.8 MB   | #######9   |  79% \n",
      "catboost-0.26.1      | 28.8 MB   | ########4  |  85% \n",
      "catboost-0.26.1      | 28.8 MB   | #########3 |  94% \n",
      "catboost-0.26.1      | 28.8 MB   | ########## | 100% \n",
      "catboost-0.26.1      | 28.8 MB   | ########## | 100% \n",
      "Preparing transaction: ...working... done\n",
      "Verifying transaction: ...working... done\n",
      "\n",
      "Note: you may need to restart the kernel to use updated packages.Executing transaction: ...working... done\n"
     ]
    },
    {
     "name": "stderr",
     "output_type": "stream",
     "text": [
      "\n",
      "\n",
      "==> WARNING: A newer version of conda exists. <==\n",
      "  current version: 4.10.1\n",
      "  latest version: 4.10.3\n",
      "\n",
      "Please update conda by running\n",
      "\n",
      "    $ conda update -n base -c defaults conda\n",
      "\n",
      "\n"
     ]
    },
    {
     "name": "stdout",
     "output_type": "stream",
     "text": [
      "\n"
     ]
    }
   ],
   "source": [
    "conda install catboost"
   ]
  },
  {
   "cell_type": "code",
   "execution_count": 42,
   "metadata": {},
   "outputs": [],
   "source": [
    "from catboost import CatBoostClassifier"
   ]
  },
  {
   "cell_type": "code",
   "execution_count": 43,
   "metadata": {},
   "outputs": [],
   "source": [
    "cbc = Pipeline(steps=[\n",
    "    ('preprocessor', preprocessor),\n",
    "    ('classifier', CatBoostClassifier())])"
   ]
  },
  {
   "cell_type": "code",
   "execution_count": 44,
   "metadata": {},
   "outputs": [
    {
     "name": "stdout",
     "output_type": "stream",
     "text": [
      "Learning rate set to 0.049826\n",
      "0:\tlearn: 0.6755647\ttotal: 213ms\tremaining: 3m 32s\n",
      "1:\tlearn: 0.6599110\ttotal: 259ms\tremaining: 2m 9s\n",
      "2:\tlearn: 0.6463422\ttotal: 295ms\tremaining: 1m 38s\n",
      "3:\tlearn: 0.6348247\ttotal: 324ms\tremaining: 1m 20s\n",
      "4:\tlearn: 0.6266172\ttotal: 357ms\tremaining: 1m 11s\n",
      "5:\tlearn: 0.6192409\ttotal: 389ms\tremaining: 1m 4s\n",
      "6:\tlearn: 0.6103050\ttotal: 423ms\tremaining: 1m\n",
      "7:\tlearn: 0.6025273\ttotal: 461ms\tremaining: 57.2s\n",
      "8:\tlearn: 0.5965877\ttotal: 498ms\tremaining: 54.8s\n",
      "9:\tlearn: 0.5904847\ttotal: 528ms\tremaining: 52.3s\n",
      "10:\tlearn: 0.5851902\ttotal: 561ms\tremaining: 50.4s\n",
      "11:\tlearn: 0.5802419\ttotal: 597ms\tremaining: 49.2s\n",
      "12:\tlearn: 0.5759181\ttotal: 637ms\tremaining: 48.4s\n",
      "13:\tlearn: 0.5724812\ttotal: 669ms\tremaining: 47.1s\n",
      "14:\tlearn: 0.5680805\ttotal: 698ms\tremaining: 45.8s\n",
      "15:\tlearn: 0.5638960\ttotal: 729ms\tremaining: 44.8s\n",
      "16:\tlearn: 0.5607442\ttotal: 759ms\tremaining: 43.9s\n",
      "17:\tlearn: 0.5576339\ttotal: 799ms\tremaining: 43.6s\n",
      "18:\tlearn: 0.5554012\ttotal: 872ms\tremaining: 45s\n",
      "19:\tlearn: 0.5529512\ttotal: 916ms\tremaining: 44.9s\n",
      "20:\tlearn: 0.5503226\ttotal: 963ms\tremaining: 44.9s\n",
      "21:\tlearn: 0.5482659\ttotal: 1.01s\tremaining: 45.1s\n",
      "22:\tlearn: 0.5459079\ttotal: 1.07s\tremaining: 45.6s\n",
      "23:\tlearn: 0.5437957\ttotal: 1.13s\tremaining: 46.2s\n",
      "24:\tlearn: 0.5408218\ttotal: 1.18s\tremaining: 45.9s\n",
      "25:\tlearn: 0.5383412\ttotal: 1.22s\tremaining: 45.8s\n",
      "26:\tlearn: 0.5364828\ttotal: 1.27s\tremaining: 45.9s\n",
      "27:\tlearn: 0.5347565\ttotal: 1.32s\tremaining: 45.7s\n",
      "28:\tlearn: 0.5329804\ttotal: 1.36s\tremaining: 45.6s\n",
      "29:\tlearn: 0.5313131\ttotal: 1.45s\tremaining: 47s\n",
      "30:\tlearn: 0.5300310\ttotal: 1.53s\tremaining: 47.9s\n",
      "31:\tlearn: 0.5284436\ttotal: 1.6s\tremaining: 48.5s\n",
      "32:\tlearn: 0.5271930\ttotal: 1.72s\tremaining: 50.5s\n",
      "33:\tlearn: 0.5254002\ttotal: 1.77s\tremaining: 50.3s\n",
      "34:\tlearn: 0.5240177\ttotal: 1.8s\tremaining: 49.6s\n",
      "35:\tlearn: 0.5223635\ttotal: 1.84s\tremaining: 49.2s\n",
      "36:\tlearn: 0.5211158\ttotal: 1.87s\tremaining: 48.7s\n",
      "37:\tlearn: 0.5199972\ttotal: 1.9s\tremaining: 48.2s\n",
      "38:\tlearn: 0.5188185\ttotal: 1.94s\tremaining: 47.8s\n",
      "39:\tlearn: 0.5178433\ttotal: 1.99s\tremaining: 47.7s\n",
      "40:\tlearn: 0.5170165\ttotal: 2.04s\tremaining: 47.7s\n",
      "41:\tlearn: 0.5160383\ttotal: 2.1s\tremaining: 47.8s\n",
      "42:\tlearn: 0.5148268\ttotal: 2.15s\tremaining: 47.8s\n",
      "43:\tlearn: 0.5136653\ttotal: 2.18s\tremaining: 47.5s\n",
      "44:\tlearn: 0.5125661\ttotal: 2.22s\tremaining: 47.1s\n",
      "45:\tlearn: 0.5115445\ttotal: 2.25s\tremaining: 46.8s\n",
      "46:\tlearn: 0.5104627\ttotal: 2.3s\tremaining: 46.6s\n",
      "47:\tlearn: 0.5097362\ttotal: 2.33s\tremaining: 46.3s\n",
      "48:\tlearn: 0.5088434\ttotal: 2.37s\tremaining: 46s\n",
      "49:\tlearn: 0.5080460\ttotal: 2.42s\tremaining: 46s\n",
      "50:\tlearn: 0.5071199\ttotal: 2.46s\tremaining: 45.8s\n",
      "51:\tlearn: 0.5054926\ttotal: 2.5s\tremaining: 45.7s\n",
      "52:\tlearn: 0.5039772\ttotal: 2.54s\tremaining: 45.4s\n",
      "53:\tlearn: 0.5032171\ttotal: 2.6s\tremaining: 45.5s\n",
      "54:\tlearn: 0.5025231\ttotal: 2.63s\tremaining: 45.2s\n",
      "55:\tlearn: 0.5010067\ttotal: 2.7s\tremaining: 45.5s\n",
      "56:\tlearn: 0.5002204\ttotal: 2.73s\tremaining: 45.1s\n",
      "57:\tlearn: 0.4994105\ttotal: 2.75s\tremaining: 44.7s\n",
      "58:\tlearn: 0.4985987\ttotal: 2.78s\tremaining: 44.4s\n",
      "59:\tlearn: 0.4979815\ttotal: 2.81s\tremaining: 44s\n",
      "60:\tlearn: 0.4969351\ttotal: 2.83s\tremaining: 43.6s\n",
      "61:\tlearn: 0.4962069\ttotal: 2.87s\tremaining: 43.4s\n",
      "62:\tlearn: 0.4957056\ttotal: 2.89s\tremaining: 43s\n",
      "63:\tlearn: 0.4949736\ttotal: 2.92s\tremaining: 42.7s\n",
      "64:\tlearn: 0.4941828\ttotal: 2.95s\tremaining: 42.4s\n",
      "65:\tlearn: 0.4935233\ttotal: 2.97s\tremaining: 42.1s\n",
      "66:\tlearn: 0.4929088\ttotal: 3s\tremaining: 41.8s\n",
      "67:\tlearn: 0.4921929\ttotal: 3.03s\tremaining: 41.5s\n",
      "68:\tlearn: 0.4915291\ttotal: 3.06s\tremaining: 41.3s\n",
      "69:\tlearn: 0.4908864\ttotal: 3.09s\tremaining: 41.1s\n",
      "70:\tlearn: 0.4904746\ttotal: 3.12s\tremaining: 40.8s\n",
      "71:\tlearn: 0.4895314\ttotal: 3.14s\tremaining: 40.5s\n",
      "72:\tlearn: 0.4888891\ttotal: 3.18s\tremaining: 40.4s\n",
      "73:\tlearn: 0.4881896\ttotal: 3.23s\tremaining: 40.4s\n",
      "74:\tlearn: 0.4876536\ttotal: 3.31s\tremaining: 40.8s\n",
      "75:\tlearn: 0.4870276\ttotal: 3.38s\tremaining: 41.1s\n",
      "76:\tlearn: 0.4865699\ttotal: 3.44s\tremaining: 41.2s\n",
      "77:\tlearn: 0.4861249\ttotal: 3.5s\tremaining: 41.3s\n",
      "78:\tlearn: 0.4856674\ttotal: 3.57s\tremaining: 41.6s\n",
      "79:\tlearn: 0.4849494\ttotal: 3.66s\tremaining: 42.1s\n",
      "80:\tlearn: 0.4843253\ttotal: 3.72s\tremaining: 42.2s\n",
      "81:\tlearn: 0.4839220\ttotal: 3.8s\tremaining: 42.5s\n",
      "82:\tlearn: 0.4834063\ttotal: 3.85s\tremaining: 42.5s\n",
      "83:\tlearn: 0.4826424\ttotal: 3.9s\tremaining: 42.5s\n",
      "84:\tlearn: 0.4821460\ttotal: 4s\tremaining: 43.1s\n",
      "85:\tlearn: 0.4817751\ttotal: 4.06s\tremaining: 43.1s\n",
      "86:\tlearn: 0.4812268\ttotal: 4.13s\tremaining: 43.4s\n",
      "87:\tlearn: 0.4806067\ttotal: 4.2s\tremaining: 43.6s\n",
      "88:\tlearn: 0.4794964\ttotal: 4.25s\tremaining: 43.5s\n",
      "89:\tlearn: 0.4789703\ttotal: 4.31s\tremaining: 43.6s\n",
      "90:\tlearn: 0.4785016\ttotal: 4.38s\tremaining: 43.7s\n",
      "91:\tlearn: 0.4780188\ttotal: 4.44s\tremaining: 43.9s\n",
      "92:\tlearn: 0.4776732\ttotal: 4.51s\tremaining: 43.9s\n",
      "93:\tlearn: 0.4772708\ttotal: 4.56s\tremaining: 44s\n",
      "94:\tlearn: 0.4769210\ttotal: 4.62s\tremaining: 44s\n",
      "95:\tlearn: 0.4765739\ttotal: 4.68s\tremaining: 44.1s\n",
      "96:\tlearn: 0.4762082\ttotal: 4.73s\tremaining: 44.1s\n",
      "97:\tlearn: 0.4756967\ttotal: 4.8s\tremaining: 44.2s\n",
      "98:\tlearn: 0.4752831\ttotal: 4.85s\tremaining: 44.1s\n",
      "99:\tlearn: 0.4744495\ttotal: 4.91s\tremaining: 44.2s\n",
      "100:\tlearn: 0.4739123\ttotal: 4.97s\tremaining: 44.2s\n",
      "101:\tlearn: 0.4734440\ttotal: 5.03s\tremaining: 44.2s\n",
      "102:\tlearn: 0.4730585\ttotal: 5.09s\tremaining: 44.3s\n",
      "103:\tlearn: 0.4726344\ttotal: 5.15s\tremaining: 44.4s\n",
      "104:\tlearn: 0.4723664\ttotal: 5.21s\tremaining: 44.4s\n",
      "105:\tlearn: 0.4719897\ttotal: 5.27s\tremaining: 44.5s\n",
      "106:\tlearn: 0.4716582\ttotal: 5.32s\tremaining: 44.4s\n",
      "107:\tlearn: 0.4714421\ttotal: 5.38s\tremaining: 44.5s\n",
      "108:\tlearn: 0.4710327\ttotal: 5.44s\tremaining: 44.5s\n",
      "109:\tlearn: 0.4706766\ttotal: 5.5s\tremaining: 44.5s\n",
      "110:\tlearn: 0.4702876\ttotal: 5.56s\tremaining: 44.5s\n",
      "111:\tlearn: 0.4699198\ttotal: 5.62s\tremaining: 44.6s\n",
      "112:\tlearn: 0.4696239\ttotal: 5.68s\tremaining: 44.6s\n",
      "113:\tlearn: 0.4691969\ttotal: 5.74s\tremaining: 44.6s\n",
      "114:\tlearn: 0.4688695\ttotal: 5.8s\tremaining: 44.6s\n",
      "115:\tlearn: 0.4683180\ttotal: 5.85s\tremaining: 44.6s\n",
      "116:\tlearn: 0.4678415\ttotal: 5.89s\tremaining: 44.5s\n",
      "117:\tlearn: 0.4674683\ttotal: 5.93s\tremaining: 44.3s\n",
      "118:\tlearn: 0.4671315\ttotal: 5.96s\tremaining: 44.1s\n",
      "119:\tlearn: 0.4668934\ttotal: 5.99s\tremaining: 44s\n",
      "120:\tlearn: 0.4666183\ttotal: 6.03s\tremaining: 43.8s\n",
      "121:\tlearn: 0.4664307\ttotal: 6.06s\tremaining: 43.6s\n",
      "122:\tlearn: 0.4659914\ttotal: 6.09s\tremaining: 43.4s\n",
      "123:\tlearn: 0.4656873\ttotal: 6.12s\tremaining: 43.2s\n",
      "124:\tlearn: 0.4654537\ttotal: 6.15s\tremaining: 43s\n",
      "125:\tlearn: 0.4651059\ttotal: 6.18s\tremaining: 42.9s\n",
      "126:\tlearn: 0.4647502\ttotal: 6.22s\tremaining: 42.8s\n",
      "127:\tlearn: 0.4643826\ttotal: 6.26s\tremaining: 42.6s\n",
      "128:\tlearn: 0.4641337\ttotal: 6.29s\tremaining: 42.5s\n",
      "129:\tlearn: 0.4637883\ttotal: 6.33s\tremaining: 42.4s\n",
      "130:\tlearn: 0.4632987\ttotal: 6.38s\tremaining: 42.3s\n",
      "131:\tlearn: 0.4628944\ttotal: 6.42s\tremaining: 42.2s\n",
      "132:\tlearn: 0.4627082\ttotal: 6.46s\tremaining: 42.1s\n",
      "133:\tlearn: 0.4623615\ttotal: 6.49s\tremaining: 41.9s\n",
      "134:\tlearn: 0.4620286\ttotal: 6.51s\tremaining: 41.7s\n",
      "135:\tlearn: 0.4614846\ttotal: 6.55s\tremaining: 41.6s\n",
      "136:\tlearn: 0.4611437\ttotal: 6.58s\tremaining: 41.5s\n",
      "137:\tlearn: 0.4608459\ttotal: 6.62s\tremaining: 41.3s\n",
      "138:\tlearn: 0.4604048\ttotal: 6.65s\tremaining: 41.2s\n",
      "139:\tlearn: 0.4601086\ttotal: 6.68s\tremaining: 41s\n",
      "140:\tlearn: 0.4597725\ttotal: 6.71s\tremaining: 40.9s\n",
      "141:\tlearn: 0.4596396\ttotal: 6.76s\tremaining: 40.9s\n",
      "142:\tlearn: 0.4592946\ttotal: 6.8s\tremaining: 40.8s\n",
      "143:\tlearn: 0.4588595\ttotal: 6.84s\tremaining: 40.7s\n",
      "144:\tlearn: 0.4585784\ttotal: 6.88s\tremaining: 40.6s\n",
      "145:\tlearn: 0.4582544\ttotal: 6.92s\tremaining: 40.5s\n",
      "146:\tlearn: 0.4580713\ttotal: 6.96s\tremaining: 40.4s\n",
      "147:\tlearn: 0.4576502\ttotal: 7.01s\tremaining: 40.4s\n",
      "148:\tlearn: 0.4572874\ttotal: 7.07s\tremaining: 40.4s\n",
      "149:\tlearn: 0.4568529\ttotal: 7.11s\tremaining: 40.3s\n",
      "150:\tlearn: 0.4565626\ttotal: 7.15s\tremaining: 40.2s\n",
      "151:\tlearn: 0.4561822\ttotal: 7.18s\tremaining: 40.1s\n",
      "152:\tlearn: 0.4557944\ttotal: 7.23s\tremaining: 40s\n",
      "153:\tlearn: 0.4555126\ttotal: 7.27s\tremaining: 39.9s\n",
      "154:\tlearn: 0.4551270\ttotal: 7.31s\tremaining: 39.9s\n",
      "155:\tlearn: 0.4549384\ttotal: 7.37s\tremaining: 39.9s\n",
      "156:\tlearn: 0.4546849\ttotal: 7.42s\tremaining: 39.9s\n",
      "157:\tlearn: 0.4544069\ttotal: 7.47s\tremaining: 39.8s\n",
      "158:\tlearn: 0.4542404\ttotal: 7.53s\tremaining: 39.8s\n",
      "159:\tlearn: 0.4539885\ttotal: 7.59s\tremaining: 39.8s\n",
      "160:\tlearn: 0.4536343\ttotal: 7.64s\tremaining: 39.8s\n",
      "161:\tlearn: 0.4532292\ttotal: 7.69s\tremaining: 39.8s\n"
     ]
    },
    {
     "name": "stdout",
     "output_type": "stream",
     "text": [
      "162:\tlearn: 0.4528760\ttotal: 7.75s\tremaining: 39.8s\n",
      "163:\tlearn: 0.4526445\ttotal: 7.82s\tremaining: 39.9s\n",
      "164:\tlearn: 0.4524121\ttotal: 7.87s\tremaining: 39.8s\n",
      "165:\tlearn: 0.4521324\ttotal: 7.92s\tremaining: 39.8s\n",
      "166:\tlearn: 0.4518370\ttotal: 7.98s\tremaining: 39.8s\n",
      "167:\tlearn: 0.4515538\ttotal: 8.03s\tremaining: 39.8s\n",
      "168:\tlearn: 0.4513075\ttotal: 8.07s\tremaining: 39.7s\n",
      "169:\tlearn: 0.4510243\ttotal: 8.13s\tremaining: 39.7s\n",
      "170:\tlearn: 0.4507767\ttotal: 8.19s\tremaining: 39.7s\n",
      "171:\tlearn: 0.4504608\ttotal: 8.24s\tremaining: 39.7s\n",
      "172:\tlearn: 0.4501942\ttotal: 8.3s\tremaining: 39.7s\n",
      "173:\tlearn: 0.4498872\ttotal: 8.36s\tremaining: 39.7s\n",
      "174:\tlearn: 0.4496414\ttotal: 8.43s\tremaining: 39.7s\n",
      "175:\tlearn: 0.4493439\ttotal: 8.48s\tremaining: 39.7s\n",
      "176:\tlearn: 0.4490648\ttotal: 8.54s\tremaining: 39.7s\n",
      "177:\tlearn: 0.4488629\ttotal: 8.62s\tremaining: 39.8s\n",
      "178:\tlearn: 0.4486981\ttotal: 8.67s\tremaining: 39.8s\n",
      "179:\tlearn: 0.4483012\ttotal: 8.73s\tremaining: 39.8s\n",
      "180:\tlearn: 0.4481182\ttotal: 8.78s\tremaining: 39.7s\n",
      "181:\tlearn: 0.4478921\ttotal: 8.81s\tremaining: 39.6s\n",
      "182:\tlearn: 0.4474766\ttotal: 8.85s\tremaining: 39.5s\n",
      "183:\tlearn: 0.4470822\ttotal: 8.87s\tremaining: 39.4s\n",
      "184:\tlearn: 0.4468909\ttotal: 8.9s\tremaining: 39.2s\n",
      "185:\tlearn: 0.4466234\ttotal: 8.93s\tremaining: 39.1s\n",
      "186:\tlearn: 0.4463707\ttotal: 8.97s\tremaining: 39s\n",
      "187:\tlearn: 0.4461631\ttotal: 9s\tremaining: 38.9s\n",
      "188:\tlearn: 0.4458549\ttotal: 9.04s\tremaining: 38.8s\n",
      "189:\tlearn: 0.4456760\ttotal: 9.07s\tremaining: 38.7s\n",
      "190:\tlearn: 0.4454435\ttotal: 9.11s\tremaining: 38.6s\n",
      "191:\tlearn: 0.4452940\ttotal: 9.17s\tremaining: 38.6s\n",
      "192:\tlearn: 0.4450552\ttotal: 9.22s\tremaining: 38.6s\n",
      "193:\tlearn: 0.4447715\ttotal: 9.29s\tremaining: 38.6s\n",
      "194:\tlearn: 0.4446081\ttotal: 9.37s\tremaining: 38.7s\n",
      "195:\tlearn: 0.4444759\ttotal: 9.43s\tremaining: 38.7s\n",
      "196:\tlearn: 0.4442119\ttotal: 9.49s\tremaining: 38.7s\n",
      "197:\tlearn: 0.4439826\ttotal: 9.54s\tremaining: 38.6s\n",
      "198:\tlearn: 0.4438071\ttotal: 9.6s\tremaining: 38.6s\n",
      "199:\tlearn: 0.4436055\ttotal: 9.65s\tremaining: 38.6s\n",
      "200:\tlearn: 0.4434077\ttotal: 9.69s\tremaining: 38.5s\n",
      "201:\tlearn: 0.4429668\ttotal: 9.73s\tremaining: 38.4s\n",
      "202:\tlearn: 0.4425940\ttotal: 9.77s\tremaining: 38.4s\n",
      "203:\tlearn: 0.4423464\ttotal: 9.84s\tremaining: 38.4s\n",
      "204:\tlearn: 0.4420906\ttotal: 9.91s\tremaining: 38.4s\n",
      "205:\tlearn: 0.4418811\ttotal: 9.96s\tremaining: 38.4s\n",
      "206:\tlearn: 0.4416322\ttotal: 10s\tremaining: 38.4s\n",
      "207:\tlearn: 0.4414207\ttotal: 10.1s\tremaining: 38.3s\n",
      "208:\tlearn: 0.4412057\ttotal: 10.1s\tremaining: 38.2s\n",
      "209:\tlearn: 0.4410490\ttotal: 10.1s\tremaining: 38.1s\n",
      "210:\tlearn: 0.4407131\ttotal: 10.2s\tremaining: 38.1s\n",
      "211:\tlearn: 0.4405167\ttotal: 10.2s\tremaining: 38s\n",
      "212:\tlearn: 0.4403407\ttotal: 10.2s\tremaining: 37.9s\n",
      "213:\tlearn: 0.4400317\ttotal: 10.3s\tremaining: 37.8s\n",
      "214:\tlearn: 0.4397405\ttotal: 10.3s\tremaining: 37.7s\n",
      "215:\tlearn: 0.4395746\ttotal: 10.3s\tremaining: 37.6s\n",
      "216:\tlearn: 0.4393487\ttotal: 10.4s\tremaining: 37.5s\n",
      "217:\tlearn: 0.4391887\ttotal: 10.4s\tremaining: 37.4s\n",
      "218:\tlearn: 0.4389096\ttotal: 10.4s\tremaining: 37.3s\n",
      "219:\tlearn: 0.4386309\ttotal: 10.5s\tremaining: 37.2s\n",
      "220:\tlearn: 0.4384584\ttotal: 10.6s\tremaining: 37.2s\n",
      "221:\tlearn: 0.4382080\ttotal: 10.6s\tremaining: 37.2s\n",
      "222:\tlearn: 0.4380419\ttotal: 10.6s\tremaining: 37.1s\n",
      "223:\tlearn: 0.4378435\ttotal: 10.7s\tremaining: 37s\n",
      "224:\tlearn: 0.4376170\ttotal: 10.7s\tremaining: 36.9s\n",
      "225:\tlearn: 0.4372782\ttotal: 10.7s\tremaining: 36.8s\n",
      "226:\tlearn: 0.4371116\ttotal: 10.8s\tremaining: 36.7s\n",
      "227:\tlearn: 0.4368831\ttotal: 10.8s\tremaining: 36.6s\n",
      "228:\tlearn: 0.4366373\ttotal: 10.8s\tremaining: 36.5s\n",
      "229:\tlearn: 0.4364500\ttotal: 10.9s\tremaining: 36.4s\n",
      "230:\tlearn: 0.4362654\ttotal: 10.9s\tremaining: 36.3s\n",
      "231:\tlearn: 0.4360373\ttotal: 10.9s\tremaining: 36.2s\n",
      "232:\tlearn: 0.4358103\ttotal: 11s\tremaining: 36.1s\n",
      "233:\tlearn: 0.4356431\ttotal: 11s\tremaining: 36s\n",
      "234:\tlearn: 0.4353447\ttotal: 11s\tremaining: 35.9s\n",
      "235:\tlearn: 0.4351745\ttotal: 11.1s\tremaining: 35.9s\n",
      "236:\tlearn: 0.4349553\ttotal: 11.1s\tremaining: 35.8s\n",
      "237:\tlearn: 0.4346285\ttotal: 11.1s\tremaining: 35.7s\n",
      "238:\tlearn: 0.4344812\ttotal: 11.2s\tremaining: 35.6s\n",
      "239:\tlearn: 0.4341020\ttotal: 11.2s\tremaining: 35.5s\n",
      "240:\tlearn: 0.4338971\ttotal: 11.2s\tremaining: 35.4s\n",
      "241:\tlearn: 0.4337274\ttotal: 11.3s\tremaining: 35.3s\n",
      "242:\tlearn: 0.4335177\ttotal: 11.3s\tremaining: 35.2s\n",
      "243:\tlearn: 0.4333289\ttotal: 11.3s\tremaining: 35.1s\n",
      "244:\tlearn: 0.4331293\ttotal: 11.4s\tremaining: 35.1s\n",
      "245:\tlearn: 0.4328621\ttotal: 11.4s\tremaining: 35s\n",
      "246:\tlearn: 0.4326642\ttotal: 11.5s\tremaining: 35.1s\n",
      "247:\tlearn: 0.4324841\ttotal: 11.5s\tremaining: 35s\n",
      "248:\tlearn: 0.4322263\ttotal: 11.6s\tremaining: 34.9s\n",
      "249:\tlearn: 0.4320701\ttotal: 11.6s\tremaining: 34.9s\n",
      "250:\tlearn: 0.4319205\ttotal: 11.7s\tremaining: 34.8s\n",
      "251:\tlearn: 0.4317871\ttotal: 11.7s\tremaining: 34.7s\n",
      "252:\tlearn: 0.4316087\ttotal: 11.8s\tremaining: 34.7s\n",
      "253:\tlearn: 0.4313448\ttotal: 11.8s\tremaining: 34.7s\n",
      "254:\tlearn: 0.4311427\ttotal: 11.9s\tremaining: 34.7s\n",
      "255:\tlearn: 0.4309266\ttotal: 11.9s\tremaining: 34.6s\n",
      "256:\tlearn: 0.4306745\ttotal: 11.9s\tremaining: 34.5s\n",
      "257:\tlearn: 0.4304409\ttotal: 12s\tremaining: 34.5s\n",
      "258:\tlearn: 0.4301840\ttotal: 12s\tremaining: 34.4s\n",
      "259:\tlearn: 0.4299528\ttotal: 12.1s\tremaining: 34.4s\n",
      "260:\tlearn: 0.4297541\ttotal: 12.1s\tremaining: 34.4s\n",
      "261:\tlearn: 0.4295424\ttotal: 12.2s\tremaining: 34.3s\n",
      "262:\tlearn: 0.4293852\ttotal: 12.2s\tremaining: 34.2s\n",
      "263:\tlearn: 0.4291816\ttotal: 12.2s\tremaining: 34.1s\n",
      "264:\tlearn: 0.4289895\ttotal: 12.3s\tremaining: 34s\n",
      "265:\tlearn: 0.4288642\ttotal: 12.3s\tremaining: 34s\n",
      "266:\tlearn: 0.4287156\ttotal: 12.3s\tremaining: 33.9s\n",
      "267:\tlearn: 0.4285480\ttotal: 12.4s\tremaining: 33.8s\n",
      "268:\tlearn: 0.4283659\ttotal: 12.4s\tremaining: 33.7s\n",
      "269:\tlearn: 0.4281614\ttotal: 12.5s\tremaining: 33.7s\n",
      "270:\tlearn: 0.4279497\ttotal: 12.5s\tremaining: 33.7s\n",
      "271:\tlearn: 0.4277859\ttotal: 12.6s\tremaining: 33.7s\n",
      "272:\tlearn: 0.4275767\ttotal: 12.6s\tremaining: 33.6s\n",
      "273:\tlearn: 0.4273983\ttotal: 12.7s\tremaining: 33.5s\n",
      "274:\tlearn: 0.4271811\ttotal: 12.7s\tremaining: 33.5s\n",
      "275:\tlearn: 0.4269727\ttotal: 12.7s\tremaining: 33.4s\n",
      "276:\tlearn: 0.4267264\ttotal: 12.8s\tremaining: 33.3s\n",
      "277:\tlearn: 0.4265497\ttotal: 12.8s\tremaining: 33.2s\n",
      "278:\tlearn: 0.4263275\ttotal: 12.8s\tremaining: 33.2s\n",
      "279:\tlearn: 0.4261217\ttotal: 12.9s\tremaining: 33.1s\n",
      "280:\tlearn: 0.4258985\ttotal: 12.9s\tremaining: 33s\n",
      "281:\tlearn: 0.4256808\ttotal: 12.9s\tremaining: 32.9s\n",
      "282:\tlearn: 0.4254663\ttotal: 13s\tremaining: 32.9s\n",
      "283:\tlearn: 0.4253236\ttotal: 13s\tremaining: 32.8s\n",
      "284:\tlearn: 0.4251111\ttotal: 13s\tremaining: 32.7s\n",
      "285:\tlearn: 0.4248561\ttotal: 13.1s\tremaining: 32.6s\n",
      "286:\tlearn: 0.4245666\ttotal: 13.1s\tremaining: 32.6s\n",
      "287:\tlearn: 0.4243933\ttotal: 13.1s\tremaining: 32.5s\n",
      "288:\tlearn: 0.4242297\ttotal: 13.2s\tremaining: 32.4s\n",
      "289:\tlearn: 0.4240804\ttotal: 13.2s\tremaining: 32.3s\n",
      "290:\tlearn: 0.4239004\ttotal: 13.2s\tremaining: 32.3s\n",
      "291:\tlearn: 0.4236811\ttotal: 13.3s\tremaining: 32.2s\n",
      "292:\tlearn: 0.4234932\ttotal: 13.3s\tremaining: 32.1s\n",
      "293:\tlearn: 0.4233696\ttotal: 13.3s\tremaining: 32s\n",
      "294:\tlearn: 0.4232456\ttotal: 13.4s\tremaining: 32s\n",
      "295:\tlearn: 0.4230985\ttotal: 13.4s\tremaining: 31.9s\n",
      "296:\tlearn: 0.4228317\ttotal: 13.4s\tremaining: 31.8s\n",
      "297:\tlearn: 0.4226174\ttotal: 13.5s\tremaining: 31.8s\n",
      "298:\tlearn: 0.4224988\ttotal: 13.5s\tremaining: 31.7s\n",
      "299:\tlearn: 0.4223247\ttotal: 13.6s\tremaining: 31.6s\n",
      "300:\tlearn: 0.4221486\ttotal: 13.6s\tremaining: 31.6s\n",
      "301:\tlearn: 0.4219342\ttotal: 13.6s\tremaining: 31.5s\n",
      "302:\tlearn: 0.4217347\ttotal: 13.7s\tremaining: 31.4s\n",
      "303:\tlearn: 0.4215099\ttotal: 13.7s\tremaining: 31.4s\n",
      "304:\tlearn: 0.4212626\ttotal: 13.7s\tremaining: 31.3s\n",
      "305:\tlearn: 0.4210933\ttotal: 13.8s\tremaining: 31.2s\n",
      "306:\tlearn: 0.4209321\ttotal: 13.8s\tremaining: 31.2s\n",
      "307:\tlearn: 0.4207956\ttotal: 13.8s\tremaining: 31.1s\n",
      "308:\tlearn: 0.4205990\ttotal: 13.9s\tremaining: 31s\n",
      "309:\tlearn: 0.4204783\ttotal: 13.9s\tremaining: 30.9s\n",
      "310:\tlearn: 0.4202102\ttotal: 13.9s\tremaining: 30.9s\n",
      "311:\tlearn: 0.4200651\ttotal: 14s\tremaining: 30.8s\n",
      "312:\tlearn: 0.4198882\ttotal: 14s\tremaining: 30.7s\n",
      "313:\tlearn: 0.4197100\ttotal: 14s\tremaining: 30.7s\n",
      "314:\tlearn: 0.4194713\ttotal: 14.1s\tremaining: 30.6s\n",
      "315:\tlearn: 0.4192593\ttotal: 14.1s\tremaining: 30.5s\n",
      "316:\tlearn: 0.4191391\ttotal: 14.1s\tremaining: 30.5s\n",
      "317:\tlearn: 0.4190301\ttotal: 14.2s\tremaining: 30.4s\n",
      "318:\tlearn: 0.4188694\ttotal: 14.2s\tremaining: 30.3s\n",
      "319:\tlearn: 0.4186899\ttotal: 14.2s\tremaining: 30.3s\n",
      "320:\tlearn: 0.4185239\ttotal: 14.3s\tremaining: 30.2s\n",
      "321:\tlearn: 0.4183432\ttotal: 14.3s\tremaining: 30.1s\n",
      "322:\tlearn: 0.4182129\ttotal: 14.3s\tremaining: 30.1s\n"
     ]
    },
    {
     "name": "stdout",
     "output_type": "stream",
     "text": [
      "323:\tlearn: 0.4179384\ttotal: 14.4s\tremaining: 30s\n",
      "324:\tlearn: 0.4177584\ttotal: 14.4s\tremaining: 30s\n",
      "325:\tlearn: 0.4175872\ttotal: 14.5s\tremaining: 29.9s\n",
      "326:\tlearn: 0.4174359\ttotal: 14.5s\tremaining: 29.8s\n",
      "327:\tlearn: 0.4172954\ttotal: 14.5s\tremaining: 29.8s\n",
      "328:\tlearn: 0.4171433\ttotal: 14.6s\tremaining: 29.7s\n",
      "329:\tlearn: 0.4170129\ttotal: 14.6s\tremaining: 29.7s\n",
      "330:\tlearn: 0.4168631\ttotal: 14.7s\tremaining: 29.6s\n",
      "331:\tlearn: 0.4166306\ttotal: 14.7s\tremaining: 29.6s\n",
      "332:\tlearn: 0.4164732\ttotal: 14.7s\tremaining: 29.5s\n",
      "333:\tlearn: 0.4162837\ttotal: 14.8s\tremaining: 29.4s\n",
      "334:\tlearn: 0.4161235\ttotal: 14.8s\tremaining: 29.4s\n",
      "335:\tlearn: 0.4159682\ttotal: 14.8s\tremaining: 29.3s\n",
      "336:\tlearn: 0.4157875\ttotal: 14.9s\tremaining: 29.3s\n",
      "337:\tlearn: 0.4156161\ttotal: 14.9s\tremaining: 29.2s\n",
      "338:\tlearn: 0.4154901\ttotal: 15s\tremaining: 29.2s\n",
      "339:\tlearn: 0.4153554\ttotal: 15s\tremaining: 29.2s\n",
      "340:\tlearn: 0.4152041\ttotal: 15.1s\tremaining: 29.2s\n",
      "341:\tlearn: 0.4150449\ttotal: 15.2s\tremaining: 29.3s\n",
      "342:\tlearn: 0.4148608\ttotal: 15.3s\tremaining: 29.2s\n",
      "343:\tlearn: 0.4146777\ttotal: 15.3s\tremaining: 29.2s\n",
      "344:\tlearn: 0.4145785\ttotal: 15.4s\tremaining: 29.2s\n",
      "345:\tlearn: 0.4144536\ttotal: 15.4s\tremaining: 29.1s\n",
      "346:\tlearn: 0.4143077\ttotal: 15.5s\tremaining: 29.1s\n",
      "347:\tlearn: 0.4141983\ttotal: 15.5s\tremaining: 29s\n",
      "348:\tlearn: 0.4139727\ttotal: 15.6s\tremaining: 29s\n",
      "349:\tlearn: 0.4138300\ttotal: 15.6s\tremaining: 29s\n",
      "350:\tlearn: 0.4136378\ttotal: 15.7s\tremaining: 28.9s\n",
      "351:\tlearn: 0.4135153\ttotal: 15.7s\tremaining: 28.9s\n",
      "352:\tlearn: 0.4134177\ttotal: 15.8s\tremaining: 28.9s\n",
      "353:\tlearn: 0.4132905\ttotal: 15.8s\tremaining: 28.9s\n",
      "354:\tlearn: 0.4131377\ttotal: 15.9s\tremaining: 28.9s\n",
      "355:\tlearn: 0.4129775\ttotal: 15.9s\tremaining: 28.8s\n",
      "356:\tlearn: 0.4127318\ttotal: 16s\tremaining: 28.8s\n",
      "357:\tlearn: 0.4125136\ttotal: 16s\tremaining: 28.7s\n",
      "358:\tlearn: 0.4123672\ttotal: 16.1s\tremaining: 28.7s\n",
      "359:\tlearn: 0.4121651\ttotal: 16.1s\tremaining: 28.6s\n",
      "360:\tlearn: 0.4120020\ttotal: 16.1s\tremaining: 28.6s\n",
      "361:\tlearn: 0.4118840\ttotal: 16.2s\tremaining: 28.5s\n",
      "362:\tlearn: 0.4117392\ttotal: 16.2s\tremaining: 28.4s\n",
      "363:\tlearn: 0.4116380\ttotal: 16.2s\tremaining: 28.4s\n",
      "364:\tlearn: 0.4115087\ttotal: 16.3s\tremaining: 28.3s\n",
      "365:\tlearn: 0.4113583\ttotal: 16.3s\tremaining: 28.2s\n",
      "366:\tlearn: 0.4111452\ttotal: 16.3s\tremaining: 28.2s\n",
      "367:\tlearn: 0.4110125\ttotal: 16.4s\tremaining: 28.1s\n",
      "368:\tlearn: 0.4108993\ttotal: 16.4s\tremaining: 28.1s\n",
      "369:\tlearn: 0.4106984\ttotal: 16.4s\tremaining: 28s\n",
      "370:\tlearn: 0.4105397\ttotal: 16.5s\tremaining: 27.9s\n",
      "371:\tlearn: 0.4104546\ttotal: 16.5s\tremaining: 27.9s\n",
      "372:\tlearn: 0.4103120\ttotal: 16.6s\tremaining: 27.8s\n",
      "373:\tlearn: 0.4101141\ttotal: 16.6s\tremaining: 27.8s\n",
      "374:\tlearn: 0.4100042\ttotal: 16.6s\tremaining: 27.7s\n",
      "375:\tlearn: 0.4098325\ttotal: 16.7s\tremaining: 27.7s\n",
      "376:\tlearn: 0.4096813\ttotal: 16.7s\tremaining: 27.6s\n",
      "377:\tlearn: 0.4095889\ttotal: 16.7s\tremaining: 27.6s\n",
      "378:\tlearn: 0.4094398\ttotal: 16.8s\tremaining: 27.5s\n",
      "379:\tlearn: 0.4092639\ttotal: 16.8s\tremaining: 27.5s\n",
      "380:\tlearn: 0.4091226\ttotal: 16.9s\tremaining: 27.4s\n",
      "381:\tlearn: 0.4089725\ttotal: 16.9s\tremaining: 27.4s\n",
      "382:\tlearn: 0.4087890\ttotal: 17s\tremaining: 27.4s\n",
      "383:\tlearn: 0.4086208\ttotal: 17s\tremaining: 27.3s\n",
      "384:\tlearn: 0.4084424\ttotal: 17.1s\tremaining: 27.2s\n",
      "385:\tlearn: 0.4082435\ttotal: 17.1s\tremaining: 27.2s\n",
      "386:\tlearn: 0.4080582\ttotal: 17.1s\tremaining: 27.1s\n",
      "387:\tlearn: 0.4079531\ttotal: 17.2s\tremaining: 27.1s\n",
      "388:\tlearn: 0.4078337\ttotal: 17.2s\tremaining: 27s\n",
      "389:\tlearn: 0.4076981\ttotal: 17.2s\tremaining: 27s\n",
      "390:\tlearn: 0.4075614\ttotal: 17.3s\tremaining: 26.9s\n",
      "391:\tlearn: 0.4074909\ttotal: 17.3s\tremaining: 26.8s\n",
      "392:\tlearn: 0.4073188\ttotal: 17.3s\tremaining: 26.8s\n",
      "393:\tlearn: 0.4071907\ttotal: 17.4s\tremaining: 26.7s\n",
      "394:\tlearn: 0.4071020\ttotal: 17.4s\tremaining: 26.7s\n",
      "395:\tlearn: 0.4069056\ttotal: 17.4s\tremaining: 26.6s\n",
      "396:\tlearn: 0.4067729\ttotal: 17.5s\tremaining: 26.5s\n",
      "397:\tlearn: 0.4066568\ttotal: 17.5s\tremaining: 26.5s\n",
      "398:\tlearn: 0.4065602\ttotal: 17.5s\tremaining: 26.4s\n",
      "399:\tlearn: 0.4064674\ttotal: 17.6s\tremaining: 26.4s\n",
      "400:\tlearn: 0.4063502\ttotal: 17.6s\tremaining: 26.3s\n",
      "401:\tlearn: 0.4062340\ttotal: 17.6s\tremaining: 26.2s\n",
      "402:\tlearn: 0.4060578\ttotal: 17.7s\tremaining: 26.2s\n",
      "403:\tlearn: 0.4059591\ttotal: 17.7s\tremaining: 26.1s\n",
      "404:\tlearn: 0.4057997\ttotal: 17.7s\tremaining: 26.1s\n",
      "405:\tlearn: 0.4056820\ttotal: 17.8s\tremaining: 26s\n",
      "406:\tlearn: 0.4055494\ttotal: 17.8s\tremaining: 26s\n",
      "407:\tlearn: 0.4054357\ttotal: 17.8s\tremaining: 25.9s\n",
      "408:\tlearn: 0.4052715\ttotal: 17.9s\tremaining: 25.8s\n",
      "409:\tlearn: 0.4051411\ttotal: 17.9s\tremaining: 25.8s\n",
      "410:\tlearn: 0.4049562\ttotal: 18s\tremaining: 25.7s\n",
      "411:\tlearn: 0.4048248\ttotal: 18s\tremaining: 25.7s\n",
      "412:\tlearn: 0.4047372\ttotal: 18.1s\tremaining: 25.7s\n",
      "413:\tlearn: 0.4046124\ttotal: 18.1s\tremaining: 25.7s\n",
      "414:\tlearn: 0.4044825\ttotal: 18.2s\tremaining: 25.6s\n",
      "415:\tlearn: 0.4043457\ttotal: 18.2s\tremaining: 25.5s\n",
      "416:\tlearn: 0.4041791\ttotal: 18.2s\tremaining: 25.5s\n",
      "417:\tlearn: 0.4040190\ttotal: 18.3s\tremaining: 25.4s\n",
      "418:\tlearn: 0.4038682\ttotal: 18.3s\tremaining: 25.4s\n",
      "419:\tlearn: 0.4036508\ttotal: 18.3s\tremaining: 25.3s\n",
      "420:\tlearn: 0.4035361\ttotal: 18.4s\tremaining: 25.3s\n",
      "421:\tlearn: 0.4034137\ttotal: 18.4s\tremaining: 25.2s\n",
      "422:\tlearn: 0.4032539\ttotal: 18.4s\tremaining: 25.1s\n",
      "423:\tlearn: 0.4031413\ttotal: 18.5s\tremaining: 25.1s\n",
      "424:\tlearn: 0.4030323\ttotal: 18.5s\tremaining: 25s\n",
      "425:\tlearn: 0.4029380\ttotal: 18.5s\tremaining: 25s\n",
      "426:\tlearn: 0.4027953\ttotal: 18.6s\tremaining: 24.9s\n",
      "427:\tlearn: 0.4026885\ttotal: 18.6s\tremaining: 24.9s\n",
      "428:\tlearn: 0.4026432\ttotal: 18.6s\tremaining: 24.8s\n",
      "429:\tlearn: 0.4024776\ttotal: 18.7s\tremaining: 24.7s\n",
      "430:\tlearn: 0.4023301\ttotal: 18.7s\tremaining: 24.7s\n",
      "431:\tlearn: 0.4022047\ttotal: 18.7s\tremaining: 24.6s\n",
      "432:\tlearn: 0.4020222\ttotal: 18.7s\tremaining: 24.6s\n",
      "433:\tlearn: 0.4019022\ttotal: 18.8s\tremaining: 24.5s\n",
      "434:\tlearn: 0.4017897\ttotal: 18.8s\tremaining: 24.4s\n",
      "435:\tlearn: 0.4016730\ttotal: 18.8s\tremaining: 24.4s\n",
      "436:\tlearn: 0.4016056\ttotal: 18.9s\tremaining: 24.3s\n",
      "437:\tlearn: 0.4015018\ttotal: 18.9s\tremaining: 24.3s\n",
      "438:\tlearn: 0.4014052\ttotal: 18.9s\tremaining: 24.2s\n",
      "439:\tlearn: 0.4012660\ttotal: 19s\tremaining: 24.2s\n",
      "440:\tlearn: 0.4011361\ttotal: 19s\tremaining: 24.1s\n",
      "441:\tlearn: 0.4009350\ttotal: 19s\tremaining: 24s\n",
      "442:\tlearn: 0.4008205\ttotal: 19.1s\tremaining: 24s\n",
      "443:\tlearn: 0.4006861\ttotal: 19.1s\tremaining: 23.9s\n",
      "444:\tlearn: 0.4005932\ttotal: 19.1s\tremaining: 23.9s\n",
      "445:\tlearn: 0.4004605\ttotal: 19.2s\tremaining: 23.8s\n",
      "446:\tlearn: 0.4003748\ttotal: 19.2s\tremaining: 23.8s\n",
      "447:\tlearn: 0.4002897\ttotal: 19.2s\tremaining: 23.7s\n",
      "448:\tlearn: 0.4001845\ttotal: 19.3s\tremaining: 23.6s\n",
      "449:\tlearn: 0.4000030\ttotal: 19.3s\tremaining: 23.6s\n",
      "450:\tlearn: 0.3998315\ttotal: 19.3s\tremaining: 23.6s\n",
      "451:\tlearn: 0.3997429\ttotal: 19.4s\tremaining: 23.5s\n",
      "452:\tlearn: 0.3996068\ttotal: 19.4s\tremaining: 23.4s\n",
      "453:\tlearn: 0.3994436\ttotal: 19.4s\tremaining: 23.4s\n",
      "454:\tlearn: 0.3993504\ttotal: 19.5s\tremaining: 23.3s\n",
      "455:\tlearn: 0.3992167\ttotal: 19.5s\tremaining: 23.3s\n",
      "456:\tlearn: 0.3990354\ttotal: 19.6s\tremaining: 23.2s\n",
      "457:\tlearn: 0.3989173\ttotal: 19.6s\tremaining: 23.2s\n",
      "458:\tlearn: 0.3988246\ttotal: 19.6s\tremaining: 23.1s\n",
      "459:\tlearn: 0.3987041\ttotal: 19.6s\tremaining: 23.1s\n",
      "460:\tlearn: 0.3986258\ttotal: 19.7s\tremaining: 23s\n",
      "461:\tlearn: 0.3984737\ttotal: 19.7s\tremaining: 23s\n",
      "462:\tlearn: 0.3983201\ttotal: 19.8s\tremaining: 22.9s\n",
      "463:\tlearn: 0.3981895\ttotal: 19.8s\tremaining: 22.9s\n",
      "464:\tlearn: 0.3980968\ttotal: 19.8s\tremaining: 22.8s\n",
      "465:\tlearn: 0.3979828\ttotal: 19.8s\tremaining: 22.7s\n",
      "466:\tlearn: 0.3978623\ttotal: 19.9s\tremaining: 22.7s\n",
      "467:\tlearn: 0.3977721\ttotal: 19.9s\tremaining: 22.6s\n",
      "468:\tlearn: 0.3976338\ttotal: 19.9s\tremaining: 22.6s\n",
      "469:\tlearn: 0.3974533\ttotal: 20s\tremaining: 22.5s\n",
      "470:\tlearn: 0.3973354\ttotal: 20s\tremaining: 22.5s\n",
      "471:\tlearn: 0.3972718\ttotal: 20s\tremaining: 22.4s\n",
      "472:\tlearn: 0.3971346\ttotal: 20.1s\tremaining: 22.4s\n",
      "473:\tlearn: 0.3970615\ttotal: 20.1s\tremaining: 22.3s\n",
      "474:\tlearn: 0.3969259\ttotal: 20.1s\tremaining: 22.3s\n",
      "475:\tlearn: 0.3968217\ttotal: 20.2s\tremaining: 22.2s\n",
      "476:\tlearn: 0.3966656\ttotal: 20.2s\tremaining: 22.2s\n",
      "477:\tlearn: 0.3965387\ttotal: 20.2s\tremaining: 22.1s\n",
      "478:\tlearn: 0.3963832\ttotal: 20.3s\tremaining: 22.1s\n",
      "479:\tlearn: 0.3962080\ttotal: 20.3s\tremaining: 22s\n",
      "480:\tlearn: 0.3961318\ttotal: 20.3s\tremaining: 22s\n",
      "481:\tlearn: 0.3960499\ttotal: 20.4s\tremaining: 21.9s\n",
      "482:\tlearn: 0.3959249\ttotal: 20.4s\tremaining: 21.8s\n",
      "483:\tlearn: 0.3958088\ttotal: 20.4s\tremaining: 21.8s\n",
      "484:\tlearn: 0.3957363\ttotal: 20.5s\tremaining: 21.7s\n"
     ]
    },
    {
     "name": "stdout",
     "output_type": "stream",
     "text": [
      "485:\tlearn: 0.3956119\ttotal: 20.5s\tremaining: 21.7s\n",
      "486:\tlearn: 0.3954771\ttotal: 20.5s\tremaining: 21.6s\n",
      "487:\tlearn: 0.3952719\ttotal: 20.6s\tremaining: 21.6s\n",
      "488:\tlearn: 0.3951383\ttotal: 20.6s\tremaining: 21.5s\n",
      "489:\tlearn: 0.3949880\ttotal: 20.6s\tremaining: 21.5s\n",
      "490:\tlearn: 0.3948737\ttotal: 20.7s\tremaining: 21.4s\n",
      "491:\tlearn: 0.3947921\ttotal: 20.7s\tremaining: 21.4s\n",
      "492:\tlearn: 0.3947155\ttotal: 20.7s\tremaining: 21.3s\n",
      "493:\tlearn: 0.3946235\ttotal: 20.8s\tremaining: 21.3s\n",
      "494:\tlearn: 0.3945288\ttotal: 20.8s\tremaining: 21.2s\n",
      "495:\tlearn: 0.3944451\ttotal: 20.8s\tremaining: 21.2s\n",
      "496:\tlearn: 0.3943649\ttotal: 20.9s\tremaining: 21.1s\n",
      "497:\tlearn: 0.3942403\ttotal: 20.9s\tremaining: 21.1s\n",
      "498:\tlearn: 0.3941868\ttotal: 21s\tremaining: 21.1s\n",
      "499:\tlearn: 0.3940241\ttotal: 21s\tremaining: 21s\n",
      "500:\tlearn: 0.3939655\ttotal: 21.1s\tremaining: 21s\n",
      "501:\tlearn: 0.3938595\ttotal: 21.1s\tremaining: 21s\n",
      "502:\tlearn: 0.3936961\ttotal: 21.2s\tremaining: 20.9s\n",
      "503:\tlearn: 0.3935453\ttotal: 21.2s\tremaining: 20.9s\n",
      "504:\tlearn: 0.3934067\ttotal: 21.3s\tremaining: 20.8s\n",
      "505:\tlearn: 0.3932300\ttotal: 21.3s\tremaining: 20.8s\n",
      "506:\tlearn: 0.3930651\ttotal: 21.4s\tremaining: 20.8s\n",
      "507:\tlearn: 0.3929980\ttotal: 21.4s\tremaining: 20.7s\n",
      "508:\tlearn: 0.3929445\ttotal: 21.4s\tremaining: 20.7s\n",
      "509:\tlearn: 0.3928420\ttotal: 21.5s\tremaining: 20.7s\n",
      "510:\tlearn: 0.3926745\ttotal: 21.6s\tremaining: 20.6s\n",
      "511:\tlearn: 0.3925578\ttotal: 21.6s\tremaining: 20.6s\n",
      "512:\tlearn: 0.3924435\ttotal: 21.7s\tremaining: 20.6s\n",
      "513:\tlearn: 0.3923146\ttotal: 21.7s\tremaining: 20.5s\n",
      "514:\tlearn: 0.3922209\ttotal: 21.7s\tremaining: 20.5s\n",
      "515:\tlearn: 0.3920569\ttotal: 21.7s\tremaining: 20.4s\n",
      "516:\tlearn: 0.3919890\ttotal: 21.8s\tremaining: 20.3s\n",
      "517:\tlearn: 0.3918900\ttotal: 21.8s\tremaining: 20.3s\n",
      "518:\tlearn: 0.3917661\ttotal: 21.8s\tremaining: 20.2s\n",
      "519:\tlearn: 0.3916523\ttotal: 21.9s\tremaining: 20.2s\n",
      "520:\tlearn: 0.3915863\ttotal: 21.9s\tremaining: 20.1s\n",
      "521:\tlearn: 0.3914871\ttotal: 21.9s\tremaining: 20.1s\n",
      "522:\tlearn: 0.3913929\ttotal: 22s\tremaining: 20s\n",
      "523:\tlearn: 0.3913327\ttotal: 22s\tremaining: 20s\n",
      "524:\tlearn: 0.3912269\ttotal: 22s\tremaining: 19.9s\n",
      "525:\tlearn: 0.3911325\ttotal: 22.1s\tremaining: 19.9s\n",
      "526:\tlearn: 0.3910520\ttotal: 22.1s\tremaining: 19.8s\n",
      "527:\tlearn: 0.3909367\ttotal: 22.1s\tremaining: 19.8s\n",
      "528:\tlearn: 0.3908387\ttotal: 22.2s\tremaining: 19.7s\n",
      "529:\tlearn: 0.3906966\ttotal: 22.2s\tremaining: 19.7s\n",
      "530:\tlearn: 0.3906351\ttotal: 22.2s\tremaining: 19.6s\n",
      "531:\tlearn: 0.3905023\ttotal: 22.3s\tremaining: 19.6s\n",
      "532:\tlearn: 0.3904121\ttotal: 22.3s\tremaining: 19.6s\n",
      "533:\tlearn: 0.3902953\ttotal: 22.3s\tremaining: 19.5s\n",
      "534:\tlearn: 0.3901884\ttotal: 22.4s\tremaining: 19.4s\n",
      "535:\tlearn: 0.3900382\ttotal: 22.4s\tremaining: 19.4s\n",
      "536:\tlearn: 0.3899040\ttotal: 22.4s\tremaining: 19.4s\n",
      "537:\tlearn: 0.3898352\ttotal: 22.5s\tremaining: 19.3s\n",
      "538:\tlearn: 0.3897324\ttotal: 22.5s\tremaining: 19.3s\n",
      "539:\tlearn: 0.3895910\ttotal: 22.5s\tremaining: 19.2s\n",
      "540:\tlearn: 0.3895208\ttotal: 22.6s\tremaining: 19.2s\n",
      "541:\tlearn: 0.3894381\ttotal: 22.6s\tremaining: 19.1s\n",
      "542:\tlearn: 0.3893363\ttotal: 22.7s\tremaining: 19.1s\n",
      "543:\tlearn: 0.3892820\ttotal: 22.7s\tremaining: 19s\n",
      "544:\tlearn: 0.3892057\ttotal: 22.7s\tremaining: 19s\n",
      "545:\tlearn: 0.3890855\ttotal: 22.8s\tremaining: 18.9s\n",
      "546:\tlearn: 0.3889829\ttotal: 22.8s\tremaining: 18.9s\n",
      "547:\tlearn: 0.3889008\ttotal: 22.8s\tremaining: 18.8s\n",
      "548:\tlearn: 0.3887466\ttotal: 22.9s\tremaining: 18.8s\n",
      "549:\tlearn: 0.3885935\ttotal: 22.9s\tremaining: 18.7s\n",
      "550:\tlearn: 0.3885245\ttotal: 22.9s\tremaining: 18.7s\n",
      "551:\tlearn: 0.3884582\ttotal: 23s\tremaining: 18.6s\n",
      "552:\tlearn: 0.3883503\ttotal: 23s\tremaining: 18.6s\n",
      "553:\tlearn: 0.3882701\ttotal: 23s\tremaining: 18.5s\n",
      "554:\tlearn: 0.3881269\ttotal: 23.1s\tremaining: 18.5s\n",
      "555:\tlearn: 0.3880229\ttotal: 23.1s\tremaining: 18.4s\n",
      "556:\tlearn: 0.3878600\ttotal: 23.1s\tremaining: 18.4s\n",
      "557:\tlearn: 0.3877284\ttotal: 23.2s\tremaining: 18.3s\n",
      "558:\tlearn: 0.3875864\ttotal: 23.2s\tremaining: 18.3s\n",
      "559:\tlearn: 0.3874741\ttotal: 23.2s\tremaining: 18.3s\n",
      "560:\tlearn: 0.3873657\ttotal: 23.3s\tremaining: 18.2s\n",
      "561:\tlearn: 0.3872656\ttotal: 23.3s\tremaining: 18.2s\n",
      "562:\tlearn: 0.3871928\ttotal: 23.3s\tremaining: 18.1s\n",
      "563:\tlearn: 0.3870974\ttotal: 23.4s\tremaining: 18.1s\n",
      "564:\tlearn: 0.3869982\ttotal: 23.4s\tremaining: 18s\n",
      "565:\tlearn: 0.3869167\ttotal: 23.4s\tremaining: 18s\n",
      "566:\tlearn: 0.3868270\ttotal: 23.5s\tremaining: 17.9s\n",
      "567:\tlearn: 0.3866967\ttotal: 23.5s\tremaining: 17.9s\n",
      "568:\tlearn: 0.3865618\ttotal: 23.5s\tremaining: 17.8s\n",
      "569:\tlearn: 0.3864490\ttotal: 23.6s\tremaining: 17.8s\n",
      "570:\tlearn: 0.3863590\ttotal: 23.6s\tremaining: 17.7s\n",
      "571:\tlearn: 0.3862767\ttotal: 23.6s\tremaining: 17.7s\n",
      "572:\tlearn: 0.3861581\ttotal: 23.7s\tremaining: 17.6s\n",
      "573:\tlearn: 0.3860388\ttotal: 23.7s\tremaining: 17.6s\n",
      "574:\tlearn: 0.3859712\ttotal: 23.7s\tremaining: 17.5s\n",
      "575:\tlearn: 0.3858559\ttotal: 23.8s\tremaining: 17.5s\n",
      "576:\tlearn: 0.3857728\ttotal: 23.8s\tremaining: 17.4s\n",
      "577:\tlearn: 0.3856908\ttotal: 23.8s\tremaining: 17.4s\n",
      "578:\tlearn: 0.3856131\ttotal: 23.8s\tremaining: 17.3s\n",
      "579:\tlearn: 0.3855018\ttotal: 23.9s\tremaining: 17.3s\n",
      "580:\tlearn: 0.3854222\ttotal: 23.9s\tremaining: 17.2s\n",
      "581:\tlearn: 0.3852871\ttotal: 23.9s\tremaining: 17.2s\n",
      "582:\tlearn: 0.3851679\ttotal: 24s\tremaining: 17.1s\n",
      "583:\tlearn: 0.3851046\ttotal: 24s\tremaining: 17.1s\n",
      "584:\tlearn: 0.3849677\ttotal: 24s\tremaining: 17.1s\n",
      "585:\tlearn: 0.3848581\ttotal: 24.1s\tremaining: 17s\n",
      "586:\tlearn: 0.3847532\ttotal: 24.1s\tremaining: 17s\n",
      "587:\tlearn: 0.3846041\ttotal: 24.1s\tremaining: 16.9s\n",
      "588:\tlearn: 0.3845269\ttotal: 24.2s\tremaining: 16.9s\n",
      "589:\tlearn: 0.3844620\ttotal: 24.2s\tremaining: 16.8s\n",
      "590:\tlearn: 0.3843606\ttotal: 24.2s\tremaining: 16.8s\n",
      "591:\tlearn: 0.3842727\ttotal: 24.3s\tremaining: 16.7s\n",
      "592:\tlearn: 0.3841903\ttotal: 24.3s\tremaining: 16.7s\n",
      "593:\tlearn: 0.3840846\ttotal: 24.3s\tremaining: 16.6s\n",
      "594:\tlearn: 0.3840093\ttotal: 24.4s\tremaining: 16.6s\n",
      "595:\tlearn: 0.3839197\ttotal: 24.4s\tremaining: 16.6s\n",
      "596:\tlearn: 0.3838726\ttotal: 24.5s\tremaining: 16.5s\n",
      "597:\tlearn: 0.3837493\ttotal: 24.5s\tremaining: 16.5s\n",
      "598:\tlearn: 0.3836692\ttotal: 24.5s\tremaining: 16.4s\n",
      "599:\tlearn: 0.3836084\ttotal: 24.6s\tremaining: 16.4s\n",
      "600:\tlearn: 0.3834914\ttotal: 24.6s\tremaining: 16.3s\n",
      "601:\tlearn: 0.3833966\ttotal: 24.6s\tremaining: 16.3s\n",
      "602:\tlearn: 0.3832396\ttotal: 24.7s\tremaining: 16.2s\n",
      "603:\tlearn: 0.3831620\ttotal: 24.7s\tremaining: 16.2s\n",
      "604:\tlearn: 0.3830769\ttotal: 24.7s\tremaining: 16.1s\n",
      "605:\tlearn: 0.3829263\ttotal: 24.8s\tremaining: 16.1s\n",
      "606:\tlearn: 0.3828508\ttotal: 24.8s\tremaining: 16.1s\n",
      "607:\tlearn: 0.3827841\ttotal: 24.8s\tremaining: 16s\n",
      "608:\tlearn: 0.3826902\ttotal: 24.9s\tremaining: 16s\n",
      "609:\tlearn: 0.3826291\ttotal: 24.9s\tremaining: 15.9s\n",
      "610:\tlearn: 0.3825397\ttotal: 24.9s\tremaining: 15.9s\n",
      "611:\tlearn: 0.3824207\ttotal: 25s\tremaining: 15.8s\n",
      "612:\tlearn: 0.3823250\ttotal: 25s\tremaining: 15.8s\n",
      "613:\tlearn: 0.3822305\ttotal: 25s\tremaining: 15.7s\n",
      "614:\tlearn: 0.3821548\ttotal: 25.1s\tremaining: 15.7s\n",
      "615:\tlearn: 0.3820712\ttotal: 25.1s\tremaining: 15.6s\n",
      "616:\tlearn: 0.3819799\ttotal: 25.1s\tremaining: 15.6s\n",
      "617:\tlearn: 0.3818575\ttotal: 25.1s\tremaining: 15.5s\n",
      "618:\tlearn: 0.3817698\ttotal: 25.2s\tremaining: 15.5s\n",
      "619:\tlearn: 0.3816932\ttotal: 25.2s\tremaining: 15.5s\n",
      "620:\tlearn: 0.3815308\ttotal: 25.3s\tremaining: 15.4s\n",
      "621:\tlearn: 0.3814878\ttotal: 25.3s\tremaining: 15.4s\n",
      "622:\tlearn: 0.3813979\ttotal: 25.3s\tremaining: 15.3s\n",
      "623:\tlearn: 0.3813211\ttotal: 25.3s\tremaining: 15.3s\n",
      "624:\tlearn: 0.3812110\ttotal: 25.4s\tremaining: 15.2s\n",
      "625:\tlearn: 0.3810918\ttotal: 25.4s\tremaining: 15.2s\n",
      "626:\tlearn: 0.3809933\ttotal: 25.5s\tremaining: 15.1s\n",
      "627:\tlearn: 0.3808866\ttotal: 25.5s\tremaining: 15.1s\n",
      "628:\tlearn: 0.3808071\ttotal: 25.5s\tremaining: 15s\n",
      "629:\tlearn: 0.3806719\ttotal: 25.5s\tremaining: 15s\n",
      "630:\tlearn: 0.3805174\ttotal: 25.6s\tremaining: 15s\n",
      "631:\tlearn: 0.3804132\ttotal: 25.6s\tremaining: 14.9s\n",
      "632:\tlearn: 0.3803070\ttotal: 25.7s\tremaining: 14.9s\n",
      "633:\tlearn: 0.3801727\ttotal: 25.7s\tremaining: 14.8s\n",
      "634:\tlearn: 0.3800656\ttotal: 25.7s\tremaining: 14.8s\n",
      "635:\tlearn: 0.3799856\ttotal: 25.8s\tremaining: 14.7s\n",
      "636:\tlearn: 0.3798844\ttotal: 25.8s\tremaining: 14.7s\n",
      "637:\tlearn: 0.3797958\ttotal: 25.8s\tremaining: 14.7s\n",
      "638:\tlearn: 0.3797467\ttotal: 25.9s\tremaining: 14.6s\n",
      "639:\tlearn: 0.3796256\ttotal: 25.9s\tremaining: 14.6s\n",
      "640:\tlearn: 0.3795346\ttotal: 25.9s\tremaining: 14.5s\n",
      "641:\tlearn: 0.3794162\ttotal: 26s\tremaining: 14.5s\n",
      "642:\tlearn: 0.3793126\ttotal: 26s\tremaining: 14.4s\n",
      "643:\tlearn: 0.3791826\ttotal: 26s\tremaining: 14.4s\n"
     ]
    },
    {
     "name": "stdout",
     "output_type": "stream",
     "text": [
      "644:\tlearn: 0.3790496\ttotal: 26.1s\tremaining: 14.4s\n",
      "645:\tlearn: 0.3789324\ttotal: 26.1s\tremaining: 14.3s\n",
      "646:\tlearn: 0.3788513\ttotal: 26.1s\tremaining: 14.3s\n",
      "647:\tlearn: 0.3787839\ttotal: 26.2s\tremaining: 14.2s\n",
      "648:\tlearn: 0.3786943\ttotal: 26.2s\tremaining: 14.2s\n",
      "649:\tlearn: 0.3786120\ttotal: 26.2s\tremaining: 14.1s\n",
      "650:\tlearn: 0.3785379\ttotal: 26.3s\tremaining: 14.1s\n",
      "651:\tlearn: 0.3784702\ttotal: 26.3s\tremaining: 14s\n",
      "652:\tlearn: 0.3783662\ttotal: 26.3s\tremaining: 14s\n",
      "653:\tlearn: 0.3782499\ttotal: 26.4s\tremaining: 14s\n",
      "654:\tlearn: 0.3781106\ttotal: 26.4s\tremaining: 13.9s\n",
      "655:\tlearn: 0.3780348\ttotal: 26.4s\tremaining: 13.9s\n",
      "656:\tlearn: 0.3779592\ttotal: 26.5s\tremaining: 13.8s\n",
      "657:\tlearn: 0.3778935\ttotal: 26.5s\tremaining: 13.8s\n",
      "658:\tlearn: 0.3778022\ttotal: 26.5s\tremaining: 13.7s\n",
      "659:\tlearn: 0.3777216\ttotal: 26.6s\tremaining: 13.7s\n",
      "660:\tlearn: 0.3776544\ttotal: 26.6s\tremaining: 13.7s\n",
      "661:\tlearn: 0.3775330\ttotal: 26.7s\tremaining: 13.6s\n",
      "662:\tlearn: 0.3774541\ttotal: 26.7s\tremaining: 13.6s\n",
      "663:\tlearn: 0.3773773\ttotal: 26.8s\tremaining: 13.6s\n",
      "664:\tlearn: 0.3772542\ttotal: 26.8s\tremaining: 13.5s\n",
      "665:\tlearn: 0.3771576\ttotal: 26.9s\tremaining: 13.5s\n",
      "666:\tlearn: 0.3770847\ttotal: 26.9s\tremaining: 13.4s\n",
      "667:\tlearn: 0.3770146\ttotal: 27s\tremaining: 13.4s\n",
      "668:\tlearn: 0.3768859\ttotal: 27s\tremaining: 13.4s\n",
      "669:\tlearn: 0.3767704\ttotal: 27.1s\tremaining: 13.3s\n",
      "670:\tlearn: 0.3766681\ttotal: 27.1s\tremaining: 13.3s\n",
      "671:\tlearn: 0.3765789\ttotal: 27.2s\tremaining: 13.3s\n",
      "672:\tlearn: 0.3764744\ttotal: 27.2s\tremaining: 13.2s\n",
      "673:\tlearn: 0.3764490\ttotal: 27.3s\tremaining: 13.2s\n",
      "674:\tlearn: 0.3763711\ttotal: 27.3s\tremaining: 13.2s\n",
      "675:\tlearn: 0.3762597\ttotal: 27.4s\tremaining: 13.1s\n",
      "676:\tlearn: 0.3761829\ttotal: 27.4s\tremaining: 13.1s\n",
      "677:\tlearn: 0.3761180\ttotal: 27.4s\tremaining: 13s\n",
      "678:\tlearn: 0.3760182\ttotal: 27.5s\tremaining: 13s\n",
      "679:\tlearn: 0.3759009\ttotal: 27.5s\tremaining: 12.9s\n",
      "680:\tlearn: 0.3757868\ttotal: 27.5s\tremaining: 12.9s\n",
      "681:\tlearn: 0.3757039\ttotal: 27.6s\tremaining: 12.9s\n",
      "682:\tlearn: 0.3756212\ttotal: 27.6s\tremaining: 12.8s\n",
      "683:\tlearn: 0.3755133\ttotal: 27.6s\tremaining: 12.8s\n",
      "684:\tlearn: 0.3754685\ttotal: 27.7s\tremaining: 12.7s\n",
      "685:\tlearn: 0.3753924\ttotal: 27.7s\tremaining: 12.7s\n",
      "686:\tlearn: 0.3752937\ttotal: 27.7s\tremaining: 12.6s\n",
      "687:\tlearn: 0.3752437\ttotal: 27.8s\tremaining: 12.6s\n",
      "688:\tlearn: 0.3751570\ttotal: 27.8s\tremaining: 12.5s\n",
      "689:\tlearn: 0.3750922\ttotal: 27.8s\tremaining: 12.5s\n",
      "690:\tlearn: 0.3749832\ttotal: 27.8s\tremaining: 12.5s\n",
      "691:\tlearn: 0.3749248\ttotal: 27.9s\tremaining: 12.4s\n",
      "692:\tlearn: 0.3748351\ttotal: 27.9s\tremaining: 12.4s\n",
      "693:\tlearn: 0.3747544\ttotal: 28s\tremaining: 12.3s\n",
      "694:\tlearn: 0.3746018\ttotal: 28s\tremaining: 12.3s\n",
      "695:\tlearn: 0.3745289\ttotal: 28s\tremaining: 12.2s\n",
      "696:\tlearn: 0.3744754\ttotal: 28s\tremaining: 12.2s\n",
      "697:\tlearn: 0.3744101\ttotal: 28.1s\tremaining: 12.1s\n",
      "698:\tlearn: 0.3743512\ttotal: 28.1s\tremaining: 12.1s\n",
      "699:\tlearn: 0.3742494\ttotal: 28.1s\tremaining: 12.1s\n",
      "700:\tlearn: 0.3741896\ttotal: 28.2s\tremaining: 12s\n",
      "701:\tlearn: 0.3741477\ttotal: 28.2s\tremaining: 12s\n",
      "702:\tlearn: 0.3740491\ttotal: 28.2s\tremaining: 11.9s\n",
      "703:\tlearn: 0.3739928\ttotal: 28.3s\tremaining: 11.9s\n",
      "704:\tlearn: 0.3739434\ttotal: 28.3s\tremaining: 11.8s\n",
      "705:\tlearn: 0.3738396\ttotal: 28.3s\tremaining: 11.8s\n",
      "706:\tlearn: 0.3737438\ttotal: 28.4s\tremaining: 11.8s\n",
      "707:\tlearn: 0.3736723\ttotal: 28.4s\tremaining: 11.7s\n",
      "708:\tlearn: 0.3735819\ttotal: 28.4s\tremaining: 11.7s\n",
      "709:\tlearn: 0.3735180\ttotal: 28.5s\tremaining: 11.6s\n",
      "710:\tlearn: 0.3734314\ttotal: 28.5s\tremaining: 11.6s\n",
      "711:\tlearn: 0.3733417\ttotal: 28.5s\tremaining: 11.5s\n",
      "712:\tlearn: 0.3732541\ttotal: 28.6s\tremaining: 11.5s\n",
      "713:\tlearn: 0.3731383\ttotal: 28.6s\tremaining: 11.5s\n",
      "714:\tlearn: 0.3730484\ttotal: 28.6s\tremaining: 11.4s\n",
      "715:\tlearn: 0.3729736\ttotal: 28.6s\tremaining: 11.4s\n",
      "716:\tlearn: 0.3728841\ttotal: 28.7s\tremaining: 11.3s\n",
      "717:\tlearn: 0.3728026\ttotal: 28.7s\tremaining: 11.3s\n",
      "718:\tlearn: 0.3727045\ttotal: 28.8s\tremaining: 11.2s\n",
      "719:\tlearn: 0.3726369\ttotal: 28.8s\tremaining: 11.2s\n",
      "720:\tlearn: 0.3725395\ttotal: 28.8s\tremaining: 11.2s\n",
      "721:\tlearn: 0.3724301\ttotal: 28.9s\tremaining: 11.1s\n",
      "722:\tlearn: 0.3723415\ttotal: 28.9s\tremaining: 11.1s\n",
      "723:\tlearn: 0.3722382\ttotal: 28.9s\tremaining: 11s\n",
      "724:\tlearn: 0.3721198\ttotal: 29s\tremaining: 11s\n",
      "725:\tlearn: 0.3720715\ttotal: 29s\tremaining: 10.9s\n",
      "726:\tlearn: 0.3719896\ttotal: 29s\tremaining: 10.9s\n",
      "727:\tlearn: 0.3718778\ttotal: 29.1s\tremaining: 10.9s\n",
      "728:\tlearn: 0.3718028\ttotal: 29.1s\tremaining: 10.8s\n",
      "729:\tlearn: 0.3717182\ttotal: 29.1s\tremaining: 10.8s\n",
      "730:\tlearn: 0.3716444\ttotal: 29.2s\tremaining: 10.7s\n",
      "731:\tlearn: 0.3715548\ttotal: 29.2s\tremaining: 10.7s\n",
      "732:\tlearn: 0.3714892\ttotal: 29.2s\tremaining: 10.6s\n",
      "733:\tlearn: 0.3714384\ttotal: 29.3s\tremaining: 10.6s\n",
      "734:\tlearn: 0.3713436\ttotal: 29.3s\tremaining: 10.6s\n",
      "735:\tlearn: 0.3712752\ttotal: 29.3s\tremaining: 10.5s\n",
      "736:\tlearn: 0.3711683\ttotal: 29.4s\tremaining: 10.5s\n",
      "737:\tlearn: 0.3710870\ttotal: 29.4s\tremaining: 10.4s\n",
      "738:\tlearn: 0.3709610\ttotal: 29.4s\tremaining: 10.4s\n",
      "739:\tlearn: 0.3708889\ttotal: 29.5s\tremaining: 10.3s\n",
      "740:\tlearn: 0.3708177\ttotal: 29.5s\tremaining: 10.3s\n",
      "741:\tlearn: 0.3707597\ttotal: 29.5s\tremaining: 10.3s\n",
      "742:\tlearn: 0.3706877\ttotal: 29.5s\tremaining: 10.2s\n",
      "743:\tlearn: 0.3706095\ttotal: 29.6s\tremaining: 10.2s\n",
      "744:\tlearn: 0.3705336\ttotal: 29.6s\tremaining: 10.1s\n",
      "745:\tlearn: 0.3704737\ttotal: 29.7s\tremaining: 10.1s\n",
      "746:\tlearn: 0.3704014\ttotal: 29.7s\tremaining: 10.1s\n",
      "747:\tlearn: 0.3703026\ttotal: 29.7s\tremaining: 10s\n",
      "748:\tlearn: 0.3702303\ttotal: 29.7s\tremaining: 9.97s\n",
      "749:\tlearn: 0.3701575\ttotal: 29.8s\tremaining: 9.93s\n",
      "750:\tlearn: 0.3700511\ttotal: 29.8s\tremaining: 9.89s\n",
      "751:\tlearn: 0.3699558\ttotal: 29.8s\tremaining: 9.84s\n",
      "752:\tlearn: 0.3698563\ttotal: 29.9s\tremaining: 9.8s\n",
      "753:\tlearn: 0.3697422\ttotal: 29.9s\tremaining: 9.76s\n",
      "754:\tlearn: 0.3696572\ttotal: 29.9s\tremaining: 9.72s\n",
      "755:\tlearn: 0.3695718\ttotal: 30s\tremaining: 9.68s\n",
      "756:\tlearn: 0.3694559\ttotal: 30s\tremaining: 9.63s\n",
      "757:\tlearn: 0.3693812\ttotal: 30s\tremaining: 9.59s\n",
      "758:\tlearn: 0.3693075\ttotal: 30.1s\tremaining: 9.55s\n",
      "759:\tlearn: 0.3691983\ttotal: 30.1s\tremaining: 9.51s\n",
      "760:\tlearn: 0.3691255\ttotal: 30.1s\tremaining: 9.46s\n",
      "761:\tlearn: 0.3690663\ttotal: 30.2s\tremaining: 9.42s\n",
      "762:\tlearn: 0.3689848\ttotal: 30.2s\tremaining: 9.38s\n",
      "763:\tlearn: 0.3688989\ttotal: 30.2s\tremaining: 9.34s\n",
      "764:\tlearn: 0.3688271\ttotal: 30.3s\tremaining: 9.3s\n",
      "765:\tlearn: 0.3687837\ttotal: 30.3s\tremaining: 9.26s\n",
      "766:\tlearn: 0.3687017\ttotal: 30.3s\tremaining: 9.22s\n",
      "767:\tlearn: 0.3686542\ttotal: 30.4s\tremaining: 9.17s\n",
      "768:\tlearn: 0.3685740\ttotal: 30.4s\tremaining: 9.13s\n",
      "769:\tlearn: 0.3685010\ttotal: 30.4s\tremaining: 9.09s\n",
      "770:\tlearn: 0.3684274\ttotal: 30.5s\tremaining: 9.05s\n",
      "771:\tlearn: 0.3683537\ttotal: 30.5s\tremaining: 9.01s\n",
      "772:\tlearn: 0.3682558\ttotal: 30.5s\tremaining: 8.97s\n",
      "773:\tlearn: 0.3681640\ttotal: 30.6s\tremaining: 8.93s\n",
      "774:\tlearn: 0.3680537\ttotal: 30.6s\tremaining: 8.88s\n",
      "775:\tlearn: 0.3679830\ttotal: 30.6s\tremaining: 8.84s\n",
      "776:\tlearn: 0.3679262\ttotal: 30.7s\tremaining: 8.8s\n",
      "777:\tlearn: 0.3678592\ttotal: 30.7s\tremaining: 8.76s\n",
      "778:\tlearn: 0.3677702\ttotal: 30.7s\tremaining: 8.72s\n",
      "779:\tlearn: 0.3677022\ttotal: 30.8s\tremaining: 8.68s\n",
      "780:\tlearn: 0.3676406\ttotal: 30.8s\tremaining: 8.63s\n",
      "781:\tlearn: 0.3675937\ttotal: 30.8s\tremaining: 8.59s\n",
      "782:\tlearn: 0.3675164\ttotal: 30.9s\tremaining: 8.55s\n",
      "783:\tlearn: 0.3674015\ttotal: 30.9s\tremaining: 8.51s\n",
      "784:\tlearn: 0.3672789\ttotal: 30.9s\tremaining: 8.47s\n",
      "785:\tlearn: 0.3671780\ttotal: 31s\tremaining: 8.43s\n",
      "786:\tlearn: 0.3670224\ttotal: 31s\tremaining: 8.39s\n",
      "787:\tlearn: 0.3669157\ttotal: 31s\tremaining: 8.34s\n",
      "788:\tlearn: 0.3668602\ttotal: 31.1s\tremaining: 8.3s\n",
      "789:\tlearn: 0.3667693\ttotal: 31.1s\tremaining: 8.26s\n",
      "790:\tlearn: 0.3666793\ttotal: 31.1s\tremaining: 8.22s\n",
      "791:\tlearn: 0.3666139\ttotal: 31.1s\tremaining: 8.18s\n",
      "792:\tlearn: 0.3665556\ttotal: 31.2s\tremaining: 8.14s\n",
      "793:\tlearn: 0.3664976\ttotal: 31.2s\tremaining: 8.1s\n",
      "794:\tlearn: 0.3664244\ttotal: 31.2s\tremaining: 8.05s\n",
      "795:\tlearn: 0.3663488\ttotal: 31.3s\tremaining: 8.01s\n",
      "796:\tlearn: 0.3662712\ttotal: 31.3s\tremaining: 7.97s\n",
      "797:\tlearn: 0.3662055\ttotal: 31.3s\tremaining: 7.93s\n",
      "798:\tlearn: 0.3660993\ttotal: 31.4s\tremaining: 7.89s\n",
      "799:\tlearn: 0.3660202\ttotal: 31.4s\tremaining: 7.85s\n",
      "800:\tlearn: 0.3659501\ttotal: 31.4s\tremaining: 7.81s\n",
      "801:\tlearn: 0.3658841\ttotal: 31.5s\tremaining: 7.77s\n",
      "802:\tlearn: 0.3658384\ttotal: 31.5s\tremaining: 7.73s\n",
      "803:\tlearn: 0.3657684\ttotal: 31.5s\tremaining: 7.69s\n",
      "804:\tlearn: 0.3657015\ttotal: 31.6s\tremaining: 7.64s\n",
      "805:\tlearn: 0.3656436\ttotal: 31.6s\tremaining: 7.6s\n"
     ]
    },
    {
     "name": "stdout",
     "output_type": "stream",
     "text": [
      "806:\tlearn: 0.3655656\ttotal: 31.6s\tremaining: 7.56s\n",
      "807:\tlearn: 0.3655206\ttotal: 31.7s\tremaining: 7.52s\n",
      "808:\tlearn: 0.3654305\ttotal: 31.7s\tremaining: 7.48s\n",
      "809:\tlearn: 0.3653661\ttotal: 31.7s\tremaining: 7.44s\n",
      "810:\tlearn: 0.3652708\ttotal: 31.7s\tremaining: 7.4s\n",
      "811:\tlearn: 0.3651998\ttotal: 31.8s\tremaining: 7.36s\n",
      "812:\tlearn: 0.3651374\ttotal: 31.8s\tremaining: 7.32s\n",
      "813:\tlearn: 0.3650837\ttotal: 31.8s\tremaining: 7.28s\n",
      "814:\tlearn: 0.3650380\ttotal: 31.9s\tremaining: 7.23s\n",
      "815:\tlearn: 0.3649870\ttotal: 31.9s\tremaining: 7.19s\n",
      "816:\tlearn: 0.3649158\ttotal: 31.9s\tremaining: 7.15s\n",
      "817:\tlearn: 0.3648238\ttotal: 32s\tremaining: 7.11s\n",
      "818:\tlearn: 0.3647645\ttotal: 32s\tremaining: 7.07s\n",
      "819:\tlearn: 0.3647057\ttotal: 32s\tremaining: 7.03s\n",
      "820:\tlearn: 0.3646299\ttotal: 32s\tremaining: 6.99s\n",
      "821:\tlearn: 0.3645306\ttotal: 32.1s\tremaining: 6.95s\n",
      "822:\tlearn: 0.3644274\ttotal: 32.1s\tremaining: 6.91s\n",
      "823:\tlearn: 0.3643863\ttotal: 32.1s\tremaining: 6.87s\n",
      "824:\tlearn: 0.3643283\ttotal: 32.2s\tremaining: 6.82s\n",
      "825:\tlearn: 0.3642388\ttotal: 32.2s\tremaining: 6.78s\n",
      "826:\tlearn: 0.3641409\ttotal: 32.2s\tremaining: 6.74s\n",
      "827:\tlearn: 0.3640921\ttotal: 32.3s\tremaining: 6.7s\n",
      "828:\tlearn: 0.3640236\ttotal: 32.3s\tremaining: 6.66s\n",
      "829:\tlearn: 0.3639512\ttotal: 32.3s\tremaining: 6.62s\n",
      "830:\tlearn: 0.3639010\ttotal: 32.4s\tremaining: 6.58s\n",
      "831:\tlearn: 0.3638262\ttotal: 32.4s\tremaining: 6.55s\n",
      "832:\tlearn: 0.3637539\ttotal: 32.5s\tremaining: 6.51s\n",
      "833:\tlearn: 0.3636951\ttotal: 32.5s\tremaining: 6.47s\n",
      "834:\tlearn: 0.3636310\ttotal: 32.6s\tremaining: 6.44s\n",
      "835:\tlearn: 0.3635179\ttotal: 32.6s\tremaining: 6.4s\n",
      "836:\tlearn: 0.3634426\ttotal: 32.7s\tremaining: 6.36s\n",
      "837:\tlearn: 0.3633574\ttotal: 32.7s\tremaining: 6.33s\n",
      "838:\tlearn: 0.3633088\ttotal: 32.8s\tremaining: 6.29s\n",
      "839:\tlearn: 0.3632288\ttotal: 32.8s\tremaining: 6.25s\n",
      "840:\tlearn: 0.3631462\ttotal: 32.8s\tremaining: 6.21s\n",
      "841:\tlearn: 0.3630841\ttotal: 32.9s\tremaining: 6.17s\n",
      "842:\tlearn: 0.3630022\ttotal: 32.9s\tremaining: 6.13s\n",
      "843:\tlearn: 0.3629402\ttotal: 33s\tremaining: 6.1s\n",
      "844:\tlearn: 0.3628197\ttotal: 33s\tremaining: 6.06s\n",
      "845:\tlearn: 0.3627452\ttotal: 33.1s\tremaining: 6.02s\n",
      "846:\tlearn: 0.3626861\ttotal: 33.1s\tremaining: 5.98s\n",
      "847:\tlearn: 0.3626475\ttotal: 33.1s\tremaining: 5.94s\n",
      "848:\tlearn: 0.3625597\ttotal: 33.2s\tremaining: 5.9s\n",
      "849:\tlearn: 0.3625113\ttotal: 33.2s\tremaining: 5.86s\n",
      "850:\tlearn: 0.3624222\ttotal: 33.2s\tremaining: 5.82s\n",
      "851:\tlearn: 0.3623762\ttotal: 33.3s\tremaining: 5.78s\n",
      "852:\tlearn: 0.3623016\ttotal: 33.3s\tremaining: 5.74s\n",
      "853:\tlearn: 0.3622280\ttotal: 33.3s\tremaining: 5.7s\n",
      "854:\tlearn: 0.3621587\ttotal: 33.4s\tremaining: 5.66s\n",
      "855:\tlearn: 0.3620838\ttotal: 33.4s\tremaining: 5.62s\n",
      "856:\tlearn: 0.3620348\ttotal: 33.4s\tremaining: 5.57s\n",
      "857:\tlearn: 0.3619524\ttotal: 33.4s\tremaining: 5.54s\n",
      "858:\tlearn: 0.3618596\ttotal: 33.5s\tremaining: 5.49s\n",
      "859:\tlearn: 0.3617968\ttotal: 33.5s\tremaining: 5.46s\n",
      "860:\tlearn: 0.3617271\ttotal: 33.5s\tremaining: 5.42s\n",
      "861:\tlearn: 0.3616462\ttotal: 33.6s\tremaining: 5.37s\n",
      "862:\tlearn: 0.3615802\ttotal: 33.6s\tremaining: 5.33s\n",
      "863:\tlearn: 0.3615050\ttotal: 33.6s\tremaining: 5.29s\n",
      "864:\tlearn: 0.3614301\ttotal: 33.7s\tremaining: 5.25s\n",
      "865:\tlearn: 0.3613595\ttotal: 33.7s\tremaining: 5.21s\n",
      "866:\tlearn: 0.3613163\ttotal: 33.7s\tremaining: 5.17s\n",
      "867:\tlearn: 0.3612238\ttotal: 33.8s\tremaining: 5.13s\n",
      "868:\tlearn: 0.3611733\ttotal: 33.8s\tremaining: 5.09s\n",
      "869:\tlearn: 0.3610713\ttotal: 33.8s\tremaining: 5.05s\n",
      "870:\tlearn: 0.3610203\ttotal: 33.8s\tremaining: 5.01s\n",
      "871:\tlearn: 0.3609398\ttotal: 33.9s\tremaining: 4.97s\n",
      "872:\tlearn: 0.3608892\ttotal: 33.9s\tremaining: 4.93s\n",
      "873:\tlearn: 0.3608045\ttotal: 33.9s\tremaining: 4.89s\n",
      "874:\tlearn: 0.3606956\ttotal: 34s\tremaining: 4.85s\n",
      "875:\tlearn: 0.3606258\ttotal: 34s\tremaining: 4.81s\n",
      "876:\tlearn: 0.3605915\ttotal: 34s\tremaining: 4.77s\n",
      "877:\tlearn: 0.3605051\ttotal: 34.1s\tremaining: 4.73s\n",
      "878:\tlearn: 0.3603864\ttotal: 34.1s\tremaining: 4.69s\n",
      "879:\tlearn: 0.3603109\ttotal: 34.1s\tremaining: 4.66s\n",
      "880:\tlearn: 0.3602479\ttotal: 34.2s\tremaining: 4.62s\n",
      "881:\tlearn: 0.3601744\ttotal: 34.2s\tremaining: 4.58s\n",
      "882:\tlearn: 0.3600823\ttotal: 34.2s\tremaining: 4.54s\n",
      "883:\tlearn: 0.3600122\ttotal: 34.3s\tremaining: 4.5s\n",
      "884:\tlearn: 0.3599419\ttotal: 34.3s\tremaining: 4.46s\n",
      "885:\tlearn: 0.3598769\ttotal: 34.3s\tremaining: 4.42s\n",
      "886:\tlearn: 0.3598237\ttotal: 34.4s\tremaining: 4.38s\n",
      "887:\tlearn: 0.3597082\ttotal: 34.4s\tremaining: 4.34s\n",
      "888:\tlearn: 0.3596069\ttotal: 34.4s\tremaining: 4.3s\n",
      "889:\tlearn: 0.3595589\ttotal: 34.5s\tremaining: 4.26s\n",
      "890:\tlearn: 0.3594771\ttotal: 34.5s\tremaining: 4.22s\n",
      "891:\tlearn: 0.3593927\ttotal: 34.5s\tremaining: 4.18s\n",
      "892:\tlearn: 0.3593393\ttotal: 34.6s\tremaining: 4.14s\n",
      "893:\tlearn: 0.3593155\ttotal: 34.6s\tremaining: 4.11s\n",
      "894:\tlearn: 0.3592186\ttotal: 34.7s\tremaining: 4.07s\n",
      "895:\tlearn: 0.3591566\ttotal: 34.7s\tremaining: 4.03s\n",
      "896:\tlearn: 0.3590876\ttotal: 34.7s\tremaining: 3.99s\n",
      "897:\tlearn: 0.3590091\ttotal: 34.7s\tremaining: 3.95s\n",
      "898:\tlearn: 0.3589383\ttotal: 34.8s\tremaining: 3.91s\n",
      "899:\tlearn: 0.3588316\ttotal: 34.8s\tremaining: 3.87s\n",
      "900:\tlearn: 0.3587719\ttotal: 34.9s\tremaining: 3.83s\n",
      "901:\tlearn: 0.3587226\ttotal: 34.9s\tremaining: 3.79s\n",
      "902:\tlearn: 0.3586499\ttotal: 34.9s\tremaining: 3.75s\n",
      "903:\tlearn: 0.3585440\ttotal: 34.9s\tremaining: 3.71s\n",
      "904:\tlearn: 0.3584657\ttotal: 35s\tremaining: 3.67s\n",
      "905:\tlearn: 0.3583908\ttotal: 35s\tremaining: 3.63s\n",
      "906:\tlearn: 0.3583201\ttotal: 35s\tremaining: 3.59s\n",
      "907:\tlearn: 0.3582505\ttotal: 35.1s\tremaining: 3.55s\n",
      "908:\tlearn: 0.3581722\ttotal: 35.1s\tremaining: 3.51s\n",
      "909:\tlearn: 0.3580720\ttotal: 35.1s\tremaining: 3.47s\n",
      "910:\tlearn: 0.3579630\ttotal: 35.2s\tremaining: 3.44s\n",
      "911:\tlearn: 0.3578759\ttotal: 35.2s\tremaining: 3.4s\n",
      "912:\tlearn: 0.3577647\ttotal: 35.2s\tremaining: 3.36s\n",
      "913:\tlearn: 0.3577181\ttotal: 35.3s\tremaining: 3.32s\n",
      "914:\tlearn: 0.3576718\ttotal: 35.3s\tremaining: 3.28s\n",
      "915:\tlearn: 0.3576227\ttotal: 35.3s\tremaining: 3.24s\n",
      "916:\tlearn: 0.3575437\ttotal: 35.4s\tremaining: 3.2s\n",
      "917:\tlearn: 0.3574686\ttotal: 35.4s\tremaining: 3.16s\n",
      "918:\tlearn: 0.3573496\ttotal: 35.4s\tremaining: 3.12s\n",
      "919:\tlearn: 0.3573066\ttotal: 35.5s\tremaining: 3.08s\n",
      "920:\tlearn: 0.3572323\ttotal: 35.5s\tremaining: 3.04s\n",
      "921:\tlearn: 0.3571408\ttotal: 35.5s\tremaining: 3.01s\n",
      "922:\tlearn: 0.3570556\ttotal: 35.6s\tremaining: 2.97s\n",
      "923:\tlearn: 0.3569766\ttotal: 35.6s\tremaining: 2.93s\n",
      "924:\tlearn: 0.3569099\ttotal: 35.6s\tremaining: 2.89s\n",
      "925:\tlearn: 0.3568445\ttotal: 35.7s\tremaining: 2.85s\n",
      "926:\tlearn: 0.3567833\ttotal: 35.7s\tremaining: 2.81s\n",
      "927:\tlearn: 0.3567083\ttotal: 35.7s\tremaining: 2.77s\n",
      "928:\tlearn: 0.3566002\ttotal: 35.8s\tremaining: 2.73s\n",
      "929:\tlearn: 0.3565156\ttotal: 35.8s\tremaining: 2.69s\n",
      "930:\tlearn: 0.3563949\ttotal: 35.8s\tremaining: 2.65s\n",
      "931:\tlearn: 0.3563424\ttotal: 35.9s\tremaining: 2.62s\n",
      "932:\tlearn: 0.3562868\ttotal: 35.9s\tremaining: 2.58s\n",
      "933:\tlearn: 0.3562198\ttotal: 35.9s\tremaining: 2.54s\n",
      "934:\tlearn: 0.3561724\ttotal: 36s\tremaining: 2.5s\n",
      "935:\tlearn: 0.3561034\ttotal: 36s\tremaining: 2.46s\n",
      "936:\tlearn: 0.3560183\ttotal: 36s\tremaining: 2.42s\n",
      "937:\tlearn: 0.3559364\ttotal: 36s\tremaining: 2.38s\n",
      "938:\tlearn: 0.3558766\ttotal: 36.1s\tremaining: 2.34s\n",
      "939:\tlearn: 0.3558363\ttotal: 36.1s\tremaining: 2.3s\n",
      "940:\tlearn: 0.3557542\ttotal: 36.1s\tremaining: 2.27s\n",
      "941:\tlearn: 0.3556663\ttotal: 36.2s\tremaining: 2.23s\n",
      "942:\tlearn: 0.3556143\ttotal: 36.2s\tremaining: 2.19s\n",
      "943:\tlearn: 0.3555467\ttotal: 36.2s\tremaining: 2.15s\n",
      "944:\tlearn: 0.3554502\ttotal: 36.3s\tremaining: 2.11s\n",
      "945:\tlearn: 0.3553613\ttotal: 36.3s\tremaining: 2.07s\n",
      "946:\tlearn: 0.3553095\ttotal: 36.3s\tremaining: 2.03s\n",
      "947:\tlearn: 0.3552849\ttotal: 36.4s\tremaining: 1.99s\n",
      "948:\tlearn: 0.3552089\ttotal: 36.4s\tremaining: 1.96s\n",
      "949:\tlearn: 0.3551607\ttotal: 36.4s\tremaining: 1.92s\n",
      "950:\tlearn: 0.3550942\ttotal: 36.5s\tremaining: 1.88s\n",
      "951:\tlearn: 0.3550091\ttotal: 36.5s\tremaining: 1.84s\n",
      "952:\tlearn: 0.3549449\ttotal: 36.5s\tremaining: 1.8s\n",
      "953:\tlearn: 0.3548695\ttotal: 36.5s\tremaining: 1.76s\n",
      "954:\tlearn: 0.3548197\ttotal: 36.6s\tremaining: 1.72s\n",
      "955:\tlearn: 0.3547615\ttotal: 36.6s\tremaining: 1.69s\n",
      "956:\tlearn: 0.3546869\ttotal: 36.6s\tremaining: 1.65s\n",
      "957:\tlearn: 0.3546076\ttotal: 36.7s\tremaining: 1.61s\n",
      "958:\tlearn: 0.3545195\ttotal: 36.7s\tremaining: 1.57s\n",
      "959:\tlearn: 0.3544620\ttotal: 36.7s\tremaining: 1.53s\n",
      "960:\tlearn: 0.3543938\ttotal: 36.8s\tremaining: 1.49s\n",
      "961:\tlearn: 0.3543538\ttotal: 36.8s\tremaining: 1.45s\n",
      "962:\tlearn: 0.3542602\ttotal: 36.8s\tremaining: 1.42s\n",
      "963:\tlearn: 0.3542074\ttotal: 36.9s\tremaining: 1.38s\n",
      "964:\tlearn: 0.3541365\ttotal: 36.9s\tremaining: 1.34s\n",
      "965:\tlearn: 0.3540693\ttotal: 36.9s\tremaining: 1.3s\n"
     ]
    },
    {
     "name": "stdout",
     "output_type": "stream",
     "text": [
      "966:\tlearn: 0.3539641\ttotal: 37s\tremaining: 1.26s\n",
      "967:\tlearn: 0.3538793\ttotal: 37s\tremaining: 1.22s\n",
      "968:\tlearn: 0.3538000\ttotal: 37s\tremaining: 1.18s\n",
      "969:\tlearn: 0.3537346\ttotal: 37.1s\tremaining: 1.15s\n",
      "970:\tlearn: 0.3536828\ttotal: 37.1s\tremaining: 1.11s\n",
      "971:\tlearn: 0.3536259\ttotal: 37.1s\tremaining: 1.07s\n",
      "972:\tlearn: 0.3535586\ttotal: 37.2s\tremaining: 1.03s\n",
      "973:\tlearn: 0.3534698\ttotal: 37.2s\tremaining: 993ms\n",
      "974:\tlearn: 0.3534155\ttotal: 37.2s\tremaining: 954ms\n",
      "975:\tlearn: 0.3533717\ttotal: 37.2s\tremaining: 916ms\n",
      "976:\tlearn: 0.3532579\ttotal: 37.3s\tremaining: 878ms\n",
      "977:\tlearn: 0.3531975\ttotal: 37.3s\tremaining: 839ms\n",
      "978:\tlearn: 0.3531229\ttotal: 37.3s\tremaining: 801ms\n",
      "979:\tlearn: 0.3530704\ttotal: 37.4s\tremaining: 763ms\n",
      "980:\tlearn: 0.3529838\ttotal: 37.4s\tremaining: 725ms\n",
      "981:\tlearn: 0.3529045\ttotal: 37.4s\tremaining: 686ms\n",
      "982:\tlearn: 0.3528219\ttotal: 37.5s\tremaining: 648ms\n",
      "983:\tlearn: 0.3527519\ttotal: 37.5s\tremaining: 610ms\n",
      "984:\tlearn: 0.3526895\ttotal: 37.5s\tremaining: 571ms\n",
      "985:\tlearn: 0.3526446\ttotal: 37.6s\tremaining: 533ms\n",
      "986:\tlearn: 0.3525487\ttotal: 37.6s\tremaining: 495ms\n",
      "987:\tlearn: 0.3524810\ttotal: 37.6s\tremaining: 457ms\n",
      "988:\tlearn: 0.3523902\ttotal: 37.7s\tremaining: 419ms\n",
      "989:\tlearn: 0.3522965\ttotal: 37.7s\tremaining: 381ms\n",
      "990:\tlearn: 0.3522688\ttotal: 37.7s\tremaining: 342ms\n",
      "991:\tlearn: 0.3522199\ttotal: 37.7s\tremaining: 304ms\n",
      "992:\tlearn: 0.3521192\ttotal: 37.8s\tremaining: 266ms\n",
      "993:\tlearn: 0.3520294\ttotal: 37.8s\tremaining: 228ms\n",
      "994:\tlearn: 0.3519845\ttotal: 37.8s\tremaining: 190ms\n",
      "995:\tlearn: 0.3518920\ttotal: 37.9s\tremaining: 152ms\n",
      "996:\tlearn: 0.3518467\ttotal: 37.9s\tremaining: 114ms\n",
      "997:\tlearn: 0.3517604\ttotal: 37.9s\tremaining: 76ms\n",
      "998:\tlearn: 0.3516926\ttotal: 38s\tremaining: 38ms\n",
      "999:\tlearn: 0.3516473\ttotal: 38s\tremaining: 0us\n"
     ]
    },
    {
     "data": {
      "text/plain": [
       "Pipeline(steps=[('preprocessor',\n",
       "                 ColumnTransformer(transformers=[('ohe',\n",
       "                                                  Pipeline(steps=[('ohe_imputer',\n",
       "                                                                   SimpleImputer(fill_value=0,\n",
       "                                                                                 strategy='constant')),\n",
       "                                                                  ('oh_encoder',\n",
       "                                                                   OneHotEncoder(handle_unknown='ignore'))]),\n",
       "                                                  ['public_meeting',\n",
       "                                                   'recorded_by', 'permit']),\n",
       "                                                 ('freq',\n",
       "                                                  Pipeline(steps=[('freq_encoder',\n",
       "                                                                   CountEncoder(combine_min_nan_groups=True,\n",
       "                                                                                min_group_size=0.05...\n",
       "                                                   'payment', 'payment_type',\n",
       "                                                   'water_quality',\n",
       "                                                   'quality_group', 'quantity',\n",
       "                                                   'source', 'source_class',\n",
       "                                                   'waterpoint_type_group']),\n",
       "                                                 ('scaler',\n",
       "                                                  Pipeline(steps=[('scaler',\n",
       "                                                                   StandardScaler())]),\n",
       "                                                  ['amount_tsh', 'gps_height',\n",
       "                                                   'longitude', 'latitude',\n",
       "                                                   'region_code',\n",
       "                                                   'district_code',\n",
       "                                                   'population',\n",
       "                                                   'construction_year'])])),\n",
       "                ('classifier',\n",
       "                 <catboost.core.CatBoostClassifier object at 0x0000015F0A904A90>)])"
      ]
     },
     "execution_count": 44,
     "metadata": {},
     "output_type": "execute_result"
    }
   ],
   "source": [
    "cbc.fit(X_train, y_train)"
   ]
  },
  {
   "cell_type": "code",
   "execution_count": 46,
   "metadata": {},
   "outputs": [
    {
     "name": "stdout",
     "output_type": "stream",
     "text": [
      "Accuracy Score:\n",
      "Train - 0.8485846115475745\n",
      "Test - 0.803890759446315\n",
      "  \n",
      "Precision Score:\n",
      "Train - 0.8266159066457006\n",
      "Test - 0.7835230084116774\n",
      "  \n",
      "Recall Score: \n",
      "Train - 0.9139406139909411\n",
      "Test - 0.8791117279666898\n",
      "  \n",
      "F1 Score: \n",
      "Train - 0.8680876952827935\n",
      "Test - 0.8285695598142455\n",
      "  \n",
      "ROC_AUC: \n",
      "Train - 0.8421002554547313\n",
      "Test - 0.7975104094378903\n",
      "  \n",
      "  \n",
      "Confusion matrix for test data\n"
     ]
    },
    {
     "data": {
      "text/plain": [
       "<sklearn.metrics._plot.confusion_matrix.ConfusionMatrixDisplay at 0x15f09568610>"
      ]
     },
     "execution_count": 46,
     "metadata": {},
     "output_type": "execute_result"
    },
    {
     "data": {
      "image/png": "[encoded data removed]",
      "text/plain": [
       "<Figure size 432x288 with 2 Axes>"
      ]
     },
     "metadata": {
      "needs_background": "light"
     },
     "output_type": "display_data"
    }
   ],
   "source": [
    "evaluate(cbc, X_train, y_train, X_val, y_val)"
   ]
  },
  {
   "cell_type": "markdown",
   "metadata": {},
   "source": [
    "## Evaluation\n",
    "\n",
    "The evaluation of each model should accompany the creation of each model, and you should be sure to evaluate your models consistently.\n",
    "\n",
    "Evaluate how well your work solves the stated business problem. \n",
    "\n",
    "Questions to consider:\n",
    "\n",
    "- How do you interpret the results?\n",
    "- How well does your model fit your data? How much better is this than your baseline model? Is it over or under fit?\n",
    "- How well does your model/data fit any relevant modeling assumptions?\n",
    "\n",
    "For the final model, you might also consider:\n",
    "\n",
    "- How confident are you that your results would generalize beyond the data you have?\n",
    "- How confident are you that this model would benefit the business if put into use?\n",
    "- What does this final model tell you about the relationship between your inputs and outputs?"
   ]
  },
  {
   "cell_type": "markdown",
   "metadata": {},
   "source": [
    "CatBoost Benefits:\n",
    "- "
   ]
  },
  {
   "cell_type": "markdown",
   "metadata": {},
   "source": [
    "### 'Final' Model\n",
    "\n",
    "In the end, you'll arrive at a 'final' model - aka the one you'll use to make your recommendations/conclusions. This likely blends any group work. It might not be the one with the highest scores, but instead might be considered 'final' or 'best' for other reasons."
   ]
  },
  {
   "cell_type": "code",
   "execution_count": 53,
   "metadata": {},
   "outputs": [],
   "source": [
    "# code here to show your final model"
   ]
  },
  {
   "cell_type": "code",
   "execution_count": 47,
   "metadata": {},
   "outputs": [],
   "source": [
    "importance = cbc['classifier'].get_feature_importance()"
   ]
  },
  {
   "cell_type": "code",
   "execution_count": 48,
   "metadata": {},
   "outputs": [],
   "source": [
    "ohe_cols_after = cbc['preprocessor'].transformers_[0][1]['oh_encoder'].get_feature_names(ohe_cols)"
   ]
  },
  {
   "cell_type": "code",
   "execution_count": 49,
   "metadata": {},
   "outputs": [
    {
     "data": {
      "text/plain": [
       "array(['public_meeting_False', 'public_meeting_True',\n",
       "       'recorded_by_GeoData Consultants Ltd', 'permit_0', 'permit_True'],\n",
       "      dtype=object)"
      ]
     },
     "execution_count": 49,
     "metadata": {},
     "output_type": "execute_result"
    }
   ],
   "source": [
    "ohe_cols_after"
   ]
  },
  {
   "cell_type": "code",
   "execution_count": 50,
   "metadata": {},
   "outputs": [],
   "source": [
    "columns = []\n",
    "for c in num_cols:\n",
    "    columns.append(c)\n",
    "for c in ohe_cols_after:\n",
    "    columns.append(c)\n",
    "for c in freq_cols:\n",
    "    columns.append(c)"
   ]
  },
  {
   "cell_type": "code",
   "execution_count": 51,
   "metadata": {},
   "outputs": [
    {
     "data": {
      "text/plain": [
       "['amount_tsh',\n",
       " 'gps_height',\n",
       " 'longitude',\n",
       " 'latitude',\n",
       " 'region_code',\n",
       " 'district_code',\n",
       " 'population',\n",
       " 'construction_year',\n",
       " 'public_meeting_False',\n",
       " 'public_meeting_True',\n",
       " 'recorded_by_GeoData Consultants Ltd',\n",
       " 'permit_0',\n",
       " 'permit_True',\n",
       " 'date_recorded',\n",
       " 'funder',\n",
       " 'installer',\n",
       " 'wpt_name',\n",
       " 'basin',\n",
       " 'subvillage',\n",
       " 'region',\n",
       " 'lga',\n",
       " 'ward',\n",
       " 'scheme_management',\n",
       " 'scheme_name',\n",
       " 'extraction_type',\n",
       " 'extraction_type_group',\n",
       " 'extraction_type_class',\n",
       " 'management',\n",
       " 'management_group',\n",
       " 'payment',\n",
       " 'payment_type',\n",
       " 'water_quality',\n",
       " 'quality_group',\n",
       " 'quantity',\n",
       " 'source',\n",
       " 'source_class',\n",
       " 'waterpoint_type_group']"
      ]
     },
     "execution_count": 51,
     "metadata": {},
     "output_type": "execute_result"
    }
   ],
   "source": [
    "columns"
   ]
  },
  {
   "cell_type": "code",
   "execution_count": 52,
   "metadata": {},
   "outputs": [],
   "source": [
    "# zip columns with importance\n",
    "dict_importance = dict(zip(columns,importance))"
   ]
  },
  {
   "cell_type": "code",
   "execution_count": 53,
   "metadata": {},
   "outputs": [
    {
     "data": {
      "text/html": [
       "<div>\n",
       "<style scoped>\n",
       "    .dataframe tbody tr th:only-of-type {\n",
       "        vertical-align: middle;\n",
       "    }\n",
       "\n",
       "    .dataframe tbody tr th {\n",
       "        vertical-align: top;\n",
       "    }\n",
       "\n",
       "    .dataframe thead th {\n",
       "        text-align: right;\n",
       "    }\n",
       "</style>\n",
       "<table border=\"1\" class=\"dataframe\">\n",
       "  <thead>\n",
       "    <tr style=\"text-align: right;\">\n",
       "      <th></th>\n",
       "      <th>0</th>\n",
       "    </tr>\n",
       "  </thead>\n",
       "  <tbody>\n",
       "    <tr>\n",
       "      <th>extraction_type_group</th>\n",
       "      <td>26.856391</td>\n",
       "    </tr>\n",
       "    <tr>\n",
       "      <th>water_quality</th>\n",
       "      <td>5.593642</td>\n",
       "    </tr>\n",
       "    <tr>\n",
       "      <th>waterpoint_type_group</th>\n",
       "      <td>5.441777</td>\n",
       "    </tr>\n",
       "    <tr>\n",
       "      <th>management_group</th>\n",
       "      <td>4.968896</td>\n",
       "    </tr>\n",
       "    <tr>\n",
       "      <th>permit_True</th>\n",
       "      <td>4.414670</td>\n",
       "    </tr>\n",
       "    <tr>\n",
       "      <th>quality_group</th>\n",
       "      <td>4.386290</td>\n",
       "    </tr>\n",
       "    <tr>\n",
       "      <th>payment_type</th>\n",
       "      <td>3.655051</td>\n",
       "    </tr>\n",
       "    <tr>\n",
       "      <th>subvillage</th>\n",
       "      <td>3.593219</td>\n",
       "    </tr>\n",
       "    <tr>\n",
       "      <th>date_recorded</th>\n",
       "      <td>3.094912</td>\n",
       "    </tr>\n",
       "    <tr>\n",
       "      <th>district_code</th>\n",
       "      <td>3.014549</td>\n",
       "    </tr>\n",
       "    <tr>\n",
       "      <th>source_class</th>\n",
       "      <td>2.947804</td>\n",
       "    </tr>\n",
       "    <tr>\n",
       "      <th>source</th>\n",
       "      <td>2.569101</td>\n",
       "    </tr>\n",
       "    <tr>\n",
       "      <th>installer</th>\n",
       "      <td>2.544603</td>\n",
       "    </tr>\n",
       "    <tr>\n",
       "      <th>payment</th>\n",
       "      <td>2.398740</td>\n",
       "    </tr>\n",
       "    <tr>\n",
       "      <th>extraction_type_class</th>\n",
       "      <td>2.217038</td>\n",
       "    </tr>\n",
       "    <tr>\n",
       "      <th>quantity</th>\n",
       "      <td>2.174653</td>\n",
       "    </tr>\n",
       "    <tr>\n",
       "      <th>ward</th>\n",
       "      <td>1.929594</td>\n",
       "    </tr>\n",
       "    <tr>\n",
       "      <th>permit_0</th>\n",
       "      <td>1.860632</td>\n",
       "    </tr>\n",
       "    <tr>\n",
       "      <th>public_meeting_True</th>\n",
       "      <td>1.832411</td>\n",
       "    </tr>\n",
       "    <tr>\n",
       "      <th>population</th>\n",
       "      <td>1.646855</td>\n",
       "    </tr>\n",
       "    <tr>\n",
       "      <th>basin</th>\n",
       "      <td>1.493836</td>\n",
       "    </tr>\n",
       "    <tr>\n",
       "      <th>recorded_by_GeoData Consultants Ltd</th>\n",
       "      <td>1.486083</td>\n",
       "    </tr>\n",
       "    <tr>\n",
       "      <th>scheme_management</th>\n",
       "      <td>1.457900</td>\n",
       "    </tr>\n",
       "    <tr>\n",
       "      <th>wpt_name</th>\n",
       "      <td>1.280597</td>\n",
       "    </tr>\n",
       "    <tr>\n",
       "      <th>lga</th>\n",
       "      <td>1.133942</td>\n",
       "    </tr>\n",
       "    <tr>\n",
       "      <th>region</th>\n",
       "      <td>1.091274</td>\n",
       "    </tr>\n",
       "    <tr>\n",
       "      <th>funder</th>\n",
       "      <td>0.867441</td>\n",
       "    </tr>\n",
       "    <tr>\n",
       "      <th>construction_year</th>\n",
       "      <td>0.857344</td>\n",
       "    </tr>\n",
       "    <tr>\n",
       "      <th>management</th>\n",
       "      <td>0.779352</td>\n",
       "    </tr>\n",
       "    <tr>\n",
       "      <th>extraction_type</th>\n",
       "      <td>0.522874</td>\n",
       "    </tr>\n",
       "    <tr>\n",
       "      <th>gps_height</th>\n",
       "      <td>0.402665</td>\n",
       "    </tr>\n",
       "    <tr>\n",
       "      <th>amount_tsh</th>\n",
       "      <td>0.382704</td>\n",
       "    </tr>\n",
       "    <tr>\n",
       "      <th>region_code</th>\n",
       "      <td>0.365763</td>\n",
       "    </tr>\n",
       "    <tr>\n",
       "      <th>scheme_name</th>\n",
       "      <td>0.287674</td>\n",
       "    </tr>\n",
       "    <tr>\n",
       "      <th>latitude</th>\n",
       "      <td>0.286303</td>\n",
       "    </tr>\n",
       "    <tr>\n",
       "      <th>public_meeting_False</th>\n",
       "      <td>0.163419</td>\n",
       "    </tr>\n",
       "    <tr>\n",
       "      <th>longitude</th>\n",
       "      <td>0.000000</td>\n",
       "    </tr>\n",
       "  </tbody>\n",
       "</table>\n",
       "</div>"
      ],
      "text/plain": [
       "                                             0\n",
       "extraction_type_group                26.856391\n",
       "water_quality                         5.593642\n",
       "waterpoint_type_group                 5.441777\n",
       "management_group                      4.968896\n",
       "permit_True                           4.414670\n",
       "quality_group                         4.386290\n",
       "payment_type                          3.655051\n",
       "subvillage                            3.593219\n",
       "date_recorded                         3.094912\n",
       "district_code                         3.014549\n",
       "source_class                          2.947804\n",
       "source                                2.569101\n",
       "installer                             2.544603\n",
       "payment                               2.398740\n",
       "extraction_type_class                 2.217038\n",
       "quantity                              2.174653\n",
       "ward                                  1.929594\n",
       "permit_0                              1.860632\n",
       "public_meeting_True                   1.832411\n",
       "population                            1.646855\n",
       "basin                                 1.493836\n",
       "recorded_by_GeoData Consultants Ltd   1.486083\n",
       "scheme_management                     1.457900\n",
       "wpt_name                              1.280597\n",
       "lga                                   1.133942\n",
       "region                                1.091274\n",
       "funder                                0.867441\n",
       "construction_year                     0.857344\n",
       "management                            0.779352\n",
       "extraction_type                       0.522874\n",
       "gps_height                            0.402665\n",
       "amount_tsh                            0.382704\n",
       "region_code                           0.365763\n",
       "scheme_name                           0.287674\n",
       "latitude                              0.286303\n",
       "public_meeting_False                  0.163419\n",
       "longitude                             0.000000"
      ]
     },
     "execution_count": 53,
     "metadata": {},
     "output_type": "execute_result"
    }
   ],
   "source": [
    "pd.DataFrame.from_dict(dict_importance, orient = 'index').sort_values(by=0, ascending=False)"
   ]
  },
  {
   "cell_type": "code",
   "execution_count": 54,
   "metadata": {},
   "outputs": [
    {
     "data": {
      "text/plain": [
       "gravity            0.450842\n",
       "nira/tanira        0.137273\n",
       "other              0.108249\n",
       "submersible        0.104024\n",
       "swn 80             0.061785\n",
       "mono               0.048232\n",
       "india mark ii      0.040404\n",
       "afridev            0.029798\n",
       "rope pump          0.007593\n",
       "other handpump     0.006128\n",
       "other motorpump    0.002054\n",
       "wind-powered       0.001970\n",
       "india mark iii     0.001650\n",
       "Name: extraction_type_group, dtype: float64"
      ]
     },
     "execution_count": 54,
     "metadata": {},
     "output_type": "execute_result"
    }
   ],
   "source": [
    "X['extraction_type_group'].value_counts(normalize=True)"
   ]
  },
  {
   "cell_type": "code",
   "execution_count": 55,
   "metadata": {},
   "outputs": [
    {
     "name": "stdout",
     "output_type": "stream",
     "text": [
      "Accuracy Score:\n",
      "Train - 0.8485846115475745\n",
      "Test - 0.8087542087542088\n",
      "  \n",
      "Precision Score:\n",
      "Train - 0.8266159066457006\n",
      "Test - 0.7885746289554747\n",
      "  \n",
      "Recall Score: \n",
      "Train - 0.9139406139909411\n",
      "Test - 0.8808257741632781\n",
      "  \n",
      "F1 Score: \n",
      "Train - 0.8680876952827935\n",
      "Test - 0.8321513002364066\n",
      "  \n",
      "ROC_AUC: \n",
      "Train - 0.8421002554547313\n",
      "Test - 0.8027898466149967\n",
      "  \n",
      "  \n",
      "Confusion matrix for test data\n"
     ]
    },
    {
     "data": {
      "text/plain": [
       "<sklearn.metrics._plot.confusion_matrix.ConfusionMatrixDisplay at 0x15f0afd5460>"
      ]
     },
     "execution_count": 55,
     "metadata": {},
     "output_type": "execute_result"
    },
    {
     "data": {
      "image/png": "[encoded data removed]",
      "text/plain": [
       "<Figure size 432x288 with 2 Axes>"
      ]
     },
     "metadata": {
      "needs_background": "light"
     },
     "output_type": "display_data"
    }
   ],
   "source": [
    "# evaluate our final model using unseen holdout data\n",
    "evaluate(cbc, X_train, y_train, X_holdout, y_holdout)"
   ]
  },
  {
   "cell_type": "markdown",
   "metadata": {},
   "source": [
    "Our model generated very similar accuracy and precision metrics when applied to unseen holdout data.\n"
   ]
  },
  {
   "cell_type": "markdown",
   "metadata": {},
   "source": [
    "Model 1: Baseline\n",
    "    - Precision: .54\n",
    "    - Accuracy: .54\n",
    "    \n",
    "Model 2: Logistic Regression\n",
    "    - Precision: .64\n",
    "    - Accuracy: .66\n",
    "    \n",
    "Model 3: KNN\n",
    "    - Precision: .76\n",
    "    - Accuracy: .75\n",
    "    \n",
    "Model 4: Simple Decision Tree\n",
    "    - Precision: .79\n",
    "    - Accuracy: .77\n",
    "\n",
    "Model 5: Gridsearch Decision Tree\n",
    "    - Precision: .74\n",
    "    - Accuracy: .76\n",
    "\n",
    "Model 6: Random Forest\n",
    "    - Precision: .74\n",
    "    - Accuracy: .78\n",
    "\n",
    "Model 7: CatBoost\n",
    "    - Precision: .78\n",
    "    - Accuracy: .80"
   ]
  },
  {
   "cell_type": "code",
   "execution_count": 109,
   "metadata": {},
   "outputs": [
    {
     "data": {
      "image/png": "[encoded data removed]",
      "text/plain": [
       "<Figure size 720x360 with 1 Axes>"
      ]
     },
     "metadata": {
      "needs_background": "light"
     },
     "output_type": "display_data"
    }
   ],
   "source": [
    "import matplotlib.pyplot as plt\n",
    "\n",
    "#plot a bar chart with the improved modeling accuracy and precision results\n",
    "\n",
    "index = [\"Baseline Model\", \"Logistic Regression\", \"K Nearest Neighbors\", \"Decision Tree\", \"Gridsearch DT\", \"Random Forest\", \"CatBoost\"]\n",
    "precis = [.54, .64, .76, .79, .74, .74, .78]\n",
    "accur = [.54, .66, .75, .77, .76, .78, .80]\n",
    "\n",
    "df = pd.DataFrame({\"Precision\": precis, \"Accuracy\": accur}, index=index)\n",
    "ax = df.plot.bar(rot=0, figsize=(10,5))\n",
    "plt.setp(ax.get_xticklabels(), rotation=30, horizontalalignment='right');\n",
    "plt.axhline(y=0.78, color='g', linestyle=':', label=\"precision\")\n",
    "plt.axhline(y=0.8, color='r', linestyle=':', label=\"accuracy\")\n",
    "plt.legend((\"Final Model Precision Score\", \"Final Model Accuracy Score\", \"Precision\", \"Accuracy\"))\n",
    "plt.show()\n",
    "#plot a horizontal bar chart containing the results from the feature importance exercise"
   ]
  },
  {
   "cell_type": "markdown",
   "metadata": {},
   "source": [
    "## Conclusions\n",
    "\n",
    "Provide your conclusions about the work you've done, including any limitations or next steps.\n",
    "\n",
    "Questions to consider:\n",
    "\n",
    "- What would you recommend the business do as a result of this work?\n",
    "- How could the stakeholder use your model effectively?\n",
    "- What are some reasons why your analysis might not fully solve the business problem?\n",
    "- What else could you do in the future to improve this project (future work)?\n"
   ]
  },
  {
   "cell_type": "markdown",
   "metadata": {},
   "source": [
    "### Next Steps"
   ]
  },
  {
   "cell_type": "code",
   "execution_count": null,
   "metadata": {},
   "outputs": [],
   "source": []
  }
 ],
 "metadata": {
  "kernelspec": {
   "display_name": "Python (learn-env)",
   "language": "python",
   "name": "learn-env"
  },
  "language_info": {
   "codemirror_mode": {
    "name": "ipython",
    "version": 3
   },
   "file_extension": ".py",
   "mimetype": "text/x-python",
   "name": "python",
   "nbconvert_exporter": "python",
   "pygments_lexer": "ipython3",
   "version": "3.8.5"
  }
 },
 "nbformat": 4,
 "nbformat_minor": 4
}
