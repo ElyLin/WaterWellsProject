{
 "cells": [
  {
   "cell_type": "markdown",
   "metadata": {},
   "source": [
    "# Tanzanian Water Wells Project"
   ]
  },
  {
   "cell_type": "markdown",
   "metadata": {},
   "source": [
    "## Overview\n",
    "\n",
    "A one-paragraph overview of the project, including the business problem, data, methods, results and recommendations.\n",
    "\n",
    "## Business Problem\n",
    "\n",
    "- Predict the condition of the water wells in Tanzania\n",
    "\n",
    "### End Users:\n",
    "\n",
    "- Governments, NGOs\n",
    "\n",
    "### True business problem:\n",
    "\n",
    "- Create a model that can, if given data of the water wells , predict if the water well needs repair. \n",
    "\n",
    "### Context:\n",
    "\n",
    "- **False positive** in this context: Predicts that an water well doesn't need repair but it actually does.\n",
    "    - **Outcome**: The people can't get water from the well.\n",
    "    \n",
    "- **False negative** in this context: Predicts that an water well needs repair but it actually doesn't.\n",
    "\n",
    "    - **Outcome**: Waste money/human resources on checking the well.\n",
    "\n",
    "### Evaluation \n",
    "\n",
    "Which metric (of the ones we've explore so far) would make sense to primarily use as we evaluate our models?\n",
    "\n",
    "- **Accuracy**\n",
    "- **Precision**\n",
    "- Recall\n",
    "- F1-Score\n",
    "\n",
    "We can focus on accuracy for ease of use, but should also be maximizing our Precision Score and minimizing False Positives, because false positives are more costly than false negatives."
   ]
  },
  {
   "cell_type": "markdown",
   "metadata": {},
   "source": [
    "## Data Understanding\n",
    "\n",
    "Describe the data being used for this project.\n",
    "\n",
    "Questions to consider:\n",
    "\n",
    "- Where did the data come from, and how do they relate to the data analysis questions?\n",
    "- What do the data represent? Who is in the sample and what variables are included?\n",
    "- What is the target variable?\n",
    "- What are the properties of the variables you intend to use?"
   ]
  },
  {
   "cell_type": "markdown",
   "metadata": {},
   "source": [
    "### Training Set Values Exploration"
   ]
  },
  {
   "cell_type": "code",
   "execution_count": 4,
   "metadata": {},
   "outputs": [],
   "source": [
    "# import pandas\n",
    "import pandas as pd\n",
    "# read training data values\n",
    "X = pd.read_csv(\"../data/Pump_it_Up_Data_Mining_the_Water_Table_-_Training_set_values.csv\", index_col='id')"
   ]
  },
  {
   "cell_type": "code",
   "execution_count": 5,
   "metadata": {},
   "outputs": [
    {
     "data": {
      "text/html": [
       "<div>\n",
       "<style scoped>\n",
       "    .dataframe tbody tr th:only-of-type {\n",
       "        vertical-align: middle;\n",
       "    }\n",
       "\n",
       "    .dataframe tbody tr th {\n",
       "        vertical-align: top;\n",
       "    }\n",
       "\n",
       "    .dataframe thead th {\n",
       "        text-align: right;\n",
       "    }\n",
       "</style>\n",
       "<table border=\"1\" class=\"dataframe\">\n",
       "  <thead>\n",
       "    <tr style=\"text-align: right;\">\n",
       "      <th></th>\n",
       "      <th>amount_tsh</th>\n",
       "      <th>date_recorded</th>\n",
       "      <th>funder</th>\n",
       "      <th>gps_height</th>\n",
       "      <th>installer</th>\n",
       "      <th>longitude</th>\n",
       "      <th>latitude</th>\n",
       "      <th>wpt_name</th>\n",
       "      <th>num_private</th>\n",
       "      <th>basin</th>\n",
       "      <th>...</th>\n",
       "      <th>payment_type</th>\n",
       "      <th>water_quality</th>\n",
       "      <th>quality_group</th>\n",
       "      <th>quantity</th>\n",
       "      <th>quantity_group</th>\n",
       "      <th>source</th>\n",
       "      <th>source_type</th>\n",
       "      <th>source_class</th>\n",
       "      <th>waterpoint_type</th>\n",
       "      <th>waterpoint_type_group</th>\n",
       "    </tr>\n",
       "    <tr>\n",
       "      <th>id</th>\n",
       "      <th></th>\n",
       "      <th></th>\n",
       "      <th></th>\n",
       "      <th></th>\n",
       "      <th></th>\n",
       "      <th></th>\n",
       "      <th></th>\n",
       "      <th></th>\n",
       "      <th></th>\n",
       "      <th></th>\n",
       "      <th></th>\n",
       "      <th></th>\n",
       "      <th></th>\n",
       "      <th></th>\n",
       "      <th></th>\n",
       "      <th></th>\n",
       "      <th></th>\n",
       "      <th></th>\n",
       "      <th></th>\n",
       "      <th></th>\n",
       "      <th></th>\n",
       "    </tr>\n",
       "  </thead>\n",
       "  <tbody>\n",
       "    <tr>\n",
       "      <th>69572</th>\n",
       "      <td>6000.0</td>\n",
       "      <td>2011-03-14</td>\n",
       "      <td>Roman</td>\n",
       "      <td>1390</td>\n",
       "      <td>Roman</td>\n",
       "      <td>34.938093</td>\n",
       "      <td>-9.856322</td>\n",
       "      <td>none</td>\n",
       "      <td>0</td>\n",
       "      <td>Lake Nyasa</td>\n",
       "      <td>...</td>\n",
       "      <td>annually</td>\n",
       "      <td>soft</td>\n",
       "      <td>good</td>\n",
       "      <td>enough</td>\n",
       "      <td>enough</td>\n",
       "      <td>spring</td>\n",
       "      <td>spring</td>\n",
       "      <td>groundwater</td>\n",
       "      <td>communal standpipe</td>\n",
       "      <td>communal standpipe</td>\n",
       "    </tr>\n",
       "    <tr>\n",
       "      <th>8776</th>\n",
       "      <td>0.0</td>\n",
       "      <td>2013-03-06</td>\n",
       "      <td>Grumeti</td>\n",
       "      <td>1399</td>\n",
       "      <td>GRUMETI</td>\n",
       "      <td>34.698766</td>\n",
       "      <td>-2.147466</td>\n",
       "      <td>Zahanati</td>\n",
       "      <td>0</td>\n",
       "      <td>Lake Victoria</td>\n",
       "      <td>...</td>\n",
       "      <td>never pay</td>\n",
       "      <td>soft</td>\n",
       "      <td>good</td>\n",
       "      <td>insufficient</td>\n",
       "      <td>insufficient</td>\n",
       "      <td>rainwater harvesting</td>\n",
       "      <td>rainwater harvesting</td>\n",
       "      <td>surface</td>\n",
       "      <td>communal standpipe</td>\n",
       "      <td>communal standpipe</td>\n",
       "    </tr>\n",
       "    <tr>\n",
       "      <th>34310</th>\n",
       "      <td>25.0</td>\n",
       "      <td>2013-02-25</td>\n",
       "      <td>Lottery Club</td>\n",
       "      <td>686</td>\n",
       "      <td>World vision</td>\n",
       "      <td>37.460664</td>\n",
       "      <td>-3.821329</td>\n",
       "      <td>Kwa Mahundi</td>\n",
       "      <td>0</td>\n",
       "      <td>Pangani</td>\n",
       "      <td>...</td>\n",
       "      <td>per bucket</td>\n",
       "      <td>soft</td>\n",
       "      <td>good</td>\n",
       "      <td>enough</td>\n",
       "      <td>enough</td>\n",
       "      <td>dam</td>\n",
       "      <td>dam</td>\n",
       "      <td>surface</td>\n",
       "      <td>communal standpipe multiple</td>\n",
       "      <td>communal standpipe</td>\n",
       "    </tr>\n",
       "    <tr>\n",
       "      <th>67743</th>\n",
       "      <td>0.0</td>\n",
       "      <td>2013-01-28</td>\n",
       "      <td>Unicef</td>\n",
       "      <td>263</td>\n",
       "      <td>UNICEF</td>\n",
       "      <td>38.486161</td>\n",
       "      <td>-11.155298</td>\n",
       "      <td>Zahanati Ya Nanyumbu</td>\n",
       "      <td>0</td>\n",
       "      <td>Ruvuma / Southern Coast</td>\n",
       "      <td>...</td>\n",
       "      <td>never pay</td>\n",
       "      <td>soft</td>\n",
       "      <td>good</td>\n",
       "      <td>dry</td>\n",
       "      <td>dry</td>\n",
       "      <td>machine dbh</td>\n",
       "      <td>borehole</td>\n",
       "      <td>groundwater</td>\n",
       "      <td>communal standpipe multiple</td>\n",
       "      <td>communal standpipe</td>\n",
       "    </tr>\n",
       "    <tr>\n",
       "      <th>19728</th>\n",
       "      <td>0.0</td>\n",
       "      <td>2011-07-13</td>\n",
       "      <td>Action In A</td>\n",
       "      <td>0</td>\n",
       "      <td>Artisan</td>\n",
       "      <td>31.130847</td>\n",
       "      <td>-1.825359</td>\n",
       "      <td>Shuleni</td>\n",
       "      <td>0</td>\n",
       "      <td>Lake Victoria</td>\n",
       "      <td>...</td>\n",
       "      <td>never pay</td>\n",
       "      <td>soft</td>\n",
       "      <td>good</td>\n",
       "      <td>seasonal</td>\n",
       "      <td>seasonal</td>\n",
       "      <td>rainwater harvesting</td>\n",
       "      <td>rainwater harvesting</td>\n",
       "      <td>surface</td>\n",
       "      <td>communal standpipe</td>\n",
       "      <td>communal standpipe</td>\n",
       "    </tr>\n",
       "    <tr>\n",
       "      <th>...</th>\n",
       "      <td>...</td>\n",
       "      <td>...</td>\n",
       "      <td>...</td>\n",
       "      <td>...</td>\n",
       "      <td>...</td>\n",
       "      <td>...</td>\n",
       "      <td>...</td>\n",
       "      <td>...</td>\n",
       "      <td>...</td>\n",
       "      <td>...</td>\n",
       "      <td>...</td>\n",
       "      <td>...</td>\n",
       "      <td>...</td>\n",
       "      <td>...</td>\n",
       "      <td>...</td>\n",
       "      <td>...</td>\n",
       "      <td>...</td>\n",
       "      <td>...</td>\n",
       "      <td>...</td>\n",
       "      <td>...</td>\n",
       "      <td>...</td>\n",
       "    </tr>\n",
       "    <tr>\n",
       "      <th>60739</th>\n",
       "      <td>10.0</td>\n",
       "      <td>2013-05-03</td>\n",
       "      <td>Germany Republi</td>\n",
       "      <td>1210</td>\n",
       "      <td>CES</td>\n",
       "      <td>37.169807</td>\n",
       "      <td>-3.253847</td>\n",
       "      <td>Area Three Namba 27</td>\n",
       "      <td>0</td>\n",
       "      <td>Pangani</td>\n",
       "      <td>...</td>\n",
       "      <td>per bucket</td>\n",
       "      <td>soft</td>\n",
       "      <td>good</td>\n",
       "      <td>enough</td>\n",
       "      <td>enough</td>\n",
       "      <td>spring</td>\n",
       "      <td>spring</td>\n",
       "      <td>groundwater</td>\n",
       "      <td>communal standpipe</td>\n",
       "      <td>communal standpipe</td>\n",
       "    </tr>\n",
       "    <tr>\n",
       "      <th>27263</th>\n",
       "      <td>4700.0</td>\n",
       "      <td>2011-05-07</td>\n",
       "      <td>Cefa-njombe</td>\n",
       "      <td>1212</td>\n",
       "      <td>Cefa</td>\n",
       "      <td>35.249991</td>\n",
       "      <td>-9.070629</td>\n",
       "      <td>Kwa Yahona Kuvala</td>\n",
       "      <td>0</td>\n",
       "      <td>Rufiji</td>\n",
       "      <td>...</td>\n",
       "      <td>annually</td>\n",
       "      <td>soft</td>\n",
       "      <td>good</td>\n",
       "      <td>enough</td>\n",
       "      <td>enough</td>\n",
       "      <td>river</td>\n",
       "      <td>river/lake</td>\n",
       "      <td>surface</td>\n",
       "      <td>communal standpipe</td>\n",
       "      <td>communal standpipe</td>\n",
       "    </tr>\n",
       "    <tr>\n",
       "      <th>37057</th>\n",
       "      <td>0.0</td>\n",
       "      <td>2011-04-11</td>\n",
       "      <td>NaN</td>\n",
       "      <td>0</td>\n",
       "      <td>NaN</td>\n",
       "      <td>34.017087</td>\n",
       "      <td>-8.750434</td>\n",
       "      <td>Mashine</td>\n",
       "      <td>0</td>\n",
       "      <td>Rufiji</td>\n",
       "      <td>...</td>\n",
       "      <td>monthly</td>\n",
       "      <td>fluoride</td>\n",
       "      <td>fluoride</td>\n",
       "      <td>enough</td>\n",
       "      <td>enough</td>\n",
       "      <td>machine dbh</td>\n",
       "      <td>borehole</td>\n",
       "      <td>groundwater</td>\n",
       "      <td>hand pump</td>\n",
       "      <td>hand pump</td>\n",
       "    </tr>\n",
       "    <tr>\n",
       "      <th>31282</th>\n",
       "      <td>0.0</td>\n",
       "      <td>2011-03-08</td>\n",
       "      <td>Malec</td>\n",
       "      <td>0</td>\n",
       "      <td>Musa</td>\n",
       "      <td>35.861315</td>\n",
       "      <td>-6.378573</td>\n",
       "      <td>Mshoro</td>\n",
       "      <td>0</td>\n",
       "      <td>Rufiji</td>\n",
       "      <td>...</td>\n",
       "      <td>never pay</td>\n",
       "      <td>soft</td>\n",
       "      <td>good</td>\n",
       "      <td>insufficient</td>\n",
       "      <td>insufficient</td>\n",
       "      <td>shallow well</td>\n",
       "      <td>shallow well</td>\n",
       "      <td>groundwater</td>\n",
       "      <td>hand pump</td>\n",
       "      <td>hand pump</td>\n",
       "    </tr>\n",
       "    <tr>\n",
       "      <th>26348</th>\n",
       "      <td>0.0</td>\n",
       "      <td>2011-03-23</td>\n",
       "      <td>World Bank</td>\n",
       "      <td>191</td>\n",
       "      <td>World</td>\n",
       "      <td>38.104048</td>\n",
       "      <td>-6.747464</td>\n",
       "      <td>Kwa Mzee Lugawa</td>\n",
       "      <td>0</td>\n",
       "      <td>Wami / Ruvu</td>\n",
       "      <td>...</td>\n",
       "      <td>on failure</td>\n",
       "      <td>salty</td>\n",
       "      <td>salty</td>\n",
       "      <td>enough</td>\n",
       "      <td>enough</td>\n",
       "      <td>shallow well</td>\n",
       "      <td>shallow well</td>\n",
       "      <td>groundwater</td>\n",
       "      <td>hand pump</td>\n",
       "      <td>hand pump</td>\n",
       "    </tr>\n",
       "  </tbody>\n",
       "</table>\n",
       "<p>59400 rows × 39 columns</p>\n",
       "</div>"
      ],
      "text/plain": [
       "       amount_tsh date_recorded           funder  gps_height     installer  \\\n",
       "id                                                                           \n",
       "69572      6000.0    2011-03-14            Roman        1390         Roman   \n",
       "8776          0.0    2013-03-06          Grumeti        1399       GRUMETI   \n",
       "34310        25.0    2013-02-25     Lottery Club         686  World vision   \n",
       "67743         0.0    2013-01-28           Unicef         263        UNICEF   \n",
       "19728         0.0    2011-07-13      Action In A           0       Artisan   \n",
       "...           ...           ...              ...         ...           ...   \n",
       "60739        10.0    2013-05-03  Germany Republi        1210           CES   \n",
       "27263      4700.0    2011-05-07      Cefa-njombe        1212          Cefa   \n",
       "37057         0.0    2011-04-11              NaN           0           NaN   \n",
       "31282         0.0    2011-03-08            Malec           0          Musa   \n",
       "26348         0.0    2011-03-23       World Bank         191         World   \n",
       "\n",
       "       longitude   latitude              wpt_name  num_private  \\\n",
       "id                                                               \n",
       "69572  34.938093  -9.856322                  none            0   \n",
       "8776   34.698766  -2.147466              Zahanati            0   \n",
       "34310  37.460664  -3.821329           Kwa Mahundi            0   \n",
       "67743  38.486161 -11.155298  Zahanati Ya Nanyumbu            0   \n",
       "19728  31.130847  -1.825359               Shuleni            0   \n",
       "...          ...        ...                   ...          ...   \n",
       "60739  37.169807  -3.253847   Area Three Namba 27            0   \n",
       "27263  35.249991  -9.070629     Kwa Yahona Kuvala            0   \n",
       "37057  34.017087  -8.750434               Mashine            0   \n",
       "31282  35.861315  -6.378573                Mshoro            0   \n",
       "26348  38.104048  -6.747464       Kwa Mzee Lugawa            0   \n",
       "\n",
       "                         basin  ... payment_type water_quality  quality_group  \\\n",
       "id                              ...                                             \n",
       "69572               Lake Nyasa  ...     annually          soft           good   \n",
       "8776             Lake Victoria  ...    never pay          soft           good   \n",
       "34310                  Pangani  ...   per bucket          soft           good   \n",
       "67743  Ruvuma / Southern Coast  ...    never pay          soft           good   \n",
       "19728            Lake Victoria  ...    never pay          soft           good   \n",
       "...                        ...  ...          ...           ...            ...   \n",
       "60739                  Pangani  ...   per bucket          soft           good   \n",
       "27263                   Rufiji  ...     annually          soft           good   \n",
       "37057                   Rufiji  ...      monthly      fluoride       fluoride   \n",
       "31282                   Rufiji  ...    never pay          soft           good   \n",
       "26348              Wami / Ruvu  ...   on failure         salty          salty   \n",
       "\n",
       "           quantity quantity_group                source  \\\n",
       "id                                                         \n",
       "69572        enough         enough                spring   \n",
       "8776   insufficient   insufficient  rainwater harvesting   \n",
       "34310        enough         enough                   dam   \n",
       "67743           dry            dry           machine dbh   \n",
       "19728      seasonal       seasonal  rainwater harvesting   \n",
       "...             ...            ...                   ...   \n",
       "60739        enough         enough                spring   \n",
       "27263        enough         enough                 river   \n",
       "37057        enough         enough           machine dbh   \n",
       "31282  insufficient   insufficient          shallow well   \n",
       "26348        enough         enough          shallow well   \n",
       "\n",
       "                source_type source_class              waterpoint_type  \\\n",
       "id                                                                      \n",
       "69572                spring  groundwater           communal standpipe   \n",
       "8776   rainwater harvesting      surface           communal standpipe   \n",
       "34310                   dam      surface  communal standpipe multiple   \n",
       "67743              borehole  groundwater  communal standpipe multiple   \n",
       "19728  rainwater harvesting      surface           communal standpipe   \n",
       "...                     ...          ...                          ...   \n",
       "60739                spring  groundwater           communal standpipe   \n",
       "27263            river/lake      surface           communal standpipe   \n",
       "37057              borehole  groundwater                    hand pump   \n",
       "31282          shallow well  groundwater                    hand pump   \n",
       "26348          shallow well  groundwater                    hand pump   \n",
       "\n",
       "      waterpoint_type_group  \n",
       "id                           \n",
       "69572    communal standpipe  \n",
       "8776     communal standpipe  \n",
       "34310    communal standpipe  \n",
       "67743    communal standpipe  \n",
       "19728    communal standpipe  \n",
       "...                     ...  \n",
       "60739    communal standpipe  \n",
       "27263    communal standpipe  \n",
       "37057             hand pump  \n",
       "31282             hand pump  \n",
       "26348             hand pump  \n",
       "\n",
       "[59400 rows x 39 columns]"
      ]
     },
     "execution_count": 5,
     "metadata": {},
     "output_type": "execute_result"
    }
   ],
   "source": [
    "X"
   ]
  },
  {
   "cell_type": "code",
   "execution_count": 6,
   "metadata": {},
   "outputs": [
    {
     "name": "stdout",
     "output_type": "stream",
     "text": [
      "<class 'pandas.core.frame.DataFrame'>\n",
      "Int64Index: 59400 entries, 69572 to 26348\n",
      "Data columns (total 39 columns):\n",
      " #   Column                 Non-Null Count  Dtype  \n",
      "---  ------                 --------------  -----  \n",
      " 0   amount_tsh             59400 non-null  float64\n",
      " 1   date_recorded          59400 non-null  object \n",
      " 2   funder                 55765 non-null  object \n",
      " 3   gps_height             59400 non-null  int64  \n",
      " 4   installer              55745 non-null  object \n",
      " 5   longitude              59400 non-null  float64\n",
      " 6   latitude               59400 non-null  float64\n",
      " 7   wpt_name               59400 non-null  object \n",
      " 8   num_private            59400 non-null  int64  \n",
      " 9   basin                  59400 non-null  object \n",
      " 10  subvillage             59029 non-null  object \n",
      " 11  region                 59400 non-null  object \n",
      " 12  region_code            59400 non-null  int64  \n",
      " 13  district_code          59400 non-null  int64  \n",
      " 14  lga                    59400 non-null  object \n",
      " 15  ward                   59400 non-null  object \n",
      " 16  population             59400 non-null  int64  \n",
      " 17  public_meeting         56066 non-null  object \n",
      " 18  recorded_by            59400 non-null  object \n",
      " 19  scheme_management      55523 non-null  object \n",
      " 20  scheme_name            31234 non-null  object \n",
      " 21  permit                 56344 non-null  object \n",
      " 22  construction_year      59400 non-null  int64  \n",
      " 23  extraction_type        59400 non-null  object \n",
      " 24  extraction_type_group  59400 non-null  object \n",
      " 25  extraction_type_class  59400 non-null  object \n",
      " 26  management             59400 non-null  object \n",
      " 27  management_group       59400 non-null  object \n",
      " 28  payment                59400 non-null  object \n",
      " 29  payment_type           59400 non-null  object \n",
      " 30  water_quality          59400 non-null  object \n",
      " 31  quality_group          59400 non-null  object \n",
      " 32  quantity               59400 non-null  object \n",
      " 33  quantity_group         59400 non-null  object \n",
      " 34  source                 59400 non-null  object \n",
      " 35  source_type            59400 non-null  object \n",
      " 36  source_class           59400 non-null  object \n",
      " 37  waterpoint_type        59400 non-null  object \n",
      " 38  waterpoint_type_group  59400 non-null  object \n",
      "dtypes: float64(3), int64(6), object(30)\n",
      "memory usage: 18.1+ MB\n"
     ]
    }
   ],
   "source": [
    "X.info()"
   ]
  },
  {
   "cell_type": "markdown",
   "metadata": {},
   "source": [
    "The data set is pretty large and there are not that many null values"
   ]
  },
  {
   "cell_type": "markdown",
   "metadata": {},
   "source": [
    "### Drop duplicated columns"
   ]
  },
  {
   "cell_type": "markdown",
   "metadata": {},
   "source": [
    "From our data exploration process, we discovered that many columns are duplicates of each other, so we are going to drop them from our analysis. For detailed data exploration steps, refer to jupyter notebook named \"EDA.ipynb\" in notebooks/Samantha."
   ]
  },
  {
   "cell_type": "code",
   "execution_count": 7,
   "metadata": {},
   "outputs": [],
   "source": [
    "drop_columns = [\"quantity_group\", \"source_type\", \"num_private\", \"waterpoint_type\"]\n",
    "X = X.drop(drop_columns, axis =1)"
   ]
  },
  {
   "cell_type": "markdown",
   "metadata": {},
   "source": [
    "### y_train Exploration"
   ]
  },
  {
   "cell_type": "code",
   "execution_count": 8,
   "metadata": {},
   "outputs": [
    {
     "data": {
      "text/html": [
       "<div>\n",
       "<style scoped>\n",
       "    .dataframe tbody tr th:only-of-type {\n",
       "        vertical-align: middle;\n",
       "    }\n",
       "\n",
       "    .dataframe tbody tr th {\n",
       "        vertical-align: top;\n",
       "    }\n",
       "\n",
       "    .dataframe thead th {\n",
       "        text-align: right;\n",
       "    }\n",
       "</style>\n",
       "<table border=\"1\" class=\"dataframe\">\n",
       "  <thead>\n",
       "    <tr style=\"text-align: right;\">\n",
       "      <th></th>\n",
       "      <th>status_group</th>\n",
       "    </tr>\n",
       "    <tr>\n",
       "      <th>id</th>\n",
       "      <th></th>\n",
       "    </tr>\n",
       "  </thead>\n",
       "  <tbody>\n",
       "    <tr>\n",
       "      <th>69572</th>\n",
       "      <td>functional</td>\n",
       "    </tr>\n",
       "    <tr>\n",
       "      <th>8776</th>\n",
       "      <td>functional</td>\n",
       "    </tr>\n",
       "    <tr>\n",
       "      <th>34310</th>\n",
       "      <td>functional</td>\n",
       "    </tr>\n",
       "    <tr>\n",
       "      <th>67743</th>\n",
       "      <td>non functional</td>\n",
       "    </tr>\n",
       "    <tr>\n",
       "      <th>19728</th>\n",
       "      <td>functional</td>\n",
       "    </tr>\n",
       "    <tr>\n",
       "      <th>...</th>\n",
       "      <td>...</td>\n",
       "    </tr>\n",
       "    <tr>\n",
       "      <th>60739</th>\n",
       "      <td>functional</td>\n",
       "    </tr>\n",
       "    <tr>\n",
       "      <th>27263</th>\n",
       "      <td>functional</td>\n",
       "    </tr>\n",
       "    <tr>\n",
       "      <th>37057</th>\n",
       "      <td>functional</td>\n",
       "    </tr>\n",
       "    <tr>\n",
       "      <th>31282</th>\n",
       "      <td>functional</td>\n",
       "    </tr>\n",
       "    <tr>\n",
       "      <th>26348</th>\n",
       "      <td>functional</td>\n",
       "    </tr>\n",
       "  </tbody>\n",
       "</table>\n",
       "<p>59400 rows × 1 columns</p>\n",
       "</div>"
      ],
      "text/plain": [
       "         status_group\n",
       "id                   \n",
       "69572      functional\n",
       "8776       functional\n",
       "34310      functional\n",
       "67743  non functional\n",
       "19728      functional\n",
       "...               ...\n",
       "60739      functional\n",
       "27263      functional\n",
       "37057      functional\n",
       "31282      functional\n",
       "26348      functional\n",
       "\n",
       "[59400 rows x 1 columns]"
      ]
     },
     "execution_count": 8,
     "metadata": {},
     "output_type": "execute_result"
    }
   ],
   "source": [
    "y = pd.read_csv('../data/Pump_it_Up_Data_Mining_the_Water_Table_-_Training_set_labels.csv', index_col='id')\n",
    "y"
   ]
  },
  {
   "cell_type": "code",
   "execution_count": 9,
   "metadata": {},
   "outputs": [],
   "source": [
    "# convert the dataframe into a series\n",
    "y = y['status_group']"
   ]
  },
  {
   "cell_type": "code",
   "execution_count": 10,
   "metadata": {},
   "outputs": [
    {
     "data": {
      "text/plain": [
       "functional                 32259\n",
       "non functional             22824\n",
       "functional needs repair     4317\n",
       "Name: status_group, dtype: int64"
      ]
     },
     "execution_count": 10,
     "metadata": {},
     "output_type": "execute_result"
    }
   ],
   "source": [
    "y.value_counts()"
   ]
  },
  {
   "cell_type": "markdown",
   "metadata": {},
   "source": [
    "## Data Preparation\n",
    "\n",
    "Describe and justify the process for preparing the data for analysis.\n",
    "\n",
    "Questions to consider:\n",
    "\n",
    "- Were there variables you dropped or created?\n",
    "- How did you address missing values or outliers?\n",
    "- Why are these choices appropriate given the data and the business problem?\n",
    "- Can you pipeline your preparation steps to use them consistently in the modeling process?"
   ]
  },
  {
   "cell_type": "markdown",
   "metadata": {},
   "source": [
    "### Train Test Split"
   ]
  },
  {
   "cell_type": "markdown",
   "metadata": {},
   "source": [
    "We are not getting the target for our testing data so we are going to treat our training data as if that's all the data we got. So we'll split it into training data, validation data and a holdout set that we will only look at in the end."
   ]
  },
  {
   "cell_type": "code",
   "execution_count": 11,
   "metadata": {},
   "outputs": [],
   "source": [
    "from sklearn.model_selection import train_test_split\n",
    "X_train, X_holdout, y_train, y_holdout = train_test_split(X, y, random_state=42, test_size = .1)"
   ]
  },
  {
   "cell_type": "code",
   "execution_count": 12,
   "metadata": {},
   "outputs": [],
   "source": [
    "X_train, X_val, y_train, y_val = train_test_split(X_train, y_train, random_state=42)"
   ]
  },
  {
   "cell_type": "markdown",
   "metadata": {},
   "source": [
    "### Target Preprocessing"
   ]
  },
  {
   "cell_type": "markdown",
   "metadata": {},
   "source": [
    "Our target has three unique values: functional, non functional and functional needs repair. It doesn't make much difference if the water well is non functional or functional needs repair because it requires attention regardless. The functional needs repair ones can break down at anytime and as a result, people who depend on the well to survive will suffer. For these reasons, we decide to simplify the problem into a binary prediction problem with 0 representing wells that needs repair and 1 representing wells that doesn't need repair (aka functional)."
   ]
  },
  {
   "cell_type": "code",
   "execution_count": 13,
   "metadata": {},
   "outputs": [],
   "source": [
    "# set up a dictionary for mapping\n",
    "map_dict = {\"functional\": 1, \"non functional\": 0, \"functional needs repair\": 0}"
   ]
  },
  {
   "cell_type": "code",
   "execution_count": 14,
   "metadata": {},
   "outputs": [],
   "source": [
    "y_train = y_train.map(map_dict)"
   ]
  },
  {
   "cell_type": "code",
   "execution_count": 15,
   "metadata": {},
   "outputs": [],
   "source": [
    "y_val = y_val.map(map_dict)"
   ]
  },
  {
   "cell_type": "code",
   "execution_count": 16,
   "metadata": {},
   "outputs": [],
   "source": [
    "y_holdout = y_holdout.map(map_dict)"
   ]
  },
  {
   "cell_type": "markdown",
   "metadata": {},
   "source": [
    "### Imputing Nulls and Encoding Categorical Values"
   ]
  },
  {
   "cell_type": "code",
   "execution_count": 17,
   "metadata": {},
   "outputs": [],
   "source": [
    "# imports for preprocessing\n",
    "from sklearn.pipeline import Pipeline\n",
    "from sklearn.impute import SimpleImputer\n",
    "from sklearn.preprocessing import OneHotEncoder\n",
    "from sklearn.preprocessing import StandardScaler\n",
    "from sklearn.compose import ColumnTransformer\n",
    "import category_encoders as ce"
   ]
  },
  {
   "cell_type": "code",
   "execution_count": 18,
   "metadata": {},
   "outputs": [],
   "source": [
    "# Seperate columns into three categories:\n",
    "# numeric columns, OneHotEncoder approriate columns and frequency encoded appropriate columns\n",
    "num_cols = []\n",
    "ohe_cols = []\n",
    "freq_cols = []\n",
    "\n",
    "# we pick a maximum unique value of 3 for columns to be onehotencoded for simplicity reasons\n",
    "\n",
    "for c in X.columns:\n",
    "    if X[c].dtype in ['float64', 'int64']:\n",
    "        num_cols.append(c)\n",
    "    elif X[c].nunique() < 3:\n",
    "        ohe_cols.append(c)\n",
    "    else:\n",
    "        freq_cols.append(c)"
   ]
  },
  {
   "cell_type": "code",
   "execution_count": 19,
   "metadata": {},
   "outputs": [
    {
     "name": "stdout",
     "output_type": "stream",
     "text": [
      "these are the numeric columns: ['amount_tsh', 'gps_height', 'longitude', 'latitude', 'region_code', 'district_code', 'population', 'construction_year']\n",
      "\n",
      "these are the OHE columns:['public_meeting', 'recorded_by', 'permit']\n",
      "\n",
      "these are the frequency encoded columns:['date_recorded', 'funder', 'installer', 'wpt_name', 'basin', 'subvillage', 'region', 'lga', 'ward', 'scheme_management', 'scheme_name', 'extraction_type', 'extraction_type_group', 'extraction_type_class', 'management', 'management_group', 'payment', 'payment_type', 'water_quality', 'quality_group', 'quantity', 'source', 'source_class', 'waterpoint_type_group']\n"
     ]
    }
   ],
   "source": [
    "# see what these columns are\n",
    "print(f'these are the numeric columns: {num_cols}')\n",
    "print('')\n",
    "print(f'these are the OHE columns:{ohe_cols}')\n",
    "print('')\n",
    "print(f'these are the frequency encoded columns:{freq_cols}')"
   ]
  },
  {
   "cell_type": "code",
   "execution_count": 20,
   "metadata": {},
   "outputs": [
    {
     "data": {
      "text/plain": [
       "['funder',\n",
       " 'installer',\n",
       " 'subvillage',\n",
       " 'public_meeting',\n",
       " 'scheme_management',\n",
       " 'scheme_name',\n",
       " 'permit']"
      ]
     },
     "execution_count": 20,
     "metadata": {},
     "output_type": "execute_result"
    }
   ],
   "source": [
    "# check which columns have null values that needs imputing\n",
    "list=[]\n",
    "for c in range(len(X.isna().any())):\n",
    "    if X.isna().any()[c] == True:\n",
    "        list.append(X.isna().any().index[c])\n",
    "list"
   ]
  },
  {
   "cell_type": "code",
   "execution_count": 21,
   "metadata": {},
   "outputs": [
    {
     "data": {
      "text/plain": [
       "ColumnTransformer(transformers=[('ohe',\n",
       "                                 Pipeline(steps=[('ohe_imputer',\n",
       "                                                  SimpleImputer(fill_value=0,\n",
       "                                                                strategy='constant')),\n",
       "                                                 ('oh_encoder',\n",
       "                                                  OneHotEncoder(handle_unknown='ignore'))]),\n",
       "                                 ['public_meeting', 'recorded_by', 'permit']),\n",
       "                                ('freq',\n",
       "                                 Pipeline(steps=[('freq_encoder',\n",
       "                                                  CountEncoder(combine_min_nan_groups=True,\n",
       "                                                               min_group_size=0.05,\n",
       "                                                               normalize=True)),\n",
       "                                                 ('freq_imputer...\n",
       "                                  'extraction_type_group',\n",
       "                                  'extraction_type_class', 'management',\n",
       "                                  'management_group', 'payment', 'payment_type',\n",
       "                                  'water_quality', 'quality_group', 'quantity',\n",
       "                                  'source', 'source_class',\n",
       "                                  'waterpoint_type_group']),\n",
       "                                ('scaler',\n",
       "                                 Pipeline(steps=[('scaler', StandardScaler())]),\n",
       "                                 ['amount_tsh', 'gps_height', 'longitude',\n",
       "                                  'latitude', 'region_code', 'district_code',\n",
       "                                  'population', 'construction_year'])])"
      ]
     },
     "execution_count": 21,
     "metadata": {},
     "output_type": "execute_result"
    }
   ],
   "source": [
    "# set up pipeline for preprocessing \n",
    "# for numeric columns, we need to scale it\n",
    "# for unique value <3 columns, we need to one hot encode it\n",
    "# for unique value >3 columns, we need to frequency encode it\n",
    "ohe_transformer = Pipeline(steps=[\n",
    "    ('ohe_imputer', SimpleImputer(strategy='constant', fill_value = 0)),\n",
    "    ('oh_encoder', OneHotEncoder(handle_unknown='ignore'))\n",
    "])\n",
    "\n",
    "freq_transformer = Pipeline(steps=[\n",
    "    ('freq_encoder', ce.count.CountEncoder(normalize=True, min_group_size=.05)),\n",
    "    ('freq_imputer', SimpleImputer(strategy='constant', fill_value=0))\n",
    "])\n",
    "\n",
    "num_transformer = Pipeline(steps=[\n",
    "    ('scaler', StandardScaler())\n",
    "    \n",
    "])\n",
    "\n",
    "preprocessor = ColumnTransformer(\n",
    "    transformers=[\n",
    "        ('ohe', ohe_transformer, ohe_cols),\n",
    "        ('freq', freq_transformer, freq_cols),\n",
    "        ('scaler', num_transformer, num_cols)\n",
    "    ])\n",
    "\n",
    "preprocessor.fit(X_train)"
   ]
  },
  {
   "cell_type": "markdown",
   "metadata": {},
   "source": [
    "## Modeling\n",
    "\n",
    "Describe and justify the process for analyzing or modeling the data.\n",
    "\n",
    "Questions to consider:\n",
    "\n",
    "- How will you analyze the data to arrive at an initial approach?\n",
    "- How will you iterate on your initial approach to make it better?\n",
    "- What model type is most appropriate, given the data and the business problem?"
   ]
  },
  {
   "cell_type": "code",
   "execution_count": 22,
   "metadata": {},
   "outputs": [],
   "source": [
    "# imports for modeling\n",
    "from sklearn.model_selection import GridSearchCV\n",
    "from sklearn.metrics import plot_confusion_matrix, plot_roc_curve, confusion_matrix\n",
    "from sklearn.metrics import accuracy_score, precision_score, recall_score, f1_score, roc_auc_score\n",
    "from sklearn.neighbors import KNeighborsClassifier\n",
    "from sklearn.model_selection import cross_validate\n",
    "from sklearn.model_selection import cross_val_score\n"
   ]
  },
  {
   "cell_type": "code",
   "execution_count": 23,
   "metadata": {},
   "outputs": [],
   "source": [
    "# build an evaluation function \n",
    "def evaluate(model, X_tr, y_tr, X_te, y_te):\n",
    "    print('Accuracy Score:')\n",
    "    print(f'Train - {accuracy_score(y_tr, model.predict(X_tr))}')\n",
    "    print(f'Test - {accuracy_score(y_te, model.predict(X_te))}')\n",
    "    print('  ')\n",
    "    print('Precision Score:')\n",
    "    print(f'Train - {precision_score(y_tr, model.predict(X_tr))}')\n",
    "    print(f'Test - {precision_score(y_te, model.predict(X_te))}')\n",
    "    print('  ')\n",
    "    print('Recall Score: ')\n",
    "    print(f'Train - {recall_score(y_tr, model.predict(X_tr))}')\n",
    "    print(f'Test - {recall_score(y_te, model.predict(X_te))}')\n",
    "    print('  ')\n",
    "    print('F1 Score: ')\n",
    "    print(f'Train - {f1_score(y_tr, model.predict(X_tr))}')\n",
    "    print(f'Test - {f1_score(y_te, model.predict(X_te))}')\n",
    "    print('  ')\n",
    "    print('ROC_AUC: ')\n",
    "    print(f'Train - {roc_auc_score(y_tr, model.predict(X_tr))}')\n",
    "    print(f'Test - {roc_auc_score(y_te, model.predict(X_te))}')\n",
    "    print('  ')\n",
    "    print('  ')\n",
    "    print('Confusion matrix for test data')\n",
    "    return plot_confusion_matrix(model, X_te, y_te)"
   ]
  },
  {
   "cell_type": "markdown",
   "metadata": {},
   "source": [
    "### Baseline Understanding\n",
    "\n",
    "First, we want to see how the baseline model where we predict the majority class everytime does so we know what to compare our score to."
   ]
  },
  {
   "cell_type": "code",
   "execution_count": 21,
   "metadata": {},
   "outputs": [],
   "source": [
    "from sklearn.dummy import DummyClassifier"
   ]
  },
  {
   "cell_type": "code",
   "execution_count": 22,
   "metadata": {},
   "outputs": [
    {
     "data": {
      "text/plain": [
       "array([0.54508043, 0.54508043, 0.54508043, 0.54520514, 0.54520514])"
      ]
     },
     "execution_count": 22,
     "metadata": {},
     "output_type": "execute_result"
    }
   ],
   "source": [
    "dummy_model = DummyClassifier(strategy=\"most_frequent\")\n",
    "dummy_model.fit(X_train, y_train)\n",
    "cv_results = cross_val_score(dummy_model, X_train, y_train, cv=5)\n",
    "cv_results"
   ]
  },
  {
   "cell_type": "markdown",
   "metadata": {},
   "source": [
    "Based on our dummy model assuming that all predictions will result in the majority class, we can see the dispersion of results - a little more than half of our waterwells are functioning."
   ]
  },
  {
   "cell_type": "code",
   "execution_count": 23,
   "metadata": {},
   "outputs": [
    {
     "data": {
      "text/plain": [
       "<sklearn.metrics._plot.roc_curve.RocCurveDisplay at 0x7fe43963ef10>"
      ]
     },
     "execution_count": 23,
     "metadata": {},
     "output_type": "execute_result"
    },
    {
     "data": {
      "image/png": "[encoded data removed]",
      "text/plain": [
       "<Figure size 432x288 with 1 Axes>"
      ]
     },
     "metadata": {
      "needs_background": "light"
     },
     "output_type": "display_data"
    }
   ],
   "source": [
    "plot_roc_curve(dummy_model,X_train,y_train)"
   ]
  },
  {
   "cell_type": "markdown",
   "metadata": {},
   "source": [
    "50% - not great results."
   ]
  },
  {
   "cell_type": "code",
   "execution_count": 24,
   "metadata": {},
   "outputs": [
    {
     "name": "stdout",
     "output_type": "stream",
     "text": [
      "Accuracy Score:\n",
      "Train - 0.5451303155006859\n",
      "Test - 0.5390946502057613\n",
      "  \n",
      "Precision Score:\n",
      "Train - 0.5451303155006859\n",
      "Test - 0.5390946502057613\n",
      "  \n",
      "Recall Score: \n",
      "Train - 1.0\n",
      "Test - 1.0\n",
      "  \n",
      "F1 Score: \n",
      "Train - 0.7056107954545455\n",
      "Test - 0.7005347593582888\n",
      "  \n",
      "ROC_AUC: \n",
      "Train - 0.5\n",
      "Test - 0.5\n",
      "  \n",
      "  \n",
      "Confusion matrix for test data\n"
     ]
    },
    {
     "data": {
      "text/plain": [
       "<sklearn.metrics._plot.confusion_matrix.ConfusionMatrixDisplay at 0x7fe43ac1f8b0>"
      ]
     },
     "execution_count": 24,
     "metadata": {},
     "output_type": "execute_result"
    },
    {
     "data": {
      "image/png": "[encoded data removed]",
      "text/plain": [
       "<Figure size 432x288 with 2 Axes>"
      ]
     },
     "metadata": {
      "needs_background": "light"
     },
     "output_type": "display_data"
    }
   ],
   "source": [
    "evaluate(dummy_model,X_train,y_train,X_val,y_val)"
   ]
  },
  {
   "cell_type": "markdown",
   "metadata": {},
   "source": [
    "Since we combined our non-functional and functional needs repair targets, our target data is already pretty balanced. We will need to strengthen our model validation in order to determine what is a real prediction, and what is a result of random chance."
   ]
  },
  {
   "cell_type": "markdown",
   "metadata": {},
   "source": [
    "### Logistic Regression Modeling"
   ]
  },
  {
   "cell_type": "code",
   "execution_count": 25,
   "metadata": {},
   "outputs": [],
   "source": [
    "from sklearn.linear_model import LogisticRegression"
   ]
  },
  {
   "cell_type": "code",
   "execution_count": 26,
   "metadata": {},
   "outputs": [
    {
     "name": "stderr",
     "output_type": "stream",
     "text": [
      "/Users/elylin/opt/anaconda3/envs/learn-env/lib/python3.8/site-packages/sklearn/linear_model/_logistic.py:762: ConvergenceWarning: lbfgs failed to converge (status=1):\n",
      "STOP: TOTAL NO. of ITERATIONS REACHED LIMIT.\n",
      "\n",
      "Increase the number of iterations (max_iter) or scale the data as shown in:\n",
      "    https://scikit-learn.org/stable/modules/preprocessing.html\n",
      "Please also refer to the documentation for alternative solver options:\n",
      "    https://scikit-learn.org/stable/modules/linear_model.html#logistic-regression\n",
      "  n_iter_i = _check_optimize_result(\n",
      "/Users/elylin/opt/anaconda3/envs/learn-env/lib/python3.8/site-packages/sklearn/linear_model/_logistic.py:762: ConvergenceWarning: lbfgs failed to converge (status=1):\n",
      "STOP: TOTAL NO. of ITERATIONS REACHED LIMIT.\n",
      "\n",
      "Increase the number of iterations (max_iter) or scale the data as shown in:\n",
      "    https://scikit-learn.org/stable/modules/preprocessing.html\n",
      "Please also refer to the documentation for alternative solver options:\n",
      "    https://scikit-learn.org/stable/modules/linear_model.html#logistic-regression\n",
      "  n_iter_i = _check_optimize_result(\n",
      "/Users/elylin/opt/anaconda3/envs/learn-env/lib/python3.8/site-packages/sklearn/linear_model/_logistic.py:762: ConvergenceWarning: lbfgs failed to converge (status=1):\n",
      "STOP: TOTAL NO. of ITERATIONS REACHED LIMIT.\n",
      "\n",
      "Increase the number of iterations (max_iter) or scale the data as shown in:\n",
      "    https://scikit-learn.org/stable/modules/preprocessing.html\n",
      "Please also refer to the documentation for alternative solver options:\n",
      "    https://scikit-learn.org/stable/modules/linear_model.html#logistic-regression\n",
      "  n_iter_i = _check_optimize_result(\n",
      "/Users/elylin/opt/anaconda3/envs/learn-env/lib/python3.8/site-packages/sklearn/linear_model/_logistic.py:762: ConvergenceWarning: lbfgs failed to converge (status=1):\n",
      "STOP: TOTAL NO. of ITERATIONS REACHED LIMIT.\n",
      "\n",
      "Increase the number of iterations (max_iter) or scale the data as shown in:\n",
      "    https://scikit-learn.org/stable/modules/preprocessing.html\n",
      "Please also refer to the documentation for alternative solver options:\n",
      "    https://scikit-learn.org/stable/modules/linear_model.html#logistic-regression\n",
      "  n_iter_i = _check_optimize_result(\n",
      "/Users/elylin/opt/anaconda3/envs/learn-env/lib/python3.8/site-packages/sklearn/linear_model/_logistic.py:762: ConvergenceWarning: lbfgs failed to converge (status=1):\n",
      "STOP: TOTAL NO. of ITERATIONS REACHED LIMIT.\n",
      "\n",
      "Increase the number of iterations (max_iter) or scale the data as shown in:\n",
      "    https://scikit-learn.org/stable/modules/preprocessing.html\n",
      "Please also refer to the documentation for alternative solver options:\n",
      "    https://scikit-learn.org/stable/modules/linear_model.html#logistic-regression\n",
      "  n_iter_i = _check_optimize_result(\n"
     ]
    },
    {
     "data": {
      "text/plain": [
       "{'fit_time': array([2.01132178, 1.68593407, 1.67639112, 1.76014209, 1.72365713]),\n",
       " 'score_time': array([0.22899604, 0.20945692, 0.18483806, 0.18972015, 0.18397808]),\n",
       " 'test_score': array([0.68150642, 0.68138172, 0.6775159 , 0.67015837, 0.67951116]),\n",
       " 'train_score': array([0.67654945, 0.67651827, 0.67770296, 0.67542711, 0.67910587])}"
      ]
     },
     "execution_count": 26,
     "metadata": {},
     "output_type": "execute_result"
    }
   ],
   "source": [
    "# we are using no penalty because \n",
    "log_classifier = Pipeline(steps=[\n",
    "    ('preprocessor', preprocessor),\n",
    "    ('regressor', LogisticRegression())\n",
    "])\n",
    "cross_validate(log_classifier, X_train, y_train, return_train_score=True)"
   ]
  },
  {
   "cell_type": "markdown",
   "metadata": {},
   "source": [
    "The model can't find the minimum. Let's try another solver, saga, that can deal with large datasets."
   ]
  },
  {
   "cell_type": "code",
   "execution_count": 27,
   "metadata": {},
   "outputs": [
    {
     "name": "stderr",
     "output_type": "stream",
     "text": [
      "/Users/elylin/opt/anaconda3/envs/learn-env/lib/python3.8/site-packages/sklearn/linear_model/_sag.py:329: ConvergenceWarning: The max_iter was reached which means the coef_ did not converge\n",
      "  warnings.warn(\"The max_iter was reached which means \"\n",
      "/Users/elylin/opt/anaconda3/envs/learn-env/lib/python3.8/site-packages/sklearn/linear_model/_sag.py:329: ConvergenceWarning: The max_iter was reached which means the coef_ did not converge\n",
      "  warnings.warn(\"The max_iter was reached which means \"\n",
      "/Users/elylin/opt/anaconda3/envs/learn-env/lib/python3.8/site-packages/sklearn/linear_model/_sag.py:329: ConvergenceWarning: The max_iter was reached which means the coef_ did not converge\n",
      "  warnings.warn(\"The max_iter was reached which means \"\n",
      "/Users/elylin/opt/anaconda3/envs/learn-env/lib/python3.8/site-packages/sklearn/linear_model/_sag.py:329: ConvergenceWarning: The max_iter was reached which means the coef_ did not converge\n",
      "  warnings.warn(\"The max_iter was reached which means \"\n",
      "/Users/elylin/opt/anaconda3/envs/learn-env/lib/python3.8/site-packages/sklearn/linear_model/_sag.py:329: ConvergenceWarning: The max_iter was reached which means the coef_ did not converge\n",
      "  warnings.warn(\"The max_iter was reached which means \"\n"
     ]
    },
    {
     "data": {
      "text/plain": [
       "{'fit_time': array([2.35502696, 2.28888774, 2.09236288, 2.08377075, 2.08168483]),\n",
       " 'score_time': array([0.23832393, 0.21026206, 0.17106318, 0.17069697, 0.17013597]),\n",
       " 'test_score': array([0.66404789, 0.66953485, 0.6515775 , 0.65057987, 0.66142911]),\n",
       " 'train_score': array([0.67124953, 0.67436713, 0.67075072, 0.67471006, 0.67383714])}"
      ]
     },
     "execution_count": 27,
     "metadata": {},
     "output_type": "execute_result"
    }
   ],
   "source": [
    "log_classifier = Pipeline(steps=[\n",
    "    ('preprocessor', preprocessor),\n",
    "    ('regressor', LogisticRegression(solver='saga'))\n",
    "])\n",
    "cross_validate(log_classifier, X_train, y_train, return_train_score=True)"
   ]
  },
  {
   "cell_type": "code",
   "execution_count": 28,
   "metadata": {},
   "outputs": [
    {
     "name": "stderr",
     "output_type": "stream",
     "text": [
      "/Users/elylin/opt/anaconda3/envs/learn-env/lib/python3.8/site-packages/sklearn/linear_model/_sag.py:329: ConvergenceWarning: The max_iter was reached which means the coef_ did not converge\n",
      "  warnings.warn(\"The max_iter was reached which means \"\n"
     ]
    },
    {
     "data": {
      "text/plain": [
       "Pipeline(steps=[('preprocessor',\n",
       "                 ColumnTransformer(transformers=[('ohe',\n",
       "                                                  Pipeline(steps=[('ohe_imputer',\n",
       "                                                                   SimpleImputer(fill_value=0,\n",
       "                                                                                 strategy='constant')),\n",
       "                                                                  ('oh_encoder',\n",
       "                                                                   OneHotEncoder(handle_unknown='ignore'))]),\n",
       "                                                  ['public_meeting',\n",
       "                                                   'recorded_by', 'permit']),\n",
       "                                                 ('freq',\n",
       "                                                  Pipeline(steps=[('freq_encoder',\n",
       "                                                                   CountEncoder(combine_min_nan_groups=True,\n",
       "                                                                                min_group_size=0.05...\n",
       "                                                   'management_group',\n",
       "                                                   'payment', 'payment_type',\n",
       "                                                   'water_quality',\n",
       "                                                   'quality_group', 'quantity',\n",
       "                                                   'source', 'source_class',\n",
       "                                                   'waterpoint_type_group']),\n",
       "                                                 ('scaler',\n",
       "                                                  Pipeline(steps=[('scaler',\n",
       "                                                                   StandardScaler())]),\n",
       "                                                  ['amount_tsh', 'gps_height',\n",
       "                                                   'longitude', 'latitude',\n",
       "                                                   'region_code',\n",
       "                                                   'district_code',\n",
       "                                                   'population',\n",
       "                                                   'construction_year'])])),\n",
       "                ('regressor', LogisticRegression(solver='saga'))])"
      ]
     },
     "execution_count": 28,
     "metadata": {},
     "output_type": "execute_result"
    }
   ],
   "source": [
    "log_classifier.fit(X_train,y_train)"
   ]
  },
  {
   "cell_type": "code",
   "execution_count": 29,
   "metadata": {},
   "outputs": [
    {
     "name": "stdout",
     "output_type": "stream",
     "text": [
      "Accuracy Score:\n",
      "Train - 0.6730265619154508\n",
      "Test - 0.6596333707444818\n",
      "  \n",
      "Precision Score:\n",
      "Train - 0.679735338840258\n",
      "Test - 0.6371334159438249\n",
      "  \n",
      "Recall Score: \n",
      "Train - 0.7567369721370728\n",
      "Test - 0.8563497571131159\n",
      "  \n",
      "F1 Score: \n",
      "Train - 0.7161723316735223\n",
      "Test - 0.7306530878086329\n",
      "  \n",
      "ROC_AUC: \n",
      "Train - 0.6647211563174672\n",
      "Test - 0.6429476058292852\n",
      "  \n",
      "  \n",
      "Confusion matrix for test data\n"
     ]
    },
    {
     "data": {
      "text/plain": [
       "<sklearn.metrics._plot.confusion_matrix.ConfusionMatrixDisplay at 0x7fe43aba4970>"
      ]
     },
     "execution_count": 29,
     "metadata": {},
     "output_type": "execute_result"
    },
    {
     "data": {
      "image/png": "[encoded data removed]",
      "text/plain": [
       "<Figure size 432x288 with 2 Axes>"
      ]
     },
     "metadata": {
      "needs_background": "light"
     },
     "output_type": "display_data"
    }
   ],
   "source": [
    "evaluate(log_classifier, X_train, y_train, X_val, y_val)"
   ]
  },
  {
   "cell_type": "markdown",
   "metadata": {},
   "source": [
    "The model still didn't converge. Logistic regression is not very good at interaction terms which we'd expect in this dataset."
   ]
  },
  {
   "cell_type": "markdown",
   "metadata": {},
   "source": [
    "### KNN Modeling"
   ]
  },
  {
   "cell_type": "code",
   "execution_count": 30,
   "metadata": {},
   "outputs": [],
   "source": [
    "# build a baseline Knn model\n",
    "Knn_classifier = Pipeline(steps=[\n",
    "    ('preprocessor', preprocessor),\n",
    "    ('classifier', KNeighborsClassifier())\n",
    "])"
   ]
  },
  {
   "cell_type": "code",
   "execution_count": 31,
   "metadata": {},
   "outputs": [
    {
     "data": {
      "text/plain": [
       "{'fit_time': array([1.53794098, 1.55418921, 1.50436687, 1.66702104, 1.62484193]),\n",
       " 'score_time': array([2.09356213, 2.40665293, 2.14829588, 2.27155375, 2.12541699]),\n",
       " 'test_score': array([0.74622771, 0.73637611, 0.73338321, 0.74385834, 0.74385834]),\n",
       " 'train_score': array([0.83292805, 0.83333333, 0.83429979, 0.83168101, 0.83146278])}"
      ]
     },
     "execution_count": 31,
     "metadata": {},
     "output_type": "execute_result"
    }
   ],
   "source": [
    "#Cross validate the X_train dataset\n",
    "from sklearn.model_selection import cross_validate\n",
    "cross_validate(Knn_classifier, X_train, y_train, return_train_score=True)"
   ]
  },
  {
   "cell_type": "code",
   "execution_count": 32,
   "metadata": {},
   "outputs": [
    {
     "name": "stdout",
     "output_type": "stream",
     "text": [
      "Accuracy Score:\n",
      "Train - 0.8376106746477117\n",
      "Test - 0.7524130190796857\n",
      "  \n",
      "Precision Score:\n",
      "Train - 0.8348607838002967\n",
      "Test - 0.7561135945306338\n",
      "  \n",
      "Recall Score: \n",
      "Train - 0.8752344786567232\n",
      "Test - 0.7981956974323386\n",
      "  \n",
      "F1 Score: \n",
      "Train - 0.8545710392888253\n",
      "Test - 0.7765849706299373\n",
      "  \n",
      "ROC_AUC: \n",
      "Train - 0.8338777942137658\n",
      "Test - 0.7485296668979875\n",
      "  \n",
      "  \n",
      "Confusion matrix for test data\n"
     ]
    },
    {
     "data": {
      "text/plain": [
       "<sklearn.metrics._plot.confusion_matrix.ConfusionMatrixDisplay at 0x7fe409689eb0>"
      ]
     },
     "execution_count": 32,
     "metadata": {},
     "output_type": "execute_result"
    },
    {
     "data": {
      "image/png": "[encoded data removed]",
      "text/plain": [
       "<Figure size 432x288 with 2 Axes>"
      ]
     },
     "metadata": {
      "needs_background": "light"
     },
     "output_type": "display_data"
    }
   ],
   "source": [
    "#Evaluate the function\n",
    "Knn_classifier.fit(X_train,y_train)\n",
    "evaluate(Knn_classifier, X_train, y_train, X_val, y_val)"
   ]
  },
  {
   "cell_type": "markdown",
   "metadata": {},
   "source": [
    "KNN has good scores, way better than Logistic Regression, but as we add more data to the model, it's going to take more and more time to run. So we are not going to use KNN model. "
   ]
  },
  {
   "cell_type": "markdown",
   "metadata": {},
   "source": [
    "### Decision Tree Modeling"
   ]
  },
  {
   "cell_type": "code",
   "execution_count": 33,
   "metadata": {},
   "outputs": [],
   "source": [
    "# import decision tree classifier\n",
    "from sklearn.tree import DecisionTreeClassifier \n",
    "# set up pipeline for decision tree models\n",
    "dt = Pipeline(steps=[('preprocessor', preprocessor), ('classifier', DecisionTreeClassifier())])"
   ]
  },
  {
   "cell_type": "code",
   "execution_count": 34,
   "metadata": {},
   "outputs": [
    {
     "data": {
      "text/plain": [
       "{'fit_time': array([1.60072303, 1.52919674, 1.52935886, 1.50707293, 1.56705713]),\n",
       " 'score_time': array([0.17394686, 0.20287204, 0.17058802, 0.20232987, 0.17028093]),\n",
       " 'test_score': array([0.76131687, 0.76580621, 0.74622771, 0.76817558, 0.76817558]),\n",
       " 'train_score': array([0.99947001, 0.99950118, 0.99956354, 0.99962589, 0.99950118])}"
      ]
     },
     "execution_count": 34,
     "metadata": {},
     "output_type": "execute_result"
    }
   ],
   "source": [
    "# baseline decision tree model\n",
    "cross_validate(dt, X_train, y_train, return_train_score = True)"
   ]
  },
  {
   "cell_type": "code",
   "execution_count": 35,
   "metadata": {},
   "outputs": [
    {
     "name": "stdout",
     "output_type": "stream",
     "text": [
      "Accuracy Score:\n",
      "Train - 0.9994762439206883\n",
      "Test - 0.7695473251028807\n",
      "  \n",
      "Precision Score:\n",
      "Train - 0.9998626499404817\n",
      "Test - 0.7879380147982689\n",
      "  \n",
      "Recall Score: \n",
      "Train - 0.999176465205655\n",
      "Test - 0.7833448993754337\n",
      "  \n",
      "F1 Score: \n",
      "Train - 0.9995194398041145\n",
      "Test - 0.7856347438752784\n",
      "  \n",
      "ROC_AUC: \n",
      "Train - 0.9995059867425358\n",
      "Test - 0.7683769951422623\n",
      "  \n",
      "  \n",
      "Confusion matrix for test data\n"
     ]
    },
    {
     "data": {
      "text/plain": [
       "<sklearn.metrics._plot.confusion_matrix.ConfusionMatrixDisplay at 0x7fe40a5c8400>"
      ]
     },
     "execution_count": 35,
     "metadata": {},
     "output_type": "execute_result"
    },
    {
     "data": {
      "image/png": "[encoded data removed]",
      "text/plain": [
       "<Figure size 432x288 with 2 Axes>"
      ]
     },
     "metadata": {
      "needs_background": "light"
     },
     "output_type": "display_data"
    }
   ],
   "source": [
    "dt.fit(X_train, y_train)\n",
    "evaluate(dt, X_train, y_train, X_val, y_val)"
   ]
  },
  {
   "cell_type": "markdown",
   "metadata": {},
   "source": [
    "- The score is way better on the training set than the test set so the model is definitely overfitted, which is expected for an untuned decision tree model. "
   ]
  },
  {
   "cell_type": "markdown",
   "metadata": {},
   "source": [
    "#### Improve Decision Tree by Gridsearching"
   ]
  },
  {
   "cell_type": "code",
   "execution_count": 36,
   "metadata": {},
   "outputs": [],
   "source": [
    "from sklearn.model_selection import GridSearchCV"
   ]
  },
  {
   "cell_type": "code",
   "execution_count": 37,
   "metadata": {},
   "outputs": [],
   "source": [
    "# correct for overfitting by limiting max depth and minimum samples split\n",
    "dt_grid_params = {'classifier__max_depth':[1,5,10], 'classifier__min_samples_split':[2,10,100]}"
   ]
  },
  {
   "cell_type": "code",
   "execution_count": 38,
   "metadata": {},
   "outputs": [],
   "source": [
    "# Gridsearch for best precision score because that's what we want to maximize according to our business problem\n",
    "dt_grid = GridSearchCV(dt, dt_grid_params, scoring = 'precision')\n",
    "dt_output = dt_grid.fit(X_train, y_train)"
   ]
  },
  {
   "cell_type": "code",
   "execution_count": 39,
   "metadata": {},
   "outputs": [
    {
     "data": {
      "text/plain": [
       "{'classifier__max_depth': 10, 'classifier__min_samples_split': 10}"
      ]
     },
     "execution_count": 39,
     "metadata": {},
     "output_type": "execute_result"
    }
   ],
   "source": [
    "# See the gridsearch result\n",
    "dt_output.best_params_"
   ]
  },
  {
   "cell_type": "code",
   "execution_count": 40,
   "metadata": {},
   "outputs": [],
   "source": [
    "dt_best_model = dt_output.best_estimator_"
   ]
  },
  {
   "cell_type": "code",
   "execution_count": 41,
   "metadata": {},
   "outputs": [
    {
     "name": "stdout",
     "output_type": "stream",
     "text": [
      "Accuracy Score:\n",
      "Train - 0.7945379723157501\n",
      "Test - 0.76109240553685\n",
      "  \n",
      "Precision Score:\n",
      "Train - 0.7719992011184342\n",
      "Test - 0.7407007439404848\n",
      "  \n",
      "Recall Score: \n",
      "Train - 0.8842476094614997\n",
      "Test - 0.8567661346287301\n",
      "  \n",
      "F1 Score: \n",
      "Train - 0.8243197133839462\n",
      "Test - 0.7945170216873673\n",
      "  \n",
      "ROC_AUC: \n",
      "Train - 0.7856373478824112\n",
      "Test - 0.7529772231585209\n",
      "  \n",
      "  \n",
      "Confusion matrix for test data\n"
     ]
    },
    {
     "data": {
      "text/plain": [
       "<sklearn.metrics._plot.confusion_matrix.ConfusionMatrixDisplay at 0x7fe40970abe0>"
      ]
     },
     "execution_count": 41,
     "metadata": {},
     "output_type": "execute_result"
    },
    {
     "data": {
      "image/png": "[encoded data removed]",
      "text/plain": [
       "<Figure size 432x288 with 2 Axes>"
      ]
     },
     "metadata": {
      "needs_background": "light"
     },
     "output_type": "display_data"
    }
   ],
   "source": [
    "#Evaluate the model\n",
    "evaluate(dt_best_model, X_train, y_train, X_val, y_val)"
   ]
  },
  {
   "cell_type": "markdown",
   "metadata": {},
   "source": [
    "#### Random Forest"
   ]
  },
  {
   "cell_type": "code",
   "execution_count": 42,
   "metadata": {},
   "outputs": [],
   "source": [
    "from sklearn.ensemble import RandomForestClassifier"
   ]
  },
  {
   "cell_type": "code",
   "execution_count": 43,
   "metadata": {},
   "outputs": [],
   "source": [
    "# setting up pipeline for random forest models\n",
    "rfc = Pipeline(steps=[\n",
    "    ('preprocessor', preprocessor),\n",
    "    ('classifier', RandomForestClassifier())])"
   ]
  },
  {
   "cell_type": "code",
   "execution_count": 44,
   "metadata": {},
   "outputs": [],
   "source": [
    "# set up parameter grid\n",
    "rfc_grid_params = {'classifier__n_estimators': [1,10,100], 'classifier__max_depth':[1,5,10], 'classifier__min_samples_split':[2,10,100], 'classifier__max_features': ['sqrt','log2', None], 'classifier__max_samples': [0.1,0.3,0.5]}"
   ]
  },
  {
   "cell_type": "code",
   "execution_count": 45,
   "metadata": {},
   "outputs": [],
   "source": [
    "# Gridsearch for best precision score \n",
    "rfc_grid = GridSearchCV(rfc, rfc_grid_params, scoring = 'precision')\n",
    "rfc_output = rfc_grid.fit(X_train, y_train)"
   ]
  },
  {
   "cell_type": "code",
   "execution_count": 46,
   "metadata": {},
   "outputs": [
    {
     "data": {
      "text/plain": [
       "{'classifier__max_depth': 10,\n",
       " 'classifier__max_features': 'sqrt',\n",
       " 'classifier__max_samples': 0.5,\n",
       " 'classifier__min_samples_split': 2,\n",
       " 'classifier__n_estimators': 100}"
      ]
     },
     "execution_count": 46,
     "metadata": {},
     "output_type": "execute_result"
    }
   ],
   "source": [
    "# See the gridsearch result\n",
    "rfc_output.best_params_"
   ]
  },
  {
   "cell_type": "code",
   "execution_count": 47,
   "metadata": {},
   "outputs": [],
   "source": [
    "rfc_best_model = rfc_output.best_estimator_"
   ]
  },
  {
   "cell_type": "code",
   "execution_count": 48,
   "metadata": {},
   "outputs": [
    {
     "name": "stdout",
     "output_type": "stream",
     "text": [
      "Accuracy Score:\n",
      "Train - 0.8166105499438833\n",
      "Test - 0.7817433595211373\n",
      "  \n",
      "Precision Score:\n",
      "Train - 0.7754691179822228\n",
      "Test - 0.7428086070215175\n",
      "  \n",
      "Recall Score: \n",
      "Train - 0.9340257125863568\n",
      "Test - 0.9103400416377515\n",
      "  \n",
      "F1 Score: \n",
      "Train - 0.8473943091961896\n",
      "Test - 0.8180854381041471\n",
      "  \n",
      "ROC_AUC: \n",
      "Train - 0.804961096231768\n",
      "Test - 0.7708356052344603\n",
      "  \n",
      "  \n",
      "Confusion matrix for test data\n"
     ]
    },
    {
     "data": {
      "text/plain": [
       "<sklearn.metrics._plot.confusion_matrix.ConfusionMatrixDisplay at 0x7fe40a4523d0>"
      ]
     },
     "execution_count": 48,
     "metadata": {},
     "output_type": "execute_result"
    },
    {
     "data": {
      "image/png": "[encoded data removed]",
      "text/plain": [
       "<Figure size 432x288 with 2 Axes>"
      ]
     },
     "metadata": {
      "needs_background": "light"
     },
     "output_type": "display_data"
    }
   ],
   "source": [
    "# Evaluate the model\n",
    "evaluate(rfc_best_model, X_train, y_train, X_val, y_val)"
   ]
  },
  {
   "cell_type": "markdown",
   "metadata": {},
   "source": [
    "#### Catboost"
   ]
  },
  {
   "cell_type": "code",
   "execution_count": 2,
   "metadata": {},
   "outputs": [],
   "source": [
    "from catboost import CatBoostClassifier"
   ]
  },
  {
   "cell_type": "code",
   "execution_count": 24,
   "metadata": {},
   "outputs": [],
   "source": [
    "cbc = Pipeline(steps=[\n",
    "    ('preprocessor', preprocessor),\n",
    "    ('classifier', CatBoostClassifier())])"
   ]
  },
  {
   "cell_type": "code",
   "execution_count": 25,
   "metadata": {},
   "outputs": [
    {
     "name": "stdout",
     "output_type": "stream",
     "text": [
      "Learning rate set to 0.049826\n",
      "0:\tlearn: 0.6755647\ttotal: 73ms\tremaining: 1m 12s\n",
      "1:\tlearn: 0.6599110\ttotal: 82.6ms\tremaining: 41.2s\n",
      "2:\tlearn: 0.6463422\ttotal: 93.5ms\tremaining: 31.1s\n",
      "3:\tlearn: 0.6348247\ttotal: 104ms\tremaining: 26s\n",
      "4:\tlearn: 0.6266172\ttotal: 115ms\tremaining: 22.9s\n",
      "5:\tlearn: 0.6192409\ttotal: 127ms\tremaining: 21.1s\n",
      "6:\tlearn: 0.6103050\ttotal: 138ms\tremaining: 19.5s\n",
      "7:\tlearn: 0.6025273\ttotal: 150ms\tremaining: 18.6s\n",
      "8:\tlearn: 0.5965877\ttotal: 162ms\tremaining: 17.8s\n",
      "9:\tlearn: 0.5904847\ttotal: 173ms\tremaining: 17.1s\n",
      "10:\tlearn: 0.5851902\ttotal: 188ms\tremaining: 16.9s\n",
      "11:\tlearn: 0.5802419\ttotal: 200ms\tremaining: 16.5s\n",
      "12:\tlearn: 0.5759181\ttotal: 212ms\tremaining: 16.1s\n",
      "13:\tlearn: 0.5724812\ttotal: 227ms\tremaining: 16s\n",
      "14:\tlearn: 0.5680805\ttotal: 238ms\tremaining: 15.6s\n",
      "15:\tlearn: 0.5638960\ttotal: 251ms\tremaining: 15.5s\n",
      "16:\tlearn: 0.5607442\ttotal: 265ms\tremaining: 15.3s\n",
      "17:\tlearn: 0.5576339\ttotal: 277ms\tremaining: 15.1s\n",
      "18:\tlearn: 0.5554012\ttotal: 288ms\tremaining: 14.9s\n",
      "19:\tlearn: 0.5529512\ttotal: 302ms\tremaining: 14.8s\n",
      "20:\tlearn: 0.5503226\ttotal: 313ms\tremaining: 14.6s\n",
      "21:\tlearn: 0.5482659\ttotal: 326ms\tremaining: 14.5s\n",
      "22:\tlearn: 0.5459079\ttotal: 337ms\tremaining: 14.3s\n",
      "23:\tlearn: 0.5437957\ttotal: 348ms\tremaining: 14.2s\n",
      "24:\tlearn: 0.5408218\ttotal: 360ms\tremaining: 14s\n",
      "25:\tlearn: 0.5383412\ttotal: 369ms\tremaining: 13.8s\n",
      "26:\tlearn: 0.5364828\ttotal: 381ms\tremaining: 13.7s\n",
      "27:\tlearn: 0.5347565\ttotal: 394ms\tremaining: 13.7s\n",
      "28:\tlearn: 0.5329804\ttotal: 406ms\tremaining: 13.6s\n",
      "29:\tlearn: 0.5313131\ttotal: 420ms\tremaining: 13.6s\n",
      "30:\tlearn: 0.5300310\ttotal: 432ms\tremaining: 13.5s\n",
      "31:\tlearn: 0.5284436\ttotal: 443ms\tremaining: 13.4s\n",
      "32:\tlearn: 0.5271930\ttotal: 460ms\tremaining: 13.5s\n",
      "33:\tlearn: 0.5254002\ttotal: 472ms\tremaining: 13.4s\n",
      "34:\tlearn: 0.5240177\ttotal: 486ms\tremaining: 13.4s\n",
      "35:\tlearn: 0.5223635\ttotal: 500ms\tremaining: 13.4s\n",
      "36:\tlearn: 0.5211158\ttotal: 512ms\tremaining: 13.3s\n",
      "37:\tlearn: 0.5199971\ttotal: 523ms\tremaining: 13.2s\n",
      "38:\tlearn: 0.5188185\ttotal: 535ms\tremaining: 13.2s\n",
      "39:\tlearn: 0.5178432\ttotal: 549ms\tremaining: 13.2s\n",
      "40:\tlearn: 0.5170164\ttotal: 559ms\tremaining: 13.1s\n",
      "41:\tlearn: 0.5160382\ttotal: 570ms\tremaining: 13s\n",
      "42:\tlearn: 0.5148267\ttotal: 580ms\tremaining: 12.9s\n",
      "43:\tlearn: 0.5136653\ttotal: 591ms\tremaining: 12.8s\n",
      "44:\tlearn: 0.5125660\ttotal: 603ms\tremaining: 12.8s\n",
      "45:\tlearn: 0.5115445\ttotal: 617ms\tremaining: 12.8s\n",
      "46:\tlearn: 0.5104626\ttotal: 633ms\tremaining: 12.8s\n",
      "47:\tlearn: 0.5097361\ttotal: 645ms\tremaining: 12.8s\n",
      "48:\tlearn: 0.5088433\ttotal: 658ms\tremaining: 12.8s\n",
      "49:\tlearn: 0.5080460\ttotal: 669ms\tremaining: 12.7s\n",
      "50:\tlearn: 0.5071199\ttotal: 682ms\tremaining: 12.7s\n",
      "51:\tlearn: 0.5054926\ttotal: 693ms\tremaining: 12.6s\n",
      "52:\tlearn: 0.5039771\ttotal: 705ms\tremaining: 12.6s\n",
      "53:\tlearn: 0.5032170\ttotal: 717ms\tremaining: 12.6s\n",
      "54:\tlearn: 0.5025231\ttotal: 729ms\tremaining: 12.5s\n",
      "55:\tlearn: 0.5010067\ttotal: 739ms\tremaining: 12.5s\n",
      "56:\tlearn: 0.5002203\ttotal: 752ms\tremaining: 12.4s\n",
      "57:\tlearn: 0.4994104\ttotal: 762ms\tremaining: 12.4s\n",
      "58:\tlearn: 0.4985987\ttotal: 772ms\tremaining: 12.3s\n",
      "59:\tlearn: 0.4979814\ttotal: 785ms\tremaining: 12.3s\n",
      "60:\tlearn: 0.4969351\ttotal: 796ms\tremaining: 12.3s\n",
      "61:\tlearn: 0.4962068\ttotal: 806ms\tremaining: 12.2s\n",
      "62:\tlearn: 0.4957055\ttotal: 817ms\tremaining: 12.2s\n",
      "63:\tlearn: 0.4949735\ttotal: 830ms\tremaining: 12.1s\n",
      "64:\tlearn: 0.4941809\ttotal: 844ms\tremaining: 12.1s\n",
      "65:\tlearn: 0.4936323\ttotal: 854ms\tremaining: 12.1s\n",
      "66:\tlearn: 0.4930475\ttotal: 865ms\tremaining: 12s\n",
      "67:\tlearn: 0.4922628\ttotal: 877ms\tremaining: 12s\n",
      "68:\tlearn: 0.4915303\ttotal: 888ms\tremaining: 12s\n",
      "69:\tlearn: 0.4910220\ttotal: 901ms\tremaining: 12s\n",
      "70:\tlearn: 0.4903178\ttotal: 916ms\tremaining: 12s\n",
      "71:\tlearn: 0.4898208\ttotal: 931ms\tremaining: 12s\n",
      "72:\tlearn: 0.4888974\ttotal: 944ms\tremaining: 12s\n",
      "73:\tlearn: 0.4882543\ttotal: 959ms\tremaining: 12s\n",
      "74:\tlearn: 0.4878762\ttotal: 973ms\tremaining: 12s\n",
      "75:\tlearn: 0.4871207\ttotal: 984ms\tremaining: 12s\n",
      "76:\tlearn: 0.4867073\ttotal: 995ms\tremaining: 11.9s\n",
      "77:\tlearn: 0.4861693\ttotal: 1.01s\tremaining: 12s\n",
      "78:\tlearn: 0.4856785\ttotal: 1.02s\tremaining: 12s\n",
      "79:\tlearn: 0.4848265\ttotal: 1.04s\tremaining: 12s\n",
      "80:\tlearn: 0.4843299\ttotal: 1.05s\tremaining: 11.9s\n",
      "81:\tlearn: 0.4832949\ttotal: 1.06s\tremaining: 11.9s\n",
      "82:\tlearn: 0.4825687\ttotal: 1.07s\tremaining: 11.9s\n",
      "83:\tlearn: 0.4820682\ttotal: 1.09s\tremaining: 11.9s\n",
      "84:\tlearn: 0.4817644\ttotal: 1.1s\tremaining: 11.8s\n",
      "85:\tlearn: 0.4812702\ttotal: 1.11s\tremaining: 11.8s\n",
      "86:\tlearn: 0.4808142\ttotal: 1.12s\tremaining: 11.8s\n",
      "87:\tlearn: 0.4802732\ttotal: 1.13s\tremaining: 11.8s\n",
      "88:\tlearn: 0.4799596\ttotal: 1.15s\tremaining: 11.7s\n",
      "89:\tlearn: 0.4795093\ttotal: 1.16s\tremaining: 11.7s\n",
      "90:\tlearn: 0.4789187\ttotal: 1.17s\tremaining: 11.7s\n",
      "91:\tlearn: 0.4785177\ttotal: 1.18s\tremaining: 11.7s\n",
      "92:\tlearn: 0.4781325\ttotal: 1.19s\tremaining: 11.6s\n",
      "93:\tlearn: 0.4778560\ttotal: 1.21s\tremaining: 11.6s\n",
      "94:\tlearn: 0.4774489\ttotal: 1.22s\tremaining: 11.6s\n",
      "95:\tlearn: 0.4769656\ttotal: 1.23s\tremaining: 11.6s\n",
      "96:\tlearn: 0.4765140\ttotal: 1.24s\tremaining: 11.5s\n",
      "97:\tlearn: 0.4760221\ttotal: 1.25s\tremaining: 11.5s\n",
      "98:\tlearn: 0.4756239\ttotal: 1.26s\tremaining: 11.5s\n",
      "99:\tlearn: 0.4750469\ttotal: 1.28s\tremaining: 11.5s\n",
      "100:\tlearn: 0.4747871\ttotal: 1.3s\tremaining: 11.5s\n",
      "101:\tlearn: 0.4741917\ttotal: 1.31s\tremaining: 11.5s\n",
      "102:\tlearn: 0.4738819\ttotal: 1.32s\tremaining: 11.5s\n",
      "103:\tlearn: 0.4733630\ttotal: 1.33s\tremaining: 11.5s\n",
      "104:\tlearn: 0.4729831\ttotal: 1.34s\tremaining: 11.4s\n",
      "105:\tlearn: 0.4727434\ttotal: 1.35s\tremaining: 11.4s\n",
      "106:\tlearn: 0.4722919\ttotal: 1.36s\tremaining: 11.4s\n",
      "107:\tlearn: 0.4714150\ttotal: 1.38s\tremaining: 11.4s\n",
      "108:\tlearn: 0.4708185\ttotal: 1.39s\tremaining: 11.3s\n",
      "109:\tlearn: 0.4704562\ttotal: 1.4s\tremaining: 11.3s\n",
      "110:\tlearn: 0.4700847\ttotal: 1.41s\tremaining: 11.3s\n",
      "111:\tlearn: 0.4697346\ttotal: 1.42s\tremaining: 11.3s\n",
      "112:\tlearn: 0.4692982\ttotal: 1.43s\tremaining: 11.3s\n",
      "113:\tlearn: 0.4689439\ttotal: 1.45s\tremaining: 11.2s\n",
      "114:\tlearn: 0.4686105\ttotal: 1.46s\tremaining: 11.2s\n",
      "115:\tlearn: 0.4682878\ttotal: 1.47s\tremaining: 11.2s\n",
      "116:\tlearn: 0.4679406\ttotal: 1.49s\tremaining: 11.2s\n",
      "117:\tlearn: 0.4677015\ttotal: 1.5s\tremaining: 11.2s\n",
      "118:\tlearn: 0.4670972\ttotal: 1.51s\tremaining: 11.2s\n",
      "119:\tlearn: 0.4667051\ttotal: 1.52s\tremaining: 11.2s\n",
      "120:\tlearn: 0.4664627\ttotal: 1.54s\tremaining: 11.2s\n",
      "121:\tlearn: 0.4660890\ttotal: 1.55s\tremaining: 11.1s\n",
      "122:\tlearn: 0.4658052\ttotal: 1.56s\tremaining: 11.1s\n",
      "123:\tlearn: 0.4653865\ttotal: 1.57s\tremaining: 11.1s\n",
      "124:\tlearn: 0.4650100\ttotal: 1.58s\tremaining: 11.1s\n",
      "125:\tlearn: 0.4646818\ttotal: 1.59s\tremaining: 11.1s\n",
      "126:\tlearn: 0.4643574\ttotal: 1.61s\tremaining: 11s\n",
      "127:\tlearn: 0.4640047\ttotal: 1.62s\tremaining: 11s\n",
      "128:\tlearn: 0.4637500\ttotal: 1.63s\tremaining: 11s\n",
      "129:\tlearn: 0.4633667\ttotal: 1.64s\tremaining: 11s\n",
      "130:\tlearn: 0.4630982\ttotal: 1.65s\tremaining: 11s\n",
      "131:\tlearn: 0.4628209\ttotal: 1.66s\tremaining: 10.9s\n",
      "132:\tlearn: 0.4625548\ttotal: 1.68s\tremaining: 10.9s\n",
      "133:\tlearn: 0.4620914\ttotal: 1.69s\tremaining: 10.9s\n",
      "134:\tlearn: 0.4618840\ttotal: 1.7s\tremaining: 10.9s\n",
      "135:\tlearn: 0.4616943\ttotal: 1.71s\tremaining: 10.9s\n",
      "136:\tlearn: 0.4613937\ttotal: 1.72s\tremaining: 10.8s\n",
      "137:\tlearn: 0.4610874\ttotal: 1.73s\tremaining: 10.8s\n",
      "138:\tlearn: 0.4608369\ttotal: 1.75s\tremaining: 10.8s\n",
      "139:\tlearn: 0.4605646\ttotal: 1.76s\tremaining: 10.8s\n",
      "140:\tlearn: 0.4601915\ttotal: 1.77s\tremaining: 10.8s\n",
      "141:\tlearn: 0.4598962\ttotal: 1.78s\tremaining: 10.8s\n",
      "142:\tlearn: 0.4596467\ttotal: 1.79s\tremaining: 10.7s\n",
      "143:\tlearn: 0.4593166\ttotal: 1.8s\tremaining: 10.7s\n",
      "144:\tlearn: 0.4590912\ttotal: 1.81s\tremaining: 10.7s\n",
      "145:\tlearn: 0.4587845\ttotal: 1.82s\tremaining: 10.7s\n",
      "146:\tlearn: 0.4585874\ttotal: 1.84s\tremaining: 10.7s\n",
      "147:\tlearn: 0.4580803\ttotal: 1.86s\tremaining: 10.7s\n",
      "148:\tlearn: 0.4578066\ttotal: 1.88s\tremaining: 10.7s\n",
      "149:\tlearn: 0.4573487\ttotal: 1.89s\tremaining: 10.7s\n",
      "150:\tlearn: 0.4571046\ttotal: 1.9s\tremaining: 10.7s\n",
      "151:\tlearn: 0.4568150\ttotal: 1.92s\tremaining: 10.7s\n",
      "152:\tlearn: 0.4565494\ttotal: 1.93s\tremaining: 10.7s\n",
      "153:\tlearn: 0.4563774\ttotal: 1.94s\tremaining: 10.6s\n",
      "154:\tlearn: 0.4561463\ttotal: 1.95s\tremaining: 10.6s\n",
      "155:\tlearn: 0.4558787\ttotal: 1.96s\tremaining: 10.6s\n",
      "156:\tlearn: 0.4556015\ttotal: 1.97s\tremaining: 10.6s\n",
      "157:\tlearn: 0.4553097\ttotal: 1.99s\tremaining: 10.6s\n",
      "158:\tlearn: 0.4550231\ttotal: 2s\tremaining: 10.6s\n",
      "159:\tlearn: 0.4547734\ttotal: 2.01s\tremaining: 10.5s\n",
      "160:\tlearn: 0.4545594\ttotal: 2.02s\tremaining: 10.6s\n",
      "161:\tlearn: 0.4543686\ttotal: 2.04s\tremaining: 10.5s\n",
      "162:\tlearn: 0.4541065\ttotal: 2.05s\tremaining: 10.5s\n",
      "163:\tlearn: 0.4538789\ttotal: 2.06s\tremaining: 10.5s\n"
     ]
    },
    {
     "name": "stdout",
     "output_type": "stream",
     "text": [
      "164:\tlearn: 0.4536644\ttotal: 2.07s\tremaining: 10.5s\n",
      "165:\tlearn: 0.4532146\ttotal: 2.08s\tremaining: 10.5s\n",
      "166:\tlearn: 0.4529234\ttotal: 2.09s\tremaining: 10.4s\n",
      "167:\tlearn: 0.4527572\ttotal: 2.1s\tremaining: 10.4s\n",
      "168:\tlearn: 0.4526071\ttotal: 2.12s\tremaining: 10.4s\n",
      "169:\tlearn: 0.4523609\ttotal: 2.13s\tremaining: 10.4s\n",
      "170:\tlearn: 0.4520891\ttotal: 2.14s\tremaining: 10.4s\n",
      "171:\tlearn: 0.4518137\ttotal: 2.15s\tremaining: 10.4s\n",
      "172:\tlearn: 0.4514367\ttotal: 2.16s\tremaining: 10.3s\n",
      "173:\tlearn: 0.4512416\ttotal: 2.18s\tremaining: 10.3s\n",
      "174:\tlearn: 0.4509304\ttotal: 2.19s\tremaining: 10.3s\n",
      "175:\tlearn: 0.4506514\ttotal: 2.2s\tremaining: 10.3s\n",
      "176:\tlearn: 0.4503062\ttotal: 2.21s\tremaining: 10.3s\n",
      "177:\tlearn: 0.4501128\ttotal: 2.22s\tremaining: 10.3s\n",
      "178:\tlearn: 0.4499207\ttotal: 2.23s\tremaining: 10.2s\n",
      "179:\tlearn: 0.4496979\ttotal: 2.24s\tremaining: 10.2s\n",
      "180:\tlearn: 0.4493056\ttotal: 2.25s\tremaining: 10.2s\n",
      "181:\tlearn: 0.4489028\ttotal: 2.27s\tremaining: 10.2s\n",
      "182:\tlearn: 0.4487556\ttotal: 2.28s\tremaining: 10.2s\n",
      "183:\tlearn: 0.4483486\ttotal: 2.29s\tremaining: 10.2s\n",
      "184:\tlearn: 0.4481682\ttotal: 2.3s\tremaining: 10.1s\n",
      "185:\tlearn: 0.4479646\ttotal: 2.31s\tremaining: 10.1s\n",
      "186:\tlearn: 0.4477520\ttotal: 2.33s\tremaining: 10.1s\n",
      "187:\tlearn: 0.4475488\ttotal: 2.34s\tremaining: 10.1s\n",
      "188:\tlearn: 0.4473492\ttotal: 2.35s\tremaining: 10.1s\n",
      "189:\tlearn: 0.4469501\ttotal: 2.36s\tremaining: 10.1s\n",
      "190:\tlearn: 0.4466470\ttotal: 2.37s\tremaining: 10s\n",
      "191:\tlearn: 0.4463095\ttotal: 2.39s\tremaining: 10.1s\n",
      "192:\tlearn: 0.4460746\ttotal: 2.4s\tremaining: 10.1s\n",
      "193:\tlearn: 0.4457474\ttotal: 2.42s\tremaining: 10s\n",
      "194:\tlearn: 0.4455646\ttotal: 2.43s\tremaining: 10s\n",
      "195:\tlearn: 0.4453554\ttotal: 2.44s\tremaining: 10s\n",
      "196:\tlearn: 0.4449479\ttotal: 2.45s\tremaining: 9.99s\n",
      "197:\tlearn: 0.4446880\ttotal: 2.46s\tremaining: 9.97s\n",
      "198:\tlearn: 0.4445155\ttotal: 2.47s\tremaining: 9.95s\n",
      "199:\tlearn: 0.4442956\ttotal: 2.48s\tremaining: 9.93s\n",
      "200:\tlearn: 0.4440939\ttotal: 2.5s\tremaining: 9.94s\n",
      "201:\tlearn: 0.4439490\ttotal: 2.51s\tremaining: 9.93s\n",
      "202:\tlearn: 0.4437395\ttotal: 2.52s\tremaining: 9.92s\n",
      "203:\tlearn: 0.4434550\ttotal: 2.54s\tremaining: 9.91s\n",
      "204:\tlearn: 0.4432876\ttotal: 2.55s\tremaining: 9.89s\n",
      "205:\tlearn: 0.4429125\ttotal: 2.56s\tremaining: 9.88s\n",
      "206:\tlearn: 0.4427025\ttotal: 2.58s\tremaining: 9.87s\n",
      "207:\tlearn: 0.4424363\ttotal: 2.59s\tremaining: 9.85s\n",
      "208:\tlearn: 0.4422965\ttotal: 2.6s\tremaining: 9.85s\n",
      "209:\tlearn: 0.4421571\ttotal: 2.62s\tremaining: 9.84s\n",
      "210:\tlearn: 0.4419501\ttotal: 2.63s\tremaining: 9.82s\n",
      "211:\tlearn: 0.4417886\ttotal: 2.64s\tremaining: 9.81s\n",
      "212:\tlearn: 0.4414864\ttotal: 2.65s\tremaining: 9.8s\n",
      "213:\tlearn: 0.4413373\ttotal: 2.66s\tremaining: 9.78s\n",
      "214:\tlearn: 0.4410454\ttotal: 2.67s\tremaining: 9.76s\n",
      "215:\tlearn: 0.4408760\ttotal: 2.69s\tremaining: 9.75s\n",
      "216:\tlearn: 0.4406359\ttotal: 2.7s\tremaining: 9.73s\n",
      "217:\tlearn: 0.4404196\ttotal: 2.71s\tremaining: 9.71s\n",
      "218:\tlearn: 0.4402084\ttotal: 2.72s\tremaining: 9.7s\n",
      "219:\tlearn: 0.4400285\ttotal: 2.73s\tremaining: 9.68s\n",
      "220:\tlearn: 0.4398323\ttotal: 2.74s\tremaining: 9.67s\n",
      "221:\tlearn: 0.4396818\ttotal: 2.75s\tremaining: 9.65s\n",
      "222:\tlearn: 0.4393730\ttotal: 2.77s\tremaining: 9.63s\n",
      "223:\tlearn: 0.4391761\ttotal: 2.78s\tremaining: 9.62s\n",
      "224:\tlearn: 0.4389768\ttotal: 2.79s\tremaining: 9.61s\n",
      "225:\tlearn: 0.4387969\ttotal: 2.8s\tremaining: 9.59s\n",
      "226:\tlearn: 0.4385830\ttotal: 2.81s\tremaining: 9.58s\n",
      "227:\tlearn: 0.4383722\ttotal: 2.83s\tremaining: 9.57s\n",
      "228:\tlearn: 0.4381557\ttotal: 2.84s\tremaining: 9.55s\n",
      "229:\tlearn: 0.4379641\ttotal: 2.85s\tremaining: 9.53s\n",
      "230:\tlearn: 0.4376817\ttotal: 2.86s\tremaining: 9.52s\n",
      "231:\tlearn: 0.4373906\ttotal: 2.87s\tremaining: 9.51s\n",
      "232:\tlearn: 0.4370944\ttotal: 2.88s\tremaining: 9.48s\n",
      "233:\tlearn: 0.4367747\ttotal: 2.89s\tremaining: 9.47s\n",
      "234:\tlearn: 0.4365716\ttotal: 2.9s\tremaining: 9.46s\n",
      "235:\tlearn: 0.4364059\ttotal: 2.92s\tremaining: 9.44s\n",
      "236:\tlearn: 0.4362471\ttotal: 2.93s\tremaining: 9.43s\n",
      "237:\tlearn: 0.4359985\ttotal: 2.94s\tremaining: 9.42s\n",
      "238:\tlearn: 0.4358021\ttotal: 2.95s\tremaining: 9.4s\n",
      "239:\tlearn: 0.4356264\ttotal: 2.97s\tremaining: 9.39s\n",
      "240:\tlearn: 0.4352848\ttotal: 2.98s\tremaining: 9.38s\n",
      "241:\tlearn: 0.4350225\ttotal: 2.99s\tremaining: 9.37s\n",
      "242:\tlearn: 0.4347651\ttotal: 3s\tremaining: 9.35s\n",
      "243:\tlearn: 0.4345966\ttotal: 3.01s\tremaining: 9.34s\n",
      "244:\tlearn: 0.4343539\ttotal: 3.02s\tremaining: 9.32s\n",
      "245:\tlearn: 0.4339586\ttotal: 3.04s\tremaining: 9.31s\n",
      "246:\tlearn: 0.4337678\ttotal: 3.05s\tremaining: 9.29s\n",
      "247:\tlearn: 0.4334399\ttotal: 3.06s\tremaining: 9.27s\n",
      "248:\tlearn: 0.4332016\ttotal: 3.07s\tremaining: 9.26s\n",
      "249:\tlearn: 0.4330715\ttotal: 3.08s\tremaining: 9.24s\n",
      "250:\tlearn: 0.4329059\ttotal: 3.09s\tremaining: 9.22s\n",
      "251:\tlearn: 0.4327066\ttotal: 3.1s\tremaining: 9.22s\n",
      "252:\tlearn: 0.4325531\ttotal: 3.12s\tremaining: 9.2s\n",
      "253:\tlearn: 0.4322948\ttotal: 3.13s\tremaining: 9.19s\n",
      "254:\tlearn: 0.4321427\ttotal: 3.14s\tremaining: 9.17s\n",
      "255:\tlearn: 0.4319884\ttotal: 3.15s\tremaining: 9.16s\n",
      "256:\tlearn: 0.4317270\ttotal: 3.16s\tremaining: 9.15s\n",
      "257:\tlearn: 0.4315510\ttotal: 3.17s\tremaining: 9.13s\n",
      "258:\tlearn: 0.4313542\ttotal: 3.19s\tremaining: 9.12s\n",
      "259:\tlearn: 0.4311714\ttotal: 3.2s\tremaining: 9.11s\n",
      "260:\tlearn: 0.4308540\ttotal: 3.21s\tremaining: 9.09s\n",
      "261:\tlearn: 0.4307225\ttotal: 3.22s\tremaining: 9.08s\n",
      "262:\tlearn: 0.4305309\ttotal: 3.23s\tremaining: 9.06s\n",
      "263:\tlearn: 0.4301580\ttotal: 3.25s\tremaining: 9.05s\n",
      "264:\tlearn: 0.4299640\ttotal: 3.26s\tremaining: 9.04s\n",
      "265:\tlearn: 0.4297344\ttotal: 3.27s\tremaining: 9.03s\n",
      "266:\tlearn: 0.4296166\ttotal: 3.28s\tremaining: 9.01s\n",
      "267:\tlearn: 0.4293537\ttotal: 3.3s\tremaining: 9s\n",
      "268:\tlearn: 0.4292016\ttotal: 3.31s\tremaining: 8.98s\n",
      "269:\tlearn: 0.4289843\ttotal: 3.32s\tremaining: 8.97s\n",
      "270:\tlearn: 0.4287960\ttotal: 3.33s\tremaining: 8.95s\n",
      "271:\tlearn: 0.4286087\ttotal: 3.34s\tremaining: 8.94s\n",
      "272:\tlearn: 0.4284241\ttotal: 3.35s\tremaining: 8.93s\n",
      "273:\tlearn: 0.4282510\ttotal: 3.37s\tremaining: 8.92s\n",
      "274:\tlearn: 0.4280429\ttotal: 3.38s\tremaining: 8.9s\n",
      "275:\tlearn: 0.4278820\ttotal: 3.39s\tremaining: 8.89s\n",
      "276:\tlearn: 0.4277317\ttotal: 3.4s\tremaining: 8.88s\n",
      "277:\tlearn: 0.4275923\ttotal: 3.41s\tremaining: 8.86s\n",
      "278:\tlearn: 0.4274306\ttotal: 3.42s\tremaining: 8.84s\n",
      "279:\tlearn: 0.4273045\ttotal: 3.43s\tremaining: 8.83s\n",
      "280:\tlearn: 0.4271305\ttotal: 3.44s\tremaining: 8.81s\n",
      "281:\tlearn: 0.4268865\ttotal: 3.46s\tremaining: 8.8s\n",
      "282:\tlearn: 0.4266733\ttotal: 3.47s\tremaining: 8.78s\n",
      "283:\tlearn: 0.4264706\ttotal: 3.48s\tremaining: 8.77s\n",
      "284:\tlearn: 0.4263418\ttotal: 3.49s\tremaining: 8.76s\n",
      "285:\tlearn: 0.4261869\ttotal: 3.5s\tremaining: 8.75s\n",
      "286:\tlearn: 0.4259694\ttotal: 3.52s\tremaining: 8.74s\n",
      "287:\tlearn: 0.4257983\ttotal: 3.53s\tremaining: 8.73s\n",
      "288:\tlearn: 0.4256194\ttotal: 3.54s\tremaining: 8.71s\n",
      "289:\tlearn: 0.4254493\ttotal: 3.55s\tremaining: 8.7s\n",
      "290:\tlearn: 0.4252151\ttotal: 3.57s\tremaining: 8.69s\n",
      "291:\tlearn: 0.4249756\ttotal: 3.58s\tremaining: 8.68s\n",
      "292:\tlearn: 0.4247828\ttotal: 3.59s\tremaining: 8.67s\n",
      "293:\tlearn: 0.4246139\ttotal: 3.6s\tremaining: 8.65s\n",
      "294:\tlearn: 0.4243642\ttotal: 3.62s\tremaining: 8.64s\n",
      "295:\tlearn: 0.4241675\ttotal: 3.63s\tremaining: 8.63s\n",
      "296:\tlearn: 0.4240190\ttotal: 3.64s\tremaining: 8.61s\n",
      "297:\tlearn: 0.4238514\ttotal: 3.65s\tremaining: 8.6s\n",
      "298:\tlearn: 0.4236783\ttotal: 3.66s\tremaining: 8.59s\n",
      "299:\tlearn: 0.4235114\ttotal: 3.68s\tremaining: 8.58s\n",
      "300:\tlearn: 0.4233433\ttotal: 3.69s\tremaining: 8.56s\n",
      "301:\tlearn: 0.4231699\ttotal: 3.7s\tremaining: 8.56s\n",
      "302:\tlearn: 0.4230138\ttotal: 3.72s\tremaining: 8.55s\n",
      "303:\tlearn: 0.4228723\ttotal: 3.73s\tremaining: 8.54s\n",
      "304:\tlearn: 0.4225783\ttotal: 3.74s\tremaining: 8.53s\n",
      "305:\tlearn: 0.4223885\ttotal: 3.76s\tremaining: 8.52s\n",
      "306:\tlearn: 0.4221933\ttotal: 3.77s\tremaining: 8.52s\n",
      "307:\tlearn: 0.4220622\ttotal: 3.79s\tremaining: 8.51s\n",
      "308:\tlearn: 0.4218803\ttotal: 3.8s\tremaining: 8.51s\n",
      "309:\tlearn: 0.4217031\ttotal: 3.82s\tremaining: 8.49s\n",
      "310:\tlearn: 0.4215740\ttotal: 3.83s\tremaining: 8.48s\n",
      "311:\tlearn: 0.4214412\ttotal: 3.84s\tremaining: 8.47s\n",
      "312:\tlearn: 0.4212655\ttotal: 3.86s\tremaining: 8.47s\n",
      "313:\tlearn: 0.4211008\ttotal: 3.87s\tremaining: 8.45s\n",
      "314:\tlearn: 0.4208644\ttotal: 3.88s\tremaining: 8.44s\n",
      "315:\tlearn: 0.4206027\ttotal: 3.89s\tremaining: 8.43s\n",
      "316:\tlearn: 0.4204842\ttotal: 3.91s\tremaining: 8.42s\n",
      "317:\tlearn: 0.4203020\ttotal: 3.92s\tremaining: 8.41s\n",
      "318:\tlearn: 0.4201347\ttotal: 3.93s\tremaining: 8.39s\n",
      "319:\tlearn: 0.4199919\ttotal: 3.94s\tremaining: 8.37s\n",
      "320:\tlearn: 0.4198058\ttotal: 3.96s\tremaining: 8.37s\n",
      "321:\tlearn: 0.4196560\ttotal: 3.97s\tremaining: 8.36s\n",
      "322:\tlearn: 0.4194815\ttotal: 3.99s\tremaining: 8.36s\n",
      "323:\tlearn: 0.4192347\ttotal: 4s\tremaining: 8.35s\n",
      "324:\tlearn: 0.4191030\ttotal: 4.01s\tremaining: 8.34s\n",
      "325:\tlearn: 0.4188312\ttotal: 4.03s\tremaining: 8.33s\n",
      "326:\tlearn: 0.4186563\ttotal: 4.04s\tremaining: 8.32s\n",
      "327:\tlearn: 0.4184297\ttotal: 4.06s\tremaining: 8.31s\n",
      "328:\tlearn: 0.4182668\ttotal: 4.08s\tremaining: 8.32s\n",
      "329:\tlearn: 0.4180532\ttotal: 4.09s\tremaining: 8.31s\n"
     ]
    },
    {
     "name": "stdout",
     "output_type": "stream",
     "text": [
      "330:\tlearn: 0.4179527\ttotal: 4.11s\tremaining: 8.31s\n",
      "331:\tlearn: 0.4178473\ttotal: 4.12s\tremaining: 8.3s\n",
      "332:\tlearn: 0.4176448\ttotal: 4.14s\tremaining: 8.29s\n",
      "333:\tlearn: 0.4174974\ttotal: 4.15s\tremaining: 8.28s\n",
      "334:\tlearn: 0.4173501\ttotal: 4.17s\tremaining: 8.27s\n",
      "335:\tlearn: 0.4171573\ttotal: 4.19s\tremaining: 8.27s\n",
      "336:\tlearn: 0.4169910\ttotal: 4.2s\tremaining: 8.26s\n",
      "337:\tlearn: 0.4168152\ttotal: 4.21s\tremaining: 8.26s\n",
      "338:\tlearn: 0.4166478\ttotal: 4.23s\tremaining: 8.25s\n",
      "339:\tlearn: 0.4164730\ttotal: 4.25s\tremaining: 8.24s\n",
      "340:\tlearn: 0.4161953\ttotal: 4.26s\tremaining: 8.23s\n",
      "341:\tlearn: 0.4159475\ttotal: 4.27s\tremaining: 8.22s\n",
      "342:\tlearn: 0.4157114\ttotal: 4.29s\tremaining: 8.21s\n",
      "343:\tlearn: 0.4155065\ttotal: 4.3s\tremaining: 8.2s\n",
      "344:\tlearn: 0.4152995\ttotal: 4.31s\tremaining: 8.19s\n",
      "345:\tlearn: 0.4151518\ttotal: 4.33s\tremaining: 8.18s\n",
      "346:\tlearn: 0.4150028\ttotal: 4.34s\tremaining: 8.17s\n",
      "347:\tlearn: 0.4147729\ttotal: 4.36s\tremaining: 8.16s\n",
      "348:\tlearn: 0.4146771\ttotal: 4.37s\tremaining: 8.15s\n",
      "349:\tlearn: 0.4144249\ttotal: 4.38s\tremaining: 8.13s\n",
      "350:\tlearn: 0.4142391\ttotal: 4.39s\tremaining: 8.12s\n",
      "351:\tlearn: 0.4140377\ttotal: 4.41s\tremaining: 8.11s\n",
      "352:\tlearn: 0.4139013\ttotal: 4.42s\tremaining: 8.1s\n",
      "353:\tlearn: 0.4137647\ttotal: 4.43s\tremaining: 8.08s\n",
      "354:\tlearn: 0.4136329\ttotal: 4.44s\tremaining: 8.07s\n",
      "355:\tlearn: 0.4134862\ttotal: 4.45s\tremaining: 8.06s\n",
      "356:\tlearn: 0.4133676\ttotal: 4.46s\tremaining: 8.04s\n",
      "357:\tlearn: 0.4131615\ttotal: 4.48s\tremaining: 8.03s\n",
      "358:\tlearn: 0.4130562\ttotal: 4.49s\tremaining: 8.02s\n",
      "359:\tlearn: 0.4129012\ttotal: 4.5s\tremaining: 8s\n",
      "360:\tlearn: 0.4127186\ttotal: 4.52s\tremaining: 7.99s\n",
      "361:\tlearn: 0.4125935\ttotal: 4.53s\tremaining: 7.98s\n",
      "362:\tlearn: 0.4123847\ttotal: 4.55s\tremaining: 7.98s\n",
      "363:\tlearn: 0.4122528\ttotal: 4.56s\tremaining: 7.97s\n",
      "364:\tlearn: 0.4120359\ttotal: 4.57s\tremaining: 7.96s\n",
      "365:\tlearn: 0.4119077\ttotal: 4.59s\tremaining: 7.95s\n",
      "366:\tlearn: 0.4117720\ttotal: 4.6s\tremaining: 7.93s\n",
      "367:\tlearn: 0.4115840\ttotal: 4.61s\tremaining: 7.92s\n",
      "368:\tlearn: 0.4114551\ttotal: 4.63s\tremaining: 7.91s\n",
      "369:\tlearn: 0.4112464\ttotal: 4.64s\tremaining: 7.9s\n",
      "370:\tlearn: 0.4110788\ttotal: 4.65s\tremaining: 7.89s\n",
      "371:\tlearn: 0.4108306\ttotal: 4.66s\tremaining: 7.87s\n",
      "372:\tlearn: 0.4106455\ttotal: 4.68s\tremaining: 7.86s\n",
      "373:\tlearn: 0.4105434\ttotal: 4.69s\tremaining: 7.85s\n",
      "374:\tlearn: 0.4104101\ttotal: 4.7s\tremaining: 7.83s\n",
      "375:\tlearn: 0.4102570\ttotal: 4.71s\tremaining: 7.82s\n",
      "376:\tlearn: 0.4100786\ttotal: 4.73s\tremaining: 7.81s\n",
      "377:\tlearn: 0.4099535\ttotal: 4.74s\tremaining: 7.8s\n",
      "378:\tlearn: 0.4097441\ttotal: 4.75s\tremaining: 7.78s\n",
      "379:\tlearn: 0.4095764\ttotal: 4.76s\tremaining: 7.77s\n",
      "380:\tlearn: 0.4094072\ttotal: 4.77s\tremaining: 7.76s\n",
      "381:\tlearn: 0.4093019\ttotal: 4.79s\tremaining: 7.75s\n",
      "382:\tlearn: 0.4091182\ttotal: 4.8s\tremaining: 7.73s\n",
      "383:\tlearn: 0.4089803\ttotal: 4.81s\tremaining: 7.72s\n",
      "384:\tlearn: 0.4088610\ttotal: 4.82s\tremaining: 7.71s\n",
      "385:\tlearn: 0.4086964\ttotal: 4.83s\tremaining: 7.69s\n",
      "386:\tlearn: 0.4085505\ttotal: 4.85s\tremaining: 7.68s\n",
      "387:\tlearn: 0.4083474\ttotal: 4.86s\tremaining: 7.66s\n",
      "388:\tlearn: 0.4081312\ttotal: 4.87s\tremaining: 7.65s\n",
      "389:\tlearn: 0.4079783\ttotal: 4.88s\tremaining: 7.64s\n",
      "390:\tlearn: 0.4078271\ttotal: 4.9s\tremaining: 7.63s\n",
      "391:\tlearn: 0.4077120\ttotal: 4.92s\tremaining: 7.63s\n",
      "392:\tlearn: 0.4076389\ttotal: 4.93s\tremaining: 7.62s\n",
      "393:\tlearn: 0.4074870\ttotal: 4.95s\tremaining: 7.61s\n",
      "394:\tlearn: 0.4074136\ttotal: 4.96s\tremaining: 7.6s\n",
      "395:\tlearn: 0.4072871\ttotal: 4.97s\tremaining: 7.59s\n",
      "396:\tlearn: 0.4071068\ttotal: 4.99s\tremaining: 7.58s\n",
      "397:\tlearn: 0.4069711\ttotal: 5s\tremaining: 7.56s\n",
      "398:\tlearn: 0.4068617\ttotal: 5.01s\tremaining: 7.55s\n",
      "399:\tlearn: 0.4066878\ttotal: 5.02s\tremaining: 7.54s\n",
      "400:\tlearn: 0.4065276\ttotal: 5.04s\tremaining: 7.52s\n",
      "401:\tlearn: 0.4064463\ttotal: 5.05s\tremaining: 7.51s\n",
      "402:\tlearn: 0.4063112\ttotal: 5.06s\tremaining: 7.5s\n",
      "403:\tlearn: 0.4061724\ttotal: 5.07s\tremaining: 7.48s\n",
      "404:\tlearn: 0.4060730\ttotal: 5.09s\tremaining: 7.47s\n",
      "405:\tlearn: 0.4059535\ttotal: 5.1s\tremaining: 7.46s\n",
      "406:\tlearn: 0.4058073\ttotal: 5.11s\tremaining: 7.45s\n",
      "407:\tlearn: 0.4056823\ttotal: 5.13s\tremaining: 7.44s\n",
      "408:\tlearn: 0.4054977\ttotal: 5.14s\tremaining: 7.43s\n",
      "409:\tlearn: 0.4053827\ttotal: 5.15s\tremaining: 7.41s\n",
      "410:\tlearn: 0.4053281\ttotal: 5.17s\tremaining: 7.4s\n",
      "411:\tlearn: 0.4052077\ttotal: 5.18s\tremaining: 7.39s\n",
      "412:\tlearn: 0.4050874\ttotal: 5.19s\tremaining: 7.37s\n",
      "413:\tlearn: 0.4049151\ttotal: 5.2s\tremaining: 7.36s\n",
      "414:\tlearn: 0.4048313\ttotal: 5.21s\tremaining: 7.35s\n",
      "415:\tlearn: 0.4047092\ttotal: 5.22s\tremaining: 7.33s\n",
      "416:\tlearn: 0.4046519\ttotal: 5.24s\tremaining: 7.32s\n",
      "417:\tlearn: 0.4045395\ttotal: 5.25s\tremaining: 7.31s\n",
      "418:\tlearn: 0.4044571\ttotal: 5.26s\tremaining: 7.29s\n",
      "419:\tlearn: 0.4043847\ttotal: 5.27s\tremaining: 7.28s\n",
      "420:\tlearn: 0.4042087\ttotal: 5.28s\tremaining: 7.27s\n",
      "421:\tlearn: 0.4040277\ttotal: 5.29s\tremaining: 7.25s\n",
      "422:\tlearn: 0.4039021\ttotal: 5.3s\tremaining: 7.24s\n",
      "423:\tlearn: 0.4037877\ttotal: 5.32s\tremaining: 7.22s\n",
      "424:\tlearn: 0.4036139\ttotal: 5.33s\tremaining: 7.21s\n",
      "425:\tlearn: 0.4035098\ttotal: 5.34s\tremaining: 7.19s\n",
      "426:\tlearn: 0.4033899\ttotal: 5.35s\tremaining: 7.18s\n",
      "427:\tlearn: 0.4032480\ttotal: 5.37s\tremaining: 7.17s\n",
      "428:\tlearn: 0.4031346\ttotal: 5.38s\tremaining: 7.16s\n",
      "429:\tlearn: 0.4030603\ttotal: 5.39s\tremaining: 7.15s\n",
      "430:\tlearn: 0.4029773\ttotal: 5.4s\tremaining: 7.13s\n",
      "431:\tlearn: 0.4028255\ttotal: 5.41s\tremaining: 7.12s\n",
      "432:\tlearn: 0.4027190\ttotal: 5.43s\tremaining: 7.11s\n",
      "433:\tlearn: 0.4025761\ttotal: 5.44s\tremaining: 7.1s\n",
      "434:\tlearn: 0.4024425\ttotal: 5.45s\tremaining: 7.08s\n",
      "435:\tlearn: 0.4023402\ttotal: 5.47s\tremaining: 7.07s\n",
      "436:\tlearn: 0.4021622\ttotal: 5.48s\tremaining: 7.06s\n",
      "437:\tlearn: 0.4020229\ttotal: 5.49s\tremaining: 7.05s\n",
      "438:\tlearn: 0.4019195\ttotal: 5.51s\tremaining: 7.04s\n",
      "439:\tlearn: 0.4018306\ttotal: 5.52s\tremaining: 7.02s\n",
      "440:\tlearn: 0.4016397\ttotal: 5.53s\tremaining: 7.01s\n",
      "441:\tlearn: 0.4015205\ttotal: 5.54s\tremaining: 7s\n",
      "442:\tlearn: 0.4014171\ttotal: 5.56s\tremaining: 6.99s\n",
      "443:\tlearn: 0.4012848\ttotal: 5.57s\tremaining: 6.97s\n",
      "444:\tlearn: 0.4011782\ttotal: 5.58s\tremaining: 6.96s\n",
      "445:\tlearn: 0.4010357\ttotal: 5.59s\tremaining: 6.95s\n",
      "446:\tlearn: 0.4008852\ttotal: 5.61s\tremaining: 6.94s\n",
      "447:\tlearn: 0.4007453\ttotal: 5.62s\tremaining: 6.92s\n",
      "448:\tlearn: 0.4006302\ttotal: 5.63s\tremaining: 6.91s\n",
      "449:\tlearn: 0.4004911\ttotal: 5.64s\tremaining: 6.89s\n",
      "450:\tlearn: 0.4003626\ttotal: 5.65s\tremaining: 6.88s\n",
      "451:\tlearn: 0.4002596\ttotal: 5.67s\tremaining: 6.87s\n",
      "452:\tlearn: 0.4001795\ttotal: 5.68s\tremaining: 6.86s\n",
      "453:\tlearn: 0.4000185\ttotal: 5.69s\tremaining: 6.84s\n",
      "454:\tlearn: 0.3998634\ttotal: 5.7s\tremaining: 6.83s\n",
      "455:\tlearn: 0.3997281\ttotal: 5.71s\tremaining: 6.81s\n",
      "456:\tlearn: 0.3995836\ttotal: 5.72s\tremaining: 6.8s\n",
      "457:\tlearn: 0.3994658\ttotal: 5.73s\tremaining: 6.79s\n",
      "458:\tlearn: 0.3992990\ttotal: 5.75s\tremaining: 6.77s\n",
      "459:\tlearn: 0.3992215\ttotal: 5.76s\tremaining: 6.76s\n",
      "460:\tlearn: 0.3990719\ttotal: 5.77s\tremaining: 6.75s\n",
      "461:\tlearn: 0.3990024\ttotal: 5.78s\tremaining: 6.73s\n",
      "462:\tlearn: 0.3989006\ttotal: 5.79s\tremaining: 6.72s\n",
      "463:\tlearn: 0.3987628\ttotal: 5.81s\tremaining: 6.71s\n",
      "464:\tlearn: 0.3986568\ttotal: 5.82s\tremaining: 6.69s\n",
      "465:\tlearn: 0.3985476\ttotal: 5.83s\tremaining: 6.68s\n",
      "466:\tlearn: 0.3983699\ttotal: 5.84s\tremaining: 6.66s\n",
      "467:\tlearn: 0.3983017\ttotal: 5.85s\tremaining: 6.65s\n",
      "468:\tlearn: 0.3981687\ttotal: 5.86s\tremaining: 6.63s\n",
      "469:\tlearn: 0.3980196\ttotal: 5.87s\tremaining: 6.62s\n",
      "470:\tlearn: 0.3979248\ttotal: 5.88s\tremaining: 6.61s\n",
      "471:\tlearn: 0.3977707\ttotal: 5.9s\tremaining: 6.59s\n",
      "472:\tlearn: 0.3976276\ttotal: 5.91s\tremaining: 6.58s\n",
      "473:\tlearn: 0.3974402\ttotal: 5.92s\tremaining: 6.57s\n",
      "474:\tlearn: 0.3973087\ttotal: 5.94s\tremaining: 6.56s\n",
      "475:\tlearn: 0.3972239\ttotal: 5.95s\tremaining: 6.55s\n",
      "476:\tlearn: 0.3971035\ttotal: 5.96s\tremaining: 6.54s\n",
      "477:\tlearn: 0.3970002\ttotal: 5.97s\tremaining: 6.52s\n",
      "478:\tlearn: 0.3969186\ttotal: 5.99s\tremaining: 6.51s\n",
      "479:\tlearn: 0.3968004\ttotal: 6s\tremaining: 6.5s\n",
      "480:\tlearn: 0.3966984\ttotal: 6.01s\tremaining: 6.49s\n",
      "481:\tlearn: 0.3965926\ttotal: 6.02s\tremaining: 6.47s\n",
      "482:\tlearn: 0.3965171\ttotal: 6.04s\tremaining: 6.46s\n",
      "483:\tlearn: 0.3964186\ttotal: 6.05s\tremaining: 6.45s\n",
      "484:\tlearn: 0.3962990\ttotal: 6.06s\tremaining: 6.43s\n",
      "485:\tlearn: 0.3961346\ttotal: 6.07s\tremaining: 6.42s\n",
      "486:\tlearn: 0.3960350\ttotal: 6.08s\tremaining: 6.41s\n",
      "487:\tlearn: 0.3959474\ttotal: 6.09s\tremaining: 6.39s\n",
      "488:\tlearn: 0.3958388\ttotal: 6.11s\tremaining: 6.38s\n",
      "489:\tlearn: 0.3957639\ttotal: 6.12s\tremaining: 6.37s\n"
     ]
    },
    {
     "name": "stdout",
     "output_type": "stream",
     "text": [
      "490:\tlearn: 0.3956271\ttotal: 6.13s\tremaining: 6.36s\n",
      "491:\tlearn: 0.3955258\ttotal: 6.15s\tremaining: 6.34s\n",
      "492:\tlearn: 0.3954278\ttotal: 6.16s\tremaining: 6.33s\n",
      "493:\tlearn: 0.3953227\ttotal: 6.17s\tremaining: 6.32s\n",
      "494:\tlearn: 0.3952674\ttotal: 6.18s\tremaining: 6.31s\n",
      "495:\tlearn: 0.3951902\ttotal: 6.19s\tremaining: 6.29s\n",
      "496:\tlearn: 0.3951088\ttotal: 6.21s\tremaining: 6.28s\n",
      "497:\tlearn: 0.3950350\ttotal: 6.22s\tremaining: 6.27s\n",
      "498:\tlearn: 0.3948909\ttotal: 6.23s\tremaining: 6.26s\n",
      "499:\tlearn: 0.3947463\ttotal: 6.25s\tremaining: 6.25s\n",
      "500:\tlearn: 0.3946396\ttotal: 6.26s\tremaining: 6.24s\n",
      "501:\tlearn: 0.3945195\ttotal: 6.28s\tremaining: 6.22s\n",
      "502:\tlearn: 0.3944417\ttotal: 6.29s\tremaining: 6.21s\n",
      "503:\tlearn: 0.3943411\ttotal: 6.3s\tremaining: 6.2s\n",
      "504:\tlearn: 0.3942081\ttotal: 6.31s\tremaining: 6.19s\n",
      "505:\tlearn: 0.3941581\ttotal: 6.32s\tremaining: 6.17s\n",
      "506:\tlearn: 0.3940612\ttotal: 6.33s\tremaining: 6.16s\n",
      "507:\tlearn: 0.3939420\ttotal: 6.35s\tremaining: 6.15s\n",
      "508:\tlearn: 0.3938585\ttotal: 6.36s\tremaining: 6.14s\n",
      "509:\tlearn: 0.3937550\ttotal: 6.37s\tremaining: 6.12s\n",
      "510:\tlearn: 0.3936651\ttotal: 6.38s\tremaining: 6.11s\n",
      "511:\tlearn: 0.3935615\ttotal: 6.39s\tremaining: 6.1s\n",
      "512:\tlearn: 0.3934503\ttotal: 6.41s\tremaining: 6.08s\n",
      "513:\tlearn: 0.3932807\ttotal: 6.42s\tremaining: 6.07s\n",
      "514:\tlearn: 0.3931485\ttotal: 6.43s\tremaining: 6.06s\n",
      "515:\tlearn: 0.3930904\ttotal: 6.44s\tremaining: 6.04s\n",
      "516:\tlearn: 0.3930596\ttotal: 6.45s\tremaining: 6.03s\n",
      "517:\tlearn: 0.3929362\ttotal: 6.46s\tremaining: 6.01s\n",
      "518:\tlearn: 0.3928432\ttotal: 6.48s\tremaining: 6s\n",
      "519:\tlearn: 0.3927855\ttotal: 6.49s\tremaining: 5.99s\n",
      "520:\tlearn: 0.3926490\ttotal: 6.5s\tremaining: 5.98s\n",
      "521:\tlearn: 0.3924833\ttotal: 6.52s\tremaining: 5.97s\n",
      "522:\tlearn: 0.3923299\ttotal: 6.53s\tremaining: 5.95s\n",
      "523:\tlearn: 0.3922388\ttotal: 6.54s\tremaining: 5.94s\n",
      "524:\tlearn: 0.3920755\ttotal: 6.55s\tremaining: 5.93s\n",
      "525:\tlearn: 0.3919863\ttotal: 6.57s\tremaining: 5.92s\n",
      "526:\tlearn: 0.3918893\ttotal: 6.58s\tremaining: 5.9s\n",
      "527:\tlearn: 0.3917424\ttotal: 6.59s\tremaining: 5.89s\n",
      "528:\tlearn: 0.3915917\ttotal: 6.6s\tremaining: 5.88s\n",
      "529:\tlearn: 0.3914597\ttotal: 6.61s\tremaining: 5.86s\n",
      "530:\tlearn: 0.3912968\ttotal: 6.62s\tremaining: 5.85s\n",
      "531:\tlearn: 0.3912158\ttotal: 6.63s\tremaining: 5.84s\n",
      "532:\tlearn: 0.3911129\ttotal: 6.65s\tremaining: 5.82s\n",
      "533:\tlearn: 0.3910090\ttotal: 6.66s\tremaining: 5.81s\n",
      "534:\tlearn: 0.3909553\ttotal: 6.67s\tremaining: 5.8s\n",
      "535:\tlearn: 0.3908508\ttotal: 6.68s\tremaining: 5.78s\n",
      "536:\tlearn: 0.3907810\ttotal: 6.69s\tremaining: 5.77s\n",
      "537:\tlearn: 0.3906532\ttotal: 6.7s\tremaining: 5.75s\n",
      "538:\tlearn: 0.3905389\ttotal: 6.71s\tremaining: 5.74s\n",
      "539:\tlearn: 0.3903655\ttotal: 6.72s\tremaining: 5.73s\n",
      "540:\tlearn: 0.3902922\ttotal: 6.74s\tremaining: 5.71s\n",
      "541:\tlearn: 0.3902228\ttotal: 6.75s\tremaining: 5.7s\n",
      "542:\tlearn: 0.3901731\ttotal: 6.76s\tremaining: 5.69s\n",
      "543:\tlearn: 0.3901103\ttotal: 6.77s\tremaining: 5.67s\n",
      "544:\tlearn: 0.3899574\ttotal: 6.78s\tremaining: 5.66s\n",
      "545:\tlearn: 0.3898764\ttotal: 6.79s\tremaining: 5.65s\n",
      "546:\tlearn: 0.3897536\ttotal: 6.81s\tremaining: 5.64s\n",
      "547:\tlearn: 0.3896115\ttotal: 6.82s\tremaining: 5.62s\n",
      "548:\tlearn: 0.3895238\ttotal: 6.84s\tremaining: 5.62s\n",
      "549:\tlearn: 0.3894084\ttotal: 6.85s\tremaining: 5.6s\n",
      "550:\tlearn: 0.3892811\ttotal: 6.86s\tremaining: 5.59s\n",
      "551:\tlearn: 0.3891437\ttotal: 6.87s\tremaining: 5.58s\n",
      "552:\tlearn: 0.3890454\ttotal: 6.88s\tremaining: 5.57s\n",
      "553:\tlearn: 0.3889343\ttotal: 6.9s\tremaining: 5.55s\n",
      "554:\tlearn: 0.3888599\ttotal: 6.91s\tremaining: 5.54s\n",
      "555:\tlearn: 0.3887882\ttotal: 6.92s\tremaining: 5.53s\n",
      "556:\tlearn: 0.3886898\ttotal: 6.93s\tremaining: 5.51s\n",
      "557:\tlearn: 0.3886094\ttotal: 6.95s\tremaining: 5.5s\n",
      "558:\tlearn: 0.3885175\ttotal: 6.96s\tremaining: 5.49s\n",
      "559:\tlearn: 0.3884284\ttotal: 6.97s\tremaining: 5.48s\n",
      "560:\tlearn: 0.3882583\ttotal: 6.99s\tremaining: 5.47s\n",
      "561:\tlearn: 0.3881463\ttotal: 7s\tremaining: 5.45s\n",
      "562:\tlearn: 0.3880938\ttotal: 7.01s\tremaining: 5.44s\n",
      "563:\tlearn: 0.3880147\ttotal: 7.02s\tremaining: 5.43s\n",
      "564:\tlearn: 0.3878931\ttotal: 7.04s\tremaining: 5.42s\n",
      "565:\tlearn: 0.3877787\ttotal: 7.05s\tremaining: 5.41s\n",
      "566:\tlearn: 0.3877044\ttotal: 7.06s\tremaining: 5.39s\n",
      "567:\tlearn: 0.3875761\ttotal: 7.07s\tremaining: 5.38s\n",
      "568:\tlearn: 0.3874756\ttotal: 7.08s\tremaining: 5.36s\n",
      "569:\tlearn: 0.3873861\ttotal: 7.09s\tremaining: 5.35s\n",
      "570:\tlearn: 0.3873197\ttotal: 7.11s\tremaining: 5.34s\n",
      "571:\tlearn: 0.3872330\ttotal: 7.12s\tremaining: 5.33s\n",
      "572:\tlearn: 0.3871644\ttotal: 7.13s\tremaining: 5.31s\n",
      "573:\tlearn: 0.3870943\ttotal: 7.14s\tremaining: 5.3s\n",
      "574:\tlearn: 0.3870528\ttotal: 7.15s\tremaining: 5.29s\n",
      "575:\tlearn: 0.3869455\ttotal: 7.17s\tremaining: 5.27s\n",
      "576:\tlearn: 0.3868091\ttotal: 7.18s\tremaining: 5.26s\n",
      "577:\tlearn: 0.3867033\ttotal: 7.2s\tremaining: 5.26s\n",
      "578:\tlearn: 0.3866171\ttotal: 7.21s\tremaining: 5.25s\n",
      "579:\tlearn: 0.3865099\ttotal: 7.22s\tremaining: 5.23s\n",
      "580:\tlearn: 0.3863902\ttotal: 7.24s\tremaining: 5.22s\n",
      "581:\tlearn: 0.3862486\ttotal: 7.25s\tremaining: 5.2s\n",
      "582:\tlearn: 0.3861545\ttotal: 7.26s\tremaining: 5.19s\n",
      "583:\tlearn: 0.3860313\ttotal: 7.27s\tremaining: 5.18s\n",
      "584:\tlearn: 0.3858980\ttotal: 7.28s\tremaining: 5.17s\n",
      "585:\tlearn: 0.3857665\ttotal: 7.29s\tremaining: 5.15s\n",
      "586:\tlearn: 0.3856313\ttotal: 7.31s\tremaining: 5.14s\n",
      "587:\tlearn: 0.3855141\ttotal: 7.32s\tremaining: 5.13s\n",
      "588:\tlearn: 0.3854386\ttotal: 7.33s\tremaining: 5.12s\n",
      "589:\tlearn: 0.3852869\ttotal: 7.34s\tremaining: 5.1s\n",
      "590:\tlearn: 0.3851832\ttotal: 7.35s\tremaining: 5.09s\n",
      "591:\tlearn: 0.3850660\ttotal: 7.36s\tremaining: 5.08s\n",
      "592:\tlearn: 0.3849849\ttotal: 7.38s\tremaining: 5.06s\n",
      "593:\tlearn: 0.3849113\ttotal: 7.39s\tremaining: 5.05s\n",
      "594:\tlearn: 0.3847562\ttotal: 7.4s\tremaining: 5.04s\n",
      "595:\tlearn: 0.3846860\ttotal: 7.41s\tremaining: 5.02s\n",
      "596:\tlearn: 0.3845617\ttotal: 7.42s\tremaining: 5.01s\n",
      "597:\tlearn: 0.3844839\ttotal: 7.43s\tremaining: 5s\n",
      "598:\tlearn: 0.3843576\ttotal: 7.44s\tremaining: 4.98s\n",
      "599:\tlearn: 0.3842448\ttotal: 7.46s\tremaining: 4.97s\n",
      "600:\tlearn: 0.3841050\ttotal: 7.47s\tremaining: 4.96s\n",
      "601:\tlearn: 0.3840146\ttotal: 7.48s\tremaining: 4.95s\n",
      "602:\tlearn: 0.3839228\ttotal: 7.49s\tremaining: 4.93s\n",
      "603:\tlearn: 0.3838230\ttotal: 7.51s\tremaining: 4.92s\n",
      "604:\tlearn: 0.3836882\ttotal: 7.52s\tremaining: 4.91s\n",
      "605:\tlearn: 0.3836087\ttotal: 7.53s\tremaining: 4.89s\n",
      "606:\tlearn: 0.3834884\ttotal: 7.54s\tremaining: 4.88s\n",
      "607:\tlearn: 0.3833773\ttotal: 7.55s\tremaining: 4.87s\n",
      "608:\tlearn: 0.3832502\ttotal: 7.56s\tremaining: 4.86s\n",
      "609:\tlearn: 0.3831633\ttotal: 7.58s\tremaining: 4.84s\n",
      "610:\tlearn: 0.3830641\ttotal: 7.59s\tremaining: 4.83s\n",
      "611:\tlearn: 0.3829945\ttotal: 7.6s\tremaining: 4.82s\n",
      "612:\tlearn: 0.3829128\ttotal: 7.61s\tremaining: 4.81s\n",
      "613:\tlearn: 0.3828001\ttotal: 7.62s\tremaining: 4.79s\n",
      "614:\tlearn: 0.3826520\ttotal: 7.64s\tremaining: 4.78s\n",
      "615:\tlearn: 0.3825955\ttotal: 7.65s\tremaining: 4.77s\n",
      "616:\tlearn: 0.3825166\ttotal: 7.66s\tremaining: 4.75s\n",
      "617:\tlearn: 0.3824556\ttotal: 7.67s\tremaining: 4.74s\n",
      "618:\tlearn: 0.3823830\ttotal: 7.68s\tremaining: 4.73s\n",
      "619:\tlearn: 0.3822788\ttotal: 7.7s\tremaining: 4.72s\n",
      "620:\tlearn: 0.3821772\ttotal: 7.71s\tremaining: 4.7s\n",
      "621:\tlearn: 0.3821117\ttotal: 7.72s\tremaining: 4.69s\n",
      "622:\tlearn: 0.3820413\ttotal: 7.73s\tremaining: 4.68s\n",
      "623:\tlearn: 0.3819638\ttotal: 7.74s\tremaining: 4.66s\n",
      "624:\tlearn: 0.3818571\ttotal: 7.75s\tremaining: 4.65s\n",
      "625:\tlearn: 0.3817813\ttotal: 7.76s\tremaining: 4.64s\n",
      "626:\tlearn: 0.3817177\ttotal: 7.77s\tremaining: 4.62s\n",
      "627:\tlearn: 0.3815865\ttotal: 7.78s\tremaining: 4.61s\n",
      "628:\tlearn: 0.3814867\ttotal: 7.79s\tremaining: 4.6s\n",
      "629:\tlearn: 0.3814028\ttotal: 7.81s\tremaining: 4.58s\n",
      "630:\tlearn: 0.3812958\ttotal: 7.82s\tremaining: 4.57s\n",
      "631:\tlearn: 0.3811976\ttotal: 7.83s\tremaining: 4.56s\n",
      "632:\tlearn: 0.3810666\ttotal: 7.84s\tremaining: 4.54s\n",
      "633:\tlearn: 0.3809488\ttotal: 7.85s\tremaining: 4.53s\n",
      "634:\tlearn: 0.3808179\ttotal: 7.86s\tremaining: 4.52s\n",
      "635:\tlearn: 0.3807410\ttotal: 7.87s\tremaining: 4.51s\n",
      "636:\tlearn: 0.3806454\ttotal: 7.88s\tremaining: 4.49s\n",
      "637:\tlearn: 0.3805430\ttotal: 7.9s\tremaining: 4.48s\n",
      "638:\tlearn: 0.3804162\ttotal: 7.91s\tremaining: 4.47s\n",
      "639:\tlearn: 0.3803342\ttotal: 7.92s\tremaining: 4.45s\n",
      "640:\tlearn: 0.3802598\ttotal: 7.93s\tremaining: 4.44s\n",
      "641:\tlearn: 0.3801721\ttotal: 7.94s\tremaining: 4.43s\n",
      "642:\tlearn: 0.3800984\ttotal: 7.95s\tremaining: 4.42s\n",
      "643:\tlearn: 0.3800284\ttotal: 7.96s\tremaining: 4.4s\n",
      "644:\tlearn: 0.3798978\ttotal: 7.98s\tremaining: 4.39s\n",
      "645:\tlearn: 0.3797982\ttotal: 7.99s\tremaining: 4.38s\n",
      "646:\tlearn: 0.3797510\ttotal: 8s\tremaining: 4.37s\n",
      "647:\tlearn: 0.3796519\ttotal: 8.01s\tremaining: 4.35s\n",
      "648:\tlearn: 0.3795199\ttotal: 8.03s\tremaining: 4.34s\n",
      "649:\tlearn: 0.3794275\ttotal: 8.04s\tremaining: 4.33s\n",
      "650:\tlearn: 0.3793331\ttotal: 8.05s\tremaining: 4.31s\n",
      "651:\tlearn: 0.3792216\ttotal: 8.06s\tremaining: 4.3s\n",
      "652:\tlearn: 0.3791163\ttotal: 8.07s\tremaining: 4.29s\n",
      "653:\tlearn: 0.3790516\ttotal: 8.08s\tremaining: 4.28s\n",
      "654:\tlearn: 0.3789741\ttotal: 8.09s\tremaining: 4.26s\n",
      "655:\tlearn: 0.3788974\ttotal: 8.1s\tremaining: 4.25s\n",
      "656:\tlearn: 0.3787915\ttotal: 8.12s\tremaining: 4.24s\n",
      "657:\tlearn: 0.3787039\ttotal: 8.13s\tremaining: 4.22s\n",
      "658:\tlearn: 0.3786249\ttotal: 8.14s\tremaining: 4.21s\n",
      "659:\tlearn: 0.3785081\ttotal: 8.15s\tremaining: 4.2s\n",
      "660:\tlearn: 0.3784683\ttotal: 8.16s\tremaining: 4.19s\n",
      "661:\tlearn: 0.3783749\ttotal: 8.18s\tremaining: 4.17s\n",
      "662:\tlearn: 0.3782838\ttotal: 8.19s\tremaining: 4.16s\n",
      "663:\tlearn: 0.3781924\ttotal: 8.2s\tremaining: 4.15s\n"
     ]
    },
    {
     "name": "stdout",
     "output_type": "stream",
     "text": [
      "664:\tlearn: 0.3780715\ttotal: 8.21s\tremaining: 4.13s\n",
      "665:\tlearn: 0.3779923\ttotal: 8.22s\tremaining: 4.12s\n",
      "666:\tlearn: 0.3779132\ttotal: 8.23s\tremaining: 4.11s\n",
      "667:\tlearn: 0.3778242\ttotal: 8.25s\tremaining: 4.1s\n",
      "668:\tlearn: 0.3776751\ttotal: 8.26s\tremaining: 4.09s\n",
      "669:\tlearn: 0.3775510\ttotal: 8.27s\tremaining: 4.07s\n",
      "670:\tlearn: 0.3774580\ttotal: 8.29s\tremaining: 4.06s\n",
      "671:\tlearn: 0.3773887\ttotal: 8.3s\tremaining: 4.05s\n",
      "672:\tlearn: 0.3773076\ttotal: 8.31s\tremaining: 4.04s\n",
      "673:\tlearn: 0.3772282\ttotal: 8.32s\tremaining: 4.03s\n",
      "674:\tlearn: 0.3771433\ttotal: 8.33s\tremaining: 4.01s\n",
      "675:\tlearn: 0.3770814\ttotal: 8.35s\tremaining: 4s\n",
      "676:\tlearn: 0.3769871\ttotal: 8.36s\tremaining: 3.99s\n",
      "677:\tlearn: 0.3768843\ttotal: 8.37s\tremaining: 3.98s\n",
      "678:\tlearn: 0.3768260\ttotal: 8.38s\tremaining: 3.96s\n",
      "679:\tlearn: 0.3767587\ttotal: 8.39s\tremaining: 3.95s\n",
      "680:\tlearn: 0.3766768\ttotal: 8.41s\tremaining: 3.94s\n",
      "681:\tlearn: 0.3766008\ttotal: 8.42s\tremaining: 3.93s\n",
      "682:\tlearn: 0.3764755\ttotal: 8.43s\tremaining: 3.91s\n",
      "683:\tlearn: 0.3763925\ttotal: 8.44s\tremaining: 3.9s\n",
      "684:\tlearn: 0.3763171\ttotal: 8.46s\tremaining: 3.89s\n",
      "685:\tlearn: 0.3762098\ttotal: 8.47s\tremaining: 3.88s\n",
      "686:\tlearn: 0.3761512\ttotal: 8.48s\tremaining: 3.86s\n",
      "687:\tlearn: 0.3760312\ttotal: 8.49s\tremaining: 3.85s\n",
      "688:\tlearn: 0.3759420\ttotal: 8.5s\tremaining: 3.84s\n",
      "689:\tlearn: 0.3758869\ttotal: 8.51s\tremaining: 3.82s\n",
      "690:\tlearn: 0.3757971\ttotal: 8.53s\tremaining: 3.81s\n",
      "691:\tlearn: 0.3757124\ttotal: 8.54s\tremaining: 3.8s\n",
      "692:\tlearn: 0.3756298\ttotal: 8.55s\tremaining: 3.79s\n",
      "693:\tlearn: 0.3755294\ttotal: 8.56s\tremaining: 3.77s\n",
      "694:\tlearn: 0.3754121\ttotal: 8.57s\tremaining: 3.76s\n",
      "695:\tlearn: 0.3753045\ttotal: 8.59s\tremaining: 3.75s\n",
      "696:\tlearn: 0.3752049\ttotal: 8.59s\tremaining: 3.74s\n",
      "697:\tlearn: 0.3751056\ttotal: 8.61s\tremaining: 3.72s\n",
      "698:\tlearn: 0.3750000\ttotal: 8.62s\tremaining: 3.71s\n",
      "699:\tlearn: 0.3748975\ttotal: 8.63s\tremaining: 3.7s\n",
      "700:\tlearn: 0.3748259\ttotal: 8.64s\tremaining: 3.69s\n",
      "701:\tlearn: 0.3747671\ttotal: 8.65s\tremaining: 3.67s\n",
      "702:\tlearn: 0.3746821\ttotal: 8.67s\tremaining: 3.66s\n",
      "703:\tlearn: 0.3745897\ttotal: 8.68s\tremaining: 3.65s\n",
      "704:\tlearn: 0.3745390\ttotal: 8.69s\tremaining: 3.64s\n",
      "705:\tlearn: 0.3744501\ttotal: 8.7s\tremaining: 3.62s\n",
      "706:\tlearn: 0.3743685\ttotal: 8.71s\tremaining: 3.61s\n",
      "707:\tlearn: 0.3742779\ttotal: 8.73s\tremaining: 3.6s\n",
      "708:\tlearn: 0.3741281\ttotal: 8.74s\tremaining: 3.59s\n",
      "709:\tlearn: 0.3740176\ttotal: 8.75s\tremaining: 3.57s\n",
      "710:\tlearn: 0.3739695\ttotal: 8.76s\tremaining: 3.56s\n",
      "711:\tlearn: 0.3738734\ttotal: 8.77s\tremaining: 3.55s\n",
      "712:\tlearn: 0.3737528\ttotal: 8.79s\tremaining: 3.54s\n",
      "713:\tlearn: 0.3736826\ttotal: 8.8s\tremaining: 3.52s\n",
      "714:\tlearn: 0.3735803\ttotal: 8.81s\tremaining: 3.51s\n",
      "715:\tlearn: 0.3735031\ttotal: 8.82s\tremaining: 3.5s\n",
      "716:\tlearn: 0.3734275\ttotal: 8.83s\tremaining: 3.48s\n",
      "717:\tlearn: 0.3733347\ttotal: 8.85s\tremaining: 3.48s\n",
      "718:\tlearn: 0.3732445\ttotal: 8.86s\tremaining: 3.46s\n",
      "719:\tlearn: 0.3731544\ttotal: 8.88s\tremaining: 3.45s\n",
      "720:\tlearn: 0.3730772\ttotal: 8.89s\tremaining: 3.44s\n",
      "721:\tlearn: 0.3729714\ttotal: 8.9s\tremaining: 3.43s\n",
      "722:\tlearn: 0.3729010\ttotal: 8.91s\tremaining: 3.41s\n",
      "723:\tlearn: 0.3727744\ttotal: 8.92s\tremaining: 3.4s\n",
      "724:\tlearn: 0.3726795\ttotal: 8.94s\tremaining: 3.39s\n",
      "725:\tlearn: 0.3726145\ttotal: 8.95s\tremaining: 3.38s\n",
      "726:\tlearn: 0.3725243\ttotal: 8.96s\tremaining: 3.36s\n",
      "727:\tlearn: 0.3724196\ttotal: 8.97s\tremaining: 3.35s\n",
      "728:\tlearn: 0.3723550\ttotal: 8.98s\tremaining: 3.34s\n",
      "729:\tlearn: 0.3722891\ttotal: 8.99s\tremaining: 3.32s\n",
      "730:\tlearn: 0.3722045\ttotal: 9s\tremaining: 3.31s\n",
      "731:\tlearn: 0.3721098\ttotal: 9.01s\tremaining: 3.3s\n",
      "732:\tlearn: 0.3719586\ttotal: 9.03s\tremaining: 3.29s\n",
      "733:\tlearn: 0.3718703\ttotal: 9.04s\tremaining: 3.27s\n",
      "734:\tlearn: 0.3717835\ttotal: 9.05s\tremaining: 3.26s\n",
      "735:\tlearn: 0.3716946\ttotal: 9.06s\tremaining: 3.25s\n",
      "736:\tlearn: 0.3716251\ttotal: 9.07s\tremaining: 3.24s\n",
      "737:\tlearn: 0.3715395\ttotal: 9.08s\tremaining: 3.22s\n",
      "738:\tlearn: 0.3714744\ttotal: 9.09s\tremaining: 3.21s\n",
      "739:\tlearn: 0.3714380\ttotal: 9.1s\tremaining: 3.2s\n",
      "740:\tlearn: 0.3712692\ttotal: 9.12s\tremaining: 3.19s\n",
      "741:\tlearn: 0.3712036\ttotal: 9.13s\tremaining: 3.17s\n",
      "742:\tlearn: 0.3711759\ttotal: 9.14s\tremaining: 3.16s\n",
      "743:\tlearn: 0.3711129\ttotal: 9.15s\tremaining: 3.15s\n",
      "744:\tlearn: 0.3710391\ttotal: 9.16s\tremaining: 3.14s\n",
      "745:\tlearn: 0.3709245\ttotal: 9.17s\tremaining: 3.12s\n",
      "746:\tlearn: 0.3708555\ttotal: 9.19s\tremaining: 3.11s\n",
      "747:\tlearn: 0.3707645\ttotal: 9.2s\tremaining: 3.1s\n",
      "748:\tlearn: 0.3706974\ttotal: 9.21s\tremaining: 3.09s\n",
      "749:\tlearn: 0.3706326\ttotal: 9.22s\tremaining: 3.07s\n",
      "750:\tlearn: 0.3705799\ttotal: 9.23s\tremaining: 3.06s\n",
      "751:\tlearn: 0.3704885\ttotal: 9.24s\tremaining: 3.05s\n",
      "752:\tlearn: 0.3704047\ttotal: 9.26s\tremaining: 3.04s\n",
      "753:\tlearn: 0.3703438\ttotal: 9.27s\tremaining: 3.02s\n",
      "754:\tlearn: 0.3702718\ttotal: 9.28s\tremaining: 3.01s\n",
      "755:\tlearn: 0.3702351\ttotal: 9.29s\tremaining: 3s\n",
      "756:\tlearn: 0.3701404\ttotal: 9.3s\tremaining: 2.98s\n",
      "757:\tlearn: 0.3700285\ttotal: 9.31s\tremaining: 2.97s\n",
      "758:\tlearn: 0.3699087\ttotal: 9.32s\tremaining: 2.96s\n",
      "759:\tlearn: 0.3698268\ttotal: 9.33s\tremaining: 2.95s\n",
      "760:\tlearn: 0.3697252\ttotal: 9.34s\tremaining: 2.93s\n",
      "761:\tlearn: 0.3696557\ttotal: 9.36s\tremaining: 2.92s\n",
      "762:\tlearn: 0.3695967\ttotal: 9.37s\tremaining: 2.91s\n",
      "763:\tlearn: 0.3695156\ttotal: 9.38s\tremaining: 2.9s\n",
      "764:\tlearn: 0.3694405\ttotal: 9.39s\tremaining: 2.88s\n",
      "765:\tlearn: 0.3693066\ttotal: 9.4s\tremaining: 2.87s\n",
      "766:\tlearn: 0.3692339\ttotal: 9.41s\tremaining: 2.86s\n",
      "767:\tlearn: 0.3691551\ttotal: 9.42s\tremaining: 2.85s\n",
      "768:\tlearn: 0.3690682\ttotal: 9.43s\tremaining: 2.83s\n",
      "769:\tlearn: 0.3689618\ttotal: 9.45s\tremaining: 2.82s\n",
      "770:\tlearn: 0.3688595\ttotal: 9.46s\tremaining: 2.81s\n",
      "771:\tlearn: 0.3687993\ttotal: 9.47s\tremaining: 2.8s\n",
      "772:\tlearn: 0.3686743\ttotal: 9.48s\tremaining: 2.79s\n",
      "773:\tlearn: 0.3686075\ttotal: 9.5s\tremaining: 2.77s\n",
      "774:\tlearn: 0.3684981\ttotal: 9.51s\tremaining: 2.76s\n",
      "775:\tlearn: 0.3683650\ttotal: 9.52s\tremaining: 2.75s\n",
      "776:\tlearn: 0.3682889\ttotal: 9.53s\tremaining: 2.73s\n",
      "777:\tlearn: 0.3682092\ttotal: 9.54s\tremaining: 2.72s\n",
      "778:\tlearn: 0.3681279\ttotal: 9.55s\tremaining: 2.71s\n",
      "779:\tlearn: 0.3680480\ttotal: 9.56s\tremaining: 2.7s\n",
      "780:\tlearn: 0.3679931\ttotal: 9.57s\tremaining: 2.68s\n",
      "781:\tlearn: 0.3679189\ttotal: 9.59s\tremaining: 2.67s\n",
      "782:\tlearn: 0.3678340\ttotal: 9.6s\tremaining: 2.66s\n",
      "783:\tlearn: 0.3677383\ttotal: 9.61s\tremaining: 2.65s\n",
      "784:\tlearn: 0.3676540\ttotal: 9.62s\tremaining: 2.63s\n",
      "785:\tlearn: 0.3675530\ttotal: 9.63s\tremaining: 2.62s\n",
      "786:\tlearn: 0.3674822\ttotal: 9.64s\tremaining: 2.61s\n",
      "787:\tlearn: 0.3674089\ttotal: 9.66s\tremaining: 2.6s\n",
      "788:\tlearn: 0.3673493\ttotal: 9.67s\tremaining: 2.58s\n",
      "789:\tlearn: 0.3672866\ttotal: 9.68s\tremaining: 2.57s\n",
      "790:\tlearn: 0.3671590\ttotal: 9.69s\tremaining: 2.56s\n",
      "791:\tlearn: 0.3670403\ttotal: 9.7s\tremaining: 2.55s\n",
      "792:\tlearn: 0.3669542\ttotal: 9.71s\tremaining: 2.54s\n",
      "793:\tlearn: 0.3668739\ttotal: 9.73s\tremaining: 2.52s\n",
      "794:\tlearn: 0.3667981\ttotal: 9.74s\tremaining: 2.51s\n",
      "795:\tlearn: 0.3666815\ttotal: 9.75s\tremaining: 2.5s\n",
      "796:\tlearn: 0.3666516\ttotal: 9.76s\tremaining: 2.48s\n",
      "797:\tlearn: 0.3665608\ttotal: 9.77s\tremaining: 2.47s\n",
      "798:\tlearn: 0.3665032\ttotal: 9.78s\tremaining: 2.46s\n",
      "799:\tlearn: 0.3664233\ttotal: 9.79s\tremaining: 2.45s\n",
      "800:\tlearn: 0.3663342\ttotal: 9.8s\tremaining: 2.44s\n",
      "801:\tlearn: 0.3662101\ttotal: 9.82s\tremaining: 2.42s\n",
      "802:\tlearn: 0.3661031\ttotal: 9.83s\tremaining: 2.41s\n",
      "803:\tlearn: 0.3660254\ttotal: 9.84s\tremaining: 2.4s\n",
      "804:\tlearn: 0.3659334\ttotal: 9.86s\tremaining: 2.39s\n",
      "805:\tlearn: 0.3658555\ttotal: 9.87s\tremaining: 2.38s\n",
      "806:\tlearn: 0.3657933\ttotal: 9.88s\tremaining: 2.36s\n",
      "807:\tlearn: 0.3656964\ttotal: 9.89s\tremaining: 2.35s\n",
      "808:\tlearn: 0.3656133\ttotal: 9.9s\tremaining: 2.34s\n",
      "809:\tlearn: 0.3654973\ttotal: 9.91s\tremaining: 2.33s\n",
      "810:\tlearn: 0.3654197\ttotal: 9.92s\tremaining: 2.31s\n",
      "811:\tlearn: 0.3653709\ttotal: 9.93s\tremaining: 2.3s\n",
      "812:\tlearn: 0.3652461\ttotal: 9.95s\tremaining: 2.29s\n",
      "813:\tlearn: 0.3651791\ttotal: 9.96s\tremaining: 2.27s\n",
      "814:\tlearn: 0.3651024\ttotal: 9.97s\tremaining: 2.26s\n",
      "815:\tlearn: 0.3650321\ttotal: 9.98s\tremaining: 2.25s\n",
      "816:\tlearn: 0.3649496\ttotal: 9.99s\tremaining: 2.24s\n",
      "817:\tlearn: 0.3648901\ttotal: 10s\tremaining: 2.22s\n",
      "818:\tlearn: 0.3648284\ttotal: 10s\tremaining: 2.21s\n",
      "819:\tlearn: 0.3647472\ttotal: 10s\tremaining: 2.2s\n",
      "820:\tlearn: 0.3646716\ttotal: 10s\tremaining: 2.19s\n",
      "821:\tlearn: 0.3645870\ttotal: 10s\tremaining: 2.18s\n",
      "822:\tlearn: 0.3645013\ttotal: 10.1s\tremaining: 2.16s\n",
      "823:\tlearn: 0.3644529\ttotal: 10.1s\tremaining: 2.15s\n",
      "824:\tlearn: 0.3643822\ttotal: 10.1s\tremaining: 2.14s\n",
      "825:\tlearn: 0.3642972\ttotal: 10.1s\tremaining: 2.13s\n",
      "826:\tlearn: 0.3642131\ttotal: 10.1s\tremaining: 2.11s\n",
      "827:\tlearn: 0.3641598\ttotal: 10.1s\tremaining: 2.1s\n",
      "828:\tlearn: 0.3640548\ttotal: 10.1s\tremaining: 2.09s\n",
      "829:\tlearn: 0.3639795\ttotal: 10.1s\tremaining: 2.08s\n",
      "830:\tlearn: 0.3638634\ttotal: 10.2s\tremaining: 2.06s\n",
      "831:\tlearn: 0.3637666\ttotal: 10.2s\tremaining: 2.05s\n",
      "832:\tlearn: 0.3637145\ttotal: 10.2s\tremaining: 2.04s\n",
      "833:\tlearn: 0.3636140\ttotal: 10.2s\tremaining: 2.03s\n",
      "834:\tlearn: 0.3635678\ttotal: 10.2s\tremaining: 2.02s\n",
      "835:\tlearn: 0.3635116\ttotal: 10.2s\tremaining: 2s\n",
      "836:\tlearn: 0.3634497\ttotal: 10.2s\tremaining: 1.99s\n",
      "837:\tlearn: 0.3633915\ttotal: 10.2s\tremaining: 1.98s\n"
     ]
    },
    {
     "name": "stdout",
     "output_type": "stream",
     "text": [
      "838:\tlearn: 0.3633211\ttotal: 10.2s\tremaining: 1.97s\n",
      "839:\tlearn: 0.3632673\ttotal: 10.3s\tremaining: 1.95s\n",
      "840:\tlearn: 0.3631807\ttotal: 10.3s\tremaining: 1.94s\n",
      "841:\tlearn: 0.3631489\ttotal: 10.3s\tremaining: 1.93s\n",
      "842:\tlearn: 0.3630773\ttotal: 10.3s\tremaining: 1.92s\n",
      "843:\tlearn: 0.3630054\ttotal: 10.3s\tremaining: 1.91s\n",
      "844:\tlearn: 0.3629256\ttotal: 10.3s\tremaining: 1.89s\n",
      "845:\tlearn: 0.3628593\ttotal: 10.3s\tremaining: 1.88s\n",
      "846:\tlearn: 0.3628016\ttotal: 10.3s\tremaining: 1.87s\n",
      "847:\tlearn: 0.3627392\ttotal: 10.4s\tremaining: 1.86s\n",
      "848:\tlearn: 0.3626856\ttotal: 10.4s\tremaining: 1.85s\n",
      "849:\tlearn: 0.3625901\ttotal: 10.4s\tremaining: 1.84s\n",
      "850:\tlearn: 0.3625217\ttotal: 10.4s\tremaining: 1.82s\n",
      "851:\tlearn: 0.3624348\ttotal: 10.4s\tremaining: 1.81s\n",
      "852:\tlearn: 0.3623389\ttotal: 10.5s\tremaining: 1.8s\n",
      "853:\tlearn: 0.3623055\ttotal: 10.5s\tremaining: 1.79s\n",
      "854:\tlearn: 0.3621852\ttotal: 10.5s\tremaining: 1.78s\n",
      "855:\tlearn: 0.3621102\ttotal: 10.5s\tremaining: 1.76s\n",
      "856:\tlearn: 0.3620487\ttotal: 10.5s\tremaining: 1.75s\n",
      "857:\tlearn: 0.3620027\ttotal: 10.5s\tremaining: 1.74s\n",
      "858:\tlearn: 0.3619361\ttotal: 10.5s\tremaining: 1.73s\n",
      "859:\tlearn: 0.3618420\ttotal: 10.5s\tremaining: 1.72s\n",
      "860:\tlearn: 0.3617799\ttotal: 10.6s\tremaining: 1.7s\n",
      "861:\tlearn: 0.3616991\ttotal: 10.6s\tremaining: 1.69s\n",
      "862:\tlearn: 0.3616217\ttotal: 10.6s\tremaining: 1.68s\n",
      "863:\tlearn: 0.3615380\ttotal: 10.6s\tremaining: 1.67s\n",
      "864:\tlearn: 0.3614879\ttotal: 10.6s\tremaining: 1.65s\n",
      "865:\tlearn: 0.3614243\ttotal: 10.6s\tremaining: 1.64s\n",
      "866:\tlearn: 0.3613665\ttotal: 10.6s\tremaining: 1.63s\n",
      "867:\tlearn: 0.3612846\ttotal: 10.6s\tremaining: 1.62s\n",
      "868:\tlearn: 0.3611837\ttotal: 10.6s\tremaining: 1.6s\n",
      "869:\tlearn: 0.3611028\ttotal: 10.7s\tremaining: 1.59s\n",
      "870:\tlearn: 0.3610239\ttotal: 10.7s\tremaining: 1.58s\n",
      "871:\tlearn: 0.3609762\ttotal: 10.7s\tremaining: 1.57s\n",
      "872:\tlearn: 0.3608907\ttotal: 10.7s\tremaining: 1.56s\n",
      "873:\tlearn: 0.3608156\ttotal: 10.7s\tremaining: 1.54s\n",
      "874:\tlearn: 0.3607436\ttotal: 10.7s\tremaining: 1.53s\n",
      "875:\tlearn: 0.3606483\ttotal: 10.7s\tremaining: 1.52s\n",
      "876:\tlearn: 0.3605447\ttotal: 10.7s\tremaining: 1.51s\n",
      "877:\tlearn: 0.3605060\ttotal: 10.8s\tremaining: 1.49s\n",
      "878:\tlearn: 0.3604225\ttotal: 10.8s\tremaining: 1.48s\n",
      "879:\tlearn: 0.3603612\ttotal: 10.8s\tremaining: 1.47s\n",
      "880:\tlearn: 0.3602713\ttotal: 10.8s\tremaining: 1.46s\n",
      "881:\tlearn: 0.3601986\ttotal: 10.8s\tremaining: 1.45s\n",
      "882:\tlearn: 0.3601565\ttotal: 10.8s\tremaining: 1.43s\n",
      "883:\tlearn: 0.3600762\ttotal: 10.8s\tremaining: 1.42s\n",
      "884:\tlearn: 0.3599941\ttotal: 10.8s\tremaining: 1.41s\n",
      "885:\tlearn: 0.3599374\ttotal: 10.9s\tremaining: 1.4s\n",
      "886:\tlearn: 0.3598844\ttotal: 10.9s\tremaining: 1.38s\n",
      "887:\tlearn: 0.3598165\ttotal: 10.9s\tremaining: 1.37s\n",
      "888:\tlearn: 0.3596989\ttotal: 10.9s\tremaining: 1.36s\n",
      "889:\tlearn: 0.3596229\ttotal: 10.9s\tremaining: 1.35s\n",
      "890:\tlearn: 0.3595437\ttotal: 10.9s\tremaining: 1.33s\n",
      "891:\tlearn: 0.3594643\ttotal: 10.9s\tremaining: 1.32s\n",
      "892:\tlearn: 0.3593809\ttotal: 10.9s\tremaining: 1.31s\n",
      "893:\tlearn: 0.3593315\ttotal: 10.9s\tremaining: 1.3s\n",
      "894:\tlearn: 0.3592418\ttotal: 11s\tremaining: 1.28s\n",
      "895:\tlearn: 0.3591436\ttotal: 11s\tremaining: 1.27s\n",
      "896:\tlearn: 0.3590414\ttotal: 11s\tremaining: 1.26s\n",
      "897:\tlearn: 0.3589786\ttotal: 11s\tremaining: 1.25s\n",
      "898:\tlearn: 0.3588768\ttotal: 11s\tremaining: 1.24s\n",
      "899:\tlearn: 0.3587674\ttotal: 11s\tremaining: 1.22s\n",
      "900:\tlearn: 0.3586939\ttotal: 11s\tremaining: 1.21s\n",
      "901:\tlearn: 0.3586391\ttotal: 11s\tremaining: 1.2s\n",
      "902:\tlearn: 0.3585309\ttotal: 11s\tremaining: 1.19s\n",
      "903:\tlearn: 0.3584461\ttotal: 11.1s\tremaining: 1.17s\n",
      "904:\tlearn: 0.3583940\ttotal: 11.1s\tremaining: 1.16s\n",
      "905:\tlearn: 0.3582940\ttotal: 11.1s\tremaining: 1.15s\n",
      "906:\tlearn: 0.3582009\ttotal: 11.1s\tremaining: 1.14s\n",
      "907:\tlearn: 0.3581312\ttotal: 11.1s\tremaining: 1.13s\n",
      "908:\tlearn: 0.3580775\ttotal: 11.1s\tremaining: 1.11s\n",
      "909:\tlearn: 0.3579971\ttotal: 11.1s\tremaining: 1.1s\n",
      "910:\tlearn: 0.3579317\ttotal: 11.2s\tremaining: 1.09s\n",
      "911:\tlearn: 0.3578512\ttotal: 11.2s\tremaining: 1.08s\n",
      "912:\tlearn: 0.3577708\ttotal: 11.2s\tremaining: 1.06s\n",
      "913:\tlearn: 0.3577149\ttotal: 11.2s\tremaining: 1.05s\n",
      "914:\tlearn: 0.3576498\ttotal: 11.2s\tremaining: 1.04s\n",
      "915:\tlearn: 0.3576105\ttotal: 11.2s\tremaining: 1.03s\n",
      "916:\tlearn: 0.3575310\ttotal: 11.2s\tremaining: 1.01s\n",
      "917:\tlearn: 0.3574625\ttotal: 11.2s\tremaining: 1s\n",
      "918:\tlearn: 0.3574085\ttotal: 11.2s\tremaining: 991ms\n",
      "919:\tlearn: 0.3573045\ttotal: 11.3s\tremaining: 979ms\n",
      "920:\tlearn: 0.3572710\ttotal: 11.3s\tremaining: 966ms\n",
      "921:\tlearn: 0.3571601\ttotal: 11.3s\tremaining: 954ms\n",
      "922:\tlearn: 0.3570836\ttotal: 11.3s\tremaining: 942ms\n",
      "923:\tlearn: 0.3569966\ttotal: 11.3s\tremaining: 929ms\n",
      "924:\tlearn: 0.3569354\ttotal: 11.3s\tremaining: 917ms\n",
      "925:\tlearn: 0.3568612\ttotal: 11.3s\tremaining: 905ms\n",
      "926:\tlearn: 0.3568019\ttotal: 11.3s\tremaining: 892ms\n",
      "927:\tlearn: 0.3566989\ttotal: 11.3s\tremaining: 880ms\n",
      "928:\tlearn: 0.3566029\ttotal: 11.4s\tremaining: 868ms\n",
      "929:\tlearn: 0.3565347\ttotal: 11.4s\tremaining: 856ms\n",
      "930:\tlearn: 0.3564614\ttotal: 11.4s\tremaining: 843ms\n",
      "931:\tlearn: 0.3564138\ttotal: 11.4s\tremaining: 831ms\n",
      "932:\tlearn: 0.3563649\ttotal: 11.4s\tremaining: 819ms\n",
      "933:\tlearn: 0.3563173\ttotal: 11.4s\tremaining: 806ms\n",
      "934:\tlearn: 0.3562545\ttotal: 11.4s\tremaining: 794ms\n",
      "935:\tlearn: 0.3561887\ttotal: 11.4s\tremaining: 782ms\n",
      "936:\tlearn: 0.3561303\ttotal: 11.4s\tremaining: 770ms\n",
      "937:\tlearn: 0.3560290\ttotal: 11.5s\tremaining: 757ms\n",
      "938:\tlearn: 0.3559658\ttotal: 11.5s\tremaining: 745ms\n",
      "939:\tlearn: 0.3559064\ttotal: 11.5s\tremaining: 733ms\n",
      "940:\tlearn: 0.3558540\ttotal: 11.5s\tremaining: 721ms\n",
      "941:\tlearn: 0.3557682\ttotal: 11.5s\tremaining: 709ms\n",
      "942:\tlearn: 0.3557156\ttotal: 11.5s\tremaining: 696ms\n",
      "943:\tlearn: 0.3556114\ttotal: 11.5s\tremaining: 684ms\n",
      "944:\tlearn: 0.3555603\ttotal: 11.5s\tremaining: 672ms\n",
      "945:\tlearn: 0.3555089\ttotal: 11.6s\tremaining: 660ms\n",
      "946:\tlearn: 0.3554289\ttotal: 11.6s\tremaining: 647ms\n",
      "947:\tlearn: 0.3553749\ttotal: 11.6s\tremaining: 635ms\n",
      "948:\tlearn: 0.3553098\ttotal: 11.6s\tremaining: 623ms\n",
      "949:\tlearn: 0.3552039\ttotal: 11.6s\tremaining: 611ms\n",
      "950:\tlearn: 0.3551512\ttotal: 11.6s\tremaining: 598ms\n",
      "951:\tlearn: 0.3550702\ttotal: 11.6s\tremaining: 586ms\n",
      "952:\tlearn: 0.3550213\ttotal: 11.6s\tremaining: 574ms\n",
      "953:\tlearn: 0.3549539\ttotal: 11.6s\tremaining: 562ms\n",
      "954:\tlearn: 0.3548632\ttotal: 11.7s\tremaining: 549ms\n",
      "955:\tlearn: 0.3547516\ttotal: 11.7s\tremaining: 537ms\n",
      "956:\tlearn: 0.3547164\ttotal: 11.7s\tremaining: 525ms\n",
      "957:\tlearn: 0.3546435\ttotal: 11.7s\tremaining: 513ms\n",
      "958:\tlearn: 0.3546210\ttotal: 11.7s\tremaining: 501ms\n",
      "959:\tlearn: 0.3545357\ttotal: 11.7s\tremaining: 488ms\n",
      "960:\tlearn: 0.3544780\ttotal: 11.7s\tremaining: 476ms\n",
      "961:\tlearn: 0.3544283\ttotal: 11.7s\tremaining: 464ms\n",
      "962:\tlearn: 0.3543797\ttotal: 11.8s\tremaining: 452ms\n",
      "963:\tlearn: 0.3543156\ttotal: 11.8s\tremaining: 439ms\n",
      "964:\tlearn: 0.3542863\ttotal: 11.8s\tremaining: 427ms\n",
      "965:\tlearn: 0.3542029\ttotal: 11.8s\tremaining: 415ms\n",
      "966:\tlearn: 0.3541352\ttotal: 11.8s\tremaining: 403ms\n",
      "967:\tlearn: 0.3540238\ttotal: 11.8s\tremaining: 390ms\n",
      "968:\tlearn: 0.3539920\ttotal: 11.8s\tremaining: 378ms\n",
      "969:\tlearn: 0.3538884\ttotal: 11.8s\tremaining: 366ms\n",
      "970:\tlearn: 0.3538121\ttotal: 11.8s\tremaining: 354ms\n",
      "971:\tlearn: 0.3537259\ttotal: 11.9s\tremaining: 341ms\n",
      "972:\tlearn: 0.3536579\ttotal: 11.9s\tremaining: 329ms\n",
      "973:\tlearn: 0.3535716\ttotal: 11.9s\tremaining: 317ms\n",
      "974:\tlearn: 0.3535065\ttotal: 11.9s\tremaining: 305ms\n",
      "975:\tlearn: 0.3534407\ttotal: 11.9s\tremaining: 293ms\n",
      "976:\tlearn: 0.3533844\ttotal: 11.9s\tremaining: 280ms\n",
      "977:\tlearn: 0.3533062\ttotal: 11.9s\tremaining: 268ms\n",
      "978:\tlearn: 0.3532442\ttotal: 11.9s\tremaining: 256ms\n",
      "979:\tlearn: 0.3531863\ttotal: 12s\tremaining: 244ms\n",
      "980:\tlearn: 0.3531018\ttotal: 12s\tremaining: 232ms\n",
      "981:\tlearn: 0.3530166\ttotal: 12s\tremaining: 220ms\n",
      "982:\tlearn: 0.3529329\ttotal: 12s\tremaining: 207ms\n",
      "983:\tlearn: 0.3528601\ttotal: 12s\tremaining: 195ms\n",
      "984:\tlearn: 0.3527987\ttotal: 12s\tremaining: 183ms\n",
      "985:\tlearn: 0.3527417\ttotal: 12s\tremaining: 171ms\n",
      "986:\tlearn: 0.3526690\ttotal: 12s\tremaining: 158ms\n",
      "987:\tlearn: 0.3525861\ttotal: 12s\tremaining: 146ms\n",
      "988:\tlearn: 0.3525270\ttotal: 12.1s\tremaining: 134ms\n",
      "989:\tlearn: 0.3524601\ttotal: 12.1s\tremaining: 122ms\n",
      "990:\tlearn: 0.3523860\ttotal: 12.1s\tremaining: 110ms\n",
      "991:\tlearn: 0.3523130\ttotal: 12.1s\tremaining: 97.5ms\n",
      "992:\tlearn: 0.3522413\ttotal: 12.1s\tremaining: 85.4ms\n",
      "993:\tlearn: 0.3521719\ttotal: 12.1s\tremaining: 73.2ms\n",
      "994:\tlearn: 0.3520963\ttotal: 12.2s\tremaining: 61.1ms\n",
      "995:\tlearn: 0.3520404\ttotal: 12.2s\tremaining: 48.9ms\n",
      "996:\tlearn: 0.3520012\ttotal: 12.2s\tremaining: 36.7ms\n",
      "997:\tlearn: 0.3519539\ttotal: 12.2s\tremaining: 24.5ms\n",
      "998:\tlearn: 0.3518531\ttotal: 12.2s\tremaining: 12.2ms\n",
      "999:\tlearn: 0.3517971\ttotal: 12.2s\tremaining: 0us\n"
     ]
    },
    {
     "data": {
      "text/plain": [
       "Pipeline(steps=[('preprocessor',\n",
       "                 ColumnTransformer(transformers=[('ohe',\n",
       "                                                  Pipeline(steps=[('ohe_imputer',\n",
       "                                                                   SimpleImputer(fill_value=0,\n",
       "                                                                                 strategy='constant')),\n",
       "                                                                  ('oh_encoder',\n",
       "                                                                   OneHotEncoder(handle_unknown='ignore'))]),\n",
       "                                                  ['public_meeting',\n",
       "                                                   'recorded_by', 'permit']),\n",
       "                                                 ('freq',\n",
       "                                                  Pipeline(steps=[('freq_encoder',\n",
       "                                                                   CountEncoder(combine_min_nan_groups=True,\n",
       "                                                                                min_group_size=0.05...\n",
       "                                                   'payment', 'payment_type',\n",
       "                                                   'water_quality',\n",
       "                                                   'quality_group', 'quantity',\n",
       "                                                   'source', 'source_class',\n",
       "                                                   'waterpoint_type_group']),\n",
       "                                                 ('scaler',\n",
       "                                                  Pipeline(steps=[('scaler',\n",
       "                                                                   StandardScaler())]),\n",
       "                                                  ['amount_tsh', 'gps_height',\n",
       "                                                   'longitude', 'latitude',\n",
       "                                                   'region_code',\n",
       "                                                   'district_code',\n",
       "                                                   'population',\n",
       "                                                   'construction_year'])])),\n",
       "                ('classifier',\n",
       "                 <catboost.core.CatBoostClassifier object at 0x7f846a3fb520>)])"
      ]
     },
     "execution_count": 25,
     "metadata": {},
     "output_type": "execute_result"
    }
   ],
   "source": [
    "cbc.fit(X_train, y_train)"
   ]
  },
  {
   "cell_type": "code",
   "execution_count": 26,
   "metadata": {},
   "outputs": [
    {
     "name": "stdout",
     "output_type": "stream",
     "text": [
      "Accuracy Score:\n",
      "Train - 0.8467888764185061\n",
      "Test - 0.8048634493078938\n",
      "  \n",
      "Precision Score:\n",
      "Train - 0.8251531203443139\n",
      "Test - 0.7828923076923077\n",
      "  \n",
      "Recall Score: \n",
      "Train - 0.9122477924692318\n",
      "Test - 0.8828591256072172\n",
      "  \n",
      "F1 Score: \n",
      "Train - 0.8665174594206992\n",
      "Test - 0.8298760600130463\n",
      "  \n",
      "ROC_AUC: \n",
      "Train - 0.8402943096571404\n",
      "Test - 0.7982477446217905\n",
      "  \n",
      "  \n",
      "Confusion matrix for test data\n"
     ]
    },
    {
     "data": {
      "text/plain": [
       "<sklearn.metrics._plot.confusion_matrix.ConfusionMatrixDisplay at 0x7f846ac79fd0>"
      ]
     },
     "execution_count": 26,
     "metadata": {},
     "output_type": "execute_result"
    },
    {
     "data": {
      "image/png": "[encoded data removed]",
      "text/plain": [
       "<Figure size 432x288 with 2 Axes>"
      ]
     },
     "metadata": {
      "needs_background": "light"
     },
     "output_type": "display_data"
    }
   ],
   "source": [
    "evaluate(cbc, X_train, y_train, X_val, y_val)"
   ]
  },
  {
   "cell_type": "markdown",
   "metadata": {},
   "source": [
    "## Evaluation\n",
    "\n",
    "The evaluation of each model should accompany the creation of each model, and you should be sure to evaluate your models consistently.\n",
    "\n",
    "Evaluate how well your work solves the stated business problem. \n",
    "\n",
    "Questions to consider:\n",
    "\n",
    "- How do you interpret the results?\n",
    "- How well does your model fit your data? How much better is this than your baseline model? Is it over or under fit?\n",
    "- How well does your model/data fit any relevant modeling assumptions?\n",
    "\n",
    "For the final model, you might also consider:\n",
    "\n",
    "- How confident are you that your results would generalize beyond the data you have?\n",
    "- How confident are you that this model would benefit the business if put into use?\n",
    "- What does this final model tell you about the relationship between your inputs and outputs?"
   ]
  },
  {
   "cell_type": "markdown",
   "metadata": {},
   "source": [
    "CatBoost Benefits:\n",
    "- "
   ]
  },
  {
   "cell_type": "markdown",
   "metadata": {},
   "source": [
    "### 'Final' Model\n",
    "\n",
    "In the end, you'll arrive at a 'final' model - aka the one you'll use to make your recommendations/conclusions. This likely blends any group work. It might not be the one with the highest scores, but instead might be considered 'final' or 'best' for other reasons."
   ]
  },
  {
   "cell_type": "code",
   "execution_count": 53,
   "metadata": {},
   "outputs": [],
   "source": [
    "# code here to show your final model"
   ]
  },
  {
   "cell_type": "code",
   "execution_count": 49,
   "metadata": {},
   "outputs": [],
   "source": [
    "importance = cbc['classifier'].get_feature_importance()"
   ]
  },
  {
   "cell_type": "code",
   "execution_count": 44,
   "metadata": {},
   "outputs": [],
   "source": [
    "ohe_cols_after = cbc['preprocessor'].transformers_[0][1]['oh_encoder'].get_feature_names(ohe_cols)"
   ]
  },
  {
   "cell_type": "code",
   "execution_count": 46,
   "metadata": {},
   "outputs": [
    {
     "data": {
      "text/plain": [
       "array(['public_meeting_False', 'public_meeting_True',\n",
       "       'recorded_by_GeoData Consultants Ltd', 'permit_0', 'permit_True'],\n",
       "      dtype=object)"
      ]
     },
     "execution_count": 46,
     "metadata": {},
     "output_type": "execute_result"
    }
   ],
   "source": [
    "ohe_cols_after"
   ]
  },
  {
   "cell_type": "code",
   "execution_count": 47,
   "metadata": {},
   "outputs": [],
   "source": [
    "columns = []\n",
    "for c in num_cols:\n",
    "    columns.append(c)\n",
    "for c in ohe_cols_after:\n",
    "    columns.append(c)\n",
    "for c in freq_cols:\n",
    "    columns.append(c)"
   ]
  },
  {
   "cell_type": "code",
   "execution_count": 48,
   "metadata": {},
   "outputs": [
    {
     "data": {
      "text/plain": [
       "['amount_tsh',\n",
       " 'gps_height',\n",
       " 'longitude',\n",
       " 'latitude',\n",
       " 'region_code',\n",
       " 'district_code',\n",
       " 'population',\n",
       " 'construction_year',\n",
       " 'public_meeting_False',\n",
       " 'public_meeting_True',\n",
       " 'recorded_by_GeoData Consultants Ltd',\n",
       " 'permit_0',\n",
       " 'permit_True',\n",
       " 'date_recorded',\n",
       " 'funder',\n",
       " 'installer',\n",
       " 'wpt_name',\n",
       " 'basin',\n",
       " 'subvillage',\n",
       " 'region',\n",
       " 'lga',\n",
       " 'ward',\n",
       " 'scheme_management',\n",
       " 'scheme_name',\n",
       " 'extraction_type',\n",
       " 'extraction_type_group',\n",
       " 'extraction_type_class',\n",
       " 'management',\n",
       " 'management_group',\n",
       " 'payment',\n",
       " 'payment_type',\n",
       " 'water_quality',\n",
       " 'quality_group',\n",
       " 'quantity',\n",
       " 'source',\n",
       " 'source_class',\n",
       " 'waterpoint_type_group']"
      ]
     },
     "execution_count": 48,
     "metadata": {},
     "output_type": "execute_result"
    }
   ],
   "source": [
    "columns"
   ]
  },
  {
   "cell_type": "code",
   "execution_count": 52,
   "metadata": {},
   "outputs": [],
   "source": [
    "# zip columns with importance\n",
    "dict_importance = dict(zip(columns,importance))"
   ]
  },
  {
   "cell_type": "code",
   "execution_count": 65,
   "metadata": {},
   "outputs": [
    {
     "data": {
      "text/html": [
       "<div>\n",
       "<style scoped>\n",
       "    .dataframe tbody tr th:only-of-type {\n",
       "        vertical-align: middle;\n",
       "    }\n",
       "\n",
       "    .dataframe tbody tr th {\n",
       "        vertical-align: top;\n",
       "    }\n",
       "\n",
       "    .dataframe thead th {\n",
       "        text-align: right;\n",
       "    }\n",
       "</style>\n",
       "<table border=\"1\" class=\"dataframe\">\n",
       "  <thead>\n",
       "    <tr style=\"text-align: right;\">\n",
       "      <th></th>\n",
       "      <th>0</th>\n",
       "    </tr>\n",
       "  </thead>\n",
       "  <tbody>\n",
       "    <tr>\n",
       "      <th>extraction_type_group</th>\n",
       "      <td>27.122525</td>\n",
       "    </tr>\n",
       "    <tr>\n",
       "      <th>water_quality</th>\n",
       "      <td>5.513616</td>\n",
       "    </tr>\n",
       "    <tr>\n",
       "      <th>waterpoint_type_group</th>\n",
       "      <td>5.242211</td>\n",
       "    </tr>\n",
       "    <tr>\n",
       "      <th>management_group</th>\n",
       "      <td>5.035640</td>\n",
       "    </tr>\n",
       "    <tr>\n",
       "      <th>quality_group</th>\n",
       "      <td>4.411531</td>\n",
       "    </tr>\n",
       "    <tr>\n",
       "      <th>permit_True</th>\n",
       "      <td>4.310923</td>\n",
       "    </tr>\n",
       "    <tr>\n",
       "      <th>payment_type</th>\n",
       "      <td>3.818963</td>\n",
       "    </tr>\n",
       "    <tr>\n",
       "      <th>subvillage</th>\n",
       "      <td>3.707412</td>\n",
       "    </tr>\n",
       "    <tr>\n",
       "      <th>date_recorded</th>\n",
       "      <td>3.250245</td>\n",
       "    </tr>\n",
       "    <tr>\n",
       "      <th>district_code</th>\n",
       "      <td>3.031143</td>\n",
       "    </tr>\n",
       "    <tr>\n",
       "      <th>source_class</th>\n",
       "      <td>3.024066</td>\n",
       "    </tr>\n",
       "    <tr>\n",
       "      <th>source</th>\n",
       "      <td>2.566224</td>\n",
       "    </tr>\n",
       "    <tr>\n",
       "      <th>installer</th>\n",
       "      <td>2.484079</td>\n",
       "    </tr>\n",
       "    <tr>\n",
       "      <th>quantity</th>\n",
       "      <td>2.332257</td>\n",
       "    </tr>\n",
       "    <tr>\n",
       "      <th>payment</th>\n",
       "      <td>2.243253</td>\n",
       "    </tr>\n",
       "    <tr>\n",
       "      <th>extraction_type_class</th>\n",
       "      <td>2.118742</td>\n",
       "    </tr>\n",
       "    <tr>\n",
       "      <th>permit_0</th>\n",
       "      <td>1.972806</td>\n",
       "    </tr>\n",
       "    <tr>\n",
       "      <th>public_meeting_True</th>\n",
       "      <td>1.883261</td>\n",
       "    </tr>\n",
       "    <tr>\n",
       "      <th>ward</th>\n",
       "      <td>1.708135</td>\n",
       "    </tr>\n",
       "    <tr>\n",
       "      <th>recorded_by_GeoData Consultants Ltd</th>\n",
       "      <td>1.527310</td>\n",
       "    </tr>\n",
       "    <tr>\n",
       "      <th>basin</th>\n",
       "      <td>1.518020</td>\n",
       "    </tr>\n",
       "    <tr>\n",
       "      <th>scheme_management</th>\n",
       "      <td>1.479849</td>\n",
       "    </tr>\n",
       "    <tr>\n",
       "      <th>population</th>\n",
       "      <td>1.438440</td>\n",
       "    </tr>\n",
       "    <tr>\n",
       "      <th>wpt_name</th>\n",
       "      <td>1.318428</td>\n",
       "    </tr>\n",
       "    <tr>\n",
       "      <th>lga</th>\n",
       "      <td>1.076314</td>\n",
       "    </tr>\n",
       "    <tr>\n",
       "      <th>region</th>\n",
       "      <td>1.002661</td>\n",
       "    </tr>\n",
       "    <tr>\n",
       "      <th>management</th>\n",
       "      <td>0.877155</td>\n",
       "    </tr>\n",
       "    <tr>\n",
       "      <th>funder</th>\n",
       "      <td>0.802136</td>\n",
       "    </tr>\n",
       "    <tr>\n",
       "      <th>construction_year</th>\n",
       "      <td>0.792036</td>\n",
       "    </tr>\n",
       "    <tr>\n",
       "      <th>extraction_type</th>\n",
       "      <td>0.505733</td>\n",
       "    </tr>\n",
       "    <tr>\n",
       "      <th>gps_height</th>\n",
       "      <td>0.426536</td>\n",
       "    </tr>\n",
       "    <tr>\n",
       "      <th>amount_tsh</th>\n",
       "      <td>0.375875</td>\n",
       "    </tr>\n",
       "    <tr>\n",
       "      <th>scheme_name</th>\n",
       "      <td>0.345042</td>\n",
       "    </tr>\n",
       "    <tr>\n",
       "      <th>region_code</th>\n",
       "      <td>0.291829</td>\n",
       "    </tr>\n",
       "    <tr>\n",
       "      <th>latitude</th>\n",
       "      <td>0.226447</td>\n",
       "    </tr>\n",
       "    <tr>\n",
       "      <th>public_meeting_False</th>\n",
       "      <td>0.219160</td>\n",
       "    </tr>\n",
       "    <tr>\n",
       "      <th>longitude</th>\n",
       "      <td>0.000000</td>\n",
       "    </tr>\n",
       "  </tbody>\n",
       "</table>\n",
       "</div>"
      ],
      "text/plain": [
       "                                             0\n",
       "extraction_type_group                27.122525\n",
       "water_quality                         5.513616\n",
       "waterpoint_type_group                 5.242211\n",
       "management_group                      5.035640\n",
       "quality_group                         4.411531\n",
       "permit_True                           4.310923\n",
       "payment_type                          3.818963\n",
       "subvillage                            3.707412\n",
       "date_recorded                         3.250245\n",
       "district_code                         3.031143\n",
       "source_class                          3.024066\n",
       "source                                2.566224\n",
       "installer                             2.484079\n",
       "quantity                              2.332257\n",
       "payment                               2.243253\n",
       "extraction_type_class                 2.118742\n",
       "permit_0                              1.972806\n",
       "public_meeting_True                   1.883261\n",
       "ward                                  1.708135\n",
       "recorded_by_GeoData Consultants Ltd   1.527310\n",
       "basin                                 1.518020\n",
       "scheme_management                     1.479849\n",
       "population                            1.438440\n",
       "wpt_name                              1.318428\n",
       "lga                                   1.076314\n",
       "region                                1.002661\n",
       "management                            0.877155\n",
       "funder                                0.802136\n",
       "construction_year                     0.792036\n",
       "extraction_type                       0.505733\n",
       "gps_height                            0.426536\n",
       "amount_tsh                            0.375875\n",
       "scheme_name                           0.345042\n",
       "region_code                           0.291829\n",
       "latitude                              0.226447\n",
       "public_meeting_False                  0.219160\n",
       "longitude                             0.000000"
      ]
     },
     "execution_count": 65,
     "metadata": {},
     "output_type": "execute_result"
    }
   ],
   "source": [
    "pd.DataFrame.from_dict(dict_importance, orient = 'index').sort_values(by=0, ascending=False)"
   ]
  },
  {
   "cell_type": "code",
   "execution_count": 67,
   "metadata": {},
   "outputs": [
    {
     "data": {
      "text/plain": [
       "gravity            0.450842\n",
       "nira/tanira        0.137273\n",
       "other              0.108249\n",
       "submersible        0.104024\n",
       "swn 80             0.061785\n",
       "mono               0.048232\n",
       "india mark ii      0.040404\n",
       "afridev            0.029798\n",
       "rope pump          0.007593\n",
       "other handpump     0.006128\n",
       "other motorpump    0.002054\n",
       "wind-powered       0.001970\n",
       "india mark iii     0.001650\n",
       "Name: extraction_type_group, dtype: float64"
      ]
     },
     "execution_count": 67,
     "metadata": {},
     "output_type": "execute_result"
    }
   ],
   "source": [
    "X['extraction_type_group'].value_counts(normalize=True)"
   ]
  },
  {
   "cell_type": "code",
   "execution_count": 54,
   "metadata": {},
   "outputs": [],
   "source": [
    "# code here to evaluate your final model"
   ]
  },
  {
   "cell_type": "markdown",
   "metadata": {},
   "source": [
    "## Conclusions\n",
    "\n",
    "Provide your conclusions about the work you've done, including any limitations or next steps.\n",
    "\n",
    "Questions to consider:\n",
    "\n",
    "- What would you recommend the business do as a result of this work?\n",
    "- How could the stakeholder use your model effectively?\n",
    "- What are some reasons why your analysis might not fully solve the business problem?\n",
    "- What else could you do in the future to improve this project (future work)?\n"
   ]
  },
  {
   "cell_type": "code",
   "execution_count": null,
   "metadata": {},
   "outputs": [],
   "source": []
  }
 ],
 "metadata": {
  "kernelspec": {
   "display_name": "Python (learn-env)",
   "language": "python",
   "name": "learn-env"
  },
  "language_info": {
   "codemirror_mode": {
    "name": "ipython",
    "version": 3
   },
   "file_extension": ".py",
   "mimetype": "text/x-python",
   "name": "python",
   "nbconvert_exporter": "python",
   "pygments_lexer": "ipython3",
   "version": "3.8.5"
  }
 },
 "nbformat": 4,
 "nbformat_minor": 4
}
